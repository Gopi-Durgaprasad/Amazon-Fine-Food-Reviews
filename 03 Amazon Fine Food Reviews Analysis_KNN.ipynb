{
 "cells": [
  {
   "cell_type": "markdown",
   "metadata": {},
   "source": [
    "# Amazon Fine Food Reviews Analysis\n",
    "\n",
    "\n",
    "Data Source: https://www.kaggle.com/snap/amazon-fine-food-reviews <br>\n",
    "\n",
    "EDA: https://nycdatascience.com/blog/student-works/amazon-fine-foods-visualization/\n",
    "\n",
    "\n",
    "The Amazon Fine Food Reviews dataset consists of reviews of fine foods from Amazon.<br>\n",
    "\n",
    "Number of reviews: 568,454<br>\n",
    "Number of users: 256,059<br>\n",
    "Number of products: 74,258<br>\n",
    "Timespan: Oct 1999 - Oct 2012<br>\n",
    "Number of Attributes/Columns in data: 10 \n",
    "\n",
    "Attribute Information:\n",
    "\n",
    "1. Id\n",
    "2. ProductId - unique identifier for the product\n",
    "3. UserId - unqiue identifier for the user\n",
    "4. ProfileName\n",
    "5. HelpfulnessNumerator - number of users who found the review helpful\n",
    "6. HelpfulnessDenominator - number of users who indicated whether they found the review helpful or not\n",
    "7. Score - rating between 1 and 5\n",
    "8. Time - timestamp for the review\n",
    "9. Summary - brief summary of the review\n",
    "10. Text - text of the review\n",
    "\n",
    "\n",
    "#### Objective:\n",
    "Given a review, determine whether the review is positive (rating of 4 or 5) or negative (rating of 1 or 2).\n",
    "\n",
    "<br>\n",
    "[Q] How to determine if a review is positive or negative?<br>\n",
    "<br> \n",
    "[Ans] We could use Score/Rating. A rating of 4 or 5 can be cosnidered as a positive review. A rating of 1 or 2 can be considered as negative one. A review of rating 3 is considered nuetral and such reviews are ignored from our analysis. This is an approximate and proxy way of determining the polarity (positivity/negativity) of a review.\n",
    "\n",
    "\n"
   ]
  },
  {
   "cell_type": "markdown",
   "metadata": {},
   "source": [
    "# [1]. Reading Data"
   ]
  },
  {
   "cell_type": "markdown",
   "metadata": {},
   "source": [
    "## [1.1] Loading the data\n",
    "\n",
    "The dataset is available in two forms\n",
    "1. .csv file\n",
    "2. SQLite Database\n",
    "\n",
    "In order to load the data, We have used the SQLITE dataset as it is easier to query the data and visualise the data efficiently.\n",
    "<br> \n",
    "\n",
    "Here as we only want to get the global sentiment of the recommendations (positive or negative), we will purposefully ignore all Scores equal to 3. If the score is above 3, then the recommendation wil be set to \"positive\". Otherwise, it will be set to \"negative\"."
   ]
  },
  {
   "cell_type": "code",
   "execution_count": 1,
   "metadata": {},
   "outputs": [],
   "source": [
    "%matplotlib inline\n",
    "import warnings\n",
    "warnings.filterwarnings(\"ignore\")\n",
    "\n",
    "\n",
    "import sqlite3\n",
    "import pandas as pd\n",
    "import numpy as np\n",
    "import nltk\n",
    "import string\n",
    "import matplotlib.pyplot as plt\n",
    "import seaborn as sns\n",
    "from sklearn.feature_extraction.text import TfidfTransformer\n",
    "from sklearn.feature_extraction.text import TfidfVectorizer\n",
    "\n",
    "from sklearn.feature_extraction.text import CountVectorizer\n",
    "from sklearn.metrics import confusion_matrix\n",
    "from sklearn import metrics\n",
    "from sklearn.metrics import roc_curve, auc\n",
    "from nltk.stem.porter import PorterStemmer\n",
    "\n",
    "import re\n",
    "# Tutorial about Python regular expressions: https://pymotw.com/2/re/\n",
    "import string\n",
    "from nltk.corpus import stopwords\n",
    "from nltk.stem import PorterStemmer\n",
    "from nltk.stem.wordnet import WordNetLemmatizer\n",
    "\n",
    "from gensim.models import Word2Vec\n",
    "from gensim.models import KeyedVectors\n",
    "import pickle\n",
    "\n",
    "from tqdm import tqdm\n",
    "import os"
   ]
  },
  {
   "cell_type": "code",
   "execution_count": 2,
   "metadata": {},
   "outputs": [
    {
     "name": "stdout",
     "output_type": "stream",
     "text": [
      "Number of data points in our data (525814, 10)\n"
     ]
    },
    {
     "data": {
      "text/html": [
       "<div>\n",
       "<style scoped>\n",
       "    .dataframe tbody tr th:only-of-type {\n",
       "        vertical-align: middle;\n",
       "    }\n",
       "\n",
       "    .dataframe tbody tr th {\n",
       "        vertical-align: top;\n",
       "    }\n",
       "\n",
       "    .dataframe thead th {\n",
       "        text-align: right;\n",
       "    }\n",
       "</style>\n",
       "<table border=\"1\" class=\"dataframe\">\n",
       "  <thead>\n",
       "    <tr style=\"text-align: right;\">\n",
       "      <th></th>\n",
       "      <th>Id</th>\n",
       "      <th>ProductId</th>\n",
       "      <th>UserId</th>\n",
       "      <th>ProfileName</th>\n",
       "      <th>HelpfulnessNumerator</th>\n",
       "      <th>HelpfulnessDenominator</th>\n",
       "      <th>Score</th>\n",
       "      <th>Time</th>\n",
       "      <th>Summary</th>\n",
       "      <th>Text</th>\n",
       "    </tr>\n",
       "  </thead>\n",
       "  <tbody>\n",
       "    <tr>\n",
       "      <th>0</th>\n",
       "      <td>1</td>\n",
       "      <td>B001E4KFG0</td>\n",
       "      <td>A3SGXH7AUHU8GW</td>\n",
       "      <td>delmartian</td>\n",
       "      <td>1</td>\n",
       "      <td>1</td>\n",
       "      <td>1</td>\n",
       "      <td>1303862400</td>\n",
       "      <td>Good Quality Dog Food</td>\n",
       "      <td>I have bought several of the Vitality canned d...</td>\n",
       "    </tr>\n",
       "    <tr>\n",
       "      <th>1</th>\n",
       "      <td>2</td>\n",
       "      <td>B00813GRG4</td>\n",
       "      <td>A1D87F6ZCVE5NK</td>\n",
       "      <td>dll pa</td>\n",
       "      <td>0</td>\n",
       "      <td>0</td>\n",
       "      <td>0</td>\n",
       "      <td>1346976000</td>\n",
       "      <td>Not as Advertised</td>\n",
       "      <td>Product arrived labeled as Jumbo Salted Peanut...</td>\n",
       "    </tr>\n",
       "    <tr>\n",
       "      <th>2</th>\n",
       "      <td>3</td>\n",
       "      <td>B000LQOCH0</td>\n",
       "      <td>ABXLMWJIXXAIN</td>\n",
       "      <td>Natalia Corres \"Natalia Corres\"</td>\n",
       "      <td>1</td>\n",
       "      <td>1</td>\n",
       "      <td>1</td>\n",
       "      <td>1219017600</td>\n",
       "      <td>\"Delight\" says it all</td>\n",
       "      <td>This is a confection that has been around a fe...</td>\n",
       "    </tr>\n",
       "  </tbody>\n",
       "</table>\n",
       "</div>"
      ],
      "text/plain": [
       "   Id   ProductId          UserId                      ProfileName  \\\n",
       "0   1  B001E4KFG0  A3SGXH7AUHU8GW                       delmartian   \n",
       "1   2  B00813GRG4  A1D87F6ZCVE5NK                           dll pa   \n",
       "2   3  B000LQOCH0   ABXLMWJIXXAIN  Natalia Corres \"Natalia Corres\"   \n",
       "\n",
       "   HelpfulnessNumerator  HelpfulnessDenominator  Score        Time  \\\n",
       "0                     1                       1      1  1303862400   \n",
       "1                     0                       0      0  1346976000   \n",
       "2                     1                       1      1  1219017600   \n",
       "\n",
       "                 Summary                                               Text  \n",
       "0  Good Quality Dog Food  I have bought several of the Vitality canned d...  \n",
       "1      Not as Advertised  Product arrived labeled as Jumbo Salted Peanut...  \n",
       "2  \"Delight\" says it all  This is a confection that has been around a fe...  "
      ]
     },
     "execution_count": 2,
     "metadata": {},
     "output_type": "execute_result"
    }
   ],
   "source": [
    "# using SQLite Table to read data.\n",
    "con = sqlite3.connect('files/database.sqlite') \n",
    "\n",
    "# filtering only positive and negative reviews i.e. \n",
    "# not taking into consideration those reviews with Score=3\n",
    "# SELECT * FROM Reviews WHERE Score != 3 LIMIT 500000, will give top 500000 data points\n",
    "# you can change the number to any other number based on your computing power\n",
    "\n",
    "# filtered_data = pd.read_sql_query(\"\"\" SELECT * FROM Reviews WHERE Score != 3 LIMIT 500000\"\"\", con) \n",
    "# for tsne assignment you can take 5k data points\n",
    "\n",
    "filtered_data = pd.read_sql_query(\"\"\" SELECT * FROM Reviews WHERE Score != 3 \"\"\", con) \n",
    "\n",
    "# Give reviews with Score>3 a positive rating(1), and reviews with a score<3 a negative rating(0).\n",
    "def partition(x):\n",
    "    if x < 3:\n",
    "        return 0\n",
    "    return 1\n",
    "\n",
    "#changing reviews with score less than 3 to be positive and vice-versa\n",
    "actualScore = filtered_data['Score']\n",
    "positiveNegative = actualScore.map(partition) \n",
    "filtered_data['Score'] = positiveNegative\n",
    "print(\"Number of data points in our data\", filtered_data.shape)\n",
    "filtered_data.head(3)"
   ]
  },
  {
   "cell_type": "code",
   "execution_count": 3,
   "metadata": {},
   "outputs": [],
   "source": [
    "display = pd.read_sql_query(\"\"\"\n",
    "SELECT UserId, ProductId, ProfileName, Time, Score, Text, COUNT(*)\n",
    "FROM Reviews\n",
    "GROUP BY UserId\n",
    "HAVING COUNT(*)>1\n",
    "\"\"\", con)"
   ]
  },
  {
   "cell_type": "code",
   "execution_count": 4,
   "metadata": {
    "scrolled": true
   },
   "outputs": [
    {
     "name": "stdout",
     "output_type": "stream",
     "text": [
      "(80668, 7)\n"
     ]
    },
    {
     "data": {
      "text/html": [
       "<div>\n",
       "<style scoped>\n",
       "    .dataframe tbody tr th:only-of-type {\n",
       "        vertical-align: middle;\n",
       "    }\n",
       "\n",
       "    .dataframe tbody tr th {\n",
       "        vertical-align: top;\n",
       "    }\n",
       "\n",
       "    .dataframe thead th {\n",
       "        text-align: right;\n",
       "    }\n",
       "</style>\n",
       "<table border=\"1\" class=\"dataframe\">\n",
       "  <thead>\n",
       "    <tr style=\"text-align: right;\">\n",
       "      <th></th>\n",
       "      <th>UserId</th>\n",
       "      <th>ProductId</th>\n",
       "      <th>ProfileName</th>\n",
       "      <th>Time</th>\n",
       "      <th>Score</th>\n",
       "      <th>Text</th>\n",
       "      <th>COUNT(*)</th>\n",
       "    </tr>\n",
       "  </thead>\n",
       "  <tbody>\n",
       "    <tr>\n",
       "      <th>0</th>\n",
       "      <td>#oc-R115TNMSPFT9I7</td>\n",
       "      <td>B007Y59HVM</td>\n",
       "      <td>Breyton</td>\n",
       "      <td>1331510400</td>\n",
       "      <td>2</td>\n",
       "      <td>Overall its just OK when considering the price...</td>\n",
       "      <td>2</td>\n",
       "    </tr>\n",
       "    <tr>\n",
       "      <th>1</th>\n",
       "      <td>#oc-R11D9D7SHXIJB9</td>\n",
       "      <td>B005HG9ET0</td>\n",
       "      <td>Louis E. Emory \"hoppy\"</td>\n",
       "      <td>1342396800</td>\n",
       "      <td>5</td>\n",
       "      <td>My wife has recurring extreme muscle spasms, u...</td>\n",
       "      <td>3</td>\n",
       "    </tr>\n",
       "    <tr>\n",
       "      <th>2</th>\n",
       "      <td>#oc-R11DNU2NBKQ23Z</td>\n",
       "      <td>B007Y59HVM</td>\n",
       "      <td>Kim Cieszykowski</td>\n",
       "      <td>1348531200</td>\n",
       "      <td>1</td>\n",
       "      <td>This coffee is horrible and unfortunately not ...</td>\n",
       "      <td>2</td>\n",
       "    </tr>\n",
       "    <tr>\n",
       "      <th>3</th>\n",
       "      <td>#oc-R11O5J5ZVQE25C</td>\n",
       "      <td>B005HG9ET0</td>\n",
       "      <td>Penguin Chick</td>\n",
       "      <td>1346889600</td>\n",
       "      <td>5</td>\n",
       "      <td>This will be the bottle that you grab from the...</td>\n",
       "      <td>3</td>\n",
       "    </tr>\n",
       "    <tr>\n",
       "      <th>4</th>\n",
       "      <td>#oc-R12KPBODL2B5ZD</td>\n",
       "      <td>B007OSBE1U</td>\n",
       "      <td>Christopher P. Presta</td>\n",
       "      <td>1348617600</td>\n",
       "      <td>1</td>\n",
       "      <td>I didnt like this coffee. Instead of telling y...</td>\n",
       "      <td>2</td>\n",
       "    </tr>\n",
       "  </tbody>\n",
       "</table>\n",
       "</div>"
      ],
      "text/plain": [
       "               UserId   ProductId             ProfileName        Time  Score  \\\n",
       "0  #oc-R115TNMSPFT9I7  B007Y59HVM                 Breyton  1331510400      2   \n",
       "1  #oc-R11D9D7SHXIJB9  B005HG9ET0  Louis E. Emory \"hoppy\"  1342396800      5   \n",
       "2  #oc-R11DNU2NBKQ23Z  B007Y59HVM        Kim Cieszykowski  1348531200      1   \n",
       "3  #oc-R11O5J5ZVQE25C  B005HG9ET0           Penguin Chick  1346889600      5   \n",
       "4  #oc-R12KPBODL2B5ZD  B007OSBE1U   Christopher P. Presta  1348617600      1   \n",
       "\n",
       "                                                Text  COUNT(*)  \n",
       "0  Overall its just OK when considering the price...         2  \n",
       "1  My wife has recurring extreme muscle spasms, u...         3  \n",
       "2  This coffee is horrible and unfortunately not ...         2  \n",
       "3  This will be the bottle that you grab from the...         3  \n",
       "4  I didnt like this coffee. Instead of telling y...         2  "
      ]
     },
     "execution_count": 4,
     "metadata": {},
     "output_type": "execute_result"
    }
   ],
   "source": [
    "print(display.shape)\n",
    "display.head()"
   ]
  },
  {
   "cell_type": "code",
   "execution_count": 5,
   "metadata": {},
   "outputs": [
    {
     "data": {
      "text/html": [
       "<div>\n",
       "<style scoped>\n",
       "    .dataframe tbody tr th:only-of-type {\n",
       "        vertical-align: middle;\n",
       "    }\n",
       "\n",
       "    .dataframe tbody tr th {\n",
       "        vertical-align: top;\n",
       "    }\n",
       "\n",
       "    .dataframe thead th {\n",
       "        text-align: right;\n",
       "    }\n",
       "</style>\n",
       "<table border=\"1\" class=\"dataframe\">\n",
       "  <thead>\n",
       "    <tr style=\"text-align: right;\">\n",
       "      <th></th>\n",
       "      <th>UserId</th>\n",
       "      <th>ProductId</th>\n",
       "      <th>ProfileName</th>\n",
       "      <th>Time</th>\n",
       "      <th>Score</th>\n",
       "      <th>Text</th>\n",
       "      <th>COUNT(*)</th>\n",
       "    </tr>\n",
       "  </thead>\n",
       "  <tbody>\n",
       "    <tr>\n",
       "      <th>80638</th>\n",
       "      <td>AZY10LLTJ71NX</td>\n",
       "      <td>B006P7E5ZI</td>\n",
       "      <td>undertheshrine \"undertheshrine\"</td>\n",
       "      <td>1334707200</td>\n",
       "      <td>5</td>\n",
       "      <td>I was recommended to try green tea extract to ...</td>\n",
       "      <td>5</td>\n",
       "    </tr>\n",
       "  </tbody>\n",
       "</table>\n",
       "</div>"
      ],
      "text/plain": [
       "              UserId   ProductId                      ProfileName        Time  \\\n",
       "80638  AZY10LLTJ71NX  B006P7E5ZI  undertheshrine \"undertheshrine\"  1334707200   \n",
       "\n",
       "       Score                                               Text  COUNT(*)  \n",
       "80638      5  I was recommended to try green tea extract to ...         5  "
      ]
     },
     "execution_count": 5,
     "metadata": {},
     "output_type": "execute_result"
    }
   ],
   "source": [
    "display[display['UserId']=='AZY10LLTJ71NX']"
   ]
  },
  {
   "cell_type": "code",
   "execution_count": 5,
   "metadata": {},
   "outputs": [
    {
     "data": {
      "text/plain": [
       "393063"
      ]
     },
     "execution_count": 5,
     "metadata": {},
     "output_type": "execute_result"
    }
   ],
   "source": [
    "display['COUNT(*)'].sum()"
   ]
  },
  {
   "cell_type": "markdown",
   "metadata": {},
   "source": [
    "#  [2] Exploratory Data Analysis"
   ]
  },
  {
   "cell_type": "markdown",
   "metadata": {},
   "source": [
    "## [2.1] Data Cleaning: Deduplication\n",
    "\n",
    "It is observed (as shown in the table below) that the reviews data had many duplicate entries. Hence it was necessary to remove duplicates in order to get unbiased results for the analysis of the data.  Following is an example:"
   ]
  },
  {
   "cell_type": "code",
   "execution_count": 6,
   "metadata": {
    "scrolled": false
   },
   "outputs": [
    {
     "data": {
      "text/html": [
       "<div>\n",
       "<style scoped>\n",
       "    .dataframe tbody tr th:only-of-type {\n",
       "        vertical-align: middle;\n",
       "    }\n",
       "\n",
       "    .dataframe tbody tr th {\n",
       "        vertical-align: top;\n",
       "    }\n",
       "\n",
       "    .dataframe thead th {\n",
       "        text-align: right;\n",
       "    }\n",
       "</style>\n",
       "<table border=\"1\" class=\"dataframe\">\n",
       "  <thead>\n",
       "    <tr style=\"text-align: right;\">\n",
       "      <th></th>\n",
       "      <th>Id</th>\n",
       "      <th>ProductId</th>\n",
       "      <th>UserId</th>\n",
       "      <th>ProfileName</th>\n",
       "      <th>HelpfulnessNumerator</th>\n",
       "      <th>HelpfulnessDenominator</th>\n",
       "      <th>Score</th>\n",
       "      <th>Time</th>\n",
       "      <th>Summary</th>\n",
       "      <th>Text</th>\n",
       "    </tr>\n",
       "  </thead>\n",
       "  <tbody>\n",
       "    <tr>\n",
       "      <th>0</th>\n",
       "      <td>78445</td>\n",
       "      <td>B000HDL1RQ</td>\n",
       "      <td>AR5J8UI46CURR</td>\n",
       "      <td>Geetha Krishnan</td>\n",
       "      <td>2</td>\n",
       "      <td>2</td>\n",
       "      <td>5</td>\n",
       "      <td>1199577600</td>\n",
       "      <td>LOACKER QUADRATINI VANILLA WAFERS</td>\n",
       "      <td>DELICIOUS WAFERS. I FIND THAT EUROPEAN WAFERS ...</td>\n",
       "    </tr>\n",
       "    <tr>\n",
       "      <th>1</th>\n",
       "      <td>138317</td>\n",
       "      <td>B000HDOPYC</td>\n",
       "      <td>AR5J8UI46CURR</td>\n",
       "      <td>Geetha Krishnan</td>\n",
       "      <td>2</td>\n",
       "      <td>2</td>\n",
       "      <td>5</td>\n",
       "      <td>1199577600</td>\n",
       "      <td>LOACKER QUADRATINI VANILLA WAFERS</td>\n",
       "      <td>DELICIOUS WAFERS. I FIND THAT EUROPEAN WAFERS ...</td>\n",
       "    </tr>\n",
       "    <tr>\n",
       "      <th>2</th>\n",
       "      <td>138277</td>\n",
       "      <td>B000HDOPYM</td>\n",
       "      <td>AR5J8UI46CURR</td>\n",
       "      <td>Geetha Krishnan</td>\n",
       "      <td>2</td>\n",
       "      <td>2</td>\n",
       "      <td>5</td>\n",
       "      <td>1199577600</td>\n",
       "      <td>LOACKER QUADRATINI VANILLA WAFERS</td>\n",
       "      <td>DELICIOUS WAFERS. I FIND THAT EUROPEAN WAFERS ...</td>\n",
       "    </tr>\n",
       "    <tr>\n",
       "      <th>3</th>\n",
       "      <td>73791</td>\n",
       "      <td>B000HDOPZG</td>\n",
       "      <td>AR5J8UI46CURR</td>\n",
       "      <td>Geetha Krishnan</td>\n",
       "      <td>2</td>\n",
       "      <td>2</td>\n",
       "      <td>5</td>\n",
       "      <td>1199577600</td>\n",
       "      <td>LOACKER QUADRATINI VANILLA WAFERS</td>\n",
       "      <td>DELICIOUS WAFERS. I FIND THAT EUROPEAN WAFERS ...</td>\n",
       "    </tr>\n",
       "    <tr>\n",
       "      <th>4</th>\n",
       "      <td>155049</td>\n",
       "      <td>B000PAQ75C</td>\n",
       "      <td>AR5J8UI46CURR</td>\n",
       "      <td>Geetha Krishnan</td>\n",
       "      <td>2</td>\n",
       "      <td>2</td>\n",
       "      <td>5</td>\n",
       "      <td>1199577600</td>\n",
       "      <td>LOACKER QUADRATINI VANILLA WAFERS</td>\n",
       "      <td>DELICIOUS WAFERS. I FIND THAT EUROPEAN WAFERS ...</td>\n",
       "    </tr>\n",
       "  </tbody>\n",
       "</table>\n",
       "</div>"
      ],
      "text/plain": [
       "       Id   ProductId         UserId      ProfileName  HelpfulnessNumerator  \\\n",
       "0   78445  B000HDL1RQ  AR5J8UI46CURR  Geetha Krishnan                     2   \n",
       "1  138317  B000HDOPYC  AR5J8UI46CURR  Geetha Krishnan                     2   \n",
       "2  138277  B000HDOPYM  AR5J8UI46CURR  Geetha Krishnan                     2   \n",
       "3   73791  B000HDOPZG  AR5J8UI46CURR  Geetha Krishnan                     2   \n",
       "4  155049  B000PAQ75C  AR5J8UI46CURR  Geetha Krishnan                     2   \n",
       "\n",
       "   HelpfulnessDenominator  Score        Time  \\\n",
       "0                       2      5  1199577600   \n",
       "1                       2      5  1199577600   \n",
       "2                       2      5  1199577600   \n",
       "3                       2      5  1199577600   \n",
       "4                       2      5  1199577600   \n",
       "\n",
       "                             Summary  \\\n",
       "0  LOACKER QUADRATINI VANILLA WAFERS   \n",
       "1  LOACKER QUADRATINI VANILLA WAFERS   \n",
       "2  LOACKER QUADRATINI VANILLA WAFERS   \n",
       "3  LOACKER QUADRATINI VANILLA WAFERS   \n",
       "4  LOACKER QUADRATINI VANILLA WAFERS   \n",
       "\n",
       "                                                Text  \n",
       "0  DELICIOUS WAFERS. I FIND THAT EUROPEAN WAFERS ...  \n",
       "1  DELICIOUS WAFERS. I FIND THAT EUROPEAN WAFERS ...  \n",
       "2  DELICIOUS WAFERS. I FIND THAT EUROPEAN WAFERS ...  \n",
       "3  DELICIOUS WAFERS. I FIND THAT EUROPEAN WAFERS ...  \n",
       "4  DELICIOUS WAFERS. I FIND THAT EUROPEAN WAFERS ...  "
      ]
     },
     "execution_count": 6,
     "metadata": {},
     "output_type": "execute_result"
    }
   ],
   "source": [
    "display= pd.read_sql_query(\"\"\"\n",
    "SELECT *\n",
    "FROM Reviews\n",
    "WHERE Score != 3 AND UserId=\"AR5J8UI46CURR\"\n",
    "ORDER BY ProductID\n",
    "\"\"\", con)\n",
    "display.head()"
   ]
  },
  {
   "cell_type": "markdown",
   "metadata": {},
   "source": [
    "As it can be seen above that same user has multiple reviews with same values for HelpfulnessNumerator, HelpfulnessDenominator, Score, Time, Summary and Text and on doing analysis it was found that <br>\n",
    "<br> \n",
    "ProductId=B000HDOPZG was Loacker Quadratini Vanilla Wafer Cookies, 8.82-Ounce Packages (Pack of 8)<br>\n",
    "<br> \n",
    "ProductId=B000HDL1RQ was Loacker Quadratini Lemon Wafer Cookies, 8.82-Ounce Packages (Pack of 8) and so on<br>\n",
    "\n",
    "It was inferred after analysis that reviews with same parameters other than ProductId belonged to the same product just having different flavour or quantity. Hence in order to reduce redundancy it was decided to eliminate the rows having same parameters.<br>\n",
    "\n",
    "The method used for the same was that we first sort the data according to ProductId and then just keep the first similar product review and delelte the others. for eg. in the above just the review for ProductId=B000HDL1RQ remains. This method ensures that there is only one representative for each product and deduplication without sorting would lead to possibility of different representatives still existing for the same product."
   ]
  },
  {
   "cell_type": "code",
   "execution_count": 7,
   "metadata": {},
   "outputs": [],
   "source": [
    "#Sorting data according to ProductId in ascending order\n",
    "sorted_data=filtered_data.sort_values('ProductId', axis=0, ascending=True, inplace=False, kind='quicksort', na_position='last')"
   ]
  },
  {
   "cell_type": "code",
   "execution_count": 8,
   "metadata": {},
   "outputs": [
    {
     "data": {
      "text/plain": [
       "(364173, 10)"
      ]
     },
     "execution_count": 8,
     "metadata": {},
     "output_type": "execute_result"
    }
   ],
   "source": [
    "#Deduplication of entries\n",
    "final=sorted_data.drop_duplicates(subset={\"UserId\",\"ProfileName\",\"Time\",\"Text\"}, keep='first', inplace=False)\n",
    "final.shape"
   ]
  },
  {
   "cell_type": "code",
   "execution_count": 9,
   "metadata": {},
   "outputs": [
    {
     "data": {
      "text/plain": [
       "69.25890143662969"
      ]
     },
     "execution_count": 9,
     "metadata": {},
     "output_type": "execute_result"
    }
   ],
   "source": [
    "#Checking to see how much % of data still remains\n",
    "(final['Id'].size*1.0)/(filtered_data['Id'].size*1.0)*100"
   ]
  },
  {
   "cell_type": "markdown",
   "metadata": {},
   "source": [
    "<b>Observation:-</b> It was also seen that in two rows given below the value of HelpfulnessNumerator is greater than HelpfulnessDenominator which is not practically possible hence these two rows too are removed from calcualtions"
   ]
  },
  {
   "cell_type": "code",
   "execution_count": 10,
   "metadata": {},
   "outputs": [
    {
     "data": {
      "text/html": [
       "<div>\n",
       "<style scoped>\n",
       "    .dataframe tbody tr th:only-of-type {\n",
       "        vertical-align: middle;\n",
       "    }\n",
       "\n",
       "    .dataframe tbody tr th {\n",
       "        vertical-align: top;\n",
       "    }\n",
       "\n",
       "    .dataframe thead th {\n",
       "        text-align: right;\n",
       "    }\n",
       "</style>\n",
       "<table border=\"1\" class=\"dataframe\">\n",
       "  <thead>\n",
       "    <tr style=\"text-align: right;\">\n",
       "      <th></th>\n",
       "      <th>Id</th>\n",
       "      <th>ProductId</th>\n",
       "      <th>UserId</th>\n",
       "      <th>ProfileName</th>\n",
       "      <th>HelpfulnessNumerator</th>\n",
       "      <th>HelpfulnessDenominator</th>\n",
       "      <th>Score</th>\n",
       "      <th>Time</th>\n",
       "      <th>Summary</th>\n",
       "      <th>Text</th>\n",
       "    </tr>\n",
       "  </thead>\n",
       "  <tbody>\n",
       "    <tr>\n",
       "      <th>0</th>\n",
       "      <td>64422</td>\n",
       "      <td>B000MIDROQ</td>\n",
       "      <td>A161DK06JJMCYF</td>\n",
       "      <td>J. E. Stephens \"Jeanne\"</td>\n",
       "      <td>3</td>\n",
       "      <td>1</td>\n",
       "      <td>5</td>\n",
       "      <td>1224892800</td>\n",
       "      <td>Bought This for My Son at College</td>\n",
       "      <td>My son loves spaghetti so I didn't hesitate or...</td>\n",
       "    </tr>\n",
       "    <tr>\n",
       "      <th>1</th>\n",
       "      <td>44737</td>\n",
       "      <td>B001EQ55RW</td>\n",
       "      <td>A2V0I904FH7ABY</td>\n",
       "      <td>Ram</td>\n",
       "      <td>3</td>\n",
       "      <td>2</td>\n",
       "      <td>4</td>\n",
       "      <td>1212883200</td>\n",
       "      <td>Pure cocoa taste with crunchy almonds inside</td>\n",
       "      <td>It was almost a 'love at first bite' - the per...</td>\n",
       "    </tr>\n",
       "  </tbody>\n",
       "</table>\n",
       "</div>"
      ],
      "text/plain": [
       "      Id   ProductId          UserId              ProfileName  \\\n",
       "0  64422  B000MIDROQ  A161DK06JJMCYF  J. E. Stephens \"Jeanne\"   \n",
       "1  44737  B001EQ55RW  A2V0I904FH7ABY                      Ram   \n",
       "\n",
       "   HelpfulnessNumerator  HelpfulnessDenominator  Score        Time  \\\n",
       "0                     3                       1      5  1224892800   \n",
       "1                     3                       2      4  1212883200   \n",
       "\n",
       "                                        Summary  \\\n",
       "0             Bought This for My Son at College   \n",
       "1  Pure cocoa taste with crunchy almonds inside   \n",
       "\n",
       "                                                Text  \n",
       "0  My son loves spaghetti so I didn't hesitate or...  \n",
       "1  It was almost a 'love at first bite' - the per...  "
      ]
     },
     "execution_count": 10,
     "metadata": {},
     "output_type": "execute_result"
    }
   ],
   "source": [
    "display= pd.read_sql_query(\"\"\"\n",
    "SELECT *\n",
    "FROM Reviews\n",
    "WHERE Score != 3 AND Id=44737 OR Id=64422\n",
    "ORDER BY ProductID\n",
    "\"\"\", con)\n",
    "\n",
    "display.head()"
   ]
  },
  {
   "cell_type": "code",
   "execution_count": 11,
   "metadata": {},
   "outputs": [],
   "source": [
    "final=final[final.HelpfulnessNumerator<=final.HelpfulnessDenominator]"
   ]
  },
  {
   "cell_type": "code",
   "execution_count": 12,
   "metadata": {},
   "outputs": [
    {
     "name": "stdout",
     "output_type": "stream",
     "text": [
      "(364171, 10)\n"
     ]
    },
    {
     "data": {
      "text/plain": [
       "1    307061\n",
       "0     57110\n",
       "Name: Score, dtype: int64"
      ]
     },
     "execution_count": 12,
     "metadata": {},
     "output_type": "execute_result"
    }
   ],
   "source": [
    "#Before starting the next phase of preprocessing lets see the number of entries left\n",
    "print(final.shape)\n",
    "\n",
    "#How many positive and negative reviews are present in our dataset?\n",
    "final['Score'].value_counts()"
   ]
  },
  {
   "cell_type": "markdown",
   "metadata": {},
   "source": [
    "#  [3] Preprocessing"
   ]
  },
  {
   "cell_type": "markdown",
   "metadata": {},
   "source": [
    "## [3.1].  Preprocessing Review Text\n",
    "\n",
    "Now that we have finished deduplication our data requires some preprocessing before we go on further with analysis and making the prediction model.\n",
    "\n",
    "Hence in the Preprocessing phase we do the following in the order below:-\n",
    "\n",
    "1. Begin by removing the html tags\n",
    "2. Remove any punctuations or limited set of special characters like , or . or # etc.\n",
    "3. Check if the word is made up of english letters and is not alpha-numeric\n",
    "4. Check to see if the length of the word is greater than 2 (as it was researched that there is no adjective in 2-letters)\n",
    "5. Convert the word to lowercase\n",
    "6. Remove Stopwords\n",
    "7. Finally Snowball Stemming the word (it was obsereved to be better than Porter Stemming)<br>\n",
    "\n",
    "After which we collect the words used to describe positive and negative reviews"
   ]
  },
  {
   "cell_type": "code",
   "execution_count": 13,
   "metadata": {},
   "outputs": [
    {
     "name": "stdout",
     "output_type": "stream",
     "text": [
      "this witty little book makes my son laugh at loud. i recite it in the car as we're driving along and he always can sing the refrain. he's learned about whales, India, drooping roses:  i love all the new words this book  introduces and the silliness of it all.  this is a classic book i am  willing to bet my son will STILL be able to recite from memory when he is  in college\n",
      "==================================================\n",
      "I was really looking forward to these pods based on the reviews.  Starbucks is good, but I prefer bolder taste.... imagine my surprise when I ordered 2 boxes - both were expired! One expired back in 2005 for gosh sakes.  I admit that Amazon agreed to credit me for cost plus part of shipping, but geez, 2 years expired!!!  I'm hoping to find local San Diego area shoppe that carries pods so that I can try something different than starbucks.\n",
      "==================================================\n",
      "Great ingredients although, chicken should have been 1st rather than chicken broth, the only thing I do not think belongs in it is Canola oil. Canola or rapeseed is not someting a dog would ever find in nature and if it did find rapeseed in nature and eat it, it would poison them. Today's Food industries have convinced the masses that Canola oil is a safe and even better oil than olive or virgin coconut, facts though say otherwise. Until the late 70's it was poisonous until they figured out a way to fix that. I still like it but it could be better.\n",
      "==================================================\n",
      "Can't do sugar.  Have tried scores of SF Syrups.  NONE of them can touch the excellence of this product.<br /><br />Thick, delicious.  Perfect.  3 ingredients: Water, Maltitol, Natural Maple Flavor.  PERIOD.  No chemicals.  No garbage.<br /><br />Have numerous friends & family members hooked on this stuff.  My husband & son, who do NOT like \"sugar free\" prefer this over major label regular syrup.<br /><br />I use this as my SWEETENER in baking: cheesecakes, white brownies, muffins, pumpkin pies, etc... Unbelievably delicious...<br /><br />Can you tell I like it? :)\n",
      "==================================================\n"
     ]
    }
   ],
   "source": [
    "# printing some random reviews\n",
    "sent_0 = final['Text'].values[0]\n",
    "print(sent_0)\n",
    "print(\"=\"*50)\n",
    "\n",
    "sent_1000 = final['Text'].values[1000]\n",
    "print(sent_1000)\n",
    "print(\"=\"*50)\n",
    "\n",
    "sent_1500 = final['Text'].values[1500]\n",
    "print(sent_1500)\n",
    "print(\"=\"*50)\n",
    "\n",
    "sent_4900 = final['Text'].values[4900]\n",
    "print(sent_4900)\n",
    "print(\"=\"*50)"
   ]
  },
  {
   "cell_type": "code",
   "execution_count": 14,
   "metadata": {},
   "outputs": [
    {
     "name": "stdout",
     "output_type": "stream",
     "text": [
      "http://www.amazon.com/gp/product/B0002XEI9O/ref=cm_cr_rev_prod_title<br /><br />So far, the Sprout Bag is good for growing various legume / bean - Sprouts. I am also using the bag to store the completed product in the refrigerator.  A second hanging handle, at the top, would be helpful.\n",
      "indes =  18044\n",
      "==================================================\n",
      "http://www.amazon.com/gp/product/B000ER3EFC/ref=cm_cr_rev_prod_img<br /><br />I don't have a baby, but I am on soft foods for a while after stomach surgery. I ordered some baby foods from Amazon and promptly found out why my babies never would eat baby food. This is supposedly sweet potatoes, but they found a way to remove all the earthy goodness. Before I added salt it tasted like nothing eaten by a human; with salt, it tasted like very mild carrots. I suppose I will eventually use it in baking, but frankly, if it's sweet potatoes I never want to meet the strain of sweet potatoes it came from.\n",
      "indes =  53187\n",
      "==================================================\n",
      "http://www.amazon.com/gp/product/B000MVGVY6/ref=cm_cr_rev_prod_img<br /><br />I have been in Utah over 25 years, at an altitude of about 4200 feet. My internist says that's not too high, but from all I can learn from family history, history, protohistory, and prehistory, my ancestors for at least 10,000 years have lived at or near sea level. My oxygen levels tend to get very low when the atmospheric pressure drops or I am extra tired. Since I know that coca combats altitude sickness, I decided to try it. Instead of spending the day in bed with an oxygen hose stuck up my nose to combat an O2 level of about 69, I am able to work all day with an oxygen level about 98. I dislike paying $[...] for coca tea, but I am paying $300 a month for my oxygen machine. I'll take the tea, thank you. My internist throws a tantrum about it, but my pulmonologist says that in his experience, a person with my background is unable to adjust to the altitude and it might take four generations before her descendants can do so. Since I was past child-bearing age when I moved here . . . . well, my coca tea is steeping, so I'd better go and drink it. I have a lot of work to do today.\n",
      "indes =  104802\n",
      "==================================================\n",
      "http://www.amazon.com/gp/product/B000UZP92Y/ref=cm_cr_rev_prod_title<br /><br />This product is supposed to be the \"Herbal Revive\"  version but it does not exist in the Amazon inventory.  The one they distribute is \"regular\" lemon and ginger tea which does not have the same sharp flavor as the Herbal Revive.\n",
      "indes =  123863\n",
      "==================================================\n",
      "http://www.consumeraffairs.com/news04/2009/06/fda_evangers02.html<br /><br />This company has been barred from shipping products by the FDA because of documented botulism in their dog food.  Buyer beware!\n",
      "indes =  130020\n",
      "==================================================\n"
     ]
    }
   ],
   "source": [
    "# https://codereview.stackexchange.com/questions/19663/http-url-validating\n",
    "i, j = 0 , 0\n",
    "for test in (final['Text'].values):\n",
    "  i = i + 1\n",
    "  if re.match('https?://(?:www)?(?:[\\w-]{2,255}(?:\\.\\w{2,6}){1,2})(?:/[\\w&%?#-]{1,300})?',test):\n",
    "      print(test)\n",
    "      print(\"indes = \",i)\n",
    "      print(\"=\"*50)\n",
    "      j = j + 1\n",
    "      if j == 5:\n",
    "        break;"
   ]
  },
  {
   "cell_type": "code",
   "execution_count": 15,
   "metadata": {},
   "outputs": [
    {
     "name": "stdout",
     "output_type": "stream",
     "text": [
      "http://www.amazon.com/gp/product/B0002XEI9O/ref=cm_cr_rev_prod_title<br /><br />So far, the Sprout Bag is good for growing various legume / bean - Sprouts. I am also using the bag to store the completed product in the refrigerator.  A second hanging handle, at the top, would be helpful.\n",
      "==================================================\n",
      "http://www.amazon.com/gp/product/B000ER3EFC/ref=cm_cr_rev_prod_img<br /><br />I don't have a baby, but I am on soft foods for a while after stomach surgery. I ordered some baby foods from Amazon and promptly found out why my babies never would eat baby food. This is supposedly sweet potatoes, but they found a way to remove all the earthy goodness. Before I added salt it tasted like nothing eaten by a human; with salt, it tasted like very mild carrots. I suppose I will eventually use it in baking, but frankly, if it's sweet potatoes I never want to meet the strain of sweet potatoes it came from.\n",
      "==================================================\n",
      "http://www.amazon.com/gp/product/B000MVGVY6/ref=cm_cr_rev_prod_img<br /><br />I have been in Utah over 25 years, at an altitude of about 4200 feet. My internist says that's not too high, but from all I can learn from family history, history, protohistory, and prehistory, my ancestors for at least 10,000 years have lived at or near sea level. My oxygen levels tend to get very low when the atmospheric pressure drops or I am extra tired. Since I know that coca combats altitude sickness, I decided to try it. Instead of spending the day in bed with an oxygen hose stuck up my nose to combat an O2 level of about 69, I am able to work all day with an oxygen level about 98. I dislike paying $[...] for coca tea, but I am paying $300 a month for my oxygen machine. I'll take the tea, thank you. My internist throws a tantrum about it, but my pulmonologist says that in his experience, a person with my background is unable to adjust to the altitude and it might take four generations before her descendants can do so. Since I was past child-bearing age when I moved here . . . . well, my coca tea is steeping, so I'd better go and drink it. I have a lot of work to do today.\n",
      "==================================================\n",
      "http://www.amazon.com/gp/product/B000UZP92Y/ref=cm_cr_rev_prod_title<br /><br />This product is supposed to be the \"Herbal Revive\"  version but it does not exist in the Amazon inventory.  The one they distribute is \"regular\" lemon and ginger tea which does not have the same sharp flavor as the Herbal Revive.\n",
      "==================================================\n"
     ]
    }
   ],
   "source": [
    "# printing some urls test reviews\n",
    "sent_18044 = final['Text'].values[18044 - 1]\n",
    "print(sent_18044)\n",
    "print(\"=\"*50)\n",
    "\n",
    "sent_53187 = final['Text'].values[53187 - 1]\n",
    "print(sent_53187)\n",
    "print(\"=\"*50)\n",
    "\n",
    "sent_104802 = final['Text'].values[104802 - 1]\n",
    "print(sent_104802)\n",
    "print(\"=\"*50)\n",
    "\n",
    "sent_123863 = final['Text'].values[123863 - 1]\n",
    "print(sent_123863)\n",
    "print(\"=\"*50)"
   ]
  },
  {
   "cell_type": "code",
   "execution_count": 16,
   "metadata": {},
   "outputs": [
    {
     "name": "stdout",
     "output_type": "stream",
     "text": [
      " /><br />So far, the Sprout Bag is good for growing various legume / bean - Sprouts. I am also using the bag to store the completed product in the refrigerator.  A second hanging handle, at the top, would be helpful.\n",
      "========================================\n",
      " /><br />This product is supposed to be the \"Herbal Revive\"  version but it does not exist in the Amazon inventory.  The one they distribute is \"regular\" lemon and ginger tea which does not have the same sharp flavor as the Herbal Revive.\n"
     ]
    }
   ],
   "source": [
    "# remove urls from text python: https://stackoverflow.com/a/40823105/4084039\n",
    "sent_18044 = re.sub(r\"http\\S+\", \"\", sent_18044)\n",
    "sent_53187= re.sub(r\"http\\S+\", \"\", sent_53187)\n",
    "sent_104802 = re.sub(r\"http\\S+\", \"\", sent_104802)\n",
    "sent_123863 = re.sub(r\"http\\S+\", \"\", sent_123863)\n",
    "\n",
    "print(sent_18044)\n",
    "print(\"=\"*40)\n",
    "print(sent_123863)"
   ]
  },
  {
   "cell_type": "code",
   "execution_count": 17,
   "metadata": {},
   "outputs": [
    {
     "name": "stdout",
     "output_type": "stream",
     "text": [
      "/>So far, the Sprout Bag is good for growing various legume / bean - Sprouts. I am also using the bag to store the completed product in the refrigerator.  A second hanging handle, at the top, would be helpful.\n",
      "==================================================\n",
      "/>I don't have a baby, but I am on soft foods for a while after stomach surgery. I ordered some baby foods from Amazon and promptly found out why my babies never would eat baby food. This is supposedly sweet potatoes, but they found a way to remove all the earthy goodness. Before I added salt it tasted like nothing eaten by a human; with salt, it tasted like very mild carrots. I suppose I will eventually use it in baking, but frankly, if it's sweet potatoes I never want to meet the strain of sweet potatoes it came from.\n",
      "==================================================\n",
      "/>I have been in Utah over 25 years, at an altitude of about 4200 feet. My internist says that's not too high, but from all I can learn from family history, history, protohistory, and prehistory, my ancestors for at least 10,000 years have lived at or near sea level. My oxygen levels tend to get very low when the atmospheric pressure drops or I am extra tired. Since I know that coca combats altitude sickness, I decided to try it. Instead of spending the day in bed with an oxygen hose stuck up my nose to combat an O2 level of about 69, I am able to work all day with an oxygen level about 98. I dislike paying $[...] for coca tea, but I am paying $300 a month for my oxygen machine. I'll take the tea, thank you. My internist throws a tantrum about it, but my pulmonologist says that in his experience, a person with my background is unable to adjust to the altitude and it might take four generations before her descendants can do so. Since I was past child-bearing age when I moved here . . . . well, my coca tea is steeping, so I'd better go and drink it. I have a lot of work to do today.\n",
      "==================================================\n",
      "/>This product is supposed to be the \"Herbal Revive\"  version but it does not exist in the Amazon inventory.  The one they distribute is \"regular\" lemon and ginger tea which does not have the same sharp flavor as the Herbal Revive.\n"
     ]
    }
   ],
   "source": [
    "# https://stackoverflow.com/questions/16206380/python-beautifulsoup-how-to-remove-all-tags-from-an-element\n",
    "from bs4 import BeautifulSoup\n",
    "\n",
    "soup = BeautifulSoup(sent_18044, 'lxml')\n",
    "text = soup.get_text()\n",
    "print(text)\n",
    "print(\"=\"*50)\n",
    "\n",
    "soup = BeautifulSoup(sent_53187, 'lxml')\n",
    "text = soup.get_text()\n",
    "print(text)\n",
    "print(\"=\"*50)\n",
    "\n",
    "soup = BeautifulSoup(sent_104802, 'lxml')\n",
    "text = soup.get_text()\n",
    "print(text)\n",
    "print(\"=\"*50)\n",
    "\n",
    "soup = BeautifulSoup(sent_123863, 'lxml')\n",
    "text = soup.get_text()\n",
    "print(text)"
   ]
  },
  {
   "cell_type": "code",
   "execution_count": 18,
   "metadata": {},
   "outputs": [],
   "source": [
    "# https://stackoverflow.com/a/47091490/4084039\n",
    "import re\n",
    "\n",
    "def decontracted(phrase):\n",
    "    # specific\n",
    "    phrase = re.sub(r\"won't\", \"will not\", phrase)\n",
    "    phrase = re.sub(r\"can\\'t\", \"can not\", phrase)\n",
    "\n",
    "    # general\n",
    "    phrase = re.sub(r\"n\\'t\", \" not\", phrase)\n",
    "    phrase = re.sub(r\"\\'re\", \" are\", phrase)\n",
    "    phrase = re.sub(r\"\\'s\", \" is\", phrase)\n",
    "    phrase = re.sub(r\"\\'d\", \" would\", phrase)\n",
    "    phrase = re.sub(r\"\\'ll\", \" will\", phrase)\n",
    "    phrase = re.sub(r\"\\'t\", \" not\", phrase)\n",
    "    phrase = re.sub(r\"\\'ve\", \" have\", phrase)\n",
    "    phrase = re.sub(r\"\\'m\", \" am\", phrase)\n",
    "    return phrase"
   ]
  },
  {
   "cell_type": "code",
   "execution_count": 19,
   "metadata": {},
   "outputs": [
    {
     "name": "stdout",
     "output_type": "stream",
     "text": [
      " /><br />So far, the Sprout Bag is good for growing various legume / bean - Sprouts. I am also using the bag to store the completed product in the refrigerator.  A second hanging handle, at the top, would be helpful.\n",
      "==================================================\n",
      " /><br />I do not have a baby, but I am on soft foods for a while after stomach surgery. I ordered some baby foods from Amazon and promptly found out why my babies never would eat baby food. This is supposedly sweet potatoes, but they found a way to remove all the earthy goodness. Before I added salt it tasted like nothing eaten by a human; with salt, it tasted like very mild carrots. I suppose I will eventually use it in baking, but frankly, if it is sweet potatoes I never want to meet the strain of sweet potatoes it came from.\n",
      "==================================================\n",
      " /><br />This product is supposed to be the \"Herbal Revive\"  version but it does not exist in the Amazon inventory.  The one they distribute is \"regular\" lemon and ginger tea which does not have the same sharp flavor as the Herbal Revive.\n",
      "==================================================\n"
     ]
    }
   ],
   "source": [
    "sent_18044 = decontracted(sent_18044)\n",
    "print(sent_18044)\n",
    "print(\"=\"*50)\n",
    "sent_53187 = decontracted(sent_53187)\n",
    "print(sent_53187)\n",
    "print(\"=\"*50)\n",
    "sent_123863 = decontracted(sent_123863)\n",
    "print(sent_123863)\n",
    "print(\"=\"*50)"
   ]
  },
  {
   "cell_type": "code",
   "execution_count": 20,
   "metadata": {},
   "outputs": [
    {
     "name": "stdout",
     "output_type": "stream",
     "text": [
      "[[ASIN:B001AGXEAG Beetlejuice (20th Anniversary Deluxe Edition)]<br /><br />Beetlejuice, the Tim Burton classic from 1988 now comes to you packaged as a 20th Anniversary DVD edition.  Michael Keaton, I think in one of his best film performances brings down the house.  Also starring Geena Davis and Alec Baldwin, two actors you would have never thought to put together in a movie of this genre, it is classic comedy at its best.  The DVD also has special features, although nothing to make your head spin, but it offers several episodes of the cartoon series from the late 1980's.  But beyond that, nothing too spectacular; not that it needs that much more. A simple classic comedy that if it doesn't make you laugh, something is wrong with you and you should be exorcised!  With that being said, buy it if you don't own it. It's a must have dark comedy.\n",
      "indes =  391\n",
      "==================================================\n",
      "1st day, few stupid flies went in. 2nd day, it smell so so bad, had it relocated... 4th day, hundreds flies... OMG. It works so great... all blocks of flies come over having the party to die...\n",
      "indes =  752\n",
      "==================================================\n",
      "1st: my cats really don't eat this brand with much relish like they did when Wellness had the mylar bags. We really miss those bags, the food just seemed to taste better to my cats. Canned, they won't touch any flavor but turkey.<br /><br />2nd: I've had 3 out of 12 in a case smell off and even the dogs won't touch it. So just check yours JIK.<br /><br />What has happened to this brand? They were the BEST 2 years ago!\n",
      "indes =  1699\n",
      "==================================================\n",
      "5 star.  Our vet recommended this product for our 8 year old male Golden Retriever.  He had some stomach issues at the time and was a little over weight.  We switched from Eukanuba.  Since changing, the stomach issues have never come back, and he is at normal weight now.\n",
      "indes =  2259\n",
      "==================================================\n",
      "24 packs for $19.94 comes to .83 per pack.  That is a bargain and does not even consider the subscribe and save 15% discount which would amount to a price of $16.95 or .71 per pack.  Purchasing a single pack on the Amazon site costs $6.79 (plus shipping if you don't qualify for Super Saver).  In addition, at least Amazon has these available.  I could not find them in any store.<br /><br />P.S.  I plan to drink a lot of coffee.\n",
      "indes =  2805\n",
      "==================================================\n"
     ]
    }
   ],
   "source": [
    "# https://codereview.stackexchange.com/questions/19663/http-url-validating\n",
    "i, j = 0 , 0\n",
    "for test in (final['Text'].values):\n",
    "  i = i + 1\n",
    "  if re.match(\"\\S*\\d\\S*\",test):\n",
    "      print(test)\n",
    "      print(\"indes = \",i)\n",
    "      print(\"=\"*50)\n",
    "      j = j + 1\n",
    "      if j == 5:\n",
    "        break;"
   ]
  },
  {
   "cell_type": "code",
   "execution_count": 21,
   "metadata": {},
   "outputs": [
    {
     "name": "stdout",
     "output_type": "stream",
     "text": [
      "24 packs for $19.94 comes to .83 per pack.  That is a bargain and does not even consider the subscribe and save 15% discount which would amount to a price of $16.95 or .71 per pack.  Purchasing a single pack on the Amazon site costs $6.79 (plus shipping if you don't qualify for Super Saver).  In addition, at least Amazon has these available.  I could not find them in any store.<br /><br />P.S.  I plan to drink a lot of coffee.\n"
     ]
    }
   ],
   "source": [
    "#remove words with numbers python: https://stackoverflow.com/a/18082370/4084039\n",
    "sent = final['Text'].values[2805 - 1]\n",
    "print(sent)"
   ]
  },
  {
   "cell_type": "code",
   "execution_count": 22,
   "metadata": {},
   "outputs": [
    {
     "name": "stdout",
     "output_type": "stream",
     "text": [
      "packs for  comes to  per pack.  That is a bargain and does not even consider the subscribe and save  discount which would amount to a price of  or  per pack.  Purchasing a single pack on the Amazon site costs  (plus shipping if you don't qualify for Super Saver).  In addition, at least Amazon has these available.  I could not find them in any store.<br /><br />P.S.  I plan to drink a lot of coffee.\n"
     ]
    }
   ],
   "source": [
    "#remove words with numbers python: https://stackoverflow.com/a/18082370/4084039\n",
    "sent = re.sub(\"\\S*\\d\\S*\", \"\", sent).strip()\n",
    "print(sent)"
   ]
  },
  {
   "cell_type": "code",
   "execution_count": 23,
   "metadata": {},
   "outputs": [
    {
     "name": "stdout",
     "output_type": "stream",
     "text": [
      " br So far the Sprout Bag is good for growing various legume bean Sprouts I am also using the bag to store the completed product in the refrigerator A second hanging handle at the top would be helpful \n"
     ]
    }
   ],
   "source": [
    "#remove spacial character: https://stackoverflow.com/a/5843547/4084039\n",
    "sent_18044 = re.sub('[^A-Za-z0-9]+', ' ', sent_18044)\n",
    "print(sent_18044)"
   ]
  },
  {
   "cell_type": "code",
   "execution_count": 24,
   "metadata": {},
   "outputs": [],
   "source": [
    "# https://gist.github.com/sebleier/554280\n",
    "# we are removing the words from the stop words list: 'no', 'nor', 'not'\n",
    "# <br /><br /> ==> after the above steps, we are getting \"br br\"\n",
    "# we are including them into stop words list\n",
    "# instead of <br /> if we have <br/> these tags would have revmoved in the 1st step\n",
    "\n",
    "stopwords= set(['br', 'the', 'i', 'me', 'my', 'myself', 'we', 'our', 'ours', 'ourselves', 'you', \"you're\", \"you've\",\\\n",
    "            \"you'll\", \"you'd\", 'your', 'yours', 'yourself', 'yourselves', 'he', 'him', 'his', 'himself', \\\n",
    "            'she', \"she's\", 'her', 'hers', 'herself', 'it', \"it's\", 'its', 'itself', 'they', 'them', 'their',\\\n",
    "            'theirs', 'themselves', 'what', 'which', 'who', 'whom', 'this', 'that', \"that'll\", 'these', 'those', \\\n",
    "            'am', 'is', 'are', 'was', 'were', 'be', 'been', 'being', 'have', 'has', 'had', 'having', 'do', 'does', \\\n",
    "            'did', 'doing', 'a', 'an', 'the', 'and', 'but', 'if', 'or', 'because', 'as', 'until', 'while', 'of', \\\n",
    "            'at', 'by', 'for', 'with', 'about', 'against', 'between', 'into', 'through', 'during', 'before', 'after',\\\n",
    "            'above', 'below', 'to', 'from', 'up', 'down', 'in', 'out', 'on', 'off', 'over', 'under', 'again', 'further',\\\n",
    "            'then', 'once', 'here', 'there', 'when', 'where', 'why', 'how', 'all', 'any', 'both', 'each', 'few', 'more',\\\n",
    "            'most', 'other', 'some', 'such', 'only', 'own', 'same', 'so', 'than', 'too', 'very', \\\n",
    "            's', 't', 'can', 'will', 'just', 'don', \"don't\", 'should', \"should've\", 'now', 'd', 'll', 'm', 'o', 're', \\\n",
    "            've', 'y', 'ain', 'aren', \"aren't\", 'couldn', \"couldn't\", 'didn', \"didn't\", 'doesn', \"doesn't\", 'hadn',\\\n",
    "            \"hadn't\", 'hasn', \"hasn't\", 'haven', \"haven't\", 'isn', \"isn't\", 'ma', 'mightn', \"mightn't\", 'mustn',\\\n",
    "            \"mustn't\", 'needn', \"needn't\", 'shan', \"shan't\", 'shouldn', \"shouldn't\", 'wasn', \"wasn't\", 'weren', \"weren't\", \\\n",
    "            'won', \"won't\", 'wouldn', \"wouldn't\"])"
   ]
  },
  {
   "cell_type": "code",
   "execution_count": 25,
   "metadata": {},
   "outputs": [
    {
     "name": "stderr",
     "output_type": "stream",
     "text": [
      "100%|██████████| 364171/364171 [04:07<00:00, 1473.93it/s]\n"
     ]
    }
   ],
   "source": [
    "# Combining all the above stundents \n",
    "from tqdm import tqdm\n",
    "preprocessed_reviews = []\n",
    "# tqdm is for printing the status bar\n",
    "for sentance in tqdm(final['Text'].values):\n",
    "    sentance = re.sub(r\"http\\S+\", \"\", sentance)\n",
    "    sentance = BeautifulSoup(sentance, 'lxml').get_text()\n",
    "    sentance = decontracted(sentance)\n",
    "    sentance = re.sub(\"\\S*\\d\\S*\", \"\", sentance).strip()\n",
    "    sentance = re.sub('[^A-Za-z]+', ' ', sentance)\n",
    "    # https://gist.github.com/sebleier/554280\n",
    "    sentance = ' '.join(e.lower() for e in sentance.split() if e.lower() not in stopwords)\n",
    "    preprocessed_reviews.append(sentance.strip())"
   ]
  },
  {
   "cell_type": "code",
   "execution_count": 26,
   "metadata": {},
   "outputs": [
    {
     "data": {
      "text/plain": [
       "'great ingredients although chicken rather chicken broth thing not think belongs canola oil canola rapeseed not someting dog would ever find nature find rapeseed nature eat would poison today food industries convinced masses canola oil safe even better oil olive virgin coconut facts though say otherwise late poisonous figured way fix still like could better'"
      ]
     },
     "execution_count": 26,
     "metadata": {},
     "output_type": "execute_result"
    }
   ],
   "source": [
    "preprocessed_reviews[1500]"
   ]
  },
  {
   "cell_type": "markdown",
   "metadata": {},
   "source": [
    "<h2><font color='red'>[3.2] Preprocessing Review Summary</font></h2>"
   ]
  },
  {
   "cell_type": "code",
   "execution_count": 27,
   "metadata": {},
   "outputs": [
    {
     "name": "stderr",
     "output_type": "stream",
     "text": [
      "  6%|▌         | 22379/364171 [00:10<02:48, 2025.46it/s]/home/prasad/anaconda3/lib/python3.6/site-packages/bs4/__init__.py:219: UserWarning: \"b'.'\" looks like a filename, not markup. You should probably open this file and pass the filehandle into Beautiful Soup.\n",
      "  ' Beautiful Soup.' % markup)\n",
      " 27%|██▋       | 98263/364171 [00:43<01:50, 2406.65it/s]/home/prasad/anaconda3/lib/python3.6/site-packages/bs4/__init__.py:219: UserWarning: \"b'.'\" looks like a filename, not markup. You should probably open this file and pass the filehandle into Beautiful Soup.\n",
      "  ' Beautiful Soup.' % markup)\n",
      " 27%|██▋       | 98504/364171 [00:44<01:51, 2392.65it/s]/home/prasad/anaconda3/lib/python3.6/site-packages/bs4/__init__.py:219: UserWarning: \"b'.'\" looks like a filename, not markup. You should probably open this file and pass the filehandle into Beautiful Soup.\n",
      "  ' Beautiful Soup.' % markup)\n",
      " 60%|█████▉    | 217048/364171 [01:35<01:02, 2338.01it/s]/home/prasad/anaconda3/lib/python3.6/site-packages/bs4/__init__.py:219: UserWarning: \"b'.'\" looks like a filename, not markup. You should probably open this file and pass the filehandle into Beautiful Soup.\n",
      "  ' Beautiful Soup.' % markup)\n",
      " 97%|█████████▋| 354695/364171 [02:35<00:04, 2294.46it/s]/home/prasad/anaconda3/lib/python3.6/site-packages/bs4/__init__.py:219: UserWarning: \"b'.'\" looks like a filename, not markup. You should probably open this file and pass the filehandle into Beautiful Soup.\n",
      "  ' Beautiful Soup.' % markup)\n",
      "100%|██████████| 364171/364171 [02:39<00:00, 2286.36it/s]\n"
     ]
    }
   ],
   "source": [
    "## Similartly you can do preprocessing for review summary also.\n",
    "## Similartly you can do preprocessing for review summary also.\n",
    "preprocessed_reviews_summary = []\n",
    "# tqdm is for printing the status bar\n",
    "for sentance in tqdm(final['Summary'].values):\n",
    "    sentance = re.sub(r\"http\\S+\", \"\", sentance)\n",
    "    sentance = BeautifulSoup(sentance, 'lxml').get_text()\n",
    "    sentance = decontracted(sentance)\n",
    "    sentance = re.sub(\"\\S*\\d\\S*\", \"\", sentance).strip()\n",
    "    sentance = re.sub('[^A-Za-z]+', ' ', sentance)\n",
    "    # https://gist.github.com/sebleier/554280\n",
    "    sentance = ' '.join(e.lower() for e in sentance.split() if e.lower() not in stopwords)\n",
    "    preprocessed_reviews_summary.append(sentance.strip())"
   ]
  },
  {
   "cell_type": "code",
   "execution_count": 28,
   "metadata": {},
   "outputs": [
    {
     "data": {
      "text/plain": [
       "'would best canola oil left'"
      ]
     },
     "execution_count": 28,
     "metadata": {},
     "output_type": "execute_result"
    }
   ],
   "source": [
    "preprocessed_reviews_summary[1500]"
   ]
  },
  {
   "cell_type": "code",
   "execution_count": 29,
   "metadata": {
    "scrolled": true
   },
   "outputs": [
    {
     "data": {
      "text/html": [
       "<div>\n",
       "<style scoped>\n",
       "    .dataframe tbody tr th:only-of-type {\n",
       "        vertical-align: middle;\n",
       "    }\n",
       "\n",
       "    .dataframe tbody tr th {\n",
       "        vertical-align: top;\n",
       "    }\n",
       "\n",
       "    .dataframe thead th {\n",
       "        text-align: right;\n",
       "    }\n",
       "</style>\n",
       "<table border=\"1\" class=\"dataframe\">\n",
       "  <thead>\n",
       "    <tr style=\"text-align: right;\">\n",
       "      <th></th>\n",
       "      <th>Id</th>\n",
       "      <th>ProductId</th>\n",
       "      <th>UserId</th>\n",
       "      <th>ProfileName</th>\n",
       "      <th>HelpfulnessNumerator</th>\n",
       "      <th>HelpfulnessDenominator</th>\n",
       "      <th>Score</th>\n",
       "      <th>Time</th>\n",
       "      <th>Summary</th>\n",
       "      <th>Text</th>\n",
       "      <th>CleanedText</th>\n",
       "      <th>CleanedSummary</th>\n",
       "    </tr>\n",
       "  </thead>\n",
       "  <tbody>\n",
       "    <tr>\n",
       "      <th>178145</th>\n",
       "      <td>193174</td>\n",
       "      <td>B009RSR8HO</td>\n",
       "      <td>A4P6AN2L435PV</td>\n",
       "      <td>romarc</td>\n",
       "      <td>0</td>\n",
       "      <td>0</td>\n",
       "      <td>1</td>\n",
       "      <td>1350432000</td>\n",
       "      <td>LOVE!!  LOVE!!</td>\n",
       "      <td>LOVE, LOVE this sweetener!!  I use it in all m...</td>\n",
       "      <td>love love sweetener use baking unsweetened fla...</td>\n",
       "      <td>love love</td>\n",
       "    </tr>\n",
       "    <tr>\n",
       "      <th>173675</th>\n",
       "      <td>188389</td>\n",
       "      <td>B009SF0TN6</td>\n",
       "      <td>A1L0GWGRK4BYPT</td>\n",
       "      <td>Bety Robinson</td>\n",
       "      <td>0</td>\n",
       "      <td>0</td>\n",
       "      <td>1</td>\n",
       "      <td>1350518400</td>\n",
       "      <td>Amazing!! Great sauce for everything!</td>\n",
       "      <td>You have to try this sauce to believe it! It s...</td>\n",
       "      <td>try sauce believe starts little sweet honey ta...</td>\n",
       "      <td>amazing great sauce everything</td>\n",
       "    </tr>\n",
       "    <tr>\n",
       "      <th>204727</th>\n",
       "      <td>221795</td>\n",
       "      <td>B009SR4OQ2</td>\n",
       "      <td>A32A6X5KCP7ARG</td>\n",
       "      <td>sicamar</td>\n",
       "      <td>1</td>\n",
       "      <td>1</td>\n",
       "      <td>1</td>\n",
       "      <td>1350604800</td>\n",
       "      <td>Awesome Taste</td>\n",
       "      <td>I bought this Hazelnut Paste (Nocciola Spread)...</td>\n",
       "      <td>bought hazelnut paste nocciola spread local sh...</td>\n",
       "      <td>awesome taste</td>\n",
       "    </tr>\n",
       "    <tr>\n",
       "      <th>5259</th>\n",
       "      <td>5703</td>\n",
       "      <td>B009WSNWC4</td>\n",
       "      <td>AMP7K1O84DH1T</td>\n",
       "      <td>ESTY</td>\n",
       "      <td>0</td>\n",
       "      <td>0</td>\n",
       "      <td>1</td>\n",
       "      <td>1351209600</td>\n",
       "      <td>DELICIOUS</td>\n",
       "      <td>Purchased this product at a local store in NY ...</td>\n",
       "      <td>purchased product local store ny kids love qui...</td>\n",
       "      <td>delicious</td>\n",
       "    </tr>\n",
       "    <tr>\n",
       "      <th>302474</th>\n",
       "      <td>327601</td>\n",
       "      <td>B009WVB40S</td>\n",
       "      <td>A3ME78KVX31T21</td>\n",
       "      <td>K'la</td>\n",
       "      <td>0</td>\n",
       "      <td>0</td>\n",
       "      <td>1</td>\n",
       "      <td>1351123200</td>\n",
       "      <td>Tasty!</td>\n",
       "      <td>I purchased this to send to my son who's away ...</td>\n",
       "      <td>purchased send son away college delivered righ...</td>\n",
       "      <td>tasty</td>\n",
       "    </tr>\n",
       "  </tbody>\n",
       "</table>\n",
       "</div>"
      ],
      "text/plain": [
       "            Id   ProductId          UserId    ProfileName  \\\n",
       "178145  193174  B009RSR8HO   A4P6AN2L435PV         romarc   \n",
       "173675  188389  B009SF0TN6  A1L0GWGRK4BYPT  Bety Robinson   \n",
       "204727  221795  B009SR4OQ2  A32A6X5KCP7ARG        sicamar   \n",
       "5259      5703  B009WSNWC4   AMP7K1O84DH1T           ESTY   \n",
       "302474  327601  B009WVB40S  A3ME78KVX31T21           K'la   \n",
       "\n",
       "        HelpfulnessNumerator  HelpfulnessDenominator  Score        Time  \\\n",
       "178145                     0                       0      1  1350432000   \n",
       "173675                     0                       0      1  1350518400   \n",
       "204727                     1                       1      1  1350604800   \n",
       "5259                       0                       0      1  1351209600   \n",
       "302474                     0                       0      1  1351123200   \n",
       "\n",
       "                                      Summary  \\\n",
       "178145                         LOVE!!  LOVE!!   \n",
       "173675  Amazing!! Great sauce for everything!   \n",
       "204727                          Awesome Taste   \n",
       "5259                                DELICIOUS   \n",
       "302474                                 Tasty!   \n",
       "\n",
       "                                                     Text  \\\n",
       "178145  LOVE, LOVE this sweetener!!  I use it in all m...   \n",
       "173675  You have to try this sauce to believe it! It s...   \n",
       "204727  I bought this Hazelnut Paste (Nocciola Spread)...   \n",
       "5259    Purchased this product at a local store in NY ...   \n",
       "302474  I purchased this to send to my son who's away ...   \n",
       "\n",
       "                                              CleanedText  \\\n",
       "178145  love love sweetener use baking unsweetened fla...   \n",
       "173675  try sauce believe starts little sweet honey ta...   \n",
       "204727  bought hazelnut paste nocciola spread local sh...   \n",
       "5259    purchased product local store ny kids love qui...   \n",
       "302474  purchased send son away college delivered righ...   \n",
       "\n",
       "                        CleanedSummary  \n",
       "178145                       love love  \n",
       "173675  amazing great sauce everything  \n",
       "204727                   awesome taste  \n",
       "5259                         delicious  \n",
       "302474                           tasty  "
      ]
     },
     "execution_count": 29,
     "metadata": {},
     "output_type": "execute_result"
    }
   ],
   "source": [
    "# adding new columns [\"CleanedText\", \"CleanedSummary\"] to the data frame and save that data frame as \"preprocessed.pkl\"\n",
    "final[\"CleanedText\"] = preprocessed_reviews\n",
    "final[\"CleanedSummary\"] = preprocessed_reviews_summary\n",
    "final.tail()"
   ]
  },
  {
   "cell_type": "code",
   "execution_count": 30,
   "metadata": {},
   "outputs": [],
   "source": [
    "# save the data frame as \"preprocessed.pkl\"\n",
    "final.to_pickle(\"files/preprocessed.pkl\")"
   ]
  },
  {
   "cell_type": "markdown",
   "metadata": {},
   "source": [
    "# [4] Featurization"
   ]
  },
  {
   "cell_type": "markdown",
   "metadata": {},
   "source": [
    "**I am used to select 50k data points randaand sord them using time based splitting** "
   ]
  },
  {
   "cell_type": "code",
   "execution_count": 32,
   "metadata": {},
   "outputs": [
    {
     "data": {
      "text/html": [
       "<div>\n",
       "<style scoped>\n",
       "    .dataframe tbody tr th:only-of-type {\n",
       "        vertical-align: middle;\n",
       "    }\n",
       "\n",
       "    .dataframe tbody tr th {\n",
       "        vertical-align: top;\n",
       "    }\n",
       "\n",
       "    .dataframe thead th {\n",
       "        text-align: right;\n",
       "    }\n",
       "</style>\n",
       "<table border=\"1\" class=\"dataframe\">\n",
       "  <thead>\n",
       "    <tr style=\"text-align: right;\">\n",
       "      <th></th>\n",
       "      <th>Id</th>\n",
       "      <th>ProductId</th>\n",
       "      <th>UserId</th>\n",
       "      <th>ProfileName</th>\n",
       "      <th>HelpfulnessNumerator</th>\n",
       "      <th>HelpfulnessDenominator</th>\n",
       "      <th>Score</th>\n",
       "      <th>Time</th>\n",
       "      <th>Summary</th>\n",
       "      <th>Text</th>\n",
       "      <th>CleanedText</th>\n",
       "      <th>CleanedSummary</th>\n",
       "    </tr>\n",
       "  </thead>\n",
       "  <tbody>\n",
       "    <tr>\n",
       "      <th>138706</th>\n",
       "      <td>150524</td>\n",
       "      <td>0006641040</td>\n",
       "      <td>ACITT7DI6IDDL</td>\n",
       "      <td>shari zychinski</td>\n",
       "      <td>0</td>\n",
       "      <td>0</td>\n",
       "      <td>1</td>\n",
       "      <td>939340800</td>\n",
       "      <td>EVERY book is educational</td>\n",
       "      <td>this witty little book makes my son laugh at l...</td>\n",
       "      <td>witty little book makes son laugh loud recite ...</td>\n",
       "      <td>every book educational</td>\n",
       "    </tr>\n",
       "  </tbody>\n",
       "</table>\n",
       "</div>"
      ],
      "text/plain": [
       "            Id   ProductId         UserId      ProfileName  \\\n",
       "138706  150524  0006641040  ACITT7DI6IDDL  shari zychinski   \n",
       "\n",
       "        HelpfulnessNumerator  HelpfulnessDenominator  Score       Time  \\\n",
       "138706                     0                       0      1  939340800   \n",
       "\n",
       "                          Summary  \\\n",
       "138706  EVERY book is educational   \n",
       "\n",
       "                                                     Text  \\\n",
       "138706  this witty little book makes my son laugh at l...   \n",
       "\n",
       "                                              CleanedText  \\\n",
       "138706  witty little book makes son laugh loud recite ...   \n",
       "\n",
       "                CleanedSummary  \n",
       "138706  every book educational  "
      ]
     },
     "execution_count": 32,
     "metadata": {},
     "output_type": "execute_result"
    }
   ],
   "source": [
    "# Split the data into train , test and crossvalidation datasets\n",
    "# load \"preprocessed.pkl\" data frame\n",
    "df = pd.read_pickle(\"files/preprocessed.pkl\")\n",
    "df.head(1)"
   ]
  },
  {
   "cell_type": "code",
   "execution_count": 33,
   "metadata": {},
   "outputs": [
    {
     "data": {
      "text/plain": [
       "(364171, 12)"
      ]
     },
     "execution_count": 33,
     "metadata": {},
     "output_type": "execute_result"
    }
   ],
   "source": [
    "df.shape"
   ]
  },
  {
   "cell_type": "code",
   "execution_count": 34,
   "metadata": {},
   "outputs": [
    {
     "data": {
      "text/plain": [
       "(50000, 12)"
      ]
     },
     "execution_count": 34,
     "metadata": {},
     "output_type": "execute_result"
    }
   ],
   "source": [
    "# take 100k sample data randomly\n",
    "sample_data = df.sample(50000)\n",
    "sample_data.shape"
   ]
  },
  {
   "cell_type": "code",
   "execution_count": 35,
   "metadata": {},
   "outputs": [
    {
     "data": {
      "text/plain": [
       "(50000, 12)"
      ]
     },
     "execution_count": 35,
     "metadata": {},
     "output_type": "execute_result"
    }
   ],
   "source": [
    "# sorted the data using time based\n",
    "sorted_data = sample_data.sort_values('Time', axis=0, inplace=False)\n",
    "sorted_data.shape"
   ]
  },
  {
   "cell_type": "code",
   "execution_count": 36,
   "metadata": {},
   "outputs": [
    {
     "data": {
      "text/plain": [
       "1    42149\n",
       "0     7851\n",
       "Name: Score, dtype: int64"
      ]
     },
     "execution_count": 36,
     "metadata": {},
     "output_type": "execute_result"
    }
   ],
   "source": [
    "sorted_data['Score'].value_counts()"
   ]
  },
  {
   "cell_type": "code",
   "execution_count": 37,
   "metadata": {},
   "outputs": [],
   "source": [
    "from sklearn.model_selection import train_test_split"
   ]
  },
  {
   "cell_type": "code",
   "execution_count": 38,
   "metadata": {},
   "outputs": [
    {
     "name": "stdout",
     "output_type": "stream",
     "text": [
      "(50000,)\n",
      "(50000,)\n"
     ]
    }
   ],
   "source": [
    "X = np.array(sorted_data['CleanedText'])\n",
    "y = np.array(sorted_data['Score'])\n",
    "print(X.shape)\n",
    "print(y.shape)"
   ]
  },
  {
   "cell_type": "code",
   "execution_count": 39,
   "metadata": {},
   "outputs": [
    {
     "name": "stdout",
     "output_type": "stream",
     "text": [
      "train data =  (24500,)\n",
      "cros validation =  (10500,)\n",
      "test data =  (15000,)\n"
     ]
    }
   ],
   "source": [
    "# Simple cross validation\n",
    "# split the data sent into train and test\n",
    "train , test , train_y , test_y = train_test_split(X, y, test_size = 0.3, random_state=None)\n",
    "\n",
    "# split the train data set into cross validation train and cross validation test\n",
    "train, cv , train_y, cv_y = train_test_split(train, train_y, test_size=0.3, random_state=None)\n",
    "\n",
    "print(\"train data = \", train.shape)\n",
    "print(\"cros validation = \", cv.shape)\n",
    "print(\"test data = \", test.shape)"
   ]
  },
  {
   "cell_type": "code",
   "execution_count": null,
   "metadata": {},
   "outputs": [],
   "source": []
  },
  {
   "cell_type": "markdown",
   "metadata": {},
   "source": [
    "## [4.1] BAG OF WORDS"
   ]
  },
  {
   "cell_type": "code",
   "execution_count": 40,
   "metadata": {},
   "outputs": [
    {
     "name": "stdout",
     "output_type": "stream",
     "text": [
      "some feature names  ['aa', 'aaa', 'aaaa', 'aaaaa', 'aaaaaaaaaaaaaaaaaaaaaaaaaaaaaaaaaaaaaaaaaaaa', 'aaaaaah', 'aaah', 'aaahhh', 'aafco', 'aafes']\n",
      "==================================================\n",
      "============Train Data=========\n",
      "the type of count vectorizer  <class 'scipy.sparse.csr.csr_matrix'>\n",
      "the shape of out text BOW vectorizer  (24500, 30935)\n",
      "the number of unique words  30935\n",
      "============Cross validation Data=========\n",
      "the type of count vectorizer  <class 'scipy.sparse.csr.csr_matrix'>\n",
      "the shape of out text BOW vectorizer  (10500, 30935)\n",
      "the number of unique words  30935\n",
      "============Test Data=========\n",
      "the type of count vectorizer  <class 'scipy.sparse.csr.csr_matrix'>\n",
      "the shape of out text BOW vectorizer  (15000, 30935)\n",
      "the number of unique words  30935\n"
     ]
    }
   ],
   "source": [
    "#BoW\n",
    "count_vect = CountVectorizer() #in scikit-learn\n",
    "count_vect.fit(train)\n",
    "print(\"some feature names \", count_vect.get_feature_names()[:10])\n",
    "print('='*50)\n",
    "\n",
    "final_counts_train = count_vect.fit_transform(train)\n",
    "final_counts_cv = count_vect.transform(cv)\n",
    "final_counts_test = count_vect.transform(test)\n",
    "print(\"============Train Data=========\")\n",
    "print(\"the type of count vectorizer \",type(final_counts_train))\n",
    "print(\"the shape of out text BOW vectorizer \",final_counts_train.get_shape())\n",
    "print(\"the number of unique words \", final_counts_train.get_shape()[1])\n",
    "print(\"============Cross validation Data=========\")\n",
    "print(\"the type of count vectorizer \",type(final_counts_cv))\n",
    "print(\"the shape of out text BOW vectorizer \",final_counts_cv.get_shape())\n",
    "print(\"the number of unique words \", final_counts_cv.get_shape()[1])\n",
    "print(\"============Test Data=========\")\n",
    "print(\"the type of count vectorizer \",type(final_counts_test))\n",
    "print(\"the shape of out text BOW vectorizer \",final_counts_test.get_shape())\n",
    "print(\"the number of unique words \", final_counts_test.get_shape()[1])"
   ]
  },
  {
   "cell_type": "code",
   "execution_count": 41,
   "metadata": {},
   "outputs": [
    {
     "name": "stdout",
     "output_type": "stream",
     "text": [
      "trian data shape =  (24500, 500)\n",
      "CV data shape =  (10500, 500)\n",
      "test data shape =  (15000, 500)\n"
     ]
    }
   ],
   "source": [
    "# the time of bagofwords is sparse matrix now convert to lower dimensions\n",
    "# Dimensionality reduction using truncated SVD\n",
    "from sklearn.decomposition import TruncatedSVD\n",
    "\n",
    "bagofwords_svd = TruncatedSVD(n_components= 500) #Desired dimensionality of output data\n",
    "\n",
    "bow_train = bagofwords_svd.fit_transform(final_counts_train)\n",
    "bow_cv = bagofwords_svd.fit_transform(final_counts_cv)\n",
    "bow_test = bagofwords_svd.fit_transform(final_counts_test)\n",
    "print(\"trian data shape = \", bow_train.shape)\n",
    "print(\"CV data shape = \", bow_cv.shape)\n",
    "print(\"test data shape = \", bow_test.shape)"
   ]
  },
  {
   "cell_type": "code",
   "execution_count": 42,
   "metadata": {},
   "outputs": [],
   "source": [
    "# save the datasets as numpy array\n",
    "bow_train = np.array(bow_train)\n",
    "bow_cv = np.array(bow_cv)\n",
    "bow_test = np.array(bow_test)"
   ]
  },
  {
   "cell_type": "code",
   "execution_count": 43,
   "metadata": {},
   "outputs": [],
   "source": [
    "np.save(\"files/bow/bow_train.npy\", bow_train)\n",
    "np.save(\"files/bow/bow_train_y.npy\", train_y)\n",
    "np.save(\"files/bow/bow_cv.npy\", bow_cv)\n",
    "np.save(\"files/bow/bow_cv_y.npy\", cv_y)\n",
    "np.save(\"files/bow/bow_test.npy\", bow_test)\n",
    "np.save(\"files/bow/bow_test_y.npy\", test_y)"
   ]
  },
  {
   "cell_type": "markdown",
   "metadata": {},
   "source": [
    "## [4.2] Bi-Grams and n-Grams."
   ]
  },
  {
   "cell_type": "code",
   "execution_count": 26,
   "metadata": {},
   "outputs": [
    {
     "name": "stdout",
     "output_type": "stream",
     "text": [
      "the type of count vectorizer  <class 'scipy.sparse.csr.csr_matrix'>\n",
      "the shape of out text BOW vectorizer  (4986, 3144)\n",
      "the number of unique words including both unigrams and bigrams  3144\n"
     ]
    }
   ],
   "source": [
    "#bi-gram, tri-gram and n-gram\n",
    "\n",
    "#removing stop words like \"not\" should be avoided before building n-grams\n",
    "# count_vect = CountVectorizer(ngram_range=(1,2))\n",
    "# please do read the CountVectorizer documentation http://scikit-learn.org/stable/modules/generated/sklearn.feature_extraction.text.CountVectorizer.html\n",
    "\n",
    "# you can choose these numebrs min_df=10, max_features=5000, of your choice\n",
    "count_vect = CountVectorizer(ngram_range=(1,2), min_df=10, max_features=5000)\n",
    "final_bigram_counts = count_vect.fit_transform(preprocessed_reviews)\n",
    "print(\"the type of count vectorizer \",type(final_bigram_counts))\n",
    "print(\"the shape of out text BOW vectorizer \",final_bigram_counts.get_shape())\n",
    "print(\"the number of unique words including both unigrams and bigrams \", final_bigram_counts.get_shape()[1])"
   ]
  },
  {
   "cell_type": "markdown",
   "metadata": {},
   "source": [
    "## [4.3] TF-IDF"
   ]
  },
  {
   "cell_type": "code",
   "execution_count": 44,
   "metadata": {},
   "outputs": [
    {
     "name": "stdout",
     "output_type": "stream",
     "text": [
      "some sample features(unique words in the corpus) ['ability', 'able', 'able buy', 'able eat', 'able enjoy', 'able find', 'able get', 'able make', 'able order', 'able purchase']\n",
      "==================================================\n",
      "================Train Data===========\n",
      "the type of count vectorizer  <class 'scipy.sparse.csr.csr_matrix'>\n",
      "the shape of out text TFIDF vectorizer  (24500, 14399)\n",
      "the number of unique words including both unigrams and bigrams  14399\n",
      "================CV Data===========\n",
      "the type of count vectorizer  <class 'scipy.sparse.csr.csr_matrix'>\n",
      "the shape of out text TFIDF vectorizer  (10500, 14399)\n",
      "the number of unique words including both unigrams and bigrams  14399\n",
      "================Test Data===========\n",
      "the type of count vectorizer  <class 'scipy.sparse.csr.csr_matrix'>\n",
      "the shape of out text TFIDF vectorizer  (15000, 14399)\n",
      "the number of unique words including both unigrams and bigrams  14399\n"
     ]
    }
   ],
   "source": [
    "tf_idf_vect = TfidfVectorizer(ngram_range=(1,2), min_df=10)\n",
    "tf_idf_vect.fit(train)\n",
    "print(\"some sample features(unique words in the corpus)\",tf_idf_vect.get_feature_names()[0:10])\n",
    "print('='*50)\n",
    "print(\"================Train Data===========\")\n",
    "final_tf_idf_train = tf_idf_vect.fit_transform(train)\n",
    "print(\"the type of count vectorizer \",type(final_tf_idf_train))\n",
    "print(\"the shape of out text TFIDF vectorizer \",final_tf_idf_train.get_shape())\n",
    "print(\"the number of unique words including both unigrams and bigrams \", final_tf_idf_train.get_shape()[1])\n",
    "print(\"================CV Data===========\")\n",
    "final_tf_idf_cv = tf_idf_vect.transform(cv)\n",
    "print(\"the type of count vectorizer \",type(final_tf_idf_cv))\n",
    "print(\"the shape of out text TFIDF vectorizer \",final_tf_idf_cv.get_shape())\n",
    "print(\"the number of unique words including both unigrams and bigrams \", final_tf_idf_cv.get_shape()[1])\n",
    "print(\"================Test Data===========\")\n",
    "final_tf_idf_test = tf_idf_vect.transform(test)\n",
    "print(\"the type of count vectorizer \",type(final_tf_idf_test))\n",
    "print(\"the shape of out text TFIDF vectorizer \",final_tf_idf_test.get_shape())\n",
    "print(\"the number of unique words including both unigrams and bigrams \", final_tf_idf_test.get_shape()[1])"
   ]
  },
  {
   "cell_type": "code",
   "execution_count": 45,
   "metadata": {},
   "outputs": [
    {
     "name": "stdout",
     "output_type": "stream",
     "text": [
      "trian data shape =  (24500, 500)\n",
      "CV data shape =  (10500, 500)\n",
      "test data shape =  (15000, 500)\n"
     ]
    }
   ],
   "source": [
    "# the time of bagofwords is sparse matrix now convert to lower dimensions\n",
    "# Dimensionality reduction using truncated SVD\n",
    "\n",
    "tfidf_svd = TruncatedSVD(n_components= 500) #Desired dimensionality of output data\n",
    "\n",
    "tfidf_train = tfidf_svd.fit_transform(final_tf_idf_train)\n",
    "tfidf_cv = bagofwords_svd.fit_transform(final_tf_idf_cv)\n",
    "tfidf_test = bagofwords_svd.fit_transform(final_tf_idf_test)\n",
    "print(\"trian data shape = \", tfidf_train.shape)\n",
    "print(\"CV data shape = \", tfidf_cv.shape)\n",
    "print(\"test data shape = \", tfidf_test.shape)"
   ]
  },
  {
   "cell_type": "code",
   "execution_count": 46,
   "metadata": {},
   "outputs": [],
   "source": [
    "# save the datasets as numpy array\n",
    "tfidf_train = np.array(tfidf_train)\n",
    "tfidf_cv = np.array(tfidf_cv)\n",
    "tfidf_test = np.array(tfidf_test)"
   ]
  },
  {
   "cell_type": "code",
   "execution_count": 47,
   "metadata": {},
   "outputs": [],
   "source": [
    "np.save(\"files/tfidf/tfidf_train.npy\", tfidf_train)\n",
    "np.save(\"files/tfidf/tfidf_train_y.npy\", train_y)\n",
    "np.save(\"files/tfidf/tfidf_cv.npy\", tfidf_cv)\n",
    "np.save(\"files/tfidf/tfidf_cv_y.npy\", cv_y)\n",
    "np.save(\"files/tfidf/tfidf_test.npy\", tfidf_test)\n",
    "np.save(\"files/tfidf/tfidf_test_y.npy\", test_y)"
   ]
  },
  {
   "cell_type": "markdown",
   "metadata": {},
   "source": [
    "## [4.4] Word2Vec"
   ]
  },
  {
   "cell_type": "code",
   "execution_count": 48,
   "metadata": {},
   "outputs": [
    {
     "name": "stdout",
     "output_type": "stream",
     "text": [
      "Length of Train =  24500\n",
      "Length of CV =  10500\n",
      "Length of Test =  15000\n"
     ]
    }
   ],
   "source": [
    "# Train your own Word2Vec model using your own text corpus\n",
    "######## Train Set #########\n",
    "i=0\n",
    "list_of_train_sentance=[]\n",
    "for sentance in train:\n",
    "    list_of_train_sentance.append(sentance.split())\n",
    "######## CV Set ###########\n",
    "i=0\n",
    "list_of_cv_sentance=[]\n",
    "for sentance in cv:\n",
    "    list_of_cv_sentance.append(sentance.split())\n",
    "######## Test Set #########\n",
    "i=0\n",
    "list_of_test_sentance=[]\n",
    "for sentance in test:\n",
    "    list_of_test_sentance.append(sentance.split())\n",
    "print(\"Length of Train = \", len(list_of_train_sentance))\n",
    "print(\"Length of CV = \", len(list_of_cv_sentance))\n",
    "print(\"Length of Test = \", len(list_of_test_sentance))"
   ]
  },
  {
   "cell_type": "code",
   "execution_count": 42,
   "metadata": {
    "scrolled": true
   },
   "outputs": [
    {
     "name": "stdout",
     "output_type": "stream",
     "text": [
      "[('snack', 0.9951335191726685), ('calorie', 0.9946465492248535), ('wonderful', 0.9946032166481018), ('excellent', 0.9944332838058472), ('especially', 0.9941144585609436), ('baked', 0.9940600395202637), ('salted', 0.994047224521637), ('alternative', 0.9937226176261902), ('tasty', 0.9936816692352295), ('healthy', 0.9936649799346924)]\n",
      "==================================================\n",
      "[('varieties', 0.9994194507598877), ('become', 0.9992934465408325), ('popcorn', 0.9992750883102417), ('de', 0.9992610216140747), ('miss', 0.9992451071739197), ('melitta', 0.999218761920929), ('choice', 0.9992102384567261), ('american', 0.9991837739944458), ('beef', 0.9991780519485474), ('finish', 0.9991567134857178)]\n"
     ]
    }
   ],
   "source": [
    "# Using Google News Word2Vectors\n",
    "\n",
    "# in this project we are using a pretrained model by google\n",
    "# its 3.3G file, once you load this into your memory \n",
    "# it occupies ~9Gb, so please do this step only if you have >12G of ram\n",
    "# we will provide a pickle file wich contains a dict , \n",
    "# and it contains all our courpus words as keys and  model[word] as values\n",
    "# To use this code-snippet, download \"GoogleNews-vectors-negative300.bin\" \n",
    "# from https://drive.google.com/file/d/0B7XkCwpI5KDYNlNUTTlSS21pQmM/edit\n",
    "# it's 1.9GB in size.\n",
    "\n",
    "\n",
    "# http://kavita-ganesan.com/gensim-word2vec-tutorial-starter-code/#.W17SRFAzZPY\n",
    "# you can comment this whole cell\n",
    "# or change these varible according to your need\n",
    "\n",
    "is_your_ram_gt_16g=False\n",
    "want_to_use_google_w2v = False\n",
    "want_to_train_w2v = True\n",
    "\n",
    "if want_to_train_w2v:\n",
    "    # min_count = 5 considers only words that occured atleast 5 times\n",
    "    w2v_model=Word2Vec(list_of_sentance,min_count=5,size=50, workers=4)\n",
    "    print(w2v_model.wv.most_similar('great'))\n",
    "    print('='*50)\n",
    "    print(w2v_model.wv.most_similar('worst'))\n",
    "    \n",
    "elif want_to_use_google_w2v and is_your_ram_gt_16g:\n",
    "    if os.path.isfile('GoogleNews-vectors-negative300.bin'):\n",
    "        w2v_model=KeyedVectors.load_word2vec_format('GoogleNews-vectors-negative300.bin', binary=True)\n",
    "        print(w2v_model.wv.most_similar('great'))\n",
    "        print(w2v_model.wv.most_similar('worst'))\n",
    "    else:\n",
    "        print(\"you don't have gogole's word2vec file, keep want_to_train_w2v = True, to train your own w2v \")"
   ]
  },
  {
   "cell_type": "code",
   "execution_count": 49,
   "metadata": {},
   "outputs": [
    {
     "name": "stdout",
     "output_type": "stream",
     "text": [
      "[('awesome', 0.8535225987434387), ('wonderful', 0.8138883709907532), ('good', 0.812699556350708), ('fantastic', 0.7888407707214355), ('excellent', 0.7748010158538818), ('perfect', 0.7697216868400574), ('amazing', 0.7381754517555237), ('decent', 0.7111172080039978), ('fabulous', 0.6977642774581909), ('terrific', 0.6793214082717896)]\n",
      "==================================================\n",
      "[('greatest', 0.8275402784347534), ('closest', 0.8080142140388489), ('disgusting', 0.7927486896514893), ('richest', 0.7827399969100952), ('nastiest', 0.7672730684280396), ('best', 0.7630138397216797), ('strongest', 0.7273920178413391), ('guatemalan', 0.7029330134391785), ('smoothest', 0.7003172636032104), ('tastiest', 0.6978905200958252)]\n"
     ]
    }
   ],
   "source": [
    "w2v_model=Word2Vec(list_of_train_sentance,min_count=5,size=50, workers=4)\n",
    "print(w2v_model.wv.most_similar('great'))\n",
    "print('='*50)\n",
    "print(w2v_model.wv.most_similar('worst'))"
   ]
  },
  {
   "cell_type": "code",
   "execution_count": 50,
   "metadata": {},
   "outputs": [
    {
     "name": "stdout",
     "output_type": "stream",
     "text": [
      "number of words that occured minimum 5 times  9817\n",
      "sample words  ['definitely', 'fan', 'powdered', 'drinks', 'recently', 'noticed', 'craze', 'surrounding', 'liquid', 'formula', 'taste', 'fine', 'see', 'benefit', 'able', 'varying', 'sizes', 'cups', 'end', 'put', 'fact', 'keep', 'stuff', 'fridge', 'depending', 'squeeze', 'inevitable', 'going', 'make', 'mess', 'think', 'much', 'versatile', 'utilize', 'form', 'least', 'baked', 'many', 'loaves', 'bread', 'different', 'kinds', 'seller', 'every', 'loaf', 'turned', 'perfect', 'instructions', 'clear', 'add']\n"
     ]
    }
   ],
   "source": [
    "w2v_words = list(w2v_model.wv.vocab)\n",
    "print(\"number of words that occured minimum 5 times \",len(w2v_words))\n",
    "print(\"sample words \", w2v_words[0:50])"
   ]
  },
  {
   "cell_type": "code",
   "execution_count": null,
   "metadata": {},
   "outputs": [],
   "source": []
  },
  {
   "cell_type": "code",
   "execution_count": null,
   "metadata": {},
   "outputs": [],
   "source": []
  },
  {
   "cell_type": "markdown",
   "metadata": {},
   "source": [
    "## [4.4.1] Converting text into vectors using Avg W2V, TFIDF-W2V"
   ]
  },
  {
   "cell_type": "markdown",
   "metadata": {},
   "source": [
    "#### [4.4.1.1] Avg W2v"
   ]
  },
  {
   "cell_type": "code",
   "execution_count": 51,
   "metadata": {},
   "outputs": [
    {
     "name": "stderr",
     "output_type": "stream",
     "text": [
      "100%|██████████| 24500/24500 [01:17<00:00, 317.89it/s]"
     ]
    },
    {
     "name": "stdout",
     "output_type": "stream",
     "text": [
      "24500\n",
      "50\n"
     ]
    },
    {
     "name": "stderr",
     "output_type": "stream",
     "text": [
      "\n"
     ]
    }
   ],
   "source": [
    "######## Train data ########\n",
    "# average Word2Vec\n",
    "# compute average word2vec for each review.\n",
    "sent_vectors_train = []; # the avg-w2v for each sentence/review is stored in this list\n",
    "for sent in tqdm(list_of_train_sentance): # for each review/sentence\n",
    "    sent_vec = np.zeros(50) # as word vectors are of zero length 50, you might need to change this to 300 if you use google's w2v\n",
    "    cnt_words =0; # num of words with a valid vector in the sentence/review\n",
    "    for word in sent: # for each word in a review/sentence\n",
    "        if word in w2v_words:\n",
    "            vec = w2v_model.wv[word]\n",
    "            sent_vec += vec\n",
    "            cnt_words += 1\n",
    "    if cnt_words != 0:\n",
    "        sent_vec /= cnt_words\n",
    "    sent_vectors_train.append(sent_vec)\n",
    "print(len(sent_vectors_train))\n",
    "print(len(sent_vectors_train[0]))"
   ]
  },
  {
   "cell_type": "code",
   "execution_count": 52,
   "metadata": {},
   "outputs": [
    {
     "name": "stderr",
     "output_type": "stream",
     "text": [
      "100%|██████████| 10500/10500 [00:34<00:00, 302.67it/s]"
     ]
    },
    {
     "name": "stdout",
     "output_type": "stream",
     "text": [
      "10500\n",
      "50\n"
     ]
    },
    {
     "name": "stderr",
     "output_type": "stream",
     "text": [
      "\n"
     ]
    }
   ],
   "source": [
    "######## CV data ########\n",
    "# average Word2Vec\n",
    "# compute average word2vec for each review.\n",
    "sent_vectors_cv = []; # the avg-w2v for each sentence/review is stored in this list\n",
    "for sent in tqdm(list_of_cv_sentance): # for each review/sentence\n",
    "    sent_vec = np.zeros(50) # as word vectors are of zero length 50, you might need to change this to 300 if you use google's w2v\n",
    "    cnt_words =0; # num of words with a valid vector in the sentence/review\n",
    "    for word in sent: # for each word in a review/sentence\n",
    "        if word in w2v_words:\n",
    "            vec = w2v_model.wv[word]\n",
    "            sent_vec += vec\n",
    "            cnt_words += 1\n",
    "    if cnt_words != 0:\n",
    "        sent_vec /= cnt_words\n",
    "    sent_vectors_cv.append(sent_vec)\n",
    "print(len(sent_vectors_cv))\n",
    "print(len(sent_vectors_cv[0]))"
   ]
  },
  {
   "cell_type": "code",
   "execution_count": 53,
   "metadata": {},
   "outputs": [
    {
     "name": "stderr",
     "output_type": "stream",
     "text": [
      "100%|██████████| 15000/15000 [00:47<00:00, 318.43it/s]"
     ]
    },
    {
     "name": "stdout",
     "output_type": "stream",
     "text": [
      "15000\n",
      "50\n"
     ]
    },
    {
     "name": "stderr",
     "output_type": "stream",
     "text": [
      "\n"
     ]
    }
   ],
   "source": [
    "######## Test data ########\n",
    "# average Word2Vec\n",
    "# compute average word2vec for each review.\n",
    "sent_vectors_test = []; # the avg-w2v for each sentence/review is stored in this list\n",
    "for sent in tqdm(list_of_test_sentance): # for each review/sentence\n",
    "    sent_vec = np.zeros(50) # as word vectors are of zero length 50, you might need to change this to 300 if you use google's w2v\n",
    "    cnt_words =0; # num of words with a valid vector in the sentence/review\n",
    "    for word in sent: # for each word in a review/sentence\n",
    "        if word in w2v_words:\n",
    "            vec = w2v_model.wv[word]\n",
    "            sent_vec += vec\n",
    "            cnt_words += 1\n",
    "    if cnt_words != 0:\n",
    "        sent_vec /= cnt_words\n",
    "    sent_vectors_test.append(sent_vec)\n",
    "print(len(sent_vectors_test))\n",
    "print(len(sent_vectors_test[0]))"
   ]
  },
  {
   "cell_type": "code",
   "execution_count": 54,
   "metadata": {},
   "outputs": [],
   "source": [
    "# save the datasets as numpy array\n",
    "w2v_train = np.array(sent_vectors_train)\n",
    "w2v_cv = np.array(sent_vectors_cv)\n",
    "w2v_test = np.array(sent_vectors_test)"
   ]
  },
  {
   "cell_type": "code",
   "execution_count": 55,
   "metadata": {},
   "outputs": [],
   "source": [
    "np.save(\"files/w2v/w2v_train.npy\", w2v_train)\n",
    "np.save(\"files/w2v/w2v_train_y.npy\", train_y)\n",
    "np.save(\"files/w2v/w2v_cv.npy\", w2v_cv)\n",
    "np.save(\"files/w2v/w2v_cv_y.npy\", cv_y)\n",
    "np.save(\"files/w2v/w2v_test.npy\", w2v_test)\n",
    "np.save(\"files/w2v/w2v_test_y.npy\", test_y)"
   ]
  },
  {
   "cell_type": "markdown",
   "metadata": {},
   "source": [
    "#### [4.4.1.2] TFIDF weighted W2v"
   ]
  },
  {
   "cell_type": "code",
   "execution_count": 56,
   "metadata": {},
   "outputs": [
    {
     "name": "stdout",
     "output_type": "stream",
     "text": [
      "================Train Data===========\n",
      "the type of count vectorizer  <class 'scipy.sparse.csr.csr_matrix'>\n",
      "the shape of out text TFIDF vectorizer  (24500, 30935)\n",
      "the number of unique words including both unigrams and bigrams  30935\n",
      "================CV Data===========\n",
      "the type of count vectorizer  <class 'scipy.sparse.csr.csr_matrix'>\n",
      "the shape of out text TFIDF vectorizer  (10500, 30935)\n",
      "the number of unique words including both unigrams and bigrams  30935\n",
      "================Test Data===========\n",
      "the type of count vectorizer  <class 'scipy.sparse.csr.csr_matrix'>\n",
      "the shape of out text TFIDF vectorizer  (15000, 30935)\n",
      "the number of unique words including both unigrams and bigrams  30935\n"
     ]
    }
   ],
   "source": [
    "# S = [\"abc def pqr\", \"def def def abc\", \"pqr pqr def\"]\n",
    "model = TfidfVectorizer()\n",
    "#tf_idf_matrix = model.fit_transform(train)\n",
    "\n",
    "print(\"================Train Data===========\")\n",
    "final_tf_idf_train = model.fit_transform(train)\n",
    "print(\"the type of count vectorizer \",type(final_tf_idf_train))\n",
    "print(\"the shape of out text TFIDF vectorizer \",final_tf_idf_train.get_shape())\n",
    "print(\"the number of unique words including both unigrams and bigrams \", final_tf_idf_train.get_shape()[1])\n",
    "print(\"================CV Data===========\")\n",
    "final_tf_idf_cv = model.transform(cv)\n",
    "print(\"the type of count vectorizer \",type(final_tf_idf_cv))\n",
    "print(\"the shape of out text TFIDF vectorizer \",final_tf_idf_cv.get_shape())\n",
    "print(\"the number of unique words including both unigrams and bigrams \", final_tf_idf_cv.get_shape()[1])\n",
    "print(\"================Test Data===========\")\n",
    "final_tf_idf_test = model.transform(test)\n",
    "print(\"the type of count vectorizer \",type(final_tf_idf_test))\n",
    "print(\"the shape of out text TFIDF vectorizer \",final_tf_idf_test.get_shape())\n",
    "print(\"the number of unique words including both unigrams and bigrams \", final_tf_idf_test.get_shape()[1])\n",
    "\n",
    "# we are converting a dictionary with word as a key, and the idf as a value\n",
    "dictionary = dict(zip(model.get_feature_names(), list(model.idf_)))"
   ]
  },
  {
   "cell_type": "code",
   "execution_count": 57,
   "metadata": {},
   "outputs": [
    {
     "name": "stderr",
     "output_type": "stream",
     "text": [
      "100%|██████████| 24500/24500 [11:22<00:00, 35.91it/s]\n"
     ]
    }
   ],
   "source": [
    "######## Train #######\n",
    "# TF-IDF weighted Word2Vec\n",
    "tfidf_feat = model.get_feature_names() # tfidf words/col-names\n",
    "# final_tf_idf is the sparse matrix with row= sentence, col=word and cell_val = tfidf\n",
    "\n",
    "train_tfidf_sent_vectors = []; # the tfidf-w2v for each sentence/review is stored in this list\n",
    "row=0;\n",
    "for sent in tqdm(list_of_train_sentance): # for each review/sentence \n",
    "    sent_vec = np.zeros(50) # as word vectors are of zero length\n",
    "    weight_sum =0; # num of words with a valid vector in the sentence/review\n",
    "    for word in sent: # for each word in a review/sentence\n",
    "        if word in w2v_words and word in tfidf_feat:\n",
    "            vec = w2v_model.wv[word]\n",
    "            #tf_idf = tf_idf_matrix[row, tfidf_feat.index(word)]\n",
    "            # to reduce the computation we are \n",
    "            # dictionary[word] = idf value of word in whole courpus\n",
    "            # sent.count(word) = tf valeus of word in this review\n",
    "            tf_idf = dictionary[word]*(sent.count(word)/len(sent))\n",
    "            sent_vec += (vec * tf_idf)\n",
    "            weight_sum += tf_idf\n",
    "    if weight_sum != 0:\n",
    "        sent_vec /= weight_sum\n",
    "    train_tfidf_sent_vectors.append(sent_vec)\n",
    "    row += 1"
   ]
  },
  {
   "cell_type": "code",
   "execution_count": 58,
   "metadata": {},
   "outputs": [
    {
     "name": "stderr",
     "output_type": "stream",
     "text": [
      "100%|██████████| 10500/10500 [04:52<00:00, 35.86it/s]\n"
     ]
    }
   ],
   "source": [
    "######## CV #######\n",
    "# TF-IDF weighted Word2Vec\n",
    "#tfidf_feat = model.get_feature_names() # tfidf words/col-names\n",
    "# final_tf_idf is the sparse matrix with row= sentence, col=word and cell_val = tfidf\n",
    "\n",
    "cv_tfidf_sent_vectors = []; # the tfidf-w2v for each sentence/review is stored in this list\n",
    "row=0;\n",
    "for sent in tqdm(list_of_cv_sentance): # for each review/sentence \n",
    "    sent_vec = np.zeros(50) # as word vectors are of zero length\n",
    "    weight_sum =0; # num of words with a valid vector in the sentence/review\n",
    "    for word in sent: # for each word in a review/sentence\n",
    "        if word in w2v_words and word in tfidf_feat:\n",
    "            vec = w2v_model.wv[word]\n",
    "            #tf_idf = tf_idf_matrix[row, tfidf_feat.index(word)]\n",
    "            # to reduce the computation we are \n",
    "            # dictionary[word] = idf value of word in whole courpus\n",
    "            # sent.count(word) = tf valeus of word in this review\n",
    "            tf_idf = dictionary[word]*(sent.count(word)/len(sent))\n",
    "            sent_vec += (vec * tf_idf)\n",
    "            weight_sum += tf_idf\n",
    "    if weight_sum != 0:\n",
    "        sent_vec /= weight_sum\n",
    "    cv_tfidf_sent_vectors.append(sent_vec)\n",
    "    row += 1"
   ]
  },
  {
   "cell_type": "code",
   "execution_count": 59,
   "metadata": {
    "scrolled": true
   },
   "outputs": [
    {
     "name": "stderr",
     "output_type": "stream",
     "text": [
      "100%|██████████| 15000/15000 [06:57<00:00, 35.92it/s]\n"
     ]
    }
   ],
   "source": [
    "######## Train #######\n",
    "# TF-IDF weighted Word2Vec\n",
    "#tfidf_feat = model.get_feature_names() # tfidf words/col-names\n",
    "# final_tf_idf is the sparse matrix with row= sentence, col=word and cell_val = tfidf\n",
    "\n",
    "test_tfidf_sent_vectors = []; # the tfidf-w2v for each sentence/review is stored in this list\n",
    "row=0;\n",
    "for sent in tqdm(list_of_test_sentance): # for each review/sentence \n",
    "    sent_vec = np.zeros(50) # as word vectors are of zero length\n",
    "    weight_sum =0; # num of words with a valid vector in the sentence/review\n",
    "    for word in sent: # for each word in a review/sentence\n",
    "        if word in w2v_words and word in tfidf_feat:\n",
    "            vec = w2v_model.wv[word]\n",
    "            #tf_idf = tf_idf_matrix[row, tfidf_feat.index(word)]\n",
    "            # to reduce the computation we are \n",
    "            # dictionary[word] = idf value of word in whole courpus\n",
    "            # sent.count(word) = tf valeus of word in this review\n",
    "            tf_idf = dictionary[word]*(sent.count(word)/len(sent))\n",
    "            sent_vec += (vec * tf_idf)\n",
    "            weight_sum += tf_idf\n",
    "    if weight_sum != 0:\n",
    "        sent_vec /= weight_sum\n",
    "    test_tfidf_sent_vectors.append(sent_vec)\n",
    "    row += 1"
   ]
  },
  {
   "cell_type": "code",
   "execution_count": 60,
   "metadata": {},
   "outputs": [],
   "source": [
    "# save the datasets as numpy array\n",
    "tfidf_w2v_train = np.array(train_tfidf_sent_vectors)\n",
    "tfidf_w2v_cv = np.array(cv_tfidf_sent_vectors)\n",
    "tfidf_w2v_test = np.array(test_tfidf_sent_vectors)"
   ]
  },
  {
   "cell_type": "code",
   "execution_count": 62,
   "metadata": {},
   "outputs": [],
   "source": [
    "np.save(\"files/tfidf_w2v/w2v_train.npy\", tfidf_w2v_train)\n",
    "np.save(\"files/tfidf_w2v/w2v_train_y.npy\", train_y)\n",
    "np.save(\"files/tfidf_w2v/w2v_cv.npy\", tfidf_w2v_cv)\n",
    "np.save(\"files/tfidf_w2v/w2v_cv_y.npy\", cv_y)\n",
    "np.save(\"files/tfidf_w2v/w2v_test.npy\", tfidf_w2v_test)\n",
    "np.save(\"files/tfidf_w2v/w2v_test_y.npy\", test_y)"
   ]
  },
  {
   "cell_type": "markdown",
   "metadata": {},
   "source": [
    "# [5] Assignment 3: KNN"
   ]
  },
  {
   "cell_type": "markdown",
   "metadata": {},
   "source": [
    "<ol>\n",
    "    <li><strong>Apply Knn(brute force version) on these feature sets</strong>\n",
    "        <ul>\n",
    "            <li><font color='red'>SET 1:</font>Review text, preprocessed one converted into vectors using (BOW)</li>\n",
    "            <li><font color='red'>SET 2:</font>Review text, preprocessed one converted into vectors using (TFIDF)</li>\n",
    "            <li><font color='red'>SET 3:</font>Review text, preprocessed one converted into vectors using (AVG W2v)</li>\n",
    "            <li><font color='red'>SET 4:</font>Review text, preprocessed one converted into vectors using (TFIDF W2v)</li>\n",
    "        </ul>\n",
    "    </li>\n",
    "    <br>\n",
    "    <li><strong>Apply Knn(kd tree version) on these feature sets</strong>\n",
    "        <br><font color='red'>NOTE: </font>sklearn implementation of kd-tree accepts only dense matrices, you need to convert the sparse matrices of CountVectorizer/TfidfVectorizer into dense matices. You can convert sparse matrices to dense using .toarray() attribute. For more information please visit this <a href='https://docs.scipy.org/doc/scipy-0.18.1/reference/generated/scipy.sparse.csr_matrix.toarray.html'>link</a>\n",
    "        <ul>\n",
    "            <li><font color='red'>SET 5:</font>Review text, preprocessed one converted into vectors using (BOW) but with restriction on maximum features generated.\n",
    "            <pre>\n",
    "            count_vect = CountVectorizer(min_df=10, max_features=500) \n",
    "            count_vect.fit(preprocessed_reviews)\n",
    "            </pre>\n",
    "            </li>\n",
    "            <li><font color='red'>SET 6:</font>Review text, preprocessed one converted into vectors using (TFIDF) but with restriction on maximum features generated.\n",
    "            <pre>\n",
    "                tf_idf_vect = TfidfVectorizer(min_df=10, max_features=500)\n",
    "                tf_idf_vect.fit(preprocessed_reviews)\n",
    "            </pre>\n",
    "            </li>\n",
    "            <li><font color='red'>SET 3:</font>Review text, preprocessed one converted into vectors using (AVG W2v)</li>\n",
    "            <li><font color='red'>SET 4:</font>Review text, preprocessed one converted into vectors using (TFIDF W2v)</li>\n",
    "        </ul>\n",
    "    </li>\n",
    "    <br>\n",
    "    <li><strong>The hyper paramter tuning(find best K)</strong>\n",
    "        <ul>\n",
    "    <li>Find the best hyper parameter which will give the maximum <a href='https://www.appliedaicourse.com/course/applied-ai-course-online/lessons/receiver-operating-characteristic-curve-roc-curve-and-auc-1/'>AUC</a> value</li>\n",
    "    <li>Find the best hyper paramter using k-fold cross validation or simple cross validation data</li>\n",
    "    <li>Use gridsearch cv or randomsearch cv or you can also write your own for loops to do this task of hyperparameter tuning</li>\n",
    "        </ul>\n",
    "    </li>\n",
    "    <br>\n",
    "    <li>\n",
    "    <strong>Representation of results</strong>\n",
    "        <ul>\n",
    "    <li>You need to plot the performance of model both on train data and cross validation data for each hyper parameter, like shown in the figure\n",
    "    <img src='train_cv_auc.JPG' width=300px></li>\n",
    "    <li>Once after you found the best hyper parameter, you need to train your model with it, and find the AUC on test data and plot the ROC curve on both train and test.\n",
    "    <img src='train_test_auc.JPG' width=300px></li>\n",
    "    <li>Along with plotting ROC curve, you need to print the <a href='https://www.appliedaicourse.com/course/applied-ai-course-online/lessons/confusion-matrix-tpr-fpr-fnr-tnr-1/'>confusion matrix</a> with predicted and original labels of test data points\n",
    "    <img src='confusion_matrix.png' width=300px></li>\n",
    "        </ul>\n",
    "    </li>\n",
    "    <br>\n",
    "    <li><strong>Conclusion</strong>\n",
    "        <ul>\n",
    "    <li>You need to summarize the results at the end of the notebook, summarize it in the table format. To print out a table please refer to this prettytable library<a href='http://zetcode.com/python/prettytable/'> link</a> \n",
    "        <img src='summary.JPG' width=400px>\n",
    "    </li>\n",
    "        </ul>\n",
    "</ol>"
   ]
  },
  {
   "cell_type": "markdown",
   "metadata": {},
   "source": [
    "<h4><font color='red'>Note: Data Leakage</font></h4>\n",
    "\n",
    "1. There will be an issue of data-leakage if you vectorize the entire data and then split it into train/cv/test.\n",
    "2. To avoid the issue of data-leakag, make sure to split your data first and then vectorize it. \n",
    "3. While vectorizing your data, apply the method fit_transform() on you train data, and apply the method transform() on cv/test data.\n",
    "4. For more details please go through this <a href='https://soundcloud.com/applied-ai-course/leakage-bow-and-tfidf'>link.</a>"
   ]
  },
  {
   "cell_type": "markdown",
   "metadata": {},
   "source": [
    "## [5.1] Applying KNN brute force"
   ]
  },
  {
   "cell_type": "markdown",
   "metadata": {},
   "source": [
    "### [5.1.1] Applying KNN brute force on BOW,<font color='red'> SET 1</font>"
   ]
  },
  {
   "cell_type": "code",
   "execution_count": 2,
   "metadata": {},
   "outputs": [],
   "source": [
    "from sklearn.neighbors import KNeighborsClassifier\n",
    "from sklearn.metrics import accuracy_score , f1_score , confusion_matrix\n",
    "from collections import Counter\n",
    "from sklearn.metrics import accuracy_score, roc_auc_score , roc_curve\n",
    "from sklearn.model_selection import train_test_split\n",
    "import scikitplot.plotters as skplt"
   ]
  },
  {
   "cell_type": "code",
   "execution_count": 3,
   "metadata": {},
   "outputs": [],
   "source": [
    "# Please write all the code with proper documentation\n",
    "# load Review text, preprocessed one converted into vectors using (BOW)\n",
    "bow_train = np.load(\"files/bow/bow_train.npy\")\n",
    "bow_train_y = np.load(\"files/bow/bow_train_y.npy\")\n",
    "bow_cv = np.load(\"files/bow/bow_cv.npy\")\n",
    "bow_cv_y = np.load(\"files/bow/bow_cv_y.npy\")\n",
    "bow_test = np.load(\"files/bow/bow_test.npy\")\n",
    "bow_test_y = np.load(\"files/bow/bow_test_y.npy\")"
   ]
  },
  {
   "cell_type": "code",
   "execution_count": 4,
   "metadata": {},
   "outputs": [
    {
     "name": "stdout",
     "output_type": "stream",
     "text": [
      "Shape of Train =  (24500, 500)\n",
      "Shape of CV =  (10500, 500)\n",
      "Shape of Test =  (15000, 500)\n"
     ]
    }
   ],
   "source": [
    "print(\"Shape of Train = \", bow_train.shape)\n",
    "print(\"Shape of CV = \", bow_cv.shape)\n",
    "print(\"Shape of Test = \", bow_test.shape)"
   ]
  },
  {
   "cell_type": "code",
   "execution_count": 97,
   "metadata": {},
   "outputs": [
    {
     "name": "stdout",
     "output_type": "stream",
     "text": [
      "\n",
      "Train AUC for k = 1 is 99.88%\n",
      "\n",
      "CV AUC for k = 1 is 52.19%\n",
      "##############################################\n",
      "\n",
      "Train AUC for k = 3 is 91.40%\n",
      "\n",
      "CV AUC for k = 3 is 54.53%\n",
      "##############################################\n",
      "\n",
      "Train AUC for k = 5 is 88.18%\n",
      "\n",
      "CV AUC for k = 5 is 55.78%\n",
      "##############################################\n",
      "\n",
      "Train AUC for k = 7 is 86.36%\n",
      "\n",
      "CV AUC for k = 7 is 56.83%\n",
      "##############################################\n",
      "\n",
      "Train AUC for k = 9 is 85.11%\n",
      "\n",
      "CV AUC for k = 9 is 57.67%\n",
      "##############################################\n",
      "\n",
      "Train AUC for k = 11 is 84.18%\n",
      "\n",
      "CV AUC for k = 11 is 58.04%\n",
      "##############################################\n",
      "\n",
      "Train AUC for k = 13 is 83.45%\n",
      "\n",
      "CV AUC for k = 13 is 58.53%\n",
      "##############################################\n",
      "\n",
      "Train AUC for k = 15 is 83.01%\n",
      "\n",
      "CV AUC for k = 15 is 58.55%\n",
      "##############################################\n",
      "\n",
      "Train AUC for k = 17 is 82.88%\n",
      "\n",
      "CV AUC for k = 17 is 58.34%\n",
      "##############################################\n",
      "\n",
      "Train AUC for k = 19 is 82.69%\n",
      "\n",
      "CV AUC for k = 19 is 58.84%\n",
      "##############################################\n"
     ]
    }
   ],
   "source": [
    "bow_TrainError = []\n",
    "bow_CVError = []\n",
    "for i in range(1,20,2):\n",
    "    # instantiate learning model (k = 20)\n",
    "    knn = KNeighborsClassifier(n_neighbors=i)\n",
    "\n",
    "    # fitting the model on crossvalidation train\n",
    "    knn.fit(bow_train, bow_train_y)\n",
    "\n",
    "    # predict the response on the crossvalidation train\n",
    "    predt = knn.predict_proba(bow_train)\n",
    "    \n",
    "    predt = predt[:,1]\n",
    "    fprt, tprt, throsholdt = roc_curve(bow_train_y , predt)\n",
    "    roc_auct = auc(fprt , tprt)\n",
    "    roc_auct = roc_auct * float(100)\n",
    "    bow_TrainError.append(roc_auct)\n",
    "    print('\\nTrain AUC for k = %d is %0.2f%%' % (i, roc_auct))\n",
    "    # predict the response on the crossvalidation train\n",
    "    predc = knn.predict_proba(bow_cv)\n",
    "    \n",
    "    predc = predc[:,1]\n",
    "    fprc, tprc, throsholdc = roc_curve(bow_cv_y , predc)\n",
    "    roc_aucc = auc(fprc , tprc)\n",
    "    \n",
    "    roc_aucc = roc_aucc * float(100)\n",
    "    bow_CVError.append(roc_aucc)\n",
    "    # evaluate CV accuracy\n",
    "    print('\\nCV AUC for k = %d is %0.2f%%' % (i, roc_aucc))\n",
    "    print(\"##############################################\")"
   ]
  },
  {
   "cell_type": "code",
   "execution_count": 116,
   "metadata": {},
   "outputs": [],
   "source": [
    "# convert train AUC scores into errors\n",
    "TrainError_bow = 100 - np.array(bow_TrainError)\n",
    "CVError_bow = 100 - np.array(bow_CVError)\n",
    "k_values_bow = [j for j in range(1,20,2)]"
   ]
  },
  {
   "cell_type": "code",
   "execution_count": 117,
   "metadata": {},
   "outputs": [
    {
     "data": {
      "text/plain": [
       "<matplotlib.legend.Legend at 0x7f0cc8fd3668>"
      ]
     },
     "execution_count": 117,
     "metadata": {},
     "output_type": "execute_result"
    },
    {
     "data": {
      "image/png": "[encoded data removed]",
      "text/plain": [
       "<Figure size 576x396 with 1 Axes>"
      ]
     },
     "metadata": {},
     "output_type": "display_data"
    }
   ],
   "source": [
    "# https://www.dataquest.io/blog/learning-curves-machine-learning/\n",
    "\n",
    "import matplotlib.pyplot as plt\n",
    "%matplotlib inline\n",
    "\n",
    "plt.style.use('seaborn')\n",
    "\n",
    "plt.plot(k_values_bow, TrainError_bow, label = 'Training error')\n",
    "plt.plot(k_values_bow, CVError_bow, label = 'Validation error')\n",
    "\n",
    "plt.ylabel('AUC', fontsize = 14)\n",
    "plt.xlabel('k-values', fontsize = 14)\n",
    "plt.title('Learning curves for a k-NN model', fontsize = 18, y = 1.03)\n",
    "plt.legend()"
   ]
  },
  {
   "cell_type": "code",
   "execution_count": 5,
   "metadata": {},
   "outputs": [
    {
     "name": "stdout",
     "output_type": "stream",
     "text": [
      "\n",
      "CV AUC for k = 19 is 58.84%\n",
      "\n",
      "Test for k = 19 is 63.06%\n"
     ]
    }
   ],
   "source": [
    "knn = KNeighborsClassifier(n_neighbors=19)\n",
    "knn.fit(bow_train, bow_train_y)\n",
    "predc = knn.predict_proba(bow_cv)\n",
    "predc = predc[:,1]\n",
    "fprc, tprc, throshold = roc_curve(bow_cv_y , predc)\n",
    "roc_aucc = auc(fprc , tprc)\n",
    "print('\\nCV AUC for k = 19 is %0.2f%%' % (roc_aucc*(float(100))))\n",
    "predt = knn.predict_proba(bow_test)\n",
    "predt = predt[:,1]\n",
    "fprt, tprt, throshold = roc_curve(bow_test_y, predt)\n",
    "roc_auct = auc(fprt , tprt)\n",
    "print('\\nTest for k = 19 is %0.2f%%' % (roc_auct*(float(100))))"
   ]
  },
  {
   "cell_type": "code",
   "execution_count": 6,
   "metadata": {},
   "outputs": [
    {
     "data": {
      "image/png": "[encoded data removed]",
      "text/plain": [
       "<Figure size 432x288 with 1 Axes>"
      ]
     },
     "metadata": {
      "needs_background": "light"
     },
     "output_type": "display_data"
    }
   ],
   "source": [
    "# https://stackoverflow.com/questions/25009284/how-to-plot-roc-curve-in-python\n",
    "\n",
    "import matplotlib.pyplot as plt\n",
    "plt.title('Receiver Operating Characteristic')\n",
    "plt.plot(fprc, tprc, 'g' , label ='AUC CV = %0.2f' % roc_aucc)\n",
    "plt.plot(fprt, tprt, 'y', label='AUC Test = %0.2f' % roc_auct)\n",
    "plt.legend(loc = 'lower right')\n",
    "plt.plot([0, 1], [0, 1],'r')\n",
    "plt.xlim([0, 1])\n",
    "plt.ylim([0, 1])\n",
    "plt.ylabel('True Positive Rate')\n",
    "plt.xlabel('False Positive Rate')\n",
    "plt.show()"
   ]
  },
  {
   "cell_type": "markdown",
   "metadata": {},
   "source": [
    "### [5.1.2] Applying KNN brute force on TFIDF,<font color='red'> SET 2</font>"
   ]
  },
  {
   "cell_type": "code",
   "execution_count": 98,
   "metadata": {},
   "outputs": [],
   "source": [
    "# Please write all the code with proper documentation\n",
    "# Please write all the code with proper documentation\n",
    "# load Review text, preprocessed one converted into vectors using (BOW)\n",
    "tfidf_train = np.load(\"files/tfidf/tfidf_train.npy\")\n",
    "tfidf_train_y = np.load(\"files/tfidf/tfidf_train_y.npy\")\n",
    "tfidf_cv = np.load(\"files/tfidf/tfidf_cv.npy\")\n",
    "tfidf_cv_y = np.load(\"files/tfidf/tfidf_cv_y.npy\")\n",
    "tfidf_test = np.load(\"files/tfidf/tfidf_test.npy\")\n",
    "tfidf_test_y = np.load(\"files/tfidf/tfidf_test_y.npy\")"
   ]
  },
  {
   "cell_type": "code",
   "execution_count": 99,
   "metadata": {},
   "outputs": [
    {
     "name": "stdout",
     "output_type": "stream",
     "text": [
      "Shape of Train =  (24500, 500)\n",
      "Shape of CV =  (10500, 500)\n",
      "Shape of Test =  (15000, 500)\n"
     ]
    }
   ],
   "source": [
    "print(\"Shape of Train = \", tfidf_train.shape)\n",
    "print(\"Shape of CV = \", tfidf_cv.shape)\n",
    "print(\"Shape of Test = \", tfidf_test.shape)"
   ]
  },
  {
   "cell_type": "code",
   "execution_count": 100,
   "metadata": {},
   "outputs": [
    {
     "name": "stdout",
     "output_type": "stream",
     "text": [
      "\n",
      "Train AUC for k = 1 is 99.88%\n",
      "\n",
      "CV AUC for k = 1 is 49.62%\n",
      "##############################################\n",
      "\n",
      "Train AUC for k = 3 is 91.52%\n",
      "\n",
      "CV AUC for k = 3 is 49.23%\n",
      "##############################################\n",
      "\n",
      "Train AUC for k = 5 is 87.86%\n",
      "\n",
      "CV AUC for k = 5 is 50.07%\n",
      "##############################################\n",
      "\n",
      "Train AUC for k = 7 is 85.70%\n",
      "\n",
      "CV AUC for k = 7 is 50.64%\n",
      "##############################################\n",
      "\n",
      "Train AUC for k = 9 is 83.98%\n",
      "\n",
      "CV AUC for k = 9 is 51.41%\n",
      "##############################################\n"
     ]
    },
    {
     "ename": "KeyboardInterrupt",
     "evalue": "",
     "output_type": "error",
     "traceback": [
      "\u001b[0;31m---------------------------------------------------------------------------\u001b[0m",
      "\u001b[0;31mKeyboardInterrupt\u001b[0m                         Traceback (most recent call last)",
      "\u001b[0;32m<ipython-input-100-1a5353be72e1>\u001b[0m in \u001b[0;36m<module>\u001b[0;34m\u001b[0m\n\u001b[1;32m      9\u001b[0m \u001b[0;34m\u001b[0m\u001b[0m\n\u001b[1;32m     10\u001b[0m     \u001b[0;31m# predict the response on the crossvalidation train\u001b[0m\u001b[0;34m\u001b[0m\u001b[0;34m\u001b[0m\u001b[0m\n\u001b[0;32m---> 11\u001b[0;31m     \u001b[0mpredt\u001b[0m \u001b[0;34m=\u001b[0m \u001b[0mknn\u001b[0m\u001b[0;34m.\u001b[0m\u001b[0mpredict_proba\u001b[0m\u001b[0;34m(\u001b[0m\u001b[0mtfidf_train\u001b[0m\u001b[0;34m)\u001b[0m\u001b[0;34m\u001b[0m\u001b[0m\n\u001b[0m\u001b[1;32m     12\u001b[0m \u001b[0;34m\u001b[0m\u001b[0m\n\u001b[1;32m     13\u001b[0m     \u001b[0mpredt\u001b[0m \u001b[0;34m=\u001b[0m \u001b[0mpredt\u001b[0m\u001b[0;34m[\u001b[0m\u001b[0;34m:\u001b[0m\u001b[0;34m,\u001b[0m\u001b[0;36m1\u001b[0m\u001b[0;34m]\u001b[0m\u001b[0;34m\u001b[0m\u001b[0m\n",
      "\u001b[0;32m~/anaconda3/lib/python3.6/site-packages/sklearn/neighbors/classification.py\u001b[0m in \u001b[0;36mpredict_proba\u001b[0;34m(self, X)\u001b[0m\n\u001b[1;32m    191\u001b[0m         \u001b[0mX\u001b[0m \u001b[0;34m=\u001b[0m \u001b[0mcheck_array\u001b[0m\u001b[0;34m(\u001b[0m\u001b[0mX\u001b[0m\u001b[0;34m,\u001b[0m \u001b[0maccept_sparse\u001b[0m\u001b[0;34m=\u001b[0m\u001b[0;34m'csr'\u001b[0m\u001b[0;34m)\u001b[0m\u001b[0;34m\u001b[0m\u001b[0m\n\u001b[1;32m    192\u001b[0m \u001b[0;34m\u001b[0m\u001b[0m\n\u001b[0;32m--> 193\u001b[0;31m         \u001b[0mneigh_dist\u001b[0m\u001b[0;34m,\u001b[0m \u001b[0mneigh_ind\u001b[0m \u001b[0;34m=\u001b[0m \u001b[0mself\u001b[0m\u001b[0;34m.\u001b[0m\u001b[0mkneighbors\u001b[0m\u001b[0;34m(\u001b[0m\u001b[0mX\u001b[0m\u001b[0;34m)\u001b[0m\u001b[0;34m\u001b[0m\u001b[0m\n\u001b[0m\u001b[1;32m    194\u001b[0m \u001b[0;34m\u001b[0m\u001b[0m\n\u001b[1;32m    195\u001b[0m         \u001b[0mclasses_\u001b[0m \u001b[0;34m=\u001b[0m \u001b[0mself\u001b[0m\u001b[0;34m.\u001b[0m\u001b[0mclasses_\u001b[0m\u001b[0;34m\u001b[0m\u001b[0m\n",
      "\u001b[0;32m~/anaconda3/lib/python3.6/site-packages/sklearn/neighbors/base.py\u001b[0m in \u001b[0;36mkneighbors\u001b[0;34m(self, X, n_neighbors, return_distance)\u001b[0m\n\u001b[1;32m    453\u001b[0m                 delayed_query(\n\u001b[1;32m    454\u001b[0m                     self._tree, X[s], n_neighbors, return_distance)\n\u001b[0;32m--> 455\u001b[0;31m                 \u001b[0;32mfor\u001b[0m \u001b[0ms\u001b[0m \u001b[0;32min\u001b[0m \u001b[0mgen_even_slices\u001b[0m\u001b[0;34m(\u001b[0m\u001b[0mX\u001b[0m\u001b[0;34m.\u001b[0m\u001b[0mshape\u001b[0m\u001b[0;34m[\u001b[0m\u001b[0;36m0\u001b[0m\u001b[0;34m]\u001b[0m\u001b[0;34m,\u001b[0m \u001b[0mn_jobs\u001b[0m\u001b[0;34m)\u001b[0m\u001b[0;34m\u001b[0m\u001b[0m\n\u001b[0m\u001b[1;32m    456\u001b[0m             )\n\u001b[1;32m    457\u001b[0m         \u001b[0;32melse\u001b[0m\u001b[0;34m:\u001b[0m\u001b[0;34m\u001b[0m\u001b[0m\n",
      "\u001b[0;32m~/anaconda3/lib/python3.6/site-packages/sklearn/externals/joblib/parallel.py\u001b[0m in \u001b[0;36m__call__\u001b[0;34m(self, iterable)\u001b[0m\n\u001b[1;32m    915\u001b[0m             \u001b[0;31m# remaining jobs.\u001b[0m\u001b[0;34m\u001b[0m\u001b[0;34m\u001b[0m\u001b[0m\n\u001b[1;32m    916\u001b[0m             \u001b[0mself\u001b[0m\u001b[0;34m.\u001b[0m\u001b[0m_iterating\u001b[0m \u001b[0;34m=\u001b[0m \u001b[0;32mFalse\u001b[0m\u001b[0;34m\u001b[0m\u001b[0m\n\u001b[0;32m--> 917\u001b[0;31m             \u001b[0;32mif\u001b[0m \u001b[0mself\u001b[0m\u001b[0;34m.\u001b[0m\u001b[0mdispatch_one_batch\u001b[0m\u001b[0;34m(\u001b[0m\u001b[0miterator\u001b[0m\u001b[0;34m)\u001b[0m\u001b[0;34m:\u001b[0m\u001b[0;34m\u001b[0m\u001b[0m\n\u001b[0m\u001b[1;32m    918\u001b[0m                 \u001b[0mself\u001b[0m\u001b[0;34m.\u001b[0m\u001b[0m_iterating\u001b[0m \u001b[0;34m=\u001b[0m \u001b[0mself\u001b[0m\u001b[0;34m.\u001b[0m\u001b[0m_original_iterator\u001b[0m \u001b[0;32mis\u001b[0m \u001b[0;32mnot\u001b[0m \u001b[0;32mNone\u001b[0m\u001b[0;34m\u001b[0m\u001b[0m\n\u001b[1;32m    919\u001b[0m \u001b[0;34m\u001b[0m\u001b[0m\n",
      "\u001b[0;32m~/anaconda3/lib/python3.6/site-packages/sklearn/externals/joblib/parallel.py\u001b[0m in \u001b[0;36mdispatch_one_batch\u001b[0;34m(self, iterator)\u001b[0m\n\u001b[1;32m    757\u001b[0m                 \u001b[0;32mreturn\u001b[0m \u001b[0;32mFalse\u001b[0m\u001b[0;34m\u001b[0m\u001b[0m\n\u001b[1;32m    758\u001b[0m             \u001b[0;32melse\u001b[0m\u001b[0;34m:\u001b[0m\u001b[0;34m\u001b[0m\u001b[0m\n\u001b[0;32m--> 759\u001b[0;31m                 \u001b[0mself\u001b[0m\u001b[0;34m.\u001b[0m\u001b[0m_dispatch\u001b[0m\u001b[0;34m(\u001b[0m\u001b[0mtasks\u001b[0m\u001b[0;34m)\u001b[0m\u001b[0;34m\u001b[0m\u001b[0m\n\u001b[0m\u001b[1;32m    760\u001b[0m                 \u001b[0;32mreturn\u001b[0m \u001b[0;32mTrue\u001b[0m\u001b[0;34m\u001b[0m\u001b[0m\n\u001b[1;32m    761\u001b[0m \u001b[0;34m\u001b[0m\u001b[0m\n",
      "\u001b[0;32m~/anaconda3/lib/python3.6/site-packages/sklearn/externals/joblib/parallel.py\u001b[0m in \u001b[0;36m_dispatch\u001b[0;34m(self, batch)\u001b[0m\n\u001b[1;32m    714\u001b[0m         \u001b[0;32mwith\u001b[0m \u001b[0mself\u001b[0m\u001b[0;34m.\u001b[0m\u001b[0m_lock\u001b[0m\u001b[0;34m:\u001b[0m\u001b[0;34m\u001b[0m\u001b[0m\n\u001b[1;32m    715\u001b[0m             \u001b[0mjob_idx\u001b[0m \u001b[0;34m=\u001b[0m \u001b[0mlen\u001b[0m\u001b[0;34m(\u001b[0m\u001b[0mself\u001b[0m\u001b[0;34m.\u001b[0m\u001b[0m_jobs\u001b[0m\u001b[0;34m)\u001b[0m\u001b[0;34m\u001b[0m\u001b[0m\n\u001b[0;32m--> 716\u001b[0;31m             \u001b[0mjob\u001b[0m \u001b[0;34m=\u001b[0m \u001b[0mself\u001b[0m\u001b[0;34m.\u001b[0m\u001b[0m_backend\u001b[0m\u001b[0;34m.\u001b[0m\u001b[0mapply_async\u001b[0m\u001b[0;34m(\u001b[0m\u001b[0mbatch\u001b[0m\u001b[0;34m,\u001b[0m \u001b[0mcallback\u001b[0m\u001b[0;34m=\u001b[0m\u001b[0mcb\u001b[0m\u001b[0;34m)\u001b[0m\u001b[0;34m\u001b[0m\u001b[0m\n\u001b[0m\u001b[1;32m    717\u001b[0m             \u001b[0;31m# A job can complete so quickly than its callback is\u001b[0m\u001b[0;34m\u001b[0m\u001b[0;34m\u001b[0m\u001b[0m\n\u001b[1;32m    718\u001b[0m             \u001b[0;31m# called before we get here, causing self._jobs to\u001b[0m\u001b[0;34m\u001b[0m\u001b[0;34m\u001b[0m\u001b[0m\n",
      "\u001b[0;32m~/anaconda3/lib/python3.6/site-packages/sklearn/externals/joblib/_parallel_backends.py\u001b[0m in \u001b[0;36mapply_async\u001b[0;34m(self, func, callback)\u001b[0m\n\u001b[1;32m    180\u001b[0m     \u001b[0;32mdef\u001b[0m \u001b[0mapply_async\u001b[0m\u001b[0;34m(\u001b[0m\u001b[0mself\u001b[0m\u001b[0;34m,\u001b[0m \u001b[0mfunc\u001b[0m\u001b[0;34m,\u001b[0m \u001b[0mcallback\u001b[0m\u001b[0;34m=\u001b[0m\u001b[0;32mNone\u001b[0m\u001b[0;34m)\u001b[0m\u001b[0;34m:\u001b[0m\u001b[0;34m\u001b[0m\u001b[0m\n\u001b[1;32m    181\u001b[0m         \u001b[0;34m\"\"\"Schedule a func to be run\"\"\"\u001b[0m\u001b[0;34m\u001b[0m\u001b[0m\n\u001b[0;32m--> 182\u001b[0;31m         \u001b[0mresult\u001b[0m \u001b[0;34m=\u001b[0m \u001b[0mImmediateResult\u001b[0m\u001b[0;34m(\u001b[0m\u001b[0mfunc\u001b[0m\u001b[0;34m)\u001b[0m\u001b[0;34m\u001b[0m\u001b[0m\n\u001b[0m\u001b[1;32m    183\u001b[0m         \u001b[0;32mif\u001b[0m \u001b[0mcallback\u001b[0m\u001b[0;34m:\u001b[0m\u001b[0;34m\u001b[0m\u001b[0m\n\u001b[1;32m    184\u001b[0m             \u001b[0mcallback\u001b[0m\u001b[0;34m(\u001b[0m\u001b[0mresult\u001b[0m\u001b[0;34m)\u001b[0m\u001b[0;34m\u001b[0m\u001b[0m\n",
      "\u001b[0;32m~/anaconda3/lib/python3.6/site-packages/sklearn/externals/joblib/_parallel_backends.py\u001b[0m in \u001b[0;36m__init__\u001b[0;34m(self, batch)\u001b[0m\n\u001b[1;32m    547\u001b[0m         \u001b[0;31m# Don't delay the application, to avoid keeping the input\u001b[0m\u001b[0;34m\u001b[0m\u001b[0;34m\u001b[0m\u001b[0m\n\u001b[1;32m    548\u001b[0m         \u001b[0;31m# arguments in memory\u001b[0m\u001b[0;34m\u001b[0m\u001b[0;34m\u001b[0m\u001b[0m\n\u001b[0;32m--> 549\u001b[0;31m         \u001b[0mself\u001b[0m\u001b[0;34m.\u001b[0m\u001b[0mresults\u001b[0m \u001b[0;34m=\u001b[0m \u001b[0mbatch\u001b[0m\u001b[0;34m(\u001b[0m\u001b[0;34m)\u001b[0m\u001b[0;34m\u001b[0m\u001b[0m\n\u001b[0m\u001b[1;32m    550\u001b[0m \u001b[0;34m\u001b[0m\u001b[0m\n\u001b[1;32m    551\u001b[0m     \u001b[0;32mdef\u001b[0m \u001b[0mget\u001b[0m\u001b[0;34m(\u001b[0m\u001b[0mself\u001b[0m\u001b[0;34m)\u001b[0m\u001b[0;34m:\u001b[0m\u001b[0;34m\u001b[0m\u001b[0m\n",
      "\u001b[0;32m~/anaconda3/lib/python3.6/site-packages/sklearn/externals/joblib/parallel.py\u001b[0m in \u001b[0;36m__call__\u001b[0;34m(self)\u001b[0m\n\u001b[1;32m    223\u001b[0m         \u001b[0;32mwith\u001b[0m \u001b[0mparallel_backend\u001b[0m\u001b[0;34m(\u001b[0m\u001b[0mself\u001b[0m\u001b[0;34m.\u001b[0m\u001b[0m_backend\u001b[0m\u001b[0;34m,\u001b[0m \u001b[0mn_jobs\u001b[0m\u001b[0;34m=\u001b[0m\u001b[0mself\u001b[0m\u001b[0;34m.\u001b[0m\u001b[0m_n_jobs\u001b[0m\u001b[0;34m)\u001b[0m\u001b[0;34m:\u001b[0m\u001b[0;34m\u001b[0m\u001b[0m\n\u001b[1;32m    224\u001b[0m             return [func(*args, **kwargs)\n\u001b[0;32m--> 225\u001b[0;31m                     for func, args, kwargs in self.items]\n\u001b[0m\u001b[1;32m    226\u001b[0m \u001b[0;34m\u001b[0m\u001b[0m\n\u001b[1;32m    227\u001b[0m     \u001b[0;32mdef\u001b[0m \u001b[0m__len__\u001b[0m\u001b[0;34m(\u001b[0m\u001b[0mself\u001b[0m\u001b[0;34m)\u001b[0m\u001b[0;34m:\u001b[0m\u001b[0;34m\u001b[0m\u001b[0m\n",
      "\u001b[0;32m~/anaconda3/lib/python3.6/site-packages/sklearn/externals/joblib/parallel.py\u001b[0m in \u001b[0;36m<listcomp>\u001b[0;34m(.0)\u001b[0m\n\u001b[1;32m    223\u001b[0m         \u001b[0;32mwith\u001b[0m \u001b[0mparallel_backend\u001b[0m\u001b[0;34m(\u001b[0m\u001b[0mself\u001b[0m\u001b[0;34m.\u001b[0m\u001b[0m_backend\u001b[0m\u001b[0;34m,\u001b[0m \u001b[0mn_jobs\u001b[0m\u001b[0;34m=\u001b[0m\u001b[0mself\u001b[0m\u001b[0;34m.\u001b[0m\u001b[0m_n_jobs\u001b[0m\u001b[0;34m)\u001b[0m\u001b[0;34m:\u001b[0m\u001b[0;34m\u001b[0m\u001b[0m\n\u001b[1;32m    224\u001b[0m             return [func(*args, **kwargs)\n\u001b[0;32m--> 225\u001b[0;31m                     for func, args, kwargs in self.items]\n\u001b[0m\u001b[1;32m    226\u001b[0m \u001b[0;34m\u001b[0m\u001b[0m\n\u001b[1;32m    227\u001b[0m     \u001b[0;32mdef\u001b[0m \u001b[0m__len__\u001b[0m\u001b[0;34m(\u001b[0m\u001b[0mself\u001b[0m\u001b[0;34m)\u001b[0m\u001b[0;34m:\u001b[0m\u001b[0;34m\u001b[0m\u001b[0m\n",
      "\u001b[0;32m~/anaconda3/lib/python3.6/site-packages/sklearn/neighbors/base.py\u001b[0m in \u001b[0;36m_tree_query_parallel_helper\u001b[0;34m(tree, data, n_neighbors, return_distance)\u001b[0m\n\u001b[1;32m    290\u001b[0m     \u001b[0munder\u001b[0m \u001b[0mPyPy\u001b[0m\u001b[0;34m.\u001b[0m\u001b[0;34m\u001b[0m\u001b[0m\n\u001b[1;32m    291\u001b[0m     \"\"\"\n\u001b[0;32m--> 292\u001b[0;31m     \u001b[0;32mreturn\u001b[0m \u001b[0mtree\u001b[0m\u001b[0;34m.\u001b[0m\u001b[0mquery\u001b[0m\u001b[0;34m(\u001b[0m\u001b[0mdata\u001b[0m\u001b[0;34m,\u001b[0m \u001b[0mn_neighbors\u001b[0m\u001b[0;34m,\u001b[0m \u001b[0mreturn_distance\u001b[0m\u001b[0;34m)\u001b[0m\u001b[0;34m\u001b[0m\u001b[0m\n\u001b[0m\u001b[1;32m    293\u001b[0m \u001b[0;34m\u001b[0m\u001b[0m\n\u001b[1;32m    294\u001b[0m \u001b[0;34m\u001b[0m\u001b[0m\n",
      "\u001b[0;31mKeyboardInterrupt\u001b[0m: "
     ]
    }
   ],
   "source": [
    "tfidf_TrainError = []\n",
    "tfidf_CVError = []\n",
    "for i in range(1,20,2):\n",
    "    # instantiate learning model (k = 20)\n",
    "    knn = KNeighborsClassifier(n_neighbors=i)\n",
    "\n",
    "    # fitting the model on crossvalidation train\n",
    "    knn.fit(tfidf_train, tfidf_train_y)\n",
    "\n",
    "    # predict the response on the crossvalidation train\n",
    "    predt = knn.predict_proba(tfidf_train)\n",
    "    \n",
    "    predt = predt[:,1]\n",
    "    fprt, tprt, throsholdt = roc_curve(tfidf_train_y , predt)\n",
    "    roc_auct = auc(fprt , tprt)\n",
    "    roc_auct = roc_auct * float(100)\n",
    "    tfidf_TrainError.append(roc_auct)\n",
    "    print('\\nTrain AUC for k = %d is %0.2f%%' % (i, roc_auct))\n",
    "    # predict the response on the crossvalidation train\n",
    "    predc = knn.predict_proba(tfidf_cv)\n",
    "    \n",
    "    predc = predc[:,1]\n",
    "    fprc, tprc, throsholdc = roc_curve(tfidf_cv_y , predc)\n",
    "    roc_aucc = auc(fprc , tprc)\n",
    "    tfidf_CVError.append(roc_aucc)\n",
    "    roc_aucc = roc_aucc * float(100)\n",
    "    # evaluate CV accuracy\n",
    "    print('\\nCV AUC for k = %d is %0.2f%%' % (i, roc_aucc))\n",
    "    print(\"##############################################\")"
   ]
  },
  {
   "cell_type": "code",
   "execution_count": 113,
   "metadata": {},
   "outputs": [],
   "source": [
    "# convert train AUC scores into errors\n",
    "TrainError_tfidf = 100 - np.array(tfidf_TrainError)\n",
    "CVError_tfidf = 100 - (np.array(tfidf_CVError) * float(100))\n",
    "k_values_tfidf = [j for j in range(1,10,2)]"
   ]
  },
  {
   "cell_type": "code",
   "execution_count": 114,
   "metadata": {},
   "outputs": [
    {
     "data": {
      "text/plain": [
       "array([99.50378767, 99.50773362, 99.49926173, 99.49358364, 99.48592021])"
      ]
     },
     "execution_count": 114,
     "metadata": {},
     "output_type": "execute_result"
    }
   ],
   "source": [
    "100 - np.array(tfidf_CVError)"
   ]
  },
  {
   "cell_type": "code",
   "execution_count": 115,
   "metadata": {},
   "outputs": [
    {
     "data": {
      "text/plain": [
       "<matplotlib.legend.Legend at 0x7f0cc8fe1828>"
      ]
     },
     "execution_count": 115,
     "metadata": {},
     "output_type": "execute_result"
    },
    {
     "data": {
      "image/png": "[encoded data removed]",
      "text/plain": [
       "<Figure size 576x396 with 1 Axes>"
      ]
     },
     "metadata": {},
     "output_type": "display_data"
    }
   ],
   "source": [
    "# https://www.dataquest.io/blog/learning-curves-machine-learning/\n",
    "\n",
    "import matplotlib.pyplot as plt\n",
    "%matplotlib inline\n",
    "\n",
    "plt.style.use('seaborn')\n",
    "\n",
    "plt.plot(k_values_tfidf, TrainError_tfidf, label = 'Training error')\n",
    "plt.plot(k_values_tfidf, CVError_tfidf, label = 'Validation error')\n",
    "\n",
    "plt.ylabel('AUC', fontsize = 14)\n",
    "plt.xlabel('k-values', fontsize = 14)\n",
    "plt.title('Learning curves for a k-NN model', fontsize = 18, y = 1.03)\n",
    "plt.legend()"
   ]
  },
  {
   "cell_type": "code",
   "execution_count": null,
   "metadata": {},
   "outputs": [],
   "source": [
    "knn = KNeighborsClassifier(n_neighbors=9)\n",
    "knn.fit(tfidf_train, tfidf_train_y)\n",
    "predc = knn.predict_proba(tfidf_cv)\n",
    "predc = predc[:,1]\n",
    "fprc, tprc, throshold = roc_curve(tfidf_cv_y , predc)\n",
    "roc_aucc = auc(fprc , tprc)\n",
    "print('\\nCV AUC for k = 19 is %0.2f%%' % (roc_aucc*(float(100))))\n",
    "predt = knn.predict_proba(tfidf_test)\n",
    "predt = predt[:,1]\n",
    "fprt, tprt, throshold = roc_curve(tfidf_test_y, predt)\n",
    "roc_auct = auc(fprt , tprt)\n",
    "print('\\nTest for k = 19 is %0.2f%%' % (roc_auct*(float(100))))"
   ]
  },
  {
   "cell_type": "markdown",
   "metadata": {},
   "source": [
    "### [5.1.3] Applying KNN brute force on AVG W2V,<font color='red'> SET 3</font>"
   ]
  },
  {
   "cell_type": "code",
   "execution_count": 3,
   "metadata": {},
   "outputs": [],
   "source": [
    "# Please write all the code with proper documentation"
   ]
  },
  {
   "cell_type": "code",
   "execution_count": 3,
   "metadata": {},
   "outputs": [],
   "source": [
    "# Please write all the code with proper documentation\n",
    "# load Review text, preprocessed one converted into vectors using (w2v)\n",
    "w2v_train = np.load(\"files/w2v/w2v_train.npy\")\n",
    "w2v_train_y = np.load(\"files/w2v/w2v_train_y.npy\")\n",
    "w2v_cv = np.load(\"files/w2v/w2v_cv.npy\")\n",
    "w2v_cv_y = np.load(\"files/w2v/w2v_cv_y.npy\")\n",
    "w2v_test = np.load(\"files/w2v/w2v_test.npy\")\n",
    "w2v_test_y = np.load(\"files/w2v/w2v_test_y.npy\")"
   ]
  },
  {
   "cell_type": "code",
   "execution_count": 4,
   "metadata": {},
   "outputs": [
    {
     "name": "stdout",
     "output_type": "stream",
     "text": [
      "Shape of Train =  (24500, 50)\n",
      "Shape of CV =  (10500, 50)\n",
      "Shape of Test =  (15000, 50)\n"
     ]
    }
   ],
   "source": [
    "print(\"Shape of Train = \", w2v_train.shape)\n",
    "print(\"Shape of CV = \", w2v_cv.shape)\n",
    "print(\"Shape of Test = \", w2v_test.shape)"
   ]
  },
  {
   "cell_type": "code",
   "execution_count": 5,
   "metadata": {},
   "outputs": [
    {
     "name": "stdout",
     "output_type": "stream",
     "text": [
      "\n",
      "Train AUC for k = 1 is 99.88%\n",
      "\n",
      "CV AUC for k = 1 is 65.93%\n",
      "##############################################\n",
      "\n",
      "Train AUC for k = 3 is 95.06%\n",
      "\n",
      "CV AUC for k = 3 is 76.62%\n",
      "##############################################\n",
      "\n",
      "Train AUC for k = 5 is 93.22%\n",
      "\n",
      "CV AUC for k = 5 is 80.70%\n",
      "##############################################\n",
      "\n",
      "Train AUC for k = 7 is 92.30%\n",
      "\n",
      "CV AUC for k = 7 is 82.76%\n",
      "##############################################\n",
      "\n",
      "Train AUC for k = 9 is 91.64%\n",
      "\n",
      "CV AUC for k = 9 is 84.34%\n",
      "##############################################\n",
      "\n",
      "Train AUC for k = 11 is 91.27%\n",
      "\n",
      "CV AUC for k = 11 is 85.05%\n",
      "##############################################\n",
      "\n",
      "Train AUC for k = 13 is 90.99%\n",
      "\n",
      "CV AUC for k = 13 is 85.50%\n",
      "##############################################\n",
      "\n",
      "Train AUC for k = 15 is 90.67%\n",
      "\n",
      "CV AUC for k = 15 is 85.93%\n",
      "##############################################\n",
      "\n",
      "Train AUC for k = 17 is 90.46%\n",
      "\n",
      "CV AUC for k = 17 is 86.11%\n",
      "##############################################\n",
      "\n",
      "Train AUC for k = 19 is 90.28%\n",
      "\n",
      "CV AUC for k = 19 is 86.26%\n",
      "##############################################\n"
     ]
    }
   ],
   "source": [
    "w2v_TrainError = []\n",
    "w2v_CVError = []\n",
    "for i in range(1,20,2):\n",
    "    # instantiate learning model (k = 20)\n",
    "    knn = KNeighborsClassifier(n_neighbors=i)\n",
    "\n",
    "    # fitting the model on crossvalidation train\n",
    "    knn.fit(w2v_train, w2v_train_y)\n",
    "\n",
    "    # predict the response on the crossvalidation train\n",
    "    predt = knn.predict_proba(w2v_train)\n",
    "    \n",
    "    predt = predt[:,1]\n",
    "    fprt, tprt, throsholdt = roc_curve(w2v_train_y , predt)\n",
    "    roc_auct = auc(fprt , tprt)\n",
    "    roc_auct = roc_auct * float(100)\n",
    "    w2v_TrainError.append(roc_auct)\n",
    "    print('\\nTrain AUC for k = %d is %0.2f%%' % (i, roc_auct))\n",
    "    # predict the response on the crossvalidation train\n",
    "    predc = knn.predict_proba(w2v_cv)\n",
    "    \n",
    "    predc = predc[:,1]\n",
    "    fprc, tprc, throsholdc = roc_curve(w2v_cv_y , predc)\n",
    "    roc_aucc = auc(fprc , tprc)\n",
    "    w2v_CVError.append(roc_aucc)\n",
    "    roc_aucc = roc_aucc * float(100)\n",
    "    # evaluate CV accuracy\n",
    "    print('\\nCV AUC for k = %d is %0.2f%%' % (i, roc_aucc))\n",
    "    print(\"##############################################\")"
   ]
  },
  {
   "cell_type": "code",
   "execution_count": 31,
   "metadata": {},
   "outputs": [
    {
     "name": "stdout",
     "output_type": "stream",
     "text": [
      "\n",
      "Train AUC for k = 21 is 90.10%\n",
      "\n",
      "CV AUC for k = 21 is 86.49%\n",
      "##############################################\n",
      "\n",
      "Train AUC for k = 23 is 89.96%\n",
      "\n",
      "CV AUC for k = 23 is 86.57%\n",
      "##############################################\n",
      "\n",
      "Train AUC for k = 25 is 89.91%\n",
      "\n",
      "CV AUC for k = 25 is 86.85%\n",
      "##############################################\n",
      "\n",
      "Train AUC for k = 27 is 89.79%\n",
      "\n",
      "CV AUC for k = 27 is 87.09%\n",
      "##############################################\n",
      "\n",
      "Train AUC for k = 29 is 89.70%\n",
      "\n",
      "CV AUC for k = 29 is 87.24%\n",
      "##############################################\n"
     ]
    }
   ],
   "source": [
    "for i in range(21,30,2):\n",
    "    # instantiate learning model (k = 30)\n",
    "    knn = KNeighborsClassifier(n_neighbors=i)\n",
    "\n",
    "    # fitting the model on crossvalidation train\n",
    "    knn.fit(w2v_train, w2v_train_y)\n",
    "\n",
    "    # predict the response on the crossvalidation train\n",
    "    predt = knn.predict_proba(w2v_train)\n",
    "    \n",
    "    predt = predt[:,1]\n",
    "    fprt, tprt, throsholdt = roc_curve(w2v_train_y , predt)\n",
    "    roc_auct = auc(fprt , tprt)\n",
    "    roc_auct = roc_auct * float(100)\n",
    "    w2v_TrainError.append(roc_auct)\n",
    "    print('\\nTrain AUC for k = %d is %0.2f%%' % (i, roc_auct))\n",
    "    # predict the response on the crossvalidation train\n",
    "    predc = knn.predict_proba(w2v_cv)\n",
    "    \n",
    "    predc = predc[:,1]\n",
    "    fprc, tprc, throsholdc = roc_curve(w2v_cv_y , predc)\n",
    "    roc_aucc = auc(fprc , tprc)\n",
    "    w2v_CVError.append(roc_aucc)\n",
    "    roc_aucc = roc_aucc * float(100)\n",
    "    # evaluate CV accuracy\n",
    "    print('\\nCV AUC for k = %d is %0.2f%%' % (i, roc_aucc))\n",
    "    print(\"##############################################\")"
   ]
  },
  {
   "cell_type": "code",
   "execution_count": 57,
   "metadata": {},
   "outputs": [],
   "source": [
    "w2v_TrainError = w2v_TrainError[:15]\n",
    "w2v_CVError = w2v_CVError[:15]"
   ]
  },
  {
   "cell_type": "code",
   "execution_count": 58,
   "metadata": {},
   "outputs": [
    {
     "name": "stdout",
     "output_type": "stream",
     "text": [
      "\n",
      "Train AUC for k = 31 is 89.63%\n",
      "\n",
      "CV AUC for k = 31 is 87.33%\n",
      "##############################################\n",
      "\n",
      "Train AUC for k = 33 is 89.55%\n",
      "\n",
      "CV AUC for k = 33 is 87.45%\n",
      "##############################################\n",
      "\n",
      "Train AUC for k = 35 is 89.39%\n",
      "\n",
      "CV AUC for k = 35 is 87.50%\n",
      "##############################################\n",
      "\n",
      "Train AUC for k = 37 is 89.36%\n",
      "\n",
      "CV AUC for k = 37 is 87.46%\n",
      "##############################################\n",
      "\n",
      "Train AUC for k = 39 is 89.29%\n",
      "\n",
      "CV AUC for k = 39 is 87.51%\n",
      "##############################################\n"
     ]
    }
   ],
   "source": [
    "for i in range(31,40,2):\n",
    "    # instantiate learning model (k = 30)\n",
    "    knn = KNeighborsClassifier(n_neighbors=i)\n",
    "\n",
    "    # fitting the model on crossvalidation train\n",
    "    knn.fit(w2v_train, w2v_train_y)\n",
    "\n",
    "    # predict the response on the crossvalidation train\n",
    "    predt = knn.predict_proba(w2v_train)\n",
    "    \n",
    "    predt = predt[:,1]\n",
    "    fprt, tprt, throsholdt = roc_curve(w2v_train_y , predt)\n",
    "    roc_auct = auc(fprt , tprt)\n",
    "    roc_auct = roc_auct * float(100)\n",
    "    w2v_TrainError.append(roc_auct)\n",
    "    print('\\nTrain AUC for k = %d is %0.2f%%' % (i, roc_auct))\n",
    "    # predict the response on the crossvalidation train\n",
    "    predc = knn.predict_proba(w2v_cv)\n",
    "    \n",
    "    predc = predc[:,1]\n",
    "    fprc, tprc, throsholdc = roc_curve(w2v_cv_y , predc)\n",
    "    roc_aucc = auc(fprc , tprc)\n",
    "    w2v_CVError.append(roc_aucc)\n",
    "    roc_aucc = roc_aucc * float(100)\n",
    "    # evaluate CV accuracy\n",
    "    print('\\nCV AUC for k = %d is %0.2f%%' % (i, roc_aucc))\n",
    "    print(\"##############################################\")"
   ]
  },
  {
   "cell_type": "code",
   "execution_count": 59,
   "metadata": {},
   "outputs": [
    {
     "name": "stdout",
     "output_type": "stream",
     "text": [
      "\n",
      "Train AUC for k = 41 is 89.20%\n",
      "\n",
      "CV AUC for k = 41 is 87.52%\n",
      "##############################################\n",
      "\n",
      "Train AUC for k = 43 is 89.17%\n",
      "\n",
      "CV AUC for k = 43 is 87.51%\n",
      "##############################################\n",
      "\n",
      "Train AUC for k = 45 is 89.12%\n",
      "\n",
      "CV AUC for k = 45 is 87.53%\n",
      "##############################################\n",
      "\n",
      "Train AUC for k = 47 is 89.09%\n",
      "\n",
      "CV AUC for k = 47 is 87.55%\n",
      "##############################################\n",
      "\n",
      "Train AUC for k = 49 is 89.07%\n",
      "\n",
      "CV AUC for k = 49 is 87.59%\n",
      "##############################################\n"
     ]
    }
   ],
   "source": [
    "for i in range(41,50,2):\n",
    "    # instantiate learning model (k = 30)\n",
    "    knn = KNeighborsClassifier(n_neighbors=i)\n",
    "\n",
    "    # fitting the model on crossvalidation train\n",
    "    knn.fit(w2v_train, w2v_train_y)\n",
    "\n",
    "    # predict the response on the crossvalidation train\n",
    "    predt = knn.predict_proba(w2v_train)\n",
    "    \n",
    "    predt = predt[:,1]\n",
    "    fprt, tprt, throsholdt = roc_curve(w2v_train_y , predt)\n",
    "    roc_auct = auc(fprt , tprt)\n",
    "    roc_auct = roc_auct * float(100)\n",
    "    w2v_TrainError.append(roc_auct)\n",
    "    print('\\nTrain AUC for k = %d is %0.2f%%' % (i, roc_auct))\n",
    "    # predict the response on the crossvalidation train\n",
    "    predc = knn.predict_proba(w2v_cv)\n",
    "    \n",
    "    predc = predc[:,1]\n",
    "    fprc, tprc, throsholdc = roc_curve(w2v_cv_y , predc)\n",
    "    roc_aucc = auc(fprc , tprc)\n",
    "    w2v_CVError.append(roc_aucc)\n",
    "    roc_aucc = roc_aucc * float(100)\n",
    "    # evaluate CV accuracy\n",
    "    print('\\nCV AUC for k = %d is %0.2f%%' % (i, roc_aucc))\n",
    "    print(\"##############################################\")"
   ]
  },
  {
   "cell_type": "code",
   "execution_count": 60,
   "metadata": {},
   "outputs": [],
   "source": [
    "# convert train AUC scores into errors\n",
    "TrainError = 100 - np.array(w2v_TrainError)\n",
    "CVError = 100 - (np.array(w2v_CVError) * float(100))\n",
    "k_values = [j for j in range(1,50,2)]"
   ]
  },
  {
   "cell_type": "code",
   "execution_count": 61,
   "metadata": {},
   "outputs": [
    {
     "data": {
      "text/plain": [
       "<matplotlib.legend.Legend at 0x7f0cd2a6a278>"
      ]
     },
     "execution_count": 61,
     "metadata": {},
     "output_type": "execute_result"
    },
    {
     "data": {
      "image/png": "[encoded data removed]",
      "text/plain": [
       "<Figure size 576x396 with 1 Axes>"
      ]
     },
     "metadata": {},
     "output_type": "display_data"
    }
   ],
   "source": [
    "# https://www.dataquest.io/blog/learning-curves-machine-learning/\n",
    "\n",
    "import matplotlib.pyplot as plt\n",
    "%matplotlib inline\n",
    "\n",
    "plt.style.use('seaborn')\n",
    "\n",
    "plt.plot(k_values, TrainError, label = 'Training error')\n",
    "plt.plot(k_values, CVError, label = 'Validation error')\n",
    "\n",
    "plt.ylabel('AUC', fontsize = 14)\n",
    "plt.xlabel('k-values', fontsize = 14)\n",
    "plt.title('Learning curves for a k-NN model', fontsize = 18, y = 1.03)\n",
    "plt.legend()"
   ]
  },
  {
   "cell_type": "code",
   "execution_count": null,
   "metadata": {},
   "outputs": [],
   "source": []
  },
  {
   "cell_type": "code",
   "execution_count": 118,
   "metadata": {},
   "outputs": [
    {
     "name": "stdout",
     "output_type": "stream",
     "text": [
      "\n",
      "Test AUC for k = 21 is 84.90%\n"
     ]
    }
   ],
   "source": [
    "knn = KNeighborsClassifier(n_neighbors=21)\n",
    "\n",
    "# fitting the model on crossvalidation train\n",
    "knn.fit(w2v_train, w2v_train_y)\n",
    "\n",
    "# predict the response on the crossvalidation train\n",
    "predt = knn.predict_proba(w2v_test)\n",
    "    \n",
    "predt = predt[:,1]\n",
    "fprt, tprt, throsholdt = roc_curve(w2v_test_y , predt)\n",
    "roc_auct = auc(fprt , tprt)\n",
    "roc_auct = roc_auct * float(100)\n",
    "print('\\nTest AUC for k = 21 is %0.2f%%' % (roc_auct))"
   ]
  },
  {
   "cell_type": "code",
   "execution_count": null,
   "metadata": {},
   "outputs": [],
   "source": [
    "# https://stackoverflow.com/questions/25009284/how-to-plot-roc-curve-in-python\n",
    "\n",
    "preds = pred[:,1]\n",
    "pred_tests = pred_test[:,1]\n",
    "fpr , tpr, throshold = roc_curve(cv_y , preds)\n",
    "fprt, tprt,throsholdt = roc_curve(test_y, pred_tests)\n",
    "roc_auc = auc(fpr, tpr)\n",
    "roc_auc_test = auc(fprt, tprt)\n",
    "\n",
    "import matplotlib.pyplot as plt\n",
    "plt.title('Receiver Operating Characteristic')\n",
    "plt.plot(fpr, tpr, 'g' , label ='AUC CV = %0.2f' % roc_auc)\n",
    "plt.plot(fprt, tprt, 'y', label='AUC Test = %0.2f' % roc_auc_test)\n",
    "plt.legend(loc = 'lower right')\n",
    "plt.plot([0, 1], [0, 1],'r')\n",
    "plt.xlim([0, 1])\n",
    "plt.ylim([0, 1])\n",
    "plt.ylabel('True Positive Rate')\n",
    "plt.xlabel('False Positive Rate')\n",
    "plt.show()"
   ]
  },
  {
   "cell_type": "code",
   "execution_count": 120,
   "metadata": {},
   "outputs": [
    {
     "name": "stdout",
     "output_type": "stream",
     "text": [
      "\n",
      "Test accuracy for k = 21 is 86%\n"
     ]
    }
   ],
   "source": [
    "knn = KNeighborsClassifier(n_neighbors=21)\n",
    "\n",
    "# fitting the model on crossvalidation train\n",
    "knn.fit(w2v_train, w2v_train_y)\n",
    "\n",
    "pred = knn.predict(w2v_test)\n",
    "acc_test = accuracy_score(w2v_test_y , pred, normalize=True)*float(100)\n",
    "print('\\nTest accuracy for k = 21 is %d%%'%(acc_test))"
   ]
  },
  {
   "cell_type": "code",
   "execution_count": 121,
   "metadata": {},
   "outputs": [
    {
     "data": {
      "text/plain": [
       "array([[  600,  1749],\n",
       "       [  214, 12437]])"
      ]
     },
     "execution_count": 121,
     "metadata": {},
     "output_type": "execute_result"
    }
   ],
   "source": [
    "confusion_matrix(w2v_test_y, pred)"
   ]
  },
  {
   "cell_type": "code",
   "execution_count": 122,
   "metadata": {},
   "outputs": [
    {
     "name": "stderr",
     "output_type": "stream",
     "text": [
      "/home/prasad/anaconda3/lib/python3.6/site-packages/sklearn/utils/deprecation.py:77: DeprecationWarning: Function plot_confusion_matrix is deprecated; This will be removed in v0.4.0. Please use scikitplot.metrics.plot_confusion_matrix instead.\n",
      "  warnings.warn(msg, category=DeprecationWarning)\n",
      "/home/prasad/anaconda3/lib/python3.6/site-packages/matplotlib/cbook/deprecation.py:107: MatplotlibDeprecationWarning: Passing one of 'on', 'true', 'off', 'false' as a boolean is deprecated; use an actual boolean (True/False) instead.\n",
      "  warnings.warn(message, mplDeprecation, stacklevel=1)\n"
     ]
    },
    {
     "data": {
      "image/png": "[encoded data removed]",
      "text/plain": [
       "<Figure size 576x396 with 2 Axes>"
      ]
     },
     "metadata": {},
     "output_type": "display_data"
    }
   ],
   "source": [
    "skplt.plot_confusion_matrix(w2v_test_y, pred)\n",
    "plt.show()"
   ]
  },
  {
   "cell_type": "code",
   "execution_count": 123,
   "metadata": {},
   "outputs": [
    {
     "data": {
      "text/plain": [
       "0.9268547155047137"
      ]
     },
     "execution_count": 123,
     "metadata": {},
     "output_type": "execute_result"
    }
   ],
   "source": [
    "f1_score(w2v_test_y, pred)"
   ]
  },
  {
   "cell_type": "code",
   "execution_count": 63,
   "metadata": {},
   "outputs": [
    {
     "name": "stdout",
     "output_type": "stream",
     "text": [
      "\n",
      "Test AUC for k = 49 is 86.27%\n"
     ]
    }
   ],
   "source": [
    "knn = KNeighborsClassifier(n_neighbors=49)\n",
    "\n",
    "# fitting the model on crossvalidation train\n",
    "knn.fit(w2v_train, w2v_train_y)\n",
    "\n",
    "# predict the response on the crossvalidation train\n",
    "predt = knn.predict_proba(w2v_test)\n",
    "    \n",
    "predt = predt[:,1]\n",
    "fprt, tprt, throsholdt = roc_curve(w2v_test_y , predt)\n",
    "roc_auct = auc(fprt , tprt)\n",
    "roc_auct = roc_auct * float(100)\n",
    "print('\\nTest AUC for k = 49 is %0.2f%%' % (roc_auct))"
   ]
  },
  {
   "cell_type": "code",
   "execution_count": 64,
   "metadata": {},
   "outputs": [
    {
     "name": "stdout",
     "output_type": "stream",
     "text": [
      "\n",
      "Test accuracy for k = 49 is 86%\n"
     ]
    }
   ],
   "source": [
    "knn = KNeighborsClassifier(n_neighbors=49)\n",
    "\n",
    "# fitting the model on crossvalidation train\n",
    "knn.fit(w2v_train, w2v_train_y)\n",
    "\n",
    "pred = knn.predict(w2v_test)\n",
    "acc_test = accuracy_score(w2v_test_y , pred, normalize=True)*float(100)\n",
    "print('\\nTest accuracy for k = 49 is %d%%'%(acc_test))"
   ]
  },
  {
   "cell_type": "code",
   "execution_count": null,
   "metadata": {},
   "outputs": [],
   "source": []
  },
  {
   "cell_type": "code",
   "execution_count": 73,
   "metadata": {},
   "outputs": [
    {
     "data": {
      "text/plain": [
       "array([[  498,  1851],\n",
       "       [  152, 12499]])"
      ]
     },
     "execution_count": 73,
     "metadata": {},
     "output_type": "execute_result"
    }
   ],
   "source": [
    "confusion_matrix(w2v_test_y, pred)"
   ]
  },
  {
   "cell_type": "code",
   "execution_count": 76,
   "metadata": {},
   "outputs": [
    {
     "name": "stderr",
     "output_type": "stream",
     "text": [
      "/home/prasad/anaconda3/lib/python3.6/site-packages/sklearn/utils/deprecation.py:77: DeprecationWarning: Function plot_confusion_matrix is deprecated; This will be removed in v0.4.0. Please use scikitplot.metrics.plot_confusion_matrix instead.\n",
      "  warnings.warn(msg, category=DeprecationWarning)\n",
      "/home/prasad/anaconda3/lib/python3.6/site-packages/matplotlib/cbook/deprecation.py:107: MatplotlibDeprecationWarning: Passing one of 'on', 'true', 'off', 'false' as a boolean is deprecated; use an actual boolean (True/False) instead.\n",
      "  warnings.warn(message, mplDeprecation, stacklevel=1)\n"
     ]
    },
    {
     "data": {
      "image/png": "[encoded data removed]",
      "text/plain": [
       "<Figure size 576x396 with 2 Axes>"
      ]
     },
     "metadata": {},
     "output_type": "display_data"
    }
   ],
   "source": [
    "skplt.plot_confusion_matrix(w2v_test_y, pred)\n",
    "plt.show()"
   ]
  },
  {
   "cell_type": "markdown",
   "metadata": {},
   "source": [
    "### [5.1.4] Applying KNN brute force on TFIDF W2V,<font color='red'> SET 4</font>"
   ]
  },
  {
   "cell_type": "code",
   "execution_count": 3,
   "metadata": {},
   "outputs": [],
   "source": [
    "# Please write all the code with proper documentation"
   ]
  },
  {
   "cell_type": "code",
   "execution_count": 79,
   "metadata": {},
   "outputs": [],
   "source": [
    "# Please write all the code with proper documentation\n",
    "# load Review text, preprocessed one converted into vectors using (w2v)\n",
    "tfidf_w2v_train = np.load(\"files/tfidf_w2v/w2v_train.npy\")\n",
    "tfidf_w2v_train_y = np.load(\"files/tfidf_w2v/w2v_train_y.npy\")\n",
    "tfidf_w2v_cv = np.load(\"files/tfidf_w2v/w2v_cv.npy\")\n",
    "tfidf_w2v_cv_y = np.load(\"files/tfidf_w2v/w2v_cv_y.npy\")\n",
    "tfidf_w2v_test = np.load(\"files/tfidf_w2v/w2v_test.npy\")\n",
    "tfidf_w2v_test_y = np.load(\"files/tfidf_w2v/w2v_test_y.npy\")"
   ]
  },
  {
   "cell_type": "code",
   "execution_count": 80,
   "metadata": {},
   "outputs": [
    {
     "name": "stdout",
     "output_type": "stream",
     "text": [
      "Shape of Train =  (24500, 50)\n",
      "Shape of CV =  (10500, 50)\n",
      "Shape of Test =  (15000, 50)\n"
     ]
    }
   ],
   "source": [
    "print(\"Shape of Train = \", tfidf_w2v_train.shape)\n",
    "print(\"Shape of CV = \", tfidf_w2v_cv.shape)\n",
    "print(\"Shape of Test = \", tfidf_w2v_test.shape)"
   ]
  },
  {
   "cell_type": "code",
   "execution_count": 82,
   "metadata": {},
   "outputs": [
    {
     "name": "stdout",
     "output_type": "stream",
     "text": [
      "\n",
      "Train AUC for k = 1 is 99.88%\n",
      "\n",
      "CV AUC for k = 1 is 63.94%\n",
      "##############################################\n",
      "\n",
      "Train AUC for k = 3 is 94.32%\n",
      "\n",
      "CV AUC for k = 3 is 73.05%\n",
      "##############################################\n",
      "\n",
      "Train AUC for k = 5 is 92.12%\n",
      "\n",
      "CV AUC for k = 5 is 76.86%\n",
      "##############################################\n",
      "\n",
      "Train AUC for k = 7 is 90.73%\n",
      "\n",
      "CV AUC for k = 7 is 78.52%\n",
      "##############################################\n",
      "\n",
      "Train AUC for k = 9 is 89.81%\n",
      "\n",
      "CV AUC for k = 9 is 79.67%\n",
      "##############################################\n",
      "\n",
      "Train AUC for k = 11 is 89.10%\n",
      "\n",
      "CV AUC for k = 11 is 80.30%\n",
      "##############################################\n",
      "\n",
      "Train AUC for k = 13 is 88.58%\n",
      "\n",
      "CV AUC for k = 13 is 80.56%\n",
      "##############################################\n",
      "\n",
      "Train AUC for k = 15 is 88.22%\n",
      "\n",
      "CV AUC for k = 15 is 81.03%\n",
      "##############################################\n",
      "\n",
      "Train AUC for k = 17 is 87.95%\n",
      "\n",
      "CV AUC for k = 17 is 81.33%\n",
      "##############################################\n",
      "\n",
      "Train AUC for k = 19 is 87.73%\n",
      "\n",
      "CV AUC for k = 19 is 81.60%\n",
      "##############################################\n",
      "\n",
      "Train AUC for k = 21 is 87.55%\n",
      "\n",
      "CV AUC for k = 21 is 82.07%\n",
      "##############################################\n",
      "\n",
      "Train AUC for k = 23 is 87.33%\n",
      "\n",
      "CV AUC for k = 23 is 82.41%\n",
      "##############################################\n",
      "\n",
      "Train AUC for k = 25 is 87.16%\n",
      "\n",
      "CV AUC for k = 25 is 82.70%\n",
      "##############################################\n",
      "\n",
      "Train AUC for k = 27 is 86.99%\n",
      "\n",
      "CV AUC for k = 27 is 82.87%\n",
      "##############################################\n",
      "\n",
      "Train AUC for k = 29 is 86.91%\n",
      "\n",
      "CV AUC for k = 29 is 82.98%\n",
      "##############################################\n"
     ]
    }
   ],
   "source": [
    "tfidf_w2v_TrainError = []\n",
    "tfidf_w2v_CVError = []\n",
    "for i in range(1,30,2):\n",
    "    # instantiate learning model (k = 20)\n",
    "    knn = KNeighborsClassifier(n_neighbors=i)\n",
    "\n",
    "    # fitting the model on crossvalidation train\n",
    "    knn.fit(tfidf_w2v_train, tfidf_w2v_train_y)\n",
    "\n",
    "    # predict the response on the crossvalidation train\n",
    "    predt = knn.predict_proba(tfidf_w2v_train)\n",
    "    \n",
    "    predt = predt[:,1]\n",
    "    fprt, tprt, throsholdt = roc_curve(tfidf_w2v_train_y , predt)\n",
    "    roc_auct = auc(fprt , tprt)\n",
    "    roc_auct = roc_auct * float(100)\n",
    "    tfidf_w2v_TrainError.append(roc_auct)\n",
    "    print('\\nTrain AUC for k = %d is %0.2f%%' % (i, roc_auct))\n",
    "    # predict the response on the crossvalidation train\n",
    "    predc = knn.predict_proba(tfidf_w2v_cv)\n",
    "    \n",
    "    predc = predc[:,1]\n",
    "    fprc, tprc, throsholdc = roc_curve(tfidf_w2v_cv_y , predc)\n",
    "    roc_aucc = auc(fprc , tprc)\n",
    "    roc_aucc = roc_aucc * float(100)\n",
    "    tfidf_w2v_CVError.append(roc_aucc)\n",
    "    # evaluate CV accuracy\n",
    "    print('\\nCV AUC for k = %d is %0.2f%%' % (i, roc_aucc))\n",
    "    print(\"##############################################\")"
   ]
  },
  {
   "cell_type": "code",
   "execution_count": 84,
   "metadata": {},
   "outputs": [],
   "source": [
    "# convert train AUC scores into errors\n",
    "TrainError_tw = 100 - np.array(tfidf_w2v_TrainError)\n",
    "CVError_tw = 100 - (np.array(tfidf_w2v_CVError))\n",
    "k_values = [j for j in range(1,30,2)]"
   ]
  },
  {
   "cell_type": "code",
   "execution_count": 85,
   "metadata": {
    "scrolled": true
   },
   "outputs": [
    {
     "data": {
      "text/plain": [
       "<matplotlib.legend.Legend at 0x7f0cd20c4b00>"
      ]
     },
     "execution_count": 85,
     "metadata": {},
     "output_type": "execute_result"
    },
    {
     "data": {
      "image/png": "[encoded data removed]",
      "text/plain": [
       "<Figure size 576x396 with 1 Axes>"
      ]
     },
     "metadata": {},
     "output_type": "display_data"
    }
   ],
   "source": [
    "# https://www.dataquest.io/blog/learning-curves-machine-learning/\n",
    "\n",
    "import matplotlib.pyplot as plt\n",
    "%matplotlib inline\n",
    "\n",
    "plt.style.use('seaborn')\n",
    "\n",
    "plt.plot(k_values, TrainError_tw, label = 'Training error')\n",
    "plt.plot(k_values, CVError_tw, label = 'Validation error')\n",
    "\n",
    "plt.ylabel('AUC', fontsize = 14)\n",
    "plt.xlabel('k-values', fontsize = 14)\n",
    "plt.title('Learning curves for a k-NN model', fontsize = 18, y = 1.03)\n",
    "plt.legend()"
   ]
  },
  {
   "cell_type": "code",
   "execution_count": 87,
   "metadata": {},
   "outputs": [
    {
     "name": "stdout",
     "output_type": "stream",
     "text": [
      "\n",
      "Test AUC for k = 29 is 82.09%\n"
     ]
    }
   ],
   "source": [
    "knn = KNeighborsClassifier(n_neighbors=29)\n",
    "\n",
    "# fitting the model on crossvalidation train\n",
    "knn.fit(tfidf_w2v_train, tfidf_w2v_train_y)\n",
    "\n",
    "# predict the response on the test data\n",
    "predt = knn.predict_proba(tfidf_w2v_test)\n",
    "    \n",
    "predt = predt[:,1]\n",
    "fprt, tprt, throsholdt = roc_curve(tfidf_w2v_test_y , predt)\n",
    "roc_auct = auc(fprt , tprt)\n",
    "roc_auct = roc_auct * float(100)\n",
    "print('\\nTest AUC for k = 29 is %0.2f%%' % (roc_auct))"
   ]
  },
  {
   "cell_type": "code",
   "execution_count": 90,
   "metadata": {},
   "outputs": [
    {
     "name": "stdout",
     "output_type": "stream",
     "text": [
      "\n",
      "Test accuracy for k = 29 is 86%\n"
     ]
    }
   ],
   "source": [
    "knn = KNeighborsClassifier(n_neighbors=29)\n",
    "\n",
    "# fitting the model on crossvalidation train\n",
    "knn.fit(tfidf_w2v_train, tfidf_w2v_train_y)\n",
    "\n",
    "pred = knn.predict(tfidf_w2v_test)\n",
    "acc_test = accuracy_score(tfidf_w2v_test_y , pred, normalize=True)*float(100)\n",
    "print('\\nTest accuracy for k = 29 is %d%%'%(acc_test))"
   ]
  },
  {
   "cell_type": "code",
   "execution_count": 91,
   "metadata": {},
   "outputs": [
    {
     "data": {
      "text/plain": [
       "array([[  463,  1886],\n",
       "       [  183, 12468]])"
      ]
     },
     "execution_count": 91,
     "metadata": {},
     "output_type": "execute_result"
    }
   ],
   "source": [
    "confusion_matrix(tfidf_w2v_test_y, pred)"
   ]
  },
  {
   "cell_type": "code",
   "execution_count": 93,
   "metadata": {},
   "outputs": [
    {
     "data": {
      "text/plain": [
       "0.9233845584151084"
      ]
     },
     "execution_count": 93,
     "metadata": {},
     "output_type": "execute_result"
    }
   ],
   "source": [
    "f1_score(tfidf_w2v_test_y, pred)"
   ]
  },
  {
   "cell_type": "code",
   "execution_count": 94,
   "metadata": {},
   "outputs": [
    {
     "name": "stderr",
     "output_type": "stream",
     "text": [
      "/home/prasad/anaconda3/lib/python3.6/site-packages/sklearn/utils/deprecation.py:77: DeprecationWarning: Function plot_confusion_matrix is deprecated; This will be removed in v0.4.0. Please use scikitplot.metrics.plot_confusion_matrix instead.\n",
      "  warnings.warn(msg, category=DeprecationWarning)\n",
      "/home/prasad/anaconda3/lib/python3.6/site-packages/matplotlib/cbook/deprecation.py:107: MatplotlibDeprecationWarning: Passing one of 'on', 'true', 'off', 'false' as a boolean is deprecated; use an actual boolean (True/False) instead.\n",
      "  warnings.warn(message, mplDeprecation, stacklevel=1)\n"
     ]
    },
    {
     "data": {
      "image/png": "[encoded data removed]",
      "text/plain": [
       "<Figure size 576x396 with 2 Axes>"
      ]
     },
     "metadata": {},
     "output_type": "display_data"
    }
   ],
   "source": [
    "skplt.plot_confusion_matrix(tfidf_w2v_test_y, pred)\n",
    "plt.show()"
   ]
  },
  {
   "cell_type": "markdown",
   "metadata": {},
   "source": [
    "## [5.2] Applying KNN kd-tree"
   ]
  },
  {
   "cell_type": "markdown",
   "metadata": {},
   "source": [
    "### [5.2.1] Applying KNN kd-tree on BOW,<font color='red'> SET 5</font>"
   ]
  },
  {
   "cell_type": "code",
   "execution_count": 3,
   "metadata": {},
   "outputs": [],
   "source": [
    "# Please write all the code with proper documentation"
   ]
  },
  {
   "cell_type": "markdown",
   "metadata": {},
   "source": [
    "### [5.2.2] Applying KNN kd-tree on TFIDF,<font color='red'> SET 6</font>"
   ]
  },
  {
   "cell_type": "code",
   "execution_count": 3,
   "metadata": {},
   "outputs": [],
   "source": [
    "# Please write all the code with proper documentation"
   ]
  },
  {
   "cell_type": "markdown",
   "metadata": {},
   "source": [
    "### [5.2.3] Applying KNN kd-tree on AVG W2V,<font color='red'> SET 3</font>"
   ]
  },
  {
   "cell_type": "code",
   "execution_count": 3,
   "metadata": {},
   "outputs": [],
   "source": [
    "# Please write all the code with proper documentation"
   ]
  },
  {
   "cell_type": "markdown",
   "metadata": {},
   "source": [
    "### [5.2.4] Applying KNN kd-tree on TFIDF W2V,<font color='red'> SET 4</font>"
   ]
  },
  {
   "cell_type": "code",
   "execution_count": 3,
   "metadata": {},
   "outputs": [],
   "source": [
    "# Please write all the code with proper documentation"
   ]
  },
  {
   "cell_type": "markdown",
   "metadata": {},
   "source": [
    "# [6] Conclusions"
   ]
  },
  {
   "cell_type": "code",
   "execution_count": 4,
   "metadata": {},
   "outputs": [],
   "source": [
    "# Please compare all your models using Prettytable library"
   ]
  }
 ],
 "metadata": {
  "kernelspec": {
   "display_name": "Python 3",
   "language": "python",
   "name": "python3"
  },
  "language_info": {
   "codemirror_mode": {
    "name": "ipython",
    "version": 3
   },
   "file_extension": ".py",
   "mimetype": "text/x-python",
   "name": "python",
   "nbconvert_exporter": "python",
   "pygments_lexer": "ipython3",
   "version": "3.6.6"
  }
 },
 "nbformat": 4,
 "nbformat_minor": 2
}
