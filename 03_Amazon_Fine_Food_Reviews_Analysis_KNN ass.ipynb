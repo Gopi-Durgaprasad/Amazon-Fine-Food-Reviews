{
 "cells": [
  {
   "cell_type": "markdown",
   "metadata": {
    "colab_type": "text",
    "id": "CN42ehv17Wp0"
   },
   "source": [
    "# Amazon Fine Food Reviews Analysis\n",
    "\n",
    "\n",
    "Data Source: https://www.kaggle.com/snap/amazon-fine-food-reviews <br>\n",
    "\n",
    "EDA: https://nycdatascience.com/blog/student-works/amazon-fine-foods-visualization/\n",
    "\n",
    "\n",
    "The Amazon Fine Food Reviews dataset consists of reviews of fine foods from Amazon.<br>\n",
    "\n",
    "Number of reviews: 568,454<br>\n",
    "Number of users: 256,059<br>\n",
    "Number of products: 74,258<br>\n",
    "Timespan: Oct 1999 - Oct 2012<br>\n",
    "Number of Attributes/Columns in data: 10 \n",
    "\n",
    "Attribute Information:\n",
    "\n",
    "1. Id\n",
    "2. ProductId - unique identifier for the product\n",
    "3. UserId - unqiue identifier for the user\n",
    "4. ProfileName\n",
    "5. HelpfulnessNumerator - number of users who found the review helpful\n",
    "6. HelpfulnessDenominator - number of users who indicated whether they found the review helpful or not\n",
    "7. Score - rating between 1 and 5\n",
    "8. Time - timestamp for the review\n",
    "9. Summary - brief summary of the review\n",
    "10. Text - text of the review\n",
    "\n",
    "\n",
    "#### Objective:\n",
    "Given a review, determine whether the review is positive (rating of 4 or 5) or negative (rating of 1 or 2).\n",
    "\n",
    "<br>\n",
    "[Q] How to determine if a review is positive or negative?<br>\n",
    "<br> \n",
    "[Ans] We could use Score/Rating. A rating of 4 or 5 can be cosnidered as a positive review. A rating of 1 or 2 can be considered as negative one. A review of rating 3 is considered nuetral and such reviews are ignored from our analysis. This is an approximate and proxy way of determining the polarity (positivity/negativity) of a review.\n",
    "\n",
    "\n"
   ]
  },
  {
   "cell_type": "markdown",
   "metadata": {
    "colab_type": "text",
    "id": "Zyqeb6IZ7Wp8"
   },
   "source": [
    "# [1]. Reading Data"
   ]
  },
  {
   "cell_type": "markdown",
   "metadata": {
    "colab_type": "text",
    "id": "1oC4qMW97WqA"
   },
   "source": [
    "## [1.1] Loading the data\n",
    "\n",
    "The dataset is available in two forms\n",
    "1. .csv file\n",
    "2. SQLite Database\n",
    "\n",
    "In order to load the data, We have used the SQLITE dataset as it is easier to query the data and visualise the data efficiently.\n",
    "<br> \n",
    "\n",
    "Here as we only want to get the global sentiment of the recommendations (positive or negative), we will purposefully ignore all Scores equal to 3. If the score is above 3, then the recommendation wil be set to \"positive\". Otherwise, it will be set to \"negative\"."
   ]
  },
  {
   "cell_type": "code",
   "execution_count": 1,
   "metadata": {
    "colab": {},
    "colab_type": "code",
    "id": "P_s726i07WqC"
   },
   "outputs": [],
   "source": [
    "%matplotlib inline\n",
    "import warnings\n",
    "warnings.filterwarnings(\"ignore\")\n",
    "\n",
    "\n",
    "import sqlite3\n",
    "import pandas as pd\n",
    "import numpy as np\n",
    "import nltk\n",
    "import string\n",
    "import matplotlib.pyplot as plt\n",
    "import seaborn as sns\n",
    "from sklearn.feature_extraction.text import TfidfTransformer\n",
    "from sklearn.feature_extraction.text import TfidfVectorizer\n",
    "\n",
    "from sklearn.feature_extraction.text import CountVectorizer\n",
    "from sklearn.metrics import confusion_matrix\n",
    "from sklearn import metrics\n",
    "from sklearn.metrics import roc_curve, auc\n",
    "from nltk.stem.porter import PorterStemmer\n",
    "\n",
    "import re\n",
    "# Tutorial about Python regular expressions: https://pymotw.com/2/re/\n",
    "import string\n",
    "from nltk.corpus import stopwords\n",
    "from nltk.stem import PorterStemmer\n",
    "from nltk.stem.wordnet import WordNetLemmatizer\n",
    "\n",
    "from gensim.models import Word2Vec\n",
    "from gensim.models import KeyedVectors\n",
    "import pickle\n",
    "\n",
    "from tqdm import tqdm\n",
    "import os"
   ]
  },
  {
   "cell_type": "code",
   "execution_count": 0,
   "metadata": {
    "colab": {
     "base_uri": "https://localhost:8080/",
     "height": 329
    },
    "colab_type": "code",
    "id": "tM6of4WT7WqL",
    "outputId": "2c0bfdcf-5070-4534-9d74-b5c285334a01"
   },
   "outputs": [
    {
     "name": "stdout",
     "output_type": "stream",
     "text": [
      "Number of data points in our data (525814, 10)\n"
     ]
    },
    {
     "data": {
      "text/html": [
       "<div>\n",
       "<style scoped>\n",
       "    .dataframe tbody tr th:only-of-type {\n",
       "        vertical-align: middle;\n",
       "    }\n",
       "\n",
       "    .dataframe tbody tr th {\n",
       "        vertical-align: top;\n",
       "    }\n",
       "\n",
       "    .dataframe thead th {\n",
       "        text-align: right;\n",
       "    }\n",
       "</style>\n",
       "<table border=\"1\" class=\"dataframe\">\n",
       "  <thead>\n",
       "    <tr style=\"text-align: right;\">\n",
       "      <th></th>\n",
       "      <th>Id</th>\n",
       "      <th>ProductId</th>\n",
       "      <th>UserId</th>\n",
       "      <th>ProfileName</th>\n",
       "      <th>HelpfulnessNumerator</th>\n",
       "      <th>HelpfulnessDenominator</th>\n",
       "      <th>Score</th>\n",
       "      <th>Time</th>\n",
       "      <th>Summary</th>\n",
       "      <th>Text</th>\n",
       "    </tr>\n",
       "  </thead>\n",
       "  <tbody>\n",
       "    <tr>\n",
       "      <th>0</th>\n",
       "      <td>1</td>\n",
       "      <td>B001E4KFG0</td>\n",
       "      <td>A3SGXH7AUHU8GW</td>\n",
       "      <td>delmartian</td>\n",
       "      <td>1</td>\n",
       "      <td>1</td>\n",
       "      <td>1</td>\n",
       "      <td>1303862400</td>\n",
       "      <td>Good Quality Dog Food</td>\n",
       "      <td>I have bought several of the Vitality canned d...</td>\n",
       "    </tr>\n",
       "    <tr>\n",
       "      <th>1</th>\n",
       "      <td>2</td>\n",
       "      <td>B00813GRG4</td>\n",
       "      <td>A1D87F6ZCVE5NK</td>\n",
       "      <td>dll pa</td>\n",
       "      <td>0</td>\n",
       "      <td>0</td>\n",
       "      <td>0</td>\n",
       "      <td>1346976000</td>\n",
       "      <td>Not as Advertised</td>\n",
       "      <td>Product arrived labeled as Jumbo Salted Peanut...</td>\n",
       "    </tr>\n",
       "    <tr>\n",
       "      <th>2</th>\n",
       "      <td>3</td>\n",
       "      <td>B000LQOCH0</td>\n",
       "      <td>ABXLMWJIXXAIN</td>\n",
       "      <td>Natalia Corres \"Natalia Corres\"</td>\n",
       "      <td>1</td>\n",
       "      <td>1</td>\n",
       "      <td>1</td>\n",
       "      <td>1219017600</td>\n",
       "      <td>\"Delight\" says it all</td>\n",
       "      <td>This is a confection that has been around a fe...</td>\n",
       "    </tr>\n",
       "  </tbody>\n",
       "</table>\n",
       "</div>"
      ],
      "text/plain": [
       "   Id   ProductId          UserId                      ProfileName  \\\n",
       "0   1  B001E4KFG0  A3SGXH7AUHU8GW                       delmartian   \n",
       "1   2  B00813GRG4  A1D87F6ZCVE5NK                           dll pa   \n",
       "2   3  B000LQOCH0   ABXLMWJIXXAIN  Natalia Corres \"Natalia Corres\"   \n",
       "\n",
       "   HelpfulnessNumerator  HelpfulnessDenominator  Score        Time  \\\n",
       "0                     1                       1      1  1303862400   \n",
       "1                     0                       0      0  1346976000   \n",
       "2                     1                       1      1  1219017600   \n",
       "\n",
       "                 Summary                                               Text  \n",
       "0  Good Quality Dog Food  I have bought several of the Vitality canned d...  \n",
       "1      Not as Advertised  Product arrived labeled as Jumbo Salted Peanut...  \n",
       "2  \"Delight\" says it all  This is a confection that has been around a fe...  "
      ]
     },
     "execution_count": 5,
     "metadata": {
      "tags": []
     },
     "output_type": "execute_result"
    }
   ],
   "source": [
    "# using SQLite Table to read data.\n",
    "con = sqlite3.connect('drive/ai/database.sqlite') \n",
    "\n",
    "# filtering only positive and negative reviews i.e. \n",
    "# not taking into consideration those reviews with Score=3\n",
    "# SELECT * FROM Reviews WHERE Score != 3 LIMIT 500000, will give top 500000 data points\n",
    "# you can change the number to any other number based on your computing power\n",
    "\n",
    "# filtered_data = pd.read_sql_query(\"\"\" SELECT * FROM Reviews WHERE Score != 3 LIMIT 500000\"\"\", con) \n",
    "# for tsne assignment you can take 5k data points\n",
    "\n",
    "filtered_data = pd.read_sql_query(\"\"\" SELECT * FROM Reviews WHERE Score != 3 \"\"\", con) \n",
    "\n",
    "# Give reviews with Score>3 a positive rating(1), and reviews with a score<3 a negative rating(0).\n",
    "def partition(x):\n",
    "    if x < 3:\n",
    "        return 0\n",
    "    return 1\n",
    "\n",
    "#changing reviews with score less than 3 to be positive and vice-versa\n",
    "actualScore = filtered_data['Score']\n",
    "positiveNegative = actualScore.map(partition) \n",
    "filtered_data['Score'] = positiveNegative\n",
    "print(\"Number of data points in our data\", filtered_data.shape)\n",
    "filtered_data.head(3)"
   ]
  },
  {
   "cell_type": "code",
   "execution_count": 0,
   "metadata": {
    "colab": {},
    "colab_type": "code",
    "id": "UGoFlmiy7WqZ"
   },
   "outputs": [],
   "source": [
    "display = pd.read_sql_query(\"\"\"\n",
    "SELECT UserId, ProductId, ProfileName, Time, Score, Text, COUNT(*)\n",
    "FROM Reviews\n",
    "GROUP BY UserId\n",
    "HAVING COUNT(*)>1\n",
    "\"\"\", con)"
   ]
  },
  {
   "cell_type": "code",
   "execution_count": 0,
   "metadata": {
    "colab": {
     "base_uri": "https://localhost:8080/",
     "height": 221
    },
    "colab_type": "code",
    "id": "ZKGovIob7Wqf",
    "outputId": "bf37c2f2-97a7-402a-e915-895a1ccf78a5",
    "scrolled": true
   },
   "outputs": [
    {
     "name": "stdout",
     "output_type": "stream",
     "text": [
      "(80668, 7)\n"
     ]
    },
    {
     "data": {
      "text/html": [
       "<div>\n",
       "<style scoped>\n",
       "    .dataframe tbody tr th:only-of-type {\n",
       "        vertical-align: middle;\n",
       "    }\n",
       "\n",
       "    .dataframe tbody tr th {\n",
       "        vertical-align: top;\n",
       "    }\n",
       "\n",
       "    .dataframe thead th {\n",
       "        text-align: right;\n",
       "    }\n",
       "</style>\n",
       "<table border=\"1\" class=\"dataframe\">\n",
       "  <thead>\n",
       "    <tr style=\"text-align: right;\">\n",
       "      <th></th>\n",
       "      <th>UserId</th>\n",
       "      <th>ProductId</th>\n",
       "      <th>ProfileName</th>\n",
       "      <th>Time</th>\n",
       "      <th>Score</th>\n",
       "      <th>Text</th>\n",
       "      <th>COUNT(*)</th>\n",
       "    </tr>\n",
       "  </thead>\n",
       "  <tbody>\n",
       "    <tr>\n",
       "      <th>0</th>\n",
       "      <td>#oc-R115TNMSPFT9I7</td>\n",
       "      <td>B007Y59HVM</td>\n",
       "      <td>Breyton</td>\n",
       "      <td>1331510400</td>\n",
       "      <td>2</td>\n",
       "      <td>Overall its just OK when considering the price...</td>\n",
       "      <td>2</td>\n",
       "    </tr>\n",
       "    <tr>\n",
       "      <th>1</th>\n",
       "      <td>#oc-R11D9D7SHXIJB9</td>\n",
       "      <td>B005HG9ET0</td>\n",
       "      <td>Louis E. Emory \"hoppy\"</td>\n",
       "      <td>1342396800</td>\n",
       "      <td>5</td>\n",
       "      <td>My wife has recurring extreme muscle spasms, u...</td>\n",
       "      <td>3</td>\n",
       "    </tr>\n",
       "    <tr>\n",
       "      <th>2</th>\n",
       "      <td>#oc-R11DNU2NBKQ23Z</td>\n",
       "      <td>B007Y59HVM</td>\n",
       "      <td>Kim Cieszykowski</td>\n",
       "      <td>1348531200</td>\n",
       "      <td>1</td>\n",
       "      <td>This coffee is horrible and unfortunately not ...</td>\n",
       "      <td>2</td>\n",
       "    </tr>\n",
       "    <tr>\n",
       "      <th>3</th>\n",
       "      <td>#oc-R11O5J5ZVQE25C</td>\n",
       "      <td>B005HG9ET0</td>\n",
       "      <td>Penguin Chick</td>\n",
       "      <td>1346889600</td>\n",
       "      <td>5</td>\n",
       "      <td>This will be the bottle that you grab from the...</td>\n",
       "      <td>3</td>\n",
       "    </tr>\n",
       "    <tr>\n",
       "      <th>4</th>\n",
       "      <td>#oc-R12KPBODL2B5ZD</td>\n",
       "      <td>B007OSBE1U</td>\n",
       "      <td>Christopher P. Presta</td>\n",
       "      <td>1348617600</td>\n",
       "      <td>1</td>\n",
       "      <td>I didnt like this coffee. Instead of telling y...</td>\n",
       "      <td>2</td>\n",
       "    </tr>\n",
       "  </tbody>\n",
       "</table>\n",
       "</div>"
      ],
      "text/plain": [
       "               UserId   ProductId             ProfileName        Time  Score  \\\n",
       "0  #oc-R115TNMSPFT9I7  B007Y59HVM                 Breyton  1331510400      2   \n",
       "1  #oc-R11D9D7SHXIJB9  B005HG9ET0  Louis E. Emory \"hoppy\"  1342396800      5   \n",
       "2  #oc-R11DNU2NBKQ23Z  B007Y59HVM        Kim Cieszykowski  1348531200      1   \n",
       "3  #oc-R11O5J5ZVQE25C  B005HG9ET0           Penguin Chick  1346889600      5   \n",
       "4  #oc-R12KPBODL2B5ZD  B007OSBE1U   Christopher P. Presta  1348617600      1   \n",
       "\n",
       "                                                Text  COUNT(*)  \n",
       "0  Overall its just OK when considering the price...         2  \n",
       "1  My wife has recurring extreme muscle spasms, u...         3  \n",
       "2  This coffee is horrible and unfortunately not ...         2  \n",
       "3  This will be the bottle that you grab from the...         3  \n",
       "4  I didnt like this coffee. Instead of telling y...         2  "
      ]
     },
     "execution_count": 7,
     "metadata": {
      "tags": []
     },
     "output_type": "execute_result"
    }
   ],
   "source": [
    "print(display.shape)\n",
    "display.head()"
   ]
  },
  {
   "cell_type": "code",
   "execution_count": 0,
   "metadata": {
    "colab": {
     "base_uri": "https://localhost:8080/",
     "height": 80
    },
    "colab_type": "code",
    "id": "WxvSUa2Z7Wqm",
    "outputId": "11d6f01f-ee69-4f63-bb47-fa20ac1f70a4"
   },
   "outputs": [
    {
     "data": {
      "text/html": [
       "<div>\n",
       "<style scoped>\n",
       "    .dataframe tbody tr th:only-of-type {\n",
       "        vertical-align: middle;\n",
       "    }\n",
       "\n",
       "    .dataframe tbody tr th {\n",
       "        vertical-align: top;\n",
       "    }\n",
       "\n",
       "    .dataframe thead th {\n",
       "        text-align: right;\n",
       "    }\n",
       "</style>\n",
       "<table border=\"1\" class=\"dataframe\">\n",
       "  <thead>\n",
       "    <tr style=\"text-align: right;\">\n",
       "      <th></th>\n",
       "      <th>UserId</th>\n",
       "      <th>ProductId</th>\n",
       "      <th>ProfileName</th>\n",
       "      <th>Time</th>\n",
       "      <th>Score</th>\n",
       "      <th>Text</th>\n",
       "      <th>COUNT(*)</th>\n",
       "    </tr>\n",
       "  </thead>\n",
       "  <tbody>\n",
       "    <tr>\n",
       "      <th>80638</th>\n",
       "      <td>AZY10LLTJ71NX</td>\n",
       "      <td>B006P7E5ZI</td>\n",
       "      <td>undertheshrine \"undertheshrine\"</td>\n",
       "      <td>1334707200</td>\n",
       "      <td>5</td>\n",
       "      <td>I was recommended to try green tea extract to ...</td>\n",
       "      <td>5</td>\n",
       "    </tr>\n",
       "  </tbody>\n",
       "</table>\n",
       "</div>"
      ],
      "text/plain": [
       "              UserId   ProductId                      ProfileName        Time  \\\n",
       "80638  AZY10LLTJ71NX  B006P7E5ZI  undertheshrine \"undertheshrine\"  1334707200   \n",
       "\n",
       "       Score                                               Text  COUNT(*)  \n",
       "80638      5  I was recommended to try green tea extract to ...         5  "
      ]
     },
     "execution_count": 8,
     "metadata": {
      "tags": []
     },
     "output_type": "execute_result"
    }
   ],
   "source": [
    "display[display['UserId']=='AZY10LLTJ71NX']"
   ]
  },
  {
   "cell_type": "code",
   "execution_count": 0,
   "metadata": {
    "colab": {
     "base_uri": "https://localhost:8080/",
     "height": 34
    },
    "colab_type": "code",
    "id": "bN1SQxPm7Wqs",
    "outputId": "df6244e8-b8b1-4e84-d26b-fa4ac9db996d"
   },
   "outputs": [
    {
     "data": {
      "text/plain": [
       "393063"
      ]
     },
     "execution_count": 9,
     "metadata": {
      "tags": []
     },
     "output_type": "execute_result"
    }
   ],
   "source": [
    "display['COUNT(*)'].sum()"
   ]
  },
  {
   "cell_type": "markdown",
   "metadata": {
    "colab_type": "text",
    "id": "EoPrOEWR7Wqz"
   },
   "source": [
    "#  [2] Exploratory Data Analysis"
   ]
  },
  {
   "cell_type": "markdown",
   "metadata": {
    "colab_type": "text",
    "id": "m3Sr9ycw7Wq0"
   },
   "source": [
    "## [2.1] Data Cleaning: Deduplication\n",
    "\n",
    "It is observed (as shown in the table below) that the reviews data had many duplicate entries. Hence it was necessary to remove duplicates in order to get unbiased results for the analysis of the data.  Following is an example:"
   ]
  },
  {
   "cell_type": "code",
   "execution_count": 0,
   "metadata": {
    "colab": {
     "base_uri": "https://localhost:8080/",
     "height": 544
    },
    "colab_type": "code",
    "id": "a8YshGpM7Wq3",
    "outputId": "175f5982-15e9-4d1c-a348-1ba0d088319a",
    "scrolled": false
   },
   "outputs": [
    {
     "data": {
      "text/html": [
       "<div>\n",
       "<style scoped>\n",
       "    .dataframe tbody tr th:only-of-type {\n",
       "        vertical-align: middle;\n",
       "    }\n",
       "\n",
       "    .dataframe tbody tr th {\n",
       "        vertical-align: top;\n",
       "    }\n",
       "\n",
       "    .dataframe thead th {\n",
       "        text-align: right;\n",
       "    }\n",
       "</style>\n",
       "<table border=\"1\" class=\"dataframe\">\n",
       "  <thead>\n",
       "    <tr style=\"text-align: right;\">\n",
       "      <th></th>\n",
       "      <th>Id</th>\n",
       "      <th>ProductId</th>\n",
       "      <th>UserId</th>\n",
       "      <th>ProfileName</th>\n",
       "      <th>HelpfulnessNumerator</th>\n",
       "      <th>HelpfulnessDenominator</th>\n",
       "      <th>Score</th>\n",
       "      <th>Time</th>\n",
       "      <th>Summary</th>\n",
       "      <th>Text</th>\n",
       "    </tr>\n",
       "  </thead>\n",
       "  <tbody>\n",
       "    <tr>\n",
       "      <th>0</th>\n",
       "      <td>78445</td>\n",
       "      <td>B000HDL1RQ</td>\n",
       "      <td>AR5J8UI46CURR</td>\n",
       "      <td>Geetha Krishnan</td>\n",
       "      <td>2</td>\n",
       "      <td>2</td>\n",
       "      <td>5</td>\n",
       "      <td>1199577600</td>\n",
       "      <td>LOACKER QUADRATINI VANILLA WAFERS</td>\n",
       "      <td>DELICIOUS WAFERS. I FIND THAT EUROPEAN WAFERS ...</td>\n",
       "    </tr>\n",
       "    <tr>\n",
       "      <th>1</th>\n",
       "      <td>138317</td>\n",
       "      <td>B000HDOPYC</td>\n",
       "      <td>AR5J8UI46CURR</td>\n",
       "      <td>Geetha Krishnan</td>\n",
       "      <td>2</td>\n",
       "      <td>2</td>\n",
       "      <td>5</td>\n",
       "      <td>1199577600</td>\n",
       "      <td>LOACKER QUADRATINI VANILLA WAFERS</td>\n",
       "      <td>DELICIOUS WAFERS. I FIND THAT EUROPEAN WAFERS ...</td>\n",
       "    </tr>\n",
       "    <tr>\n",
       "      <th>2</th>\n",
       "      <td>138277</td>\n",
       "      <td>B000HDOPYM</td>\n",
       "      <td>AR5J8UI46CURR</td>\n",
       "      <td>Geetha Krishnan</td>\n",
       "      <td>2</td>\n",
       "      <td>2</td>\n",
       "      <td>5</td>\n",
       "      <td>1199577600</td>\n",
       "      <td>LOACKER QUADRATINI VANILLA WAFERS</td>\n",
       "      <td>DELICIOUS WAFERS. I FIND THAT EUROPEAN WAFERS ...</td>\n",
       "    </tr>\n",
       "    <tr>\n",
       "      <th>3</th>\n",
       "      <td>73791</td>\n",
       "      <td>B000HDOPZG</td>\n",
       "      <td>AR5J8UI46CURR</td>\n",
       "      <td>Geetha Krishnan</td>\n",
       "      <td>2</td>\n",
       "      <td>2</td>\n",
       "      <td>5</td>\n",
       "      <td>1199577600</td>\n",
       "      <td>LOACKER QUADRATINI VANILLA WAFERS</td>\n",
       "      <td>DELICIOUS WAFERS. I FIND THAT EUROPEAN WAFERS ...</td>\n",
       "    </tr>\n",
       "    <tr>\n",
       "      <th>4</th>\n",
       "      <td>155049</td>\n",
       "      <td>B000PAQ75C</td>\n",
       "      <td>AR5J8UI46CURR</td>\n",
       "      <td>Geetha Krishnan</td>\n",
       "      <td>2</td>\n",
       "      <td>2</td>\n",
       "      <td>5</td>\n",
       "      <td>1199577600</td>\n",
       "      <td>LOACKER QUADRATINI VANILLA WAFERS</td>\n",
       "      <td>DELICIOUS WAFERS. I FIND THAT EUROPEAN WAFERS ...</td>\n",
       "    </tr>\n",
       "  </tbody>\n",
       "</table>\n",
       "</div>"
      ],
      "text/plain": [
       "       Id   ProductId         UserId      ProfileName  HelpfulnessNumerator  \\\n",
       "0   78445  B000HDL1RQ  AR5J8UI46CURR  Geetha Krishnan                     2   \n",
       "1  138317  B000HDOPYC  AR5J8UI46CURR  Geetha Krishnan                     2   \n",
       "2  138277  B000HDOPYM  AR5J8UI46CURR  Geetha Krishnan                     2   \n",
       "3   73791  B000HDOPZG  AR5J8UI46CURR  Geetha Krishnan                     2   \n",
       "4  155049  B000PAQ75C  AR5J8UI46CURR  Geetha Krishnan                     2   \n",
       "\n",
       "   HelpfulnessDenominator  Score        Time  \\\n",
       "0                       2      5  1199577600   \n",
       "1                       2      5  1199577600   \n",
       "2                       2      5  1199577600   \n",
       "3                       2      5  1199577600   \n",
       "4                       2      5  1199577600   \n",
       "\n",
       "                             Summary  \\\n",
       "0  LOACKER QUADRATINI VANILLA WAFERS   \n",
       "1  LOACKER QUADRATINI VANILLA WAFERS   \n",
       "2  LOACKER QUADRATINI VANILLA WAFERS   \n",
       "3  LOACKER QUADRATINI VANILLA WAFERS   \n",
       "4  LOACKER QUADRATINI VANILLA WAFERS   \n",
       "\n",
       "                                                Text  \n",
       "0  DELICIOUS WAFERS. I FIND THAT EUROPEAN WAFERS ...  \n",
       "1  DELICIOUS WAFERS. I FIND THAT EUROPEAN WAFERS ...  \n",
       "2  DELICIOUS WAFERS. I FIND THAT EUROPEAN WAFERS ...  \n",
       "3  DELICIOUS WAFERS. I FIND THAT EUROPEAN WAFERS ...  \n",
       "4  DELICIOUS WAFERS. I FIND THAT EUROPEAN WAFERS ...  "
      ]
     },
     "execution_count": 10,
     "metadata": {
      "tags": []
     },
     "output_type": "execute_result"
    }
   ],
   "source": [
    "display= pd.read_sql_query(\"\"\"\n",
    "SELECT *\n",
    "FROM Reviews\n",
    "WHERE Score != 3 AND UserId=\"AR5J8UI46CURR\"\n",
    "ORDER BY ProductID\n",
    "\"\"\", con)\n",
    "display.head()"
   ]
  },
  {
   "cell_type": "markdown",
   "metadata": {
    "colab_type": "text",
    "id": "0LX6Q2rz7Wq-"
   },
   "source": [
    "As it can be seen above that same user has multiple reviews with same values for HelpfulnessNumerator, HelpfulnessDenominator, Score, Time, Summary and Text and on doing analysis it was found that <br>\n",
    "<br> \n",
    "ProductId=B000HDOPZG was Loacker Quadratini Vanilla Wafer Cookies, 8.82-Ounce Packages (Pack of 8)<br>\n",
    "<br> \n",
    "ProductId=B000HDL1RQ was Loacker Quadratini Lemon Wafer Cookies, 8.82-Ounce Packages (Pack of 8) and so on<br>\n",
    "\n",
    "It was inferred after analysis that reviews with same parameters other than ProductId belonged to the same product just having different flavour or quantity. Hence in order to reduce redundancy it was decided to eliminate the rows having same parameters.<br>\n",
    "\n",
    "The method used for the same was that we first sort the data according to ProductId and then just keep the first similar product review and delelte the others. for eg. in the above just the review for ProductId=B000HDL1RQ remains. This method ensures that there is only one representative for each product and deduplication without sorting would lead to possibility of different representatives still existing for the same product."
   ]
  },
  {
   "cell_type": "code",
   "execution_count": 0,
   "metadata": {
    "colab": {},
    "colab_type": "code",
    "id": "DFv3PqKW7Wq_"
   },
   "outputs": [],
   "source": [
    "#Sorting data according to ProductId in ascending order\n",
    "sorted_data=filtered_data.sort_values('ProductId', axis=0, ascending=True, inplace=False, kind='quicksort', na_position='last')"
   ]
  },
  {
   "cell_type": "code",
   "execution_count": 0,
   "metadata": {
    "colab": {
     "base_uri": "https://localhost:8080/",
     "height": 34
    },
    "colab_type": "code",
    "id": "hJz3qjAQ7WrE",
    "outputId": "4ffd158d-131f-416d-f39d-f4dbb9a97d7a"
   },
   "outputs": [
    {
     "data": {
      "text/plain": [
       "(364173, 10)"
      ]
     },
     "execution_count": 12,
     "metadata": {
      "tags": []
     },
     "output_type": "execute_result"
    }
   ],
   "source": [
    "#Deduplication of entries\n",
    "final=sorted_data.drop_duplicates(subset={\"UserId\",\"ProfileName\",\"Time\",\"Text\"}, keep='first', inplace=False)\n",
    "final.shape"
   ]
  },
  {
   "cell_type": "code",
   "execution_count": 0,
   "metadata": {
    "colab": {
     "base_uri": "https://localhost:8080/",
     "height": 34
    },
    "colab_type": "code",
    "id": "wJcR06-h7WrL",
    "outputId": "acd24332-3269-4372-e922-1e09feec6204"
   },
   "outputs": [
    {
     "data": {
      "text/plain": [
       "69.25890143662969"
      ]
     },
     "execution_count": 13,
     "metadata": {
      "tags": []
     },
     "output_type": "execute_result"
    }
   ],
   "source": [
    "#Checking to see how much % of data still remains\n",
    "(final['Id'].size*1.0)/(filtered_data['Id'].size*1.0)*100"
   ]
  },
  {
   "cell_type": "markdown",
   "metadata": {
    "colab_type": "text",
    "id": "j3q6ykMR7WrR"
   },
   "source": [
    "<b>Observation:-</b> It was also seen that in two rows given below the value of HelpfulnessNumerator is greater than HelpfulnessDenominator which is not practically possible hence these two rows too are removed from calcualtions"
   ]
  },
  {
   "cell_type": "code",
   "execution_count": 0,
   "metadata": {
    "colab": {
     "base_uri": "https://localhost:8080/",
     "height": 230
    },
    "colab_type": "code",
    "id": "hwtsic2K7WrT",
    "outputId": "fe00695a-8c57-4711-a122-3e3fda44e234"
   },
   "outputs": [
    {
     "data": {
      "text/html": [
       "<div>\n",
       "<style scoped>\n",
       "    .dataframe tbody tr th:only-of-type {\n",
       "        vertical-align: middle;\n",
       "    }\n",
       "\n",
       "    .dataframe tbody tr th {\n",
       "        vertical-align: top;\n",
       "    }\n",
       "\n",
       "    .dataframe thead th {\n",
       "        text-align: right;\n",
       "    }\n",
       "</style>\n",
       "<table border=\"1\" class=\"dataframe\">\n",
       "  <thead>\n",
       "    <tr style=\"text-align: right;\">\n",
       "      <th></th>\n",
       "      <th>Id</th>\n",
       "      <th>ProductId</th>\n",
       "      <th>UserId</th>\n",
       "      <th>ProfileName</th>\n",
       "      <th>HelpfulnessNumerator</th>\n",
       "      <th>HelpfulnessDenominator</th>\n",
       "      <th>Score</th>\n",
       "      <th>Time</th>\n",
       "      <th>Summary</th>\n",
       "      <th>Text</th>\n",
       "    </tr>\n",
       "  </thead>\n",
       "  <tbody>\n",
       "    <tr>\n",
       "      <th>0</th>\n",
       "      <td>64422</td>\n",
       "      <td>B000MIDROQ</td>\n",
       "      <td>A161DK06JJMCYF</td>\n",
       "      <td>J. E. Stephens \"Jeanne\"</td>\n",
       "      <td>3</td>\n",
       "      <td>1</td>\n",
       "      <td>5</td>\n",
       "      <td>1224892800</td>\n",
       "      <td>Bought This for My Son at College</td>\n",
       "      <td>My son loves spaghetti so I didn't hesitate or...</td>\n",
       "    </tr>\n",
       "    <tr>\n",
       "      <th>1</th>\n",
       "      <td>44737</td>\n",
       "      <td>B001EQ55RW</td>\n",
       "      <td>A2V0I904FH7ABY</td>\n",
       "      <td>Ram</td>\n",
       "      <td>3</td>\n",
       "      <td>2</td>\n",
       "      <td>4</td>\n",
       "      <td>1212883200</td>\n",
       "      <td>Pure cocoa taste with crunchy almonds inside</td>\n",
       "      <td>It was almost a 'love at first bite' - the per...</td>\n",
       "    </tr>\n",
       "  </tbody>\n",
       "</table>\n",
       "</div>"
      ],
      "text/plain": [
       "      Id   ProductId          UserId              ProfileName  \\\n",
       "0  64422  B000MIDROQ  A161DK06JJMCYF  J. E. Stephens \"Jeanne\"   \n",
       "1  44737  B001EQ55RW  A2V0I904FH7ABY                      Ram   \n",
       "\n",
       "   HelpfulnessNumerator  HelpfulnessDenominator  Score        Time  \\\n",
       "0                     3                       1      5  1224892800   \n",
       "1                     3                       2      4  1212883200   \n",
       "\n",
       "                                        Summary  \\\n",
       "0             Bought This for My Son at College   \n",
       "1  Pure cocoa taste with crunchy almonds inside   \n",
       "\n",
       "                                                Text  \n",
       "0  My son loves spaghetti so I didn't hesitate or...  \n",
       "1  It was almost a 'love at first bite' - the per...  "
      ]
     },
     "execution_count": 14,
     "metadata": {
      "tags": []
     },
     "output_type": "execute_result"
    }
   ],
   "source": [
    "display= pd.read_sql_query(\"\"\"\n",
    "SELECT *\n",
    "FROM Reviews\n",
    "WHERE Score != 3 AND Id=44737 OR Id=64422\n",
    "ORDER BY ProductID\n",
    "\"\"\", con)\n",
    "\n",
    "display.head()"
   ]
  },
  {
   "cell_type": "code",
   "execution_count": 0,
   "metadata": {
    "colab": {},
    "colab_type": "code",
    "id": "3hn5tg7O7Wrb"
   },
   "outputs": [],
   "source": [
    "final=final[final.HelpfulnessNumerator<=final.HelpfulnessDenominator]"
   ]
  },
  {
   "cell_type": "code",
   "execution_count": 0,
   "metadata": {
    "colab": {
     "base_uri": "https://localhost:8080/",
     "height": 85
    },
    "colab_type": "code",
    "id": "JUwgeXP87Wri",
    "outputId": "927df56d-0778-4d84-863f-c0cb76078045"
   },
   "outputs": [
    {
     "name": "stdout",
     "output_type": "stream",
     "text": [
      "(364171, 10)\n"
     ]
    },
    {
     "data": {
      "text/plain": [
       "1    307061\n",
       "0     57110\n",
       "Name: Score, dtype: int64"
      ]
     },
     "execution_count": 16,
     "metadata": {
      "tags": []
     },
     "output_type": "execute_result"
    }
   ],
   "source": [
    "#Before starting the next phase of preprocessing lets see the number of entries left\n",
    "print(final.shape)\n",
    "\n",
    "#How many positive and negative reviews are present in our dataset?\n",
    "final['Score'].value_counts()"
   ]
  },
  {
   "cell_type": "markdown",
   "metadata": {
    "colab_type": "text",
    "id": "0qVxtZ4w7Wrs"
   },
   "source": [
    "#  [3] Preprocessing"
   ]
  },
  {
   "cell_type": "markdown",
   "metadata": {
    "colab_type": "text",
    "id": "UvtJ1yUr7Wrv"
   },
   "source": [
    "## [3.1].  Preprocessing Review Text\n",
    "\n",
    "Now that we have finished deduplication our data requires some preprocessing before we go on further with analysis and making the prediction model.\n",
    "\n",
    "Hence in the Preprocessing phase we do the following in the order below:-\n",
    "\n",
    "1. Begin by removing the html tags\n",
    "2. Remove any punctuations or limited set of special characters like , or . or # etc.\n",
    "3. Check if the word is made up of english letters and is not alpha-numeric\n",
    "4. Check to see if the length of the word is greater than 2 (as it was researched that there is no adjective in 2-letters)\n",
    "5. Convert the word to lowercase\n",
    "6. Remove Stopwords\n",
    "7. Finally Snowball Stemming the word (it was obsereved to be better than Porter Stemming)<br>\n",
    "\n",
    "After which we collect the words used to describe positive and negative reviews"
   ]
  },
  {
   "cell_type": "code",
   "execution_count": 0,
   "metadata": {
    "colab": {
     "base_uri": "https://localhost:8080/",
     "height": 173
    },
    "colab_type": "code",
    "id": "pSOJGE9A7Wry",
    "outputId": "97672449-8bd6-490b-b645-df02919bb0ce"
   },
   "outputs": [
    {
     "name": "stdout",
     "output_type": "stream",
     "text": [
      "this witty little book makes my son laugh at loud. i recite it in the car as we're driving along and he always can sing the refrain. he's learned about whales, India, drooping roses:  i love all the new words this book  introduces and the silliness of it all.  this is a classic book i am  willing to bet my son will STILL be able to recite from memory when he is  in college\n",
      "==================================================\n",
      "I was really looking forward to these pods based on the reviews.  Starbucks is good, but I prefer bolder taste.... imagine my surprise when I ordered 2 boxes - both were expired! One expired back in 2005 for gosh sakes.  I admit that Amazon agreed to credit me for cost plus part of shipping, but geez, 2 years expired!!!  I'm hoping to find local San Diego area shoppe that carries pods so that I can try something different than starbucks.\n",
      "==================================================\n",
      "Great ingredients although, chicken should have been 1st rather than chicken broth, the only thing I do not think belongs in it is Canola oil. Canola or rapeseed is not someting a dog would ever find in nature and if it did find rapeseed in nature and eat it, it would poison them. Today's Food industries have convinced the masses that Canola oil is a safe and even better oil than olive or virgin coconut, facts though say otherwise. Until the late 70's it was poisonous until they figured out a way to fix that. I still like it but it could be better.\n",
      "==================================================\n",
      "Can't do sugar.  Have tried scores of SF Syrups.  NONE of them can touch the excellence of this product.<br /><br />Thick, delicious.  Perfect.  3 ingredients: Water, Maltitol, Natural Maple Flavor.  PERIOD.  No chemicals.  No garbage.<br /><br />Have numerous friends & family members hooked on this stuff.  My husband & son, who do NOT like \"sugar free\" prefer this over major label regular syrup.<br /><br />I use this as my SWEETENER in baking: cheesecakes, white brownies, muffins, pumpkin pies, etc... Unbelievably delicious...<br /><br />Can you tell I like it? :)\n",
      "==================================================\n"
     ]
    }
   ],
   "source": [
    "# printing some random reviews\n",
    "sent_0 = final['Text'].values[0]\n",
    "print(sent_0)\n",
    "print(\"=\"*50)\n",
    "\n",
    "sent_1000 = final['Text'].values[1000]\n",
    "print(sent_1000)\n",
    "print(\"=\"*50)\n",
    "\n",
    "sent_1500 = final['Text'].values[1500]\n",
    "print(sent_1500)\n",
    "print(\"=\"*50)\n",
    "\n",
    "sent_4900 = final['Text'].values[4900]\n",
    "print(sent_4900)\n",
    "print(\"=\"*50)"
   ]
  },
  {
   "cell_type": "code",
   "execution_count": 0,
   "metadata": {
    "colab": {
     "base_uri": "https://localhost:8080/",
     "height": 292
    },
    "colab_type": "code",
    "id": "tBGY3XuP7Wr_",
    "outputId": "81711f73-6553-48f0-e8e8-fec93baab161"
   },
   "outputs": [
    {
     "name": "stdout",
     "output_type": "stream",
     "text": [
      "http://www.amazon.com/gp/product/B0002XEI9O/ref=cm_cr_rev_prod_title<br /><br />So far, the Sprout Bag is good for growing various legume / bean - Sprouts. I am also using the bag to store the completed product in the refrigerator.  A second hanging handle, at the top, would be helpful.\n",
      "indes =  18044\n",
      "==================================================\n",
      "http://www.amazon.com/gp/product/B000ER3EFC/ref=cm_cr_rev_prod_img<br /><br />I don't have a baby, but I am on soft foods for a while after stomach surgery. I ordered some baby foods from Amazon and promptly found out why my babies never would eat baby food. This is supposedly sweet potatoes, but they found a way to remove all the earthy goodness. Before I added salt it tasted like nothing eaten by a human; with salt, it tasted like very mild carrots. I suppose I will eventually use it in baking, but frankly, if it's sweet potatoes I never want to meet the strain of sweet potatoes it came from.\n",
      "indes =  53187\n",
      "==================================================\n",
      "http://www.amazon.com/gp/product/B000MVGVY6/ref=cm_cr_rev_prod_img<br /><br />I have been in Utah over 25 years, at an altitude of about 4200 feet. My internist says that's not too high, but from all I can learn from family history, history, protohistory, and prehistory, my ancestors for at least 10,000 years have lived at or near sea level. My oxygen levels tend to get very low when the atmospheric pressure drops or I am extra tired. Since I know that coca combats altitude sickness, I decided to try it. Instead of spending the day in bed with an oxygen hose stuck up my nose to combat an O2 level of about 69, I am able to work all day with an oxygen level about 98. I dislike paying $[...] for coca tea, but I am paying $300 a month for my oxygen machine. I'll take the tea, thank you. My internist throws a tantrum about it, but my pulmonologist says that in his experience, a person with my background is unable to adjust to the altitude and it might take four generations before her descendants can do so. Since I was past child-bearing age when I moved here . . . . well, my coca tea is steeping, so I'd better go and drink it. I have a lot of work to do today.\n",
      "indes =  104802\n",
      "==================================================\n",
      "http://www.amazon.com/gp/product/B000UZP92Y/ref=cm_cr_rev_prod_title<br /><br />This product is supposed to be the \"Herbal Revive\"  version but it does not exist in the Amazon inventory.  The one they distribute is \"regular\" lemon and ginger tea which does not have the same sharp flavor as the Herbal Revive.\n",
      "indes =  123863\n",
      "==================================================\n",
      "http://www.consumeraffairs.com/news04/2009/06/fda_evangers02.html<br /><br />This company has been barred from shipping products by the FDA because of documented botulism in their dog food.  Buyer beware!\n",
      "indes =  130020\n",
      "==================================================\n"
     ]
    }
   ],
   "source": [
    "# https://codereview.stackexchange.com/questions/19663/http-url-validating\n",
    "i, j = 0 , 0\n",
    "for test in (final['Text'].values):\n",
    "  i = i + 1\n",
    "  if re.match('https?://(?:www)?(?:[\\w-]{2,255}(?:\\.\\w{2,6}){1,2})(?:/[\\w&%?#-]{1,300})?',test):\n",
    "      print(test)\n",
    "      print(\"indes = \",i)\n",
    "      print(\"=\"*50)\n",
    "      j = j + 1\n",
    "      if j == 5:\n",
    "        break;"
   ]
  },
  {
   "cell_type": "code",
   "execution_count": 0,
   "metadata": {
    "colab": {
     "base_uri": "https://localhost:8080/",
     "height": 173
    },
    "colab_type": "code",
    "id": "3bZ3e6A37WsF",
    "outputId": "5bf2b62d-a055-4f34-f249-aff27a64a948"
   },
   "outputs": [
    {
     "name": "stdout",
     "output_type": "stream",
     "text": [
      "http://www.amazon.com/gp/product/B0002XEI9O/ref=cm_cr_rev_prod_title<br /><br />So far, the Sprout Bag is good for growing various legume / bean - Sprouts. I am also using the bag to store the completed product in the refrigerator.  A second hanging handle, at the top, would be helpful.\n",
      "==================================================\n",
      "http://www.amazon.com/gp/product/B000ER3EFC/ref=cm_cr_rev_prod_img<br /><br />I don't have a baby, but I am on soft foods for a while after stomach surgery. I ordered some baby foods from Amazon and promptly found out why my babies never would eat baby food. This is supposedly sweet potatoes, but they found a way to remove all the earthy goodness. Before I added salt it tasted like nothing eaten by a human; with salt, it tasted like very mild carrots. I suppose I will eventually use it in baking, but frankly, if it's sweet potatoes I never want to meet the strain of sweet potatoes it came from.\n",
      "==================================================\n",
      "http://www.amazon.com/gp/product/B000MVGVY6/ref=cm_cr_rev_prod_img<br /><br />I have been in Utah over 25 years, at an altitude of about 4200 feet. My internist says that's not too high, but from all I can learn from family history, history, protohistory, and prehistory, my ancestors for at least 10,000 years have lived at or near sea level. My oxygen levels tend to get very low when the atmospheric pressure drops or I am extra tired. Since I know that coca combats altitude sickness, I decided to try it. Instead of spending the day in bed with an oxygen hose stuck up my nose to combat an O2 level of about 69, I am able to work all day with an oxygen level about 98. I dislike paying $[...] for coca tea, but I am paying $300 a month for my oxygen machine. I'll take the tea, thank you. My internist throws a tantrum about it, but my pulmonologist says that in his experience, a person with my background is unable to adjust to the altitude and it might take four generations before her descendants can do so. Since I was past child-bearing age when I moved here . . . . well, my coca tea is steeping, so I'd better go and drink it. I have a lot of work to do today.\n",
      "==================================================\n",
      "http://www.amazon.com/gp/product/B000UZP92Y/ref=cm_cr_rev_prod_title<br /><br />This product is supposed to be the \"Herbal Revive\"  version but it does not exist in the Amazon inventory.  The one they distribute is \"regular\" lemon and ginger tea which does not have the same sharp flavor as the Herbal Revive.\n",
      "==================================================\n"
     ]
    }
   ],
   "source": [
    "# printing some urls test reviews\n",
    "sent_18044 = final['Text'].values[18044 - 1]\n",
    "print(sent_18044)\n",
    "print(\"=\"*50)\n",
    "\n",
    "sent_53187 = final['Text'].values[53187 - 1]\n",
    "print(sent_53187)\n",
    "print(\"=\"*50)\n",
    "\n",
    "sent_104802 = final['Text'].values[104802 - 1]\n",
    "print(sent_104802)\n",
    "print(\"=\"*50)\n",
    "\n",
    "sent_123863 = final['Text'].values[123863 - 1]\n",
    "print(sent_123863)\n",
    "print(\"=\"*50)"
   ]
  },
  {
   "cell_type": "code",
   "execution_count": 0,
   "metadata": {
    "colab": {
     "base_uri": "https://localhost:8080/",
     "height": 88
    },
    "colab_type": "code",
    "id": "CRlVd79G7WsK",
    "outputId": "dbe932f4-07a2-43d6-9f49-892c4cbbfc0c"
   },
   "outputs": [
    {
     "name": "stdout",
     "output_type": "stream",
     "text": [
      " /><br />So far, the Sprout Bag is good for growing various legume / bean - Sprouts. I am also using the bag to store the completed product in the refrigerator.  A second hanging handle, at the top, would be helpful.\n",
      "========================================\n",
      " /><br />This product is supposed to be the \"Herbal Revive\"  version but it does not exist in the Amazon inventory.  The one they distribute is \"regular\" lemon and ginger tea which does not have the same sharp flavor as the Herbal Revive.\n"
     ]
    }
   ],
   "source": [
    "# remove urls from text python: https://stackoverflow.com/a/40823105/4084039\n",
    "sent_18044 = re.sub(r\"http\\S+\", \"\", sent_18044)\n",
    "sent_53187= re.sub(r\"http\\S+\", \"\", sent_53187)\n",
    "sent_104802 = re.sub(r\"http\\S+\", \"\", sent_104802)\n",
    "sent_123863 = re.sub(r\"http\\S+\", \"\", sent_123863)\n",
    "\n",
    "print(sent_18044)\n",
    "print(\"=\"*40)\n",
    "print(sent_123863)"
   ]
  },
  {
   "cell_type": "code",
   "execution_count": 0,
   "metadata": {
    "colab": {
     "base_uri": "https://localhost:8080/",
     "height": 156
    },
    "colab_type": "code",
    "id": "SMVSJ7nh7WsQ",
    "outputId": "195497b7-9e5d-421b-9b1c-9139c63701dd"
   },
   "outputs": [
    {
     "name": "stdout",
     "output_type": "stream",
     "text": [
      "/>So far, the Sprout Bag is good for growing various legume / bean - Sprouts. I am also using the bag to store the completed product in the refrigerator.  A second hanging handle, at the top, would be helpful.\n",
      "==================================================\n",
      "/>I don't have a baby, but I am on soft foods for a while after stomach surgery. I ordered some baby foods from Amazon and promptly found out why my babies never would eat baby food. This is supposedly sweet potatoes, but they found a way to remove all the earthy goodness. Before I added salt it tasted like nothing eaten by a human; with salt, it tasted like very mild carrots. I suppose I will eventually use it in baking, but frankly, if it's sweet potatoes I never want to meet the strain of sweet potatoes it came from.\n",
      "==================================================\n",
      "/>I have been in Utah over 25 years, at an altitude of about 4200 feet. My internist says that's not too high, but from all I can learn from family history, history, protohistory, and prehistory, my ancestors for at least 10,000 years have lived at or near sea level. My oxygen levels tend to get very low when the atmospheric pressure drops or I am extra tired. Since I know that coca combats altitude sickness, I decided to try it. Instead of spending the day in bed with an oxygen hose stuck up my nose to combat an O2 level of about 69, I am able to work all day with an oxygen level about 98. I dislike paying $[...] for coca tea, but I am paying $300 a month for my oxygen machine. I'll take the tea, thank you. My internist throws a tantrum about it, but my pulmonologist says that in his experience, a person with my background is unable to adjust to the altitude and it might take four generations before her descendants can do so. Since I was past child-bearing age when I moved here . . . . well, my coca tea is steeping, so I'd better go and drink it. I have a lot of work to do today.\n",
      "==================================================\n",
      "/>This product is supposed to be the \"Herbal Revive\"  version but it does not exist in the Amazon inventory.  The one they distribute is \"regular\" lemon and ginger tea which does not have the same sharp flavor as the Herbal Revive.\n"
     ]
    }
   ],
   "source": [
    "# https://stackoverflow.com/questions/16206380/python-beautifulsoup-how-to-remove-all-tags-from-an-element\n",
    "from bs4 import BeautifulSoup\n",
    "\n",
    "soup = BeautifulSoup(sent_18044, 'lxml')\n",
    "text = soup.get_text()\n",
    "print(text)\n",
    "print(\"=\"*50)\n",
    "\n",
    "soup = BeautifulSoup(sent_53187, 'lxml')\n",
    "text = soup.get_text()\n",
    "print(text)\n",
    "print(\"=\"*50)\n",
    "\n",
    "soup = BeautifulSoup(sent_104802, 'lxml')\n",
    "text = soup.get_text()\n",
    "print(text)\n",
    "print(\"=\"*50)\n",
    "\n",
    "soup = BeautifulSoup(sent_123863, 'lxml')\n",
    "text = soup.get_text()\n",
    "print(text)"
   ]
  },
  {
   "cell_type": "code",
   "execution_count": 0,
   "metadata": {
    "colab": {},
    "colab_type": "code",
    "id": "4Go0-3TD7WsX"
   },
   "outputs": [],
   "source": [
    "# https://stackoverflow.com/a/47091490/4084039\n",
    "import re\n",
    "\n",
    "def decontracted(phrase):\n",
    "    # specific\n",
    "    phrase = re.sub(r\"won't\", \"will not\", phrase)\n",
    "    phrase = re.sub(r\"can\\'t\", \"can not\", phrase)\n",
    "\n",
    "    # general\n",
    "    phrase = re.sub(r\"n\\'t\", \" not\", phrase)\n",
    "    phrase = re.sub(r\"\\'re\", \" are\", phrase)\n",
    "    phrase = re.sub(r\"\\'s\", \" is\", phrase)\n",
    "    phrase = re.sub(r\"\\'d\", \" would\", phrase)\n",
    "    phrase = re.sub(r\"\\'ll\", \" will\", phrase)\n",
    "    phrase = re.sub(r\"\\'t\", \" not\", phrase)\n",
    "    phrase = re.sub(r\"\\'ve\", \" have\", phrase)\n",
    "    phrase = re.sub(r\"\\'m\", \" am\", phrase)\n",
    "    return phrase"
   ]
  },
  {
   "cell_type": "code",
   "execution_count": 0,
   "metadata": {
    "colab": {
     "base_uri": "https://localhost:8080/",
     "height": 139
    },
    "colab_type": "code",
    "id": "dumHW_OY7Wsb",
    "outputId": "669b992a-1c2b-4a49-cac6-76dc05db8de0"
   },
   "outputs": [
    {
     "name": "stdout",
     "output_type": "stream",
     "text": [
      " /><br />So far, the Sprout Bag is good for growing various legume / bean - Sprouts. I am also using the bag to store the completed product in the refrigerator.  A second hanging handle, at the top, would be helpful.\n",
      "==================================================\n",
      " /><br />I do not have a baby, but I am on soft foods for a while after stomach surgery. I ordered some baby foods from Amazon and promptly found out why my babies never would eat baby food. This is supposedly sweet potatoes, but they found a way to remove all the earthy goodness. Before I added salt it tasted like nothing eaten by a human; with salt, it tasted like very mild carrots. I suppose I will eventually use it in baking, but frankly, if it is sweet potatoes I never want to meet the strain of sweet potatoes it came from.\n",
      "==================================================\n",
      " /><br />This product is supposed to be the \"Herbal Revive\"  version but it does not exist in the Amazon inventory.  The one they distribute is \"regular\" lemon and ginger tea which does not have the same sharp flavor as the Herbal Revive.\n",
      "==================================================\n"
     ]
    }
   ],
   "source": [
    "sent_18044 = decontracted(sent_18044)\n",
    "print(sent_18044)\n",
    "print(\"=\"*50)\n",
    "sent_53187 = decontracted(sent_53187)\n",
    "print(sent_53187)\n",
    "print(\"=\"*50)\n",
    "sent_123863 = decontracted(sent_123863)\n",
    "print(sent_123863)\n",
    "print(\"=\"*50)"
   ]
  },
  {
   "cell_type": "code",
   "execution_count": 0,
   "metadata": {
    "colab": {
     "base_uri": "https://localhost:8080/",
     "height": 292
    },
    "colab_type": "code",
    "id": "jgvXxTHJ7Wsh",
    "outputId": "439586dd-eea2-461c-e969-c5e28445e919"
   },
   "outputs": [
    {
     "name": "stdout",
     "output_type": "stream",
     "text": [
      "[[ASIN:B001AGXEAG Beetlejuice (20th Anniversary Deluxe Edition)]<br /><br />Beetlejuice, the Tim Burton classic from 1988 now comes to you packaged as a 20th Anniversary DVD edition.  Michael Keaton, I think in one of his best film performances brings down the house.  Also starring Geena Davis and Alec Baldwin, two actors you would have never thought to put together in a movie of this genre, it is classic comedy at its best.  The DVD also has special features, although nothing to make your head spin, but it offers several episodes of the cartoon series from the late 1980's.  But beyond that, nothing too spectacular; not that it needs that much more. A simple classic comedy that if it doesn't make you laugh, something is wrong with you and you should be exorcised!  With that being said, buy it if you don't own it. It's a must have dark comedy.\n",
      "indes =  391\n",
      "==================================================\n",
      "1st day, few stupid flies went in. 2nd day, it smell so so bad, had it relocated... 4th day, hundreds flies... OMG. It works so great... all blocks of flies come over having the party to die...\n",
      "indes =  752\n",
      "==================================================\n",
      "1st: my cats really don't eat this brand with much relish like they did when Wellness had the mylar bags. We really miss those bags, the food just seemed to taste better to my cats. Canned, they won't touch any flavor but turkey.<br /><br />2nd: I've had 3 out of 12 in a case smell off and even the dogs won't touch it. So just check yours JIK.<br /><br />What has happened to this brand? They were the BEST 2 years ago!\n",
      "indes =  1699\n",
      "==================================================\n",
      "5 star.  Our vet recommended this product for our 8 year old male Golden Retriever.  He had some stomach issues at the time and was a little over weight.  We switched from Eukanuba.  Since changing, the stomach issues have never come back, and he is at normal weight now.\n",
      "indes =  2259\n",
      "==================================================\n",
      "24 packs for $19.94 comes to .83 per pack.  That is a bargain and does not even consider the subscribe and save 15% discount which would amount to a price of $16.95 or .71 per pack.  Purchasing a single pack on the Amazon site costs $6.79 (plus shipping if you don't qualify for Super Saver).  In addition, at least Amazon has these available.  I could not find them in any store.<br /><br />P.S.  I plan to drink a lot of coffee.\n",
      "indes =  2805\n",
      "==================================================\n"
     ]
    }
   ],
   "source": [
    "# https://codereview.stackexchange.com/questions/19663/http-url-validating\n",
    "i, j = 0 , 0\n",
    "for test in (final['Text'].values):\n",
    "  i = i + 1\n",
    "  if re.match(\"\\S*\\d\\S*\",test):\n",
    "      print(test)\n",
    "      print(\"indes = \",i)\n",
    "      print(\"=\"*50)\n",
    "      j = j + 1\n",
    "      if j == 5:\n",
    "        break;"
   ]
  },
  {
   "cell_type": "code",
   "execution_count": 0,
   "metadata": {
    "colab": {
     "base_uri": "https://localhost:8080/",
     "height": 54
    },
    "colab_type": "code",
    "id": "LbTGsWB27Wso",
    "outputId": "3cb0a328-113a-4df9-ac03-af43d97ae638"
   },
   "outputs": [
    {
     "name": "stdout",
     "output_type": "stream",
     "text": [
      "24 packs for $19.94 comes to .83 per pack.  That is a bargain and does not even consider the subscribe and save 15% discount which would amount to a price of $16.95 or .71 per pack.  Purchasing a single pack on the Amazon site costs $6.79 (plus shipping if you don't qualify for Super Saver).  In addition, at least Amazon has these available.  I could not find them in any store.<br /><br />P.S.  I plan to drink a lot of coffee.\n"
     ]
    }
   ],
   "source": [
    "#remove words with numbers python: https://stackoverflow.com/a/18082370/4084039\n",
    "sent = final['Text'].values[2805 - 1]\n",
    "print(sent)"
   ]
  },
  {
   "cell_type": "code",
   "execution_count": 0,
   "metadata": {
    "colab": {
     "base_uri": "https://localhost:8080/",
     "height": 54
    },
    "colab_type": "code",
    "id": "1mXr8CUL7Wsv",
    "outputId": "67b80d45-c626-42da-ba16-5491621219ba"
   },
   "outputs": [
    {
     "name": "stdout",
     "output_type": "stream",
     "text": [
      "packs for  comes to  per pack.  That is a bargain and does not even consider the subscribe and save  discount which would amount to a price of  or  per pack.  Purchasing a single pack on the Amazon site costs  (plus shipping if you don't qualify for Super Saver).  In addition, at least Amazon has these available.  I could not find them in any store.<br /><br />P.S.  I plan to drink a lot of coffee.\n"
     ]
    }
   ],
   "source": [
    "#remove words with numbers python: https://stackoverflow.com/a/18082370/4084039\n",
    "sent = re.sub(\"\\S*\\d\\S*\", \"\", sent).strip()\n",
    "print(sent)"
   ]
  },
  {
   "cell_type": "code",
   "execution_count": 0,
   "metadata": {
    "colab": {
     "base_uri": "https://localhost:8080/",
     "height": 54
    },
    "colab_type": "code",
    "id": "tFKe3LWs7Ws0",
    "outputId": "8cda803c-aee7-4640-9399-b853de811a6a"
   },
   "outputs": [
    {
     "name": "stdout",
     "output_type": "stream",
     "text": [
      " br So far the Sprout Bag is good for growing various legume bean Sprouts I am also using the bag to store the completed product in the refrigerator A second hanging handle at the top would be helpful \n"
     ]
    }
   ],
   "source": [
    "#remove spacial character: https://stackoverflow.com/a/5843547/4084039\n",
    "sent_18044 = re.sub('[^A-Za-z0-9]+', ' ', sent_18044)\n",
    "print(sent_18044)"
   ]
  },
  {
   "cell_type": "code",
   "execution_count": 0,
   "metadata": {
    "colab": {},
    "colab_type": "code",
    "id": "wqUccL9l7Ws6"
   },
   "outputs": [],
   "source": [
    "# https://gist.github.com/sebleier/554280\n",
    "# we are removing the words from the stop words list: 'no', 'nor', 'not'\n",
    "# <br /><br /> ==> after the above steps, we are getting \"br br\"\n",
    "# we are including them into stop words list\n",
    "# instead of <br /> if we have <br/> these tags would have revmoved in the 1st step\n",
    "\n",
    "stopwords= set(['br', 'the', 'i', 'me', 'my', 'myself', 'we', 'our', 'ours', 'ourselves', 'you', \"you're\", \"you've\",\\\n",
    "            \"you'll\", \"you'd\", 'your', 'yours', 'yourself', 'yourselves', 'he', 'him', 'his', 'himself', \\\n",
    "            'she', \"she's\", 'her', 'hers', 'herself', 'it', \"it's\", 'its', 'itself', 'they', 'them', 'their',\\\n",
    "            'theirs', 'themselves', 'what', 'which', 'who', 'whom', 'this', 'that', \"that'll\", 'these', 'those', \\\n",
    "            'am', 'is', 'are', 'was', 'were', 'be', 'been', 'being', 'have', 'has', 'had', 'having', 'do', 'does', \\\n",
    "            'did', 'doing', 'a', 'an', 'the', 'and', 'but', 'if', 'or', 'because', 'as', 'until', 'while', 'of', \\\n",
    "            'at', 'by', 'for', 'with', 'about', 'against', 'between', 'into', 'through', 'during', 'before', 'after',\\\n",
    "            'above', 'below', 'to', 'from', 'up', 'down', 'in', 'out', 'on', 'off', 'over', 'under', 'again', 'further',\\\n",
    "            'then', 'once', 'here', 'there', 'when', 'where', 'why', 'how', 'all', 'any', 'both', 'each', 'few', 'more',\\\n",
    "            'most', 'other', 'some', 'such', 'only', 'own', 'same', 'so', 'than', 'too', 'very', \\\n",
    "            's', 't', 'can', 'will', 'just', 'don', \"don't\", 'should', \"should've\", 'now', 'd', 'll', 'm', 'o', 're', \\\n",
    "            've', 'y', 'ain', 'aren', \"aren't\", 'couldn', \"couldn't\", 'didn', \"didn't\", 'doesn', \"doesn't\", 'hadn',\\\n",
    "            \"hadn't\", 'hasn', \"hasn't\", 'haven', \"haven't\", 'isn', \"isn't\", 'ma', 'mightn', \"mightn't\", 'mustn',\\\n",
    "            \"mustn't\", 'needn', \"needn't\", 'shan', \"shan't\", 'shouldn', \"shouldn't\", 'wasn', \"wasn't\", 'weren', \"weren't\", \\\n",
    "            'won', \"won't\", 'wouldn', \"wouldn't\"])"
   ]
  },
  {
   "cell_type": "code",
   "execution_count": 0,
   "metadata": {
    "colab": {
     "base_uri": "https://localhost:8080/",
     "height": 34
    },
    "colab_type": "code",
    "id": "ZknB1MNs7WtA",
    "outputId": "616198ba-abec-461f-f35e-9c2b324d4248"
   },
   "outputs": [
    {
     "name": "stderr",
     "output_type": "stream",
     "text": [
      "100%|██████████| 364171/364171 [02:38<00:00, 2298.24it/s]\n"
     ]
    }
   ],
   "source": [
    "# Combining all the above stundents \n",
    "from tqdm import tqdm\n",
    "preprocessed_reviews = []\n",
    "# tqdm is for printing the status bar\n",
    "for sentance in tqdm(final['Text'].values):\n",
    "    sentance = re.sub(r\"http\\S+\", \"\", sentance)\n",
    "    sentance = BeautifulSoup(sentance, 'lxml').get_text()\n",
    "    sentance = decontracted(sentance)\n",
    "    sentance = re.sub(\"\\S*\\d\\S*\", \"\", sentance).strip()\n",
    "    sentance = re.sub('[^A-Za-z]+', ' ', sentance)\n",
    "    # https://gist.github.com/sebleier/554280\n",
    "    sentance = ' '.join(e.lower() for e in sentance.split() if e.lower() not in stopwords)\n",
    "    preprocessed_reviews.append(sentance.strip())"
   ]
  },
  {
   "cell_type": "code",
   "execution_count": 0,
   "metadata": {
    "colab": {
     "base_uri": "https://localhost:8080/",
     "height": 54
    },
    "colab_type": "code",
    "id": "IEUvY0CN7WtJ",
    "outputId": "025d10e4-509f-40e7-c525-cc834c8d57d1"
   },
   "outputs": [
    {
     "data": {
      "text/plain": [
       "'great ingredients although chicken rather chicken broth thing not think belongs canola oil canola rapeseed not someting dog would ever find nature find rapeseed nature eat would poison today food industries convinced masses canola oil safe even better oil olive virgin coconut facts though say otherwise late poisonous figured way fix still like could better'"
      ]
     },
     "execution_count": 30,
     "metadata": {
      "tags": []
     },
     "output_type": "execute_result"
    }
   ],
   "source": [
    "preprocessed_reviews[1500]"
   ]
  },
  {
   "cell_type": "markdown",
   "metadata": {
    "colab_type": "text",
    "id": "aursIB-u7WtR"
   },
   "source": [
    "<h2><font color='red'>[3.2] Preprocessing Review Summary</font></h2>"
   ]
  },
  {
   "cell_type": "code",
   "execution_count": 0,
   "metadata": {
    "colab": {
     "base_uri": "https://localhost:8080/",
     "height": 34
    },
    "colab_type": "code",
    "id": "UpqikTHZ7WtS",
    "outputId": "5cff87ee-180f-493e-c0d2-6aae3895c87c"
   },
   "outputs": [
    {
     "name": "stderr",
     "output_type": "stream",
     "text": [
      "100%|██████████| 364171/364171 [01:46<00:00, 3419.59it/s]\n"
     ]
    }
   ],
   "source": [
    "## Similartly you can do preprocessing for review summary also.\n",
    "## Similartly you can do preprocessing for review summary also.\n",
    "preprocessed_reviews_summary = []\n",
    "# tqdm is for printing the status bar\n",
    "for sentance in tqdm(final['Summary'].values):\n",
    "    sentance = re.sub(r\"http\\S+\", \"\", sentance)\n",
    "    sentance = BeautifulSoup(sentance, 'lxml').get_text()\n",
    "    sentance = decontracted(sentance)\n",
    "    sentance = re.sub(\"\\S*\\d\\S*\", \"\", sentance).strip()\n",
    "    sentance = re.sub('[^A-Za-z]+', ' ', sentance)\n",
    "    # https://gist.github.com/sebleier/554280\n",
    "    sentance = ' '.join(e.lower() for e in sentance.split() if e.lower() not in stopwords)\n",
    "    preprocessed_reviews_summary.append(sentance.strip())"
   ]
  },
  {
   "cell_type": "code",
   "execution_count": 0,
   "metadata": {
    "colab": {
     "base_uri": "https://localhost:8080/",
     "height": 34
    },
    "colab_type": "code",
    "id": "CEqn3gy-7WtX",
    "outputId": "89040ea1-88fe-4675-b5be-941825c94c37"
   },
   "outputs": [
    {
     "data": {
      "text/plain": [
       "'would best canola oil left'"
      ]
     },
     "execution_count": 32,
     "metadata": {
      "tags": []
     },
     "output_type": "execute_result"
    }
   ],
   "source": [
    "preprocessed_reviews_summary[1500]"
   ]
  },
  {
   "cell_type": "code",
   "execution_count": 0,
   "metadata": {
    "colab": {
     "base_uri": "https://localhost:8080/",
     "height": 598
    },
    "colab_type": "code",
    "id": "wp6z0PXA7Wtc",
    "outputId": "49626e07-5bc6-44c9-8cd0-8e520c6917e1",
    "scrolled": true
   },
   "outputs": [
    {
     "data": {
      "text/html": [
       "<div>\n",
       "<style scoped>\n",
       "    .dataframe tbody tr th:only-of-type {\n",
       "        vertical-align: middle;\n",
       "    }\n",
       "\n",
       "    .dataframe tbody tr th {\n",
       "        vertical-align: top;\n",
       "    }\n",
       "\n",
       "    .dataframe thead th {\n",
       "        text-align: right;\n",
       "    }\n",
       "</style>\n",
       "<table border=\"1\" class=\"dataframe\">\n",
       "  <thead>\n",
       "    <tr style=\"text-align: right;\">\n",
       "      <th></th>\n",
       "      <th>Id</th>\n",
       "      <th>ProductId</th>\n",
       "      <th>UserId</th>\n",
       "      <th>ProfileName</th>\n",
       "      <th>HelpfulnessNumerator</th>\n",
       "      <th>HelpfulnessDenominator</th>\n",
       "      <th>Score</th>\n",
       "      <th>Time</th>\n",
       "      <th>Summary</th>\n",
       "      <th>Text</th>\n",
       "      <th>CleanedText</th>\n",
       "      <th>CleanedSummary</th>\n",
       "    </tr>\n",
       "  </thead>\n",
       "  <tbody>\n",
       "    <tr>\n",
       "      <th>178145</th>\n",
       "      <td>193174</td>\n",
       "      <td>B009RSR8HO</td>\n",
       "      <td>A4P6AN2L435PV</td>\n",
       "      <td>romarc</td>\n",
       "      <td>0</td>\n",
       "      <td>0</td>\n",
       "      <td>1</td>\n",
       "      <td>1350432000</td>\n",
       "      <td>LOVE!!  LOVE!!</td>\n",
       "      <td>LOVE, LOVE this sweetener!!  I use it in all m...</td>\n",
       "      <td>love love sweetener use baking unsweetened fla...</td>\n",
       "      <td>love love</td>\n",
       "    </tr>\n",
       "    <tr>\n",
       "      <th>173675</th>\n",
       "      <td>188389</td>\n",
       "      <td>B009SF0TN6</td>\n",
       "      <td>A1L0GWGRK4BYPT</td>\n",
       "      <td>Bety Robinson</td>\n",
       "      <td>0</td>\n",
       "      <td>0</td>\n",
       "      <td>1</td>\n",
       "      <td>1350518400</td>\n",
       "      <td>Amazing!! Great sauce for everything!</td>\n",
       "      <td>You have to try this sauce to believe it! It s...</td>\n",
       "      <td>try sauce believe starts little sweet honey ta...</td>\n",
       "      <td>amazing great sauce everything</td>\n",
       "    </tr>\n",
       "    <tr>\n",
       "      <th>204727</th>\n",
       "      <td>221795</td>\n",
       "      <td>B009SR4OQ2</td>\n",
       "      <td>A32A6X5KCP7ARG</td>\n",
       "      <td>sicamar</td>\n",
       "      <td>1</td>\n",
       "      <td>1</td>\n",
       "      <td>1</td>\n",
       "      <td>1350604800</td>\n",
       "      <td>Awesome Taste</td>\n",
       "      <td>I bought this Hazelnut Paste (Nocciola Spread)...</td>\n",
       "      <td>bought hazelnut paste nocciola spread local sh...</td>\n",
       "      <td>awesome taste</td>\n",
       "    </tr>\n",
       "    <tr>\n",
       "      <th>5259</th>\n",
       "      <td>5703</td>\n",
       "      <td>B009WSNWC4</td>\n",
       "      <td>AMP7K1O84DH1T</td>\n",
       "      <td>ESTY</td>\n",
       "      <td>0</td>\n",
       "      <td>0</td>\n",
       "      <td>1</td>\n",
       "      <td>1351209600</td>\n",
       "      <td>DELICIOUS</td>\n",
       "      <td>Purchased this product at a local store in NY ...</td>\n",
       "      <td>purchased product local store ny kids love qui...</td>\n",
       "      <td>delicious</td>\n",
       "    </tr>\n",
       "    <tr>\n",
       "      <th>302474</th>\n",
       "      <td>327601</td>\n",
       "      <td>B009WVB40S</td>\n",
       "      <td>A3ME78KVX31T21</td>\n",
       "      <td>K'la</td>\n",
       "      <td>0</td>\n",
       "      <td>0</td>\n",
       "      <td>1</td>\n",
       "      <td>1351123200</td>\n",
       "      <td>Tasty!</td>\n",
       "      <td>I purchased this to send to my son who's away ...</td>\n",
       "      <td>purchased send son away college delivered righ...</td>\n",
       "      <td>tasty</td>\n",
       "    </tr>\n",
       "  </tbody>\n",
       "</table>\n",
       "</div>"
      ],
      "text/plain": [
       "            Id   ProductId          UserId    ProfileName  \\\n",
       "178145  193174  B009RSR8HO   A4P6AN2L435PV         romarc   \n",
       "173675  188389  B009SF0TN6  A1L0GWGRK4BYPT  Bety Robinson   \n",
       "204727  221795  B009SR4OQ2  A32A6X5KCP7ARG        sicamar   \n",
       "5259      5703  B009WSNWC4   AMP7K1O84DH1T           ESTY   \n",
       "302474  327601  B009WVB40S  A3ME78KVX31T21           K'la   \n",
       "\n",
       "        HelpfulnessNumerator  HelpfulnessDenominator  Score        Time  \\\n",
       "178145                     0                       0      1  1350432000   \n",
       "173675                     0                       0      1  1350518400   \n",
       "204727                     1                       1      1  1350604800   \n",
       "5259                       0                       0      1  1351209600   \n",
       "302474                     0                       0      1  1351123200   \n",
       "\n",
       "                                      Summary  \\\n",
       "178145                         LOVE!!  LOVE!!   \n",
       "173675  Amazing!! Great sauce for everything!   \n",
       "204727                          Awesome Taste   \n",
       "5259                                DELICIOUS   \n",
       "302474                                 Tasty!   \n",
       "\n",
       "                                                     Text  \\\n",
       "178145  LOVE, LOVE this sweetener!!  I use it in all m...   \n",
       "173675  You have to try this sauce to believe it! It s...   \n",
       "204727  I bought this Hazelnut Paste (Nocciola Spread)...   \n",
       "5259    Purchased this product at a local store in NY ...   \n",
       "302474  I purchased this to send to my son who's away ...   \n",
       "\n",
       "                                              CleanedText  \\\n",
       "178145  love love sweetener use baking unsweetened fla...   \n",
       "173675  try sauce believe starts little sweet honey ta...   \n",
       "204727  bought hazelnut paste nocciola spread local sh...   \n",
       "5259    purchased product local store ny kids love qui...   \n",
       "302474  purchased send son away college delivered righ...   \n",
       "\n",
       "                        CleanedSummary  \n",
       "178145                       love love  \n",
       "173675  amazing great sauce everything  \n",
       "204727                   awesome taste  \n",
       "5259                         delicious  \n",
       "302474                           tasty  "
      ]
     },
     "execution_count": 33,
     "metadata": {
      "tags": []
     },
     "output_type": "execute_result"
    }
   ],
   "source": [
    "# adding new columns [\"CleanedText\", \"CleanedSummary\"] to the data frame and save that data frame as \"preprocessed.pkl\"\n",
    "final[\"CleanedText\"] = preprocessed_reviews\n",
    "final[\"CleanedSummary\"] = preprocessed_reviews_summary\n",
    "final.tail()"
   ]
  },
  {
   "cell_type": "code",
   "execution_count": 0,
   "metadata": {
    "colab": {},
    "colab_type": "code",
    "id": "Jt014nFC7Wth"
   },
   "outputs": [],
   "source": [
    "# save the data frame as \"preprocessed.pkl\"\n",
    "final.to_pickle(\"drive/ai/preprocessed.pkl\")"
   ]
  },
  {
   "cell_type": "markdown",
   "metadata": {
    "colab_type": "text",
    "id": "f75m3TEY7Wtm"
   },
   "source": [
    "# [4] Featurization"
   ]
  },
  {
   "cell_type": "markdown",
   "metadata": {
    "colab_type": "text",
    "id": "F_sw2DOX7Wto"
   },
   "source": [
    "**I am used to select 50k data points randaand sord them using time based splitting** "
   ]
  },
  {
   "cell_type": "code",
   "execution_count": 0,
   "metadata": {
    "colab": {
     "base_uri": "https://localhost:8080/",
     "height": 236
    },
    "colab_type": "code",
    "id": "eg1KaowJ7Wto",
    "outputId": "d1a101b1-5ff2-4e31-a905-937e6fd12c7f"
   },
   "outputs": [
    {
     "data": {
      "text/html": [
       "<div>\n",
       "<style scoped>\n",
       "    .dataframe tbody tr th:only-of-type {\n",
       "        vertical-align: middle;\n",
       "    }\n",
       "\n",
       "    .dataframe tbody tr th {\n",
       "        vertical-align: top;\n",
       "    }\n",
       "\n",
       "    .dataframe thead th {\n",
       "        text-align: right;\n",
       "    }\n",
       "</style>\n",
       "<table border=\"1\" class=\"dataframe\">\n",
       "  <thead>\n",
       "    <tr style=\"text-align: right;\">\n",
       "      <th></th>\n",
       "      <th>Id</th>\n",
       "      <th>ProductId</th>\n",
       "      <th>UserId</th>\n",
       "      <th>ProfileName</th>\n",
       "      <th>HelpfulnessNumerator</th>\n",
       "      <th>HelpfulnessDenominator</th>\n",
       "      <th>Score</th>\n",
       "      <th>Time</th>\n",
       "      <th>Summary</th>\n",
       "      <th>Text</th>\n",
       "      <th>CleanedText</th>\n",
       "      <th>CleanedSummary</th>\n",
       "    </tr>\n",
       "  </thead>\n",
       "  <tbody>\n",
       "    <tr>\n",
       "      <th>138706</th>\n",
       "      <td>150524</td>\n",
       "      <td>0006641040</td>\n",
       "      <td>ACITT7DI6IDDL</td>\n",
       "      <td>shari zychinski</td>\n",
       "      <td>0</td>\n",
       "      <td>0</td>\n",
       "      <td>1</td>\n",
       "      <td>939340800</td>\n",
       "      <td>EVERY book is educational</td>\n",
       "      <td>this witty little book makes my son laugh at l...</td>\n",
       "      <td>witty little book makes son laugh loud recite ...</td>\n",
       "      <td>every book educational</td>\n",
       "    </tr>\n",
       "  </tbody>\n",
       "</table>\n",
       "</div>"
      ],
      "text/plain": [
       "            Id   ProductId         UserId      ProfileName  \\\n",
       "138706  150524  0006641040  ACITT7DI6IDDL  shari zychinski   \n",
       "\n",
       "        HelpfulnessNumerator  HelpfulnessDenominator  Score       Time  \\\n",
       "138706                     0                       0      1  939340800   \n",
       "\n",
       "                          Summary  \\\n",
       "138706  EVERY book is educational   \n",
       "\n",
       "                                                     Text  \\\n",
       "138706  this witty little book makes my son laugh at l...   \n",
       "\n",
       "                                              CleanedText  \\\n",
       "138706  witty little book makes son laugh loud recite ...   \n",
       "\n",
       "                CleanedSummary  \n",
       "138706  every book educational  "
      ]
     },
     "execution_count": 36,
     "metadata": {
      "tags": []
     },
     "output_type": "execute_result"
    }
   ],
   "source": [
    "# Split the data into train , test and crossvalidation datasets\n",
    "# load \"preprocessed.pkl\" data frame\n",
    "df = pd.read_pickle(\"drive/ai/preprocessed.pkl\")\n",
    "df.head(1)"
   ]
  },
  {
   "cell_type": "code",
   "execution_count": 0,
   "metadata": {
    "colab": {
     "base_uri": "https://localhost:8080/",
     "height": 34
    },
    "colab_type": "code",
    "id": "NX1Xnlk37Wt6",
    "outputId": "5a8f4886-a3e2-43b9-b224-08710c8bcee0"
   },
   "outputs": [
    {
     "data": {
      "text/plain": [
       "(364171, 12)"
      ]
     },
     "execution_count": 37,
     "metadata": {
      "tags": []
     },
     "output_type": "execute_result"
    }
   ],
   "source": [
    "df.shape"
   ]
  },
  {
   "cell_type": "code",
   "execution_count": 0,
   "metadata": {
    "colab": {
     "base_uri": "https://localhost:8080/",
     "height": 34
    },
    "colab_type": "code",
    "id": "jTxpMhcd7WuF",
    "outputId": "18621a20-1e15-48cb-f4c3-a7d2c8f78ed6"
   },
   "outputs": [
    {
     "data": {
      "text/plain": [
       "(50000, 12)"
      ]
     },
     "execution_count": 38,
     "metadata": {
      "tags": []
     },
     "output_type": "execute_result"
    }
   ],
   "source": [
    "# take 50k sample data randomly\n",
    "sample_data = df.sample(50000)\n",
    "sample_data.shape"
   ]
  },
  {
   "cell_type": "code",
   "execution_count": 0,
   "metadata": {
    "colab": {
     "base_uri": "https://localhost:8080/",
     "height": 34
    },
    "colab_type": "code",
    "id": "GxI8x3I77WuQ",
    "outputId": "4b8aece2-a156-4156-b16e-dedf37f6511b"
   },
   "outputs": [
    {
     "data": {
      "text/plain": [
       "(50000, 12)"
      ]
     },
     "execution_count": 39,
     "metadata": {
      "tags": []
     },
     "output_type": "execute_result"
    }
   ],
   "source": [
    "# sorted the data using time based\n",
    "sorted_data = sample_data.sort_values('Time', axis=0, inplace=False)\n",
    "sorted_data.shape"
   ]
  },
  {
   "cell_type": "code",
   "execution_count": 0,
   "metadata": {
    "colab": {
     "base_uri": "https://localhost:8080/",
     "height": 68
    },
    "colab_type": "code",
    "id": "PAVfdjuA7Wua",
    "outputId": "5cabae15-b0af-40c5-9e6a-ec8115076e57"
   },
   "outputs": [
    {
     "data": {
      "text/plain": [
       "1    42277\n",
       "0     7723\n",
       "Name: Score, dtype: int64"
      ]
     },
     "execution_count": 40,
     "metadata": {
      "tags": []
     },
     "output_type": "execute_result"
    }
   ],
   "source": [
    "sorted_data['Score'].value_counts()"
   ]
  },
  {
   "cell_type": "code",
   "execution_count": 0,
   "metadata": {
    "colab": {},
    "colab_type": "code",
    "id": "GyF7GPuC7Wuh"
   },
   "outputs": [],
   "source": [
    "from sklearn.model_selection import train_test_split"
   ]
  },
  {
   "cell_type": "code",
   "execution_count": 0,
   "metadata": {
    "colab": {
     "base_uri": "https://localhost:8080/",
     "height": 51
    },
    "colab_type": "code",
    "id": "putvSGqX7Wun",
    "outputId": "c3e9abcd-0742-487a-d0ea-88a0b77b58fc"
   },
   "outputs": [
    {
     "name": "stdout",
     "output_type": "stream",
     "text": [
      "(50000,)\n",
      "(50000,)\n"
     ]
    }
   ],
   "source": [
    "X = np.array(sorted_data['CleanedText'])\n",
    "y = np.array(sorted_data['Score'])\n",
    "print(X.shape)\n",
    "print(y.shape)"
   ]
  },
  {
   "cell_type": "code",
   "execution_count": 0,
   "metadata": {
    "colab": {
     "base_uri": "https://localhost:8080/",
     "height": 68
    },
    "colab_type": "code",
    "id": "UKcCLTqZ7Wu6",
    "outputId": "d33a651c-e1bc-4e8e-e575-42ba61007699"
   },
   "outputs": [
    {
     "name": "stdout",
     "output_type": "stream",
     "text": [
      "train data =  (24500,)\n",
      "cros validation =  (10500,)\n",
      "test data =  (15000,)\n"
     ]
    }
   ],
   "source": [
    "# Simple cross validation\n",
    "# split the data sent into train and test\n",
    "train , test , train_y , test_y = train_test_split(X, y, test_size = 0.3, random_state=None)\n",
    "\n",
    "# split the train data set into cross validation train and cross validation test\n",
    "train, cv , train_y, cv_y = train_test_split(train, train_y, test_size=0.3, random_state=None)\n",
    "\n",
    "print(\"train data = \", train.shape)\n",
    "print(\"cros validation = \", cv.shape)\n",
    "print(\"test data = \", test.shape)"
   ]
  },
  {
   "cell_type": "code",
   "execution_count": 0,
   "metadata": {
    "colab": {},
    "colab_type": "code",
    "id": "A3c6Kq6-7WvG"
   },
   "outputs": [],
   "source": []
  },
  {
   "cell_type": "markdown",
   "metadata": {
    "colab_type": "text",
    "id": "eb5wTLu87WvJ"
   },
   "source": [
    "## [4.1] BAG OF WORDS"
   ]
  },
  {
   "cell_type": "code",
   "execution_count": 0,
   "metadata": {
    "colab": {
     "base_uri": "https://localhost:8080/",
     "height": 275
    },
    "colab_type": "code",
    "id": "CiZpDflm7WvL",
    "outputId": "33bcdf82-e76f-4b24-e657-80b64f2a7d6a"
   },
   "outputs": [
    {
     "name": "stdout",
     "output_type": "stream",
     "text": [
      "some feature names  ['aa', 'aaa', 'aaaaaaarrrrrggghhh', 'aaah', 'aaahhhs', 'aabsolutely', 'aafco', 'aafes', 'aah', 'aamazon']\n",
      "==================================================\n",
      "============Train Data=========\n",
      "the type of count vectorizer  <class 'scipy.sparse.csr.csr_matrix'>\n",
      "the shape of out text BOW vectorizer  (24500, 30806)\n",
      "the number of unique words  30806\n",
      "============Cross validation Data=========\n",
      "the type of count vectorizer  <class 'scipy.sparse.csr.csr_matrix'>\n",
      "the shape of out text BOW vectorizer  (10500, 30806)\n",
      "the number of unique words  30806\n",
      "============Test Data=========\n",
      "the type of count vectorizer  <class 'scipy.sparse.csr.csr_matrix'>\n",
      "the shape of out text BOW vectorizer  (15000, 30806)\n",
      "the number of unique words  30806\n"
     ]
    }
   ],
   "source": [
    "#BoW\n",
    "count_vect = CountVectorizer() #in scikit-learn\n",
    "count_vect.fit(train)\n",
    "print(\"some feature names \", count_vect.get_feature_names()[:10])\n",
    "print('='*50)\n",
    "\n",
    "final_counts_train = count_vect.fit_transform(train)\n",
    "final_counts_cv = count_vect.transform(cv)\n",
    "final_counts_test = count_vect.transform(test)\n",
    "print(\"============Train Data=========\")\n",
    "print(\"the type of count vectorizer \",type(final_counts_train))\n",
    "print(\"the shape of out text BOW vectorizer \",final_counts_train.get_shape())\n",
    "print(\"the number of unique words \", final_counts_train.get_shape()[1])\n",
    "print(\"============Cross validation Data=========\")\n",
    "print(\"the type of count vectorizer \",type(final_counts_cv))\n",
    "print(\"the shape of out text BOW vectorizer \",final_counts_cv.get_shape())\n",
    "print(\"the number of unique words \", final_counts_cv.get_shape()[1])\n",
    "print(\"============Test Data=========\")\n",
    "print(\"the type of count vectorizer \",type(final_counts_test))\n",
    "print(\"the shape of out text BOW vectorizer \",final_counts_test.get_shape())\n",
    "print(\"the number of unique words \", final_counts_test.get_shape()[1])"
   ]
  },
  {
   "cell_type": "code",
   "execution_count": 0,
   "metadata": {
    "colab": {
     "base_uri": "https://localhost:8080/",
     "height": 85
    },
    "colab_type": "code",
    "id": "3rlHf4RB7WvS",
    "outputId": "82c566f0-de18-45d6-f2de-80f0e698de8d"
   },
   "outputs": [
    {
     "name": "stdout",
     "output_type": "stream",
     "text": [
      "Explained Variance Ratio is = 67.43%\n",
      "trian data shape =  (24500, 500)\n",
      "CV data shape =  (10500, 500)\n",
      "test data shape =  (15000, 500)\n"
     ]
    }
   ],
   "source": [
    "# the time of bagofwords is sparse matrix now convert to lower dimensions\n",
    "# Dimensionality reduction using truncated SVD\n",
    "from sklearn.decomposition import TruncatedSVD\n",
    "\n",
    "bagofwords_svd = TruncatedSVD(n_components= 500) #Desired dimensionality of output data\n",
    "\n",
    "bow_train = bagofwords_svd.fit_transform(final_counts_train)\n",
    "print('Explained Variance Ratio is = %0.2f%%'% (bagofwords_svd.explained_variance_ratio_.sum() * float(100)))\n",
    "bow_cv = bagofwords_svd.fit_transform(final_counts_cv)\n",
    "bow_test = bagofwords_svd.fit_transform(final_counts_test)\n",
    "print(\"trian data shape = \", bow_train.shape)\n",
    "print(\"CV data shape = \", bow_cv.shape)\n",
    "print(\"test data shape = \", bow_test.shape)"
   ]
  },
  {
   "cell_type": "code",
   "execution_count": 0,
   "metadata": {
    "colab": {},
    "colab_type": "code",
    "id": "vvFhGVDo7WvY"
   },
   "outputs": [],
   "source": [
    "# save the datasets as numpy array\n",
    "bow_train = np.array(bow_train)\n",
    "bow_cv = np.array(bow_cv)\n",
    "bow_test = np.array(bow_test)"
   ]
  },
  {
   "cell_type": "code",
   "execution_count": 0,
   "metadata": {
    "colab": {},
    "colab_type": "code",
    "id": "JyZ4ZUCO7Wvh"
   },
   "outputs": [],
   "source": [
    "np.save(\"drive/ai/bow_train.npy\", bow_train)\n",
    "np.save(\"drive/ai/bow_train_y.npy\", train_y)\n",
    "np.save(\"drive/ai/bow_cv.npy\", bow_cv)\n",
    "np.save(\"drive/ai/bow_cv_y.npy\", cv_y)\n",
    "np.save(\"drive/ai/bow_test.npy\", bow_test)\n",
    "np.save(\"drive/ai/bow_test_y.npy\", test_y)"
   ]
  },
  {
   "cell_type": "code",
   "execution_count": 0,
   "metadata": {
    "colab": {},
    "colab_type": "code",
    "id": "iI_aPJZGIerV"
   },
   "outputs": [],
   "source": [
    "## for kd_tree"
   ]
  },
  {
   "cell_type": "markdown",
   "metadata": {
    "colab_type": "text",
    "id": "-HKoFNMKIpi6"
   },
   "source": [
    "## for kd_tree"
   ]
  },
  {
   "cell_type": "code",
   "execution_count": 0,
   "metadata": {
    "colab": {
     "base_uri": "https://localhost:8080/",
     "height": 85
    },
    "colab_type": "code",
    "id": "w6Hu8NqWItgq",
    "outputId": "967adf3e-66f2-4850-87f7-0dae098dae67"
   },
   "outputs": [
    {
     "name": "stdout",
     "output_type": "stream",
     "text": [
      "Explained Variance Ratio is = 50.60%\n",
      "trian data shape =  (24500, 200)\n",
      "CV data shape =  (10500, 200)\n",
      "test data shape =  (15000, 200)\n"
     ]
    }
   ],
   "source": [
    "# the time of bagofwords is sparse matrix now convert to lower dimensions\n",
    "# Dimensionality reduction using truncated SVD\n",
    "from sklearn.decomposition import TruncatedSVD\n",
    "\n",
    "bagofwords_svd = TruncatedSVD(n_components= 200) #Desired dimensionality of output data\n",
    "\n",
    "bow_train = bagofwords_svd.fit_transform(final_counts_train)\n",
    "print('Explained Variance Ratio is = %0.2f%%'% (bagofwords_svd.explained_variance_ratio_.sum() * float(100)))\n",
    "bow_cv = bagofwords_svd.fit_transform(final_counts_cv)\n",
    "bow_test = bagofwords_svd.fit_transform(final_counts_test)\n",
    "print(\"trian data shape = \", bow_train.shape)\n",
    "print(\"CV data shape = \", bow_cv.shape)\n",
    "print(\"test data shape = \", bow_test.shape)"
   ]
  },
  {
   "cell_type": "code",
   "execution_count": 0,
   "metadata": {
    "colab": {},
    "colab_type": "code",
    "id": "YceJp_SqI5YI"
   },
   "outputs": [],
   "source": [
    "# save the datasets as numpy array\n",
    "bow_train = np.array(bow_train)\n",
    "bow_cv = np.array(bow_cv)\n",
    "bow_test = np.array(bow_test)"
   ]
  },
  {
   "cell_type": "code",
   "execution_count": 0,
   "metadata": {
    "colab": {},
    "colab_type": "code",
    "id": "ElcQMeLNI86d"
   },
   "outputs": [],
   "source": [
    "np.save(\"drive/ai/kd_bow_train.npy\", bow_train)\n",
    "np.save(\"drive/ai/kd_bow_train_y.npy\", train_y)\n",
    "np.save(\"drive/ai/kd_bow_cv.npy\", bow_cv)\n",
    "np.save(\"drive/ai/kd_bow_cv_y.npy\", cv_y)\n",
    "np.save(\"drive/ai/kd_bow_test.npy\", bow_test)\n",
    "np.save(\"drive/ai/kd_bow_test_y.npy\", test_y)"
   ]
  },
  {
   "cell_type": "markdown",
   "metadata": {
    "colab_type": "text",
    "id": "092ylVjt7Wvm"
   },
   "source": [
    "## [4.2] Bi-Grams and n-Grams."
   ]
  },
  {
   "cell_type": "code",
   "execution_count": 0,
   "metadata": {
    "colab": {
     "base_uri": "https://localhost:8080/",
     "height": 68
    },
    "colab_type": "code",
    "id": "_BS14YRz7Wvn",
    "outputId": "125dbfec-de5f-4f9f-84ad-00f7184c5b65"
   },
   "outputs": [
    {
     "name": "stdout",
     "output_type": "stream",
     "text": [
      "the type of count vectorizer  <class 'scipy.sparse.csr.csr_matrix'>\n",
      "the shape of out text BOW vectorizer  (364171, 5000)\n",
      "the number of unique words including both unigrams and bigrams  5000\n"
     ]
    }
   ],
   "source": [
    "#bi-gram, tri-gram and n-gram\n",
    "\n",
    "#removing stop words like \"not\" should be avoided before building n-grams\n",
    "# count_vect = CountVectorizer(ngram_range=(1,2))\n",
    "# please do read the CountVectorizer documentation http://scikit-learn.org/stable/modules/generated/sklearn.feature_extraction.text.CountVectorizer.html\n",
    "\n",
    "# you can choose these numebrs min_df=10, max_features=5000, of your choice\n",
    "count_vect = CountVectorizer(ngram_range=(1,2), min_df=10, max_features=5000)\n",
    "final_bigram_counts = count_vect.fit_transform(preprocessed_reviews)\n",
    "print(\"the type of count vectorizer \",type(final_bigram_counts))\n",
    "print(\"the shape of out text BOW vectorizer \",final_bigram_counts.get_shape())\n",
    "print(\"the number of unique words including both unigrams and bigrams \", final_bigram_counts.get_shape()[1])"
   ]
  },
  {
   "cell_type": "markdown",
   "metadata": {
    "colab_type": "text",
    "id": "pyecFj827Wvs"
   },
   "source": [
    "## [4.3] TF-IDF"
   ]
  },
  {
   "cell_type": "code",
   "execution_count": 0,
   "metadata": {
    "colab": {
     "base_uri": "https://localhost:8080/",
     "height": 275
    },
    "colab_type": "code",
    "id": "8cmj__Hm7Wvu",
    "outputId": "282676c4-8170-4bce-c94b-21ba5388fd6d"
   },
   "outputs": [
    {
     "name": "stdout",
     "output_type": "stream",
     "text": [
      "some sample features(unique words in the corpus) ['ability', 'able', 'able buy', 'able eat', 'able enjoy', 'able find', 'able get', 'able give', 'able make', 'able order']\n",
      "==================================================\n",
      "================Train Data===========\n",
      "the type of count vectorizer  <class 'scipy.sparse.csr.csr_matrix'>\n",
      "the shape of out text TFIDF vectorizer  (24500, 14443)\n",
      "the number of unique words including both unigrams and bigrams  14443\n",
      "================CV Data===========\n",
      "the type of count vectorizer  <class 'scipy.sparse.csr.csr_matrix'>\n",
      "the shape of out text TFIDF vectorizer  (10500, 14443)\n",
      "the number of unique words including both unigrams and bigrams  14443\n",
      "================Test Data===========\n",
      "the type of count vectorizer  <class 'scipy.sparse.csr.csr_matrix'>\n",
      "the shape of out text TFIDF vectorizer  (15000, 14443)\n",
      "the number of unique words including both unigrams and bigrams  14443\n"
     ]
    }
   ],
   "source": [
    "tf_idf_vect = TfidfVectorizer(ngram_range=(1,2), min_df=10)\n",
    "tf_idf_vect.fit(train)\n",
    "print(\"some sample features(unique words in the corpus)\",tf_idf_vect.get_feature_names()[0:10])\n",
    "print('='*50)\n",
    "print(\"================Train Data===========\")\n",
    "final_tf_idf_train = tf_idf_vect.fit_transform(train)\n",
    "print(\"the type of count vectorizer \",type(final_tf_idf_train))\n",
    "print(\"the shape of out text TFIDF vectorizer \",final_tf_idf_train.get_shape())\n",
    "print(\"the number of unique words including both unigrams and bigrams \", final_tf_idf_train.get_shape()[1])\n",
    "print(\"================CV Data===========\")\n",
    "final_tf_idf_cv = tf_idf_vect.transform(cv)\n",
    "print(\"the type of count vectorizer \",type(final_tf_idf_cv))\n",
    "print(\"the shape of out text TFIDF vectorizer \",final_tf_idf_cv.get_shape())\n",
    "print(\"the number of unique words including both unigrams and bigrams \", final_tf_idf_cv.get_shape()[1])\n",
    "print(\"================Test Data===========\")\n",
    "final_tf_idf_test = tf_idf_vect.transform(test)\n",
    "print(\"the type of count vectorizer \",type(final_tf_idf_test))\n",
    "print(\"the shape of out text TFIDF vectorizer \",final_tf_idf_test.get_shape())\n",
    "print(\"the number of unique words including both unigrams and bigrams \", final_tf_idf_test.get_shape()[1])"
   ]
  },
  {
   "cell_type": "code",
   "execution_count": 0,
   "metadata": {
    "colab": {
     "base_uri": "https://localhost:8080/",
     "height": 85
    },
    "colab_type": "code",
    "id": "VdBU2LUA7Wv1",
    "outputId": "d9692acf-9d70-46bc-e1ce-1c45fbb52691"
   },
   "outputs": [
    {
     "name": "stdout",
     "output_type": "stream",
     "text": [
      "Explained Variance Ratio is = 34.12%\n",
      "trian data shape =  (24500, 500)\n",
      "CV data shape =  (10500, 500)\n",
      "test data shape =  (15000, 500)\n"
     ]
    }
   ],
   "source": [
    "# the time of bagofwords is sparse matrix now convert to lower dimensions\n",
    "# Dimensionality reduction using truncated SVD\n",
    "\n",
    "tfidf_svd = TruncatedSVD(n_components= 500) #Desired dimensionality of output data\n",
    "\n",
    "tfidf_train = tfidf_svd.fit_transform(final_tf_idf_train)\n",
    "print('Explained Variance Ratio is = %0.2f%%'% (tfidf_svd.explained_variance_ratio_.sum() * float(100)))\n",
    "tfidf_cv = bagofwords_svd.fit_transform(final_tf_idf_cv)\n",
    "tfidf_test = bagofwords_svd.fit_transform(final_tf_idf_test)\n",
    "print(\"trian data shape = \", tfidf_train.shape)\n",
    "print(\"CV data shape = \", tfidf_cv.shape)\n",
    "print(\"test data shape = \", tfidf_test.shape)"
   ]
  },
  {
   "cell_type": "code",
   "execution_count": 0,
   "metadata": {
    "colab": {},
    "colab_type": "code",
    "id": "QjPSG8mh7Wv8"
   },
   "outputs": [],
   "source": [
    "# save the datasets as numpy array\n",
    "tfidf_train = np.array(tfidf_train)\n",
    "tfidf_cv = np.array(tfidf_cv)\n",
    "tfidf_test = np.array(tfidf_test)"
   ]
  },
  {
   "cell_type": "code",
   "execution_count": 0,
   "metadata": {
    "colab": {},
    "colab_type": "code",
    "id": "fD-kCtZi7WwC"
   },
   "outputs": [],
   "source": [
    "np.save(\"drive/ai/tfidf_train.npy\", tfidf_train)\n",
    "np.save(\"drive/ai/tfidf_train_y.npy\", train_y)\n",
    "np.save(\"drive/ai/tfidf_cv.npy\", tfidf_cv)\n",
    "np.save(\"drive/ai/tfidf_cv_y.npy\", cv_y)\n",
    "np.save(\"drive/ai/tfidf_test.npy\", tfidf_test)\n",
    "np.save(\"drive/ai/tfidf_test_y.npy\", test_y)"
   ]
  },
  {
   "cell_type": "markdown",
   "metadata": {
    "colab_type": "text",
    "id": "JOunZwWkJbCQ"
   },
   "source": [
    "## for kd_tree"
   ]
  },
  {
   "cell_type": "code",
   "execution_count": 0,
   "metadata": {
    "colab": {
     "base_uri": "https://localhost:8080/",
     "height": 85
    },
    "colab_type": "code",
    "id": "rWGr_DmlJadp",
    "outputId": "af70dbc2-802b-49d9-9291-2352e18c0224"
   },
   "outputs": [
    {
     "name": "stdout",
     "output_type": "stream",
     "text": [
      "Explained Variance Ratio is = 20.69%\n",
      "trian data shape =  (24500, 200)\n",
      "CV data shape =  (10500, 200)\n",
      "test data shape =  (15000, 200)\n"
     ]
    }
   ],
   "source": [
    "# the time of bagofwords is sparse matrix now convert to lower dimensions\n",
    "# Dimensionality reduction using truncated SVD\n",
    "\n",
    "tfidf_svd = TruncatedSVD(n_components= 200) #Desired dimensionality of output data\n",
    "\n",
    "tfidf_train = tfidf_svd.fit_transform(final_tf_idf_train)\n",
    "print('Explained Variance Ratio is = %0.2f%%'% (tfidf_svd.explained_variance_ratio_.sum() * float(100)))\n",
    "tfidf_cv = bagofwords_svd.fit_transform(final_tf_idf_cv)\n",
    "tfidf_test = bagofwords_svd.fit_transform(final_tf_idf_test)\n",
    "print(\"trian data shape = \", tfidf_train.shape)\n",
    "print(\"CV data shape = \", tfidf_cv.shape)\n",
    "print(\"test data shape = \", tfidf_test.shape)"
   ]
  },
  {
   "cell_type": "code",
   "execution_count": 0,
   "metadata": {
    "colab": {},
    "colab_type": "code",
    "id": "udAlCn4jJjci"
   },
   "outputs": [],
   "source": [
    "# save the datasets as numpy array\n",
    "tfidf_train = np.array(tfidf_train)\n",
    "tfidf_cv = np.array(tfidf_cv)\n",
    "tfidf_test = np.array(tfidf_test)"
   ]
  },
  {
   "cell_type": "code",
   "execution_count": 0,
   "metadata": {
    "colab": {},
    "colab_type": "code",
    "id": "TOgcKPO0JlwV"
   },
   "outputs": [],
   "source": [
    "np.save(\"drive/ai/kd_tfidf_train.npy\", tfidf_train)\n",
    "np.save(\"drive/ai/kd_tfidf_train_y.npy\", train_y)\n",
    "np.save(\"drive/ai/kd_tfidf_cv.npy\", tfidf_cv)\n",
    "np.save(\"drive/ai/kd_tfidf_cv_y.npy\", cv_y)\n",
    "np.save(\"drive/ai/kd_tfidf_test.npy\", tfidf_test)\n",
    "np.save(\"drive/ai/kd_tfidf_test_y.npy\", test_y)"
   ]
  },
  {
   "cell_type": "markdown",
   "metadata": {
    "colab_type": "text",
    "id": "EPbmCdja7WwF"
   },
   "source": [
    "## [4.4] Word2Vec"
   ]
  },
  {
   "cell_type": "code",
   "execution_count": 0,
   "metadata": {
    "colab": {
     "base_uri": "https://localhost:8080/",
     "height": 68
    },
    "colab_type": "code",
    "id": "nZjDDp4n7WwL",
    "outputId": "3c4462fc-adbc-4427-99fd-b62f269ca48d"
   },
   "outputs": [
    {
     "name": "stdout",
     "output_type": "stream",
     "text": [
      "Length of Train =  24500\n",
      "Length of CV =  10500\n",
      "Length of Test =  15000\n"
     ]
    }
   ],
   "source": [
    "# Train your own Word2Vec model using your own text corpus\n",
    "######## Train Set #########\n",
    "i=0\n",
    "list_of_train_sentance=[]\n",
    "for sentance in train:\n",
    "    list_of_train_sentance.append(sentance.split())\n",
    "######## CV Set ###########\n",
    "i=0\n",
    "list_of_cv_sentance=[]\n",
    "for sentance in cv:\n",
    "    list_of_cv_sentance.append(sentance.split())\n",
    "######## Test Set #########\n",
    "i=0\n",
    "list_of_test_sentance=[]\n",
    "for sentance in test:\n",
    "    list_of_test_sentance.append(sentance.split())\n",
    "print(\"Length of Train = \", len(list_of_train_sentance))\n",
    "print(\"Length of CV = \", len(list_of_cv_sentance))\n",
    "print(\"Length of Test = \", len(list_of_test_sentance))"
   ]
  },
  {
   "cell_type": "code",
   "execution_count": 0,
   "metadata": {
    "colab": {},
    "colab_type": "code",
    "id": "c87aYT7A7WwT",
    "outputId": "29f93a6a-0173-4d33-c8c6-b10e077b88e6",
    "scrolled": true
   },
   "outputs": [
    {
     "name": "stdout",
     "output_type": "stream",
     "text": [
      "[('snack', 0.9951335191726685), ('calorie', 0.9946465492248535), ('wonderful', 0.9946032166481018), ('excellent', 0.9944332838058472), ('especially', 0.9941144585609436), ('baked', 0.9940600395202637), ('salted', 0.994047224521637), ('alternative', 0.9937226176261902), ('tasty', 0.9936816692352295), ('healthy', 0.9936649799346924)]\n",
      "==================================================\n",
      "[('varieties', 0.9994194507598877), ('become', 0.9992934465408325), ('popcorn', 0.9992750883102417), ('de', 0.9992610216140747), ('miss', 0.9992451071739197), ('melitta', 0.999218761920929), ('choice', 0.9992102384567261), ('american', 0.9991837739944458), ('beef', 0.9991780519485474), ('finish', 0.9991567134857178)]\n"
     ]
    }
   ],
   "source": [
    "# Using Google News Word2Vectors\n",
    "\n",
    "# in this project we are using a pretrained model by google\n",
    "# its 3.3G file, once you load this into your memory \n",
    "# it occupies ~9Gb, so please do this step only if you have >12G of ram\n",
    "# we will provide a pickle file wich contains a dict , \n",
    "# and it contains all our courpus words as keys and  model[word] as values\n",
    "# To use this code-snippet, download \"GoogleNews-vectors-negative300.bin\" \n",
    "# from https://drive.google.com/file/d/0B7XkCwpI5KDYNlNUTTlSS21pQmM/edit\n",
    "# it's 1.9GB in size.\n",
    "\n",
    "\n",
    "# http://kavita-ganesan.com/gensim-word2vec-tutorial-starter-code/#.W17SRFAzZPY\n",
    "# you can comment this whole cell\n",
    "# or change these varible according to your need\n",
    "\n",
    "is_your_ram_gt_16g=False\n",
    "want_to_use_google_w2v = False\n",
    "want_to_train_w2v = True\n",
    "\n",
    "if want_to_train_w2v:\n",
    "    # min_count = 5 considers only words that occured atleast 5 times\n",
    "    w2v_model=Word2Vec(list_of_sentance,min_count=5,size=50, workers=4)\n",
    "    print(w2v_model.wv.most_similar('great'))\n",
    "    print('='*50)\n",
    "    print(w2v_model.wv.most_similar('worst'))\n",
    "    \n",
    "elif want_to_use_google_w2v and is_your_ram_gt_16g:\n",
    "    if os.path.isfile('GoogleNews-vectors-negative300.bin'):\n",
    "        w2v_model=KeyedVectors.load_word2vec_format('GoogleNews-vectors-negative300.bin', binary=True)\n",
    "        print(w2v_model.wv.most_similar('great'))\n",
    "        print(w2v_model.wv.most_similar('worst'))\n",
    "    else:\n",
    "        print(\"you don't have gogole's word2vec file, keep want_to_train_w2v = True, to train your own w2v \")"
   ]
  },
  {
   "cell_type": "code",
   "execution_count": 0,
   "metadata": {
    "colab": {
     "base_uri": "https://localhost:8080/",
     "height": 88
    },
    "colab_type": "code",
    "id": "vKL9fB2Y7WwZ",
    "outputId": "3b7d1d0e-3cd9-4a30-caa9-09c9fe26c6e3"
   },
   "outputs": [
    {
     "name": "stdout",
     "output_type": "stream",
     "text": [
      "[('awesome', 0.8108956813812256), ('excellent', 0.8053444623947144), ('wonderful', 0.803691029548645), ('amazing', 0.8023006916046143), ('good', 0.7889569401741028), ('fantastic', 0.7887020111083984), ('perfect', 0.7716063857078552), ('delicious', 0.708469033241272), ('terrific', 0.6772741675376892), ('nice', 0.6468303203582764)]\n",
      "==================================================\n",
      "[('best', 0.7953071594238281), ('coolest', 0.7594555020332336), ('disgusting', 0.7510324716567993), ('greatest', 0.7498508095741272), ('superior', 0.7156858444213867), ('terrible', 0.7115234732627869), ('awful', 0.688793420791626), ('agree', 0.6859393119812012), ('hooked', 0.6799923181533813), ('ive', 0.6786516308784485)]\n"
     ]
    }
   ],
   "source": [
    "w2v_model=Word2Vec(list_of_train_sentance,min_count=5,size=50, workers=4)\n",
    "print(w2v_model.wv.most_similar('great'))\n",
    "print('='*50)\n",
    "print(w2v_model.wv.most_similar('worst'))"
   ]
  },
  {
   "cell_type": "code",
   "execution_count": 0,
   "metadata": {
    "colab": {
     "base_uri": "https://localhost:8080/",
     "height": 71
    },
    "colab_type": "code",
    "id": "b5soY6LU7Wwd",
    "outputId": "7622c2ac-b220-4b77-916a-5b617cd1102a"
   },
   "outputs": [
    {
     "name": "stdout",
     "output_type": "stream",
     "text": [
      "number of words that occured minimum 5 times  9882\n",
      "sample words  ['looked', 'everywhere', 'reviews', 'product', 'buying', 'could', 'not', 'find', 'single', 'one', 'let', 'spare', 'someone', 'situation', 'really', 'good', 'far', 'better', 'expected', 'reading', 'low', 'carb', 'barbecue', 'sauces', 'no', 'negative', 'taste', 'whatsoever', 'sweet', 'tangy', 'completely', 'pleasant', 'would', 'still', 'like', 'lot', 'note', 'grams', 'xylitol', 'per', 'serving', 'know', 'many', 'people', 'try', 'avoid', 'bad', 'said', 'tried', 'cooking']\n"
     ]
    }
   ],
   "source": [
    "w2v_words = list(w2v_model.wv.vocab)\n",
    "print(\"number of words that occured minimum 5 times \",len(w2v_words))\n",
    "print(\"sample words \", w2v_words[0:50])"
   ]
  },
  {
   "cell_type": "code",
   "execution_count": 0,
   "metadata": {
    "colab": {},
    "colab_type": "code",
    "id": "2pG5_FYx7Wwh"
   },
   "outputs": [],
   "source": []
  },
  {
   "cell_type": "code",
   "execution_count": 0,
   "metadata": {
    "colab": {},
    "colab_type": "code",
    "id": "yB1p1zem7Wwl"
   },
   "outputs": [],
   "source": []
  },
  {
   "cell_type": "markdown",
   "metadata": {
    "colab_type": "text",
    "id": "2ufuxGNm7Wwo"
   },
   "source": [
    "## [4.4.1] Converting text into vectors using Avg W2V, TFIDF-W2V"
   ]
  },
  {
   "cell_type": "markdown",
   "metadata": {
    "colab_type": "text",
    "id": "24q6-Pkv7Wwr"
   },
   "source": [
    "#### [4.4.1.1] Avg W2v"
   ]
  },
  {
   "cell_type": "code",
   "execution_count": 0,
   "metadata": {
    "colab": {
     "base_uri": "https://localhost:8080/",
     "height": 68
    },
    "colab_type": "code",
    "id": "Pfr8OSuC7Wws",
    "outputId": "be26baf6-3314-4375-8d43-2c3f14316f67"
   },
   "outputs": [
    {
     "name": "stderr",
     "output_type": "stream",
     "text": [
      "100%|██████████| 24500/24500 [00:44<00:00, 551.45it/s]"
     ]
    },
    {
     "name": "stdout",
     "output_type": "stream",
     "text": [
      "24500\n",
      "50\n"
     ]
    },
    {
     "name": "stderr",
     "output_type": "stream",
     "text": [
      "\n"
     ]
    }
   ],
   "source": [
    "######## Train data ########\n",
    "# average Word2Vec\n",
    "# compute average word2vec for each review.\n",
    "sent_vectors_train = []; # the avg-w2v for each sentence/review is stored in this list\n",
    "for sent in tqdm(list_of_train_sentance): # for each review/sentence\n",
    "    sent_vec = np.zeros(50) # as word vectors are of zero length 50, you might need to change this to 300 if you use google's w2v\n",
    "    cnt_words =0; # num of words with a valid vector in the sentence/review\n",
    "    for word in sent: # for each word in a review/sentence\n",
    "        if word in w2v_words:\n",
    "            vec = w2v_model.wv[word]\n",
    "            sent_vec += vec\n",
    "            cnt_words += 1\n",
    "    if cnt_words != 0:\n",
    "        sent_vec /= cnt_words\n",
    "    sent_vectors_train.append(sent_vec)\n",
    "print(len(sent_vectors_train))\n",
    "print(len(sent_vectors_train[0]))"
   ]
  },
  {
   "cell_type": "code",
   "execution_count": 0,
   "metadata": {
    "colab": {
     "base_uri": "https://localhost:8080/",
     "height": 68
    },
    "colab_type": "code",
    "id": "aU5KOGOw7Www",
    "outputId": "685fbb59-3763-435d-bd51-d91e22cf8bb6"
   },
   "outputs": [
    {
     "name": "stderr",
     "output_type": "stream",
     "text": [
      "100%|██████████| 10500/10500 [00:19<00:00, 536.26it/s]"
     ]
    },
    {
     "name": "stdout",
     "output_type": "stream",
     "text": [
      "10500\n",
      "50\n"
     ]
    },
    {
     "name": "stderr",
     "output_type": "stream",
     "text": [
      "\n"
     ]
    }
   ],
   "source": [
    "######## CV data ########\n",
    "# average Word2Vec\n",
    "# compute average word2vec for each review.\n",
    "sent_vectors_cv = []; # the avg-w2v for each sentence/review is stored in this list\n",
    "for sent in tqdm(list_of_cv_sentance): # for each review/sentence\n",
    "    sent_vec = np.zeros(50) # as word vectors are of zero length 50, you might need to change this to 300 if you use google's w2v\n",
    "    cnt_words =0; # num of words with a valid vector in the sentence/review\n",
    "    for word in sent: # for each word in a review/sentence\n",
    "        if word in w2v_words:\n",
    "            vec = w2v_model.wv[word]\n",
    "            sent_vec += vec\n",
    "            cnt_words += 1\n",
    "    if cnt_words != 0:\n",
    "        sent_vec /= cnt_words\n",
    "    sent_vectors_cv.append(sent_vec)\n",
    "print(len(sent_vectors_cv))\n",
    "print(len(sent_vectors_cv[0]))"
   ]
  },
  {
   "cell_type": "code",
   "execution_count": 0,
   "metadata": {
    "colab": {
     "base_uri": "https://localhost:8080/",
     "height": 68
    },
    "colab_type": "code",
    "id": "kreWjLg27Wwz",
    "outputId": "330e00cb-4bf8-4732-cf3e-f82b5fd05570"
   },
   "outputs": [
    {
     "name": "stderr",
     "output_type": "stream",
     "text": [
      "100%|██████████| 15000/15000 [00:27<00:00, 551.77it/s]"
     ]
    },
    {
     "name": "stdout",
     "output_type": "stream",
     "text": [
      "15000\n",
      "50\n"
     ]
    },
    {
     "name": "stderr",
     "output_type": "stream",
     "text": [
      "\n"
     ]
    }
   ],
   "source": [
    "######## Test data ########\n",
    "# average Word2Vec\n",
    "# compute average word2vec for each review.\n",
    "sent_vectors_test = []; # the avg-w2v for each sentence/review is stored in this list\n",
    "for sent in tqdm(list_of_test_sentance): # for each review/sentence\n",
    "    sent_vec = np.zeros(50) # as word vectors are of zero length 50, you might need to change this to 300 if you use google's w2v\n",
    "    cnt_words =0; # num of words with a valid vector in the sentence/review\n",
    "    for word in sent: # for each word in a review/sentence\n",
    "        if word in w2v_words:\n",
    "            vec = w2v_model.wv[word]\n",
    "            sent_vec += vec\n",
    "            cnt_words += 1\n",
    "    if cnt_words != 0:\n",
    "        sent_vec /= cnt_words\n",
    "    sent_vectors_test.append(sent_vec)\n",
    "print(len(sent_vectors_test))\n",
    "print(len(sent_vectors_test[0]))"
   ]
  },
  {
   "cell_type": "code",
   "execution_count": 0,
   "metadata": {
    "colab": {},
    "colab_type": "code",
    "id": "W2U8mggu7Ww5"
   },
   "outputs": [],
   "source": [
    "# save the datasets as numpy array\n",
    "w2v_train = np.array(sent_vectors_train)\n",
    "w2v_cv = np.array(sent_vectors_cv)\n",
    "w2v_test = np.array(sent_vectors_test)"
   ]
  },
  {
   "cell_type": "code",
   "execution_count": 0,
   "metadata": {
    "colab": {},
    "colab_type": "code",
    "id": "_1Ck6wnW7Ww7"
   },
   "outputs": [],
   "source": [
    "np.save(\"drive/ai/w2v_train.npy\", w2v_train)\n",
    "np.save(\"drive/ai/w2v_train_y.npy\", train_y)\n",
    "np.save(\"drive/ai/w2v_cv.npy\", w2v_cv)\n",
    "np.save(\"drive/ai/w2v_cv_y.npy\", cv_y)\n",
    "np.save(\"drive/ai/w2v_test.npy\", w2v_test)\n",
    "np.save(\"drive/ai/w2v_test_y.npy\", test_y)"
   ]
  },
  {
   "cell_type": "markdown",
   "metadata": {
    "colab_type": "text",
    "id": "YkHcwkpK7Ww-"
   },
   "source": [
    "#### [4.4.1.2] TFIDF weighted W2v"
   ]
  },
  {
   "cell_type": "code",
   "execution_count": 0,
   "metadata": {
    "colab": {
     "base_uri": "https://localhost:8080/",
     "height": 221
    },
    "colab_type": "code",
    "id": "f3GYG1hi7Ww_",
    "outputId": "53ac66c0-c08e-4cb8-f035-8b673707c149"
   },
   "outputs": [
    {
     "name": "stdout",
     "output_type": "stream",
     "text": [
      "================Train Data===========\n",
      "the type of count vectorizer  <class 'scipy.sparse.csr.csr_matrix'>\n",
      "the shape of out text TFIDF vectorizer  (24500, 30961)\n",
      "the number of unique words including both unigrams and bigrams  30961\n",
      "================CV Data===========\n",
      "the type of count vectorizer  <class 'scipy.sparse.csr.csr_matrix'>\n",
      "the shape of out text TFIDF vectorizer  (10500, 30961)\n",
      "the number of unique words including both unigrams and bigrams  30961\n",
      "================Test Data===========\n",
      "the type of count vectorizer  <class 'scipy.sparse.csr.csr_matrix'>\n",
      "the shape of out text TFIDF vectorizer  (15000, 30961)\n",
      "the number of unique words including both unigrams and bigrams  30961\n"
     ]
    }
   ],
   "source": [
    "\n",
    "model = TfidfVectorizer()\n",
    "#tf_idf_matrix = model.fit_transform(train)\n",
    "\n",
    "print(\"================Train Data===========\")\n",
    "final_tf_idf_train = model.fit_transform(train)\n",
    "print(\"the type of count vectorizer \",type(final_tf_idf_train))\n",
    "print(\"the shape of out text TFIDF vectorizer \",final_tf_idf_train.get_shape())\n",
    "print(\"the number of unique words including both unigrams and bigrams \", final_tf_idf_train.get_shape()[1])\n",
    "print(\"================CV Data===========\")\n",
    "final_tf_idf_cv = model.transform(cv)\n",
    "print(\"the type of count vectorizer \",type(final_tf_idf_cv))\n",
    "print(\"the shape of out text TFIDF vectorizer \",final_tf_idf_cv.get_shape())\n",
    "print(\"the number of unique words including both unigrams and bigrams \", final_tf_idf_cv.get_shape()[1])\n",
    "print(\"================Test Data===========\")\n",
    "final_tf_idf_test = model.transform(test)\n",
    "print(\"the type of count vectorizer \",type(final_tf_idf_test))\n",
    "print(\"the shape of out text TFIDF vectorizer \",final_tf_idf_test.get_shape())\n",
    "print(\"the number of unique words including both unigrams and bigrams \", final_tf_idf_test.get_shape()[1])\n",
    "\n",
    "# we are converting a dictionary with word as a key, and the idf as a value\n",
    "dictionary = dict(zip(model.get_feature_names(), list(model.idf_)))"
   ]
  },
  {
   "cell_type": "code",
   "execution_count": 0,
   "metadata": {
    "colab": {
     "base_uri": "https://localhost:8080/",
     "height": 34
    },
    "colab_type": "code",
    "id": "_nb_fbzr7WxH",
    "outputId": "cbd6a226-a18f-48d6-dc15-792db1ea8abf"
   },
   "outputs": [
    {
     "name": "stderr",
     "output_type": "stream",
     "text": [
      "100%|██████████| 24500/24500 [08:09<00:00, 50.06it/s]\n"
     ]
    }
   ],
   "source": [
    "######## Train #######\n",
    "# TF-IDF weighted Word2Vec\n",
    "tfidf_feat = model.get_feature_names() # tfidf words/col-names\n",
    "# final_tf_idf is the sparse matrix with row= sentence, col=word and cell_val = tfidf\n",
    "\n",
    "train_tfidf_sent_vectors = []; # the tfidf-w2v for each sentence/review is stored in this list\n",
    "row=0;\n",
    "for sent in tqdm(list_of_train_sentance): # for each review/sentence \n",
    "    sent_vec = np.zeros(50) # as word vectors are of zero length\n",
    "    weight_sum =0; # num of words with a valid vector in the sentence/review\n",
    "    for word in sent: # for each word in a review/sentence\n",
    "        if word in w2v_words and word in tfidf_feat:\n",
    "            vec = w2v_model.wv[word]\n",
    "            #tf_idf = tf_idf_matrix[row, tfidf_feat.index(word)]\n",
    "            # to reduce the computation we are \n",
    "            # dictionary[word] = idf value of word in whole courpus\n",
    "            # sent.count(word) = tf valeus of word in this review\n",
    "            tf_idf = dictionary[word]*(sent.count(word)/len(sent))\n",
    "            sent_vec += (vec * tf_idf)\n",
    "            weight_sum += tf_idf\n",
    "    if weight_sum != 0:\n",
    "        sent_vec /= weight_sum\n",
    "    train_tfidf_sent_vectors.append(sent_vec)\n",
    "    row += 1"
   ]
  },
  {
   "cell_type": "code",
   "execution_count": 0,
   "metadata": {
    "colab": {
     "base_uri": "https://localhost:8080/",
     "height": 34
    },
    "colab_type": "code",
    "id": "2klF8k4D7WxN",
    "outputId": "b04c7fcf-0aa1-4ac6-8d71-dd3a7c4adc40"
   },
   "outputs": [
    {
     "name": "stderr",
     "output_type": "stream",
     "text": [
      "100%|██████████| 10500/10500 [03:33<00:00, 49.12it/s]\n"
     ]
    }
   ],
   "source": [
    "######## CV #######\n",
    "# TF-IDF weighted Word2Vec\n",
    "#tfidf_feat = model.get_feature_names() # tfidf words/col-names\n",
    "# final_tf_idf is the sparse matrix with row= sentence, col=word and cell_val = tfidf\n",
    "\n",
    "cv_tfidf_sent_vectors = []; # the tfidf-w2v for each sentence/review is stored in this list\n",
    "row=0;\n",
    "for sent in tqdm(list_of_cv_sentance): # for each review/sentence \n",
    "    sent_vec = np.zeros(50) # as word vectors are of zero length\n",
    "    weight_sum =0; # num of words with a valid vector in the sentence/review\n",
    "    for word in sent: # for each word in a review/sentence\n",
    "        if word in w2v_words and word in tfidf_feat:\n",
    "            vec = w2v_model.wv[word]\n",
    "            #tf_idf = tf_idf_matrix[row, tfidf_feat.index(word)]\n",
    "            # to reduce the computation we are \n",
    "            # dictionary[word] = idf value of word in whole courpus\n",
    "            # sent.count(word) = tf valeus of word in this review\n",
    "            tf_idf = dictionary[word]*(sent.count(word)/len(sent))\n",
    "            sent_vec += (vec * tf_idf)\n",
    "            weight_sum += tf_idf\n",
    "    if weight_sum != 0:\n",
    "        sent_vec /= weight_sum\n",
    "    cv_tfidf_sent_vectors.append(sent_vec)\n",
    "    row += 1"
   ]
  },
  {
   "cell_type": "code",
   "execution_count": 0,
   "metadata": {
    "colab": {
     "base_uri": "https://localhost:8080/",
     "height": 34
    },
    "colab_type": "code",
    "id": "Ps2Nd98C7WxU",
    "outputId": "5d69da73-25e9-460a-9e4e-8d582eff38c0",
    "scrolled": true
   },
   "outputs": [
    {
     "name": "stderr",
     "output_type": "stream",
     "text": [
      "100%|██████████| 15000/15000 [04:52<00:00, 51.23it/s]\n"
     ]
    }
   ],
   "source": [
    "######## Train #######\n",
    "# TF-IDF weighted Word2Vec\n",
    "#tfidf_feat = model.get_feature_names() # tfidf words/col-names\n",
    "# final_tf_idf is the sparse matrix with row= sentence, col=word and cell_val = tfidf\n",
    "\n",
    "test_tfidf_sent_vectors = []; # the tfidf-w2v for each sentence/review is stored in this list\n",
    "row=0;\n",
    "for sent in tqdm(list_of_test_sentance): # for each review/sentence \n",
    "    sent_vec = np.zeros(50) # as word vectors are of zero length\n",
    "    weight_sum =0; # num of words with a valid vector in the sentence/review\n",
    "    for word in sent: # for each word in a review/sentence\n",
    "        if word in w2v_words and word in tfidf_feat:\n",
    "            vec = w2v_model.wv[word]\n",
    "            #tf_idf = tf_idf_matrix[row, tfidf_feat.index(word)]\n",
    "            # to reduce the computation we are \n",
    "            # dictionary[word] = idf value of word in whole courpus\n",
    "            # sent.count(word) = tf valeus of word in this review\n",
    "            tf_idf = dictionary[word]*(sent.count(word)/len(sent))\n",
    "            sent_vec += (vec * tf_idf)\n",
    "            weight_sum += tf_idf\n",
    "    if weight_sum != 0:\n",
    "        sent_vec /= weight_sum\n",
    "    test_tfidf_sent_vectors.append(sent_vec)\n",
    "    row += 1"
   ]
  },
  {
   "cell_type": "code",
   "execution_count": 0,
   "metadata": {
    "colab": {},
    "colab_type": "code",
    "id": "43aSbKYl7Wxc"
   },
   "outputs": [],
   "source": [
    "# save the datasets as numpy array\n",
    "tfidf_w2v_train = np.array(train_tfidf_sent_vectors)\n",
    "tfidf_w2v_cv = np.array(cv_tfidf_sent_vectors)\n",
    "tfidf_w2v_test = np.array(test_tfidf_sent_vectors)"
   ]
  },
  {
   "cell_type": "code",
   "execution_count": 0,
   "metadata": {
    "colab": {},
    "colab_type": "code",
    "id": "-8VzwGJE7Wxh"
   },
   "outputs": [],
   "source": [
    "np.save(\"drive/ai/w2v_tfidf_train.npy\", tfidf_w2v_train)\n",
    "np.save(\"drive/ai/w2v_tfidf_train_y.npy\", train_y)\n",
    "np.save(\"drive/ai/w2v_tfidf_cv.npy\", tfidf_w2v_cv)\n",
    "np.save(\"drive/ai/w2v_tfidf_cv_y.npy\", cv_y)\n",
    "np.save(\"drive/ai/w2v_tfidf_test.npy\", tfidf_w2v_test)\n",
    "np.save(\"drive/ai/w2v_tfidf_test_y.npy\", test_y)"
   ]
  },
  {
   "cell_type": "markdown",
   "metadata": {
    "colab_type": "text",
    "id": "7MUfc8217Wxl"
   },
   "source": [
    "# [5] Assignment 3: KNN"
   ]
  },
  {
   "cell_type": "markdown",
   "metadata": {
    "colab_type": "text",
    "id": "sxnetMT47Wxm"
   },
   "source": [
    "<ol>\n",
    "    <li><strong>Apply Knn(brute force version) on these feature sets</strong>\n",
    "        <ul>\n",
    "            <li><font color='red'>SET 1:</font>Review text, preprocessed one converted into vectors using (BOW)</li>\n",
    "            <li><font color='red'>SET 2:</font>Review text, preprocessed one converted into vectors using (TFIDF)</li>\n",
    "            <li><font color='red'>SET 3:</font>Review text, preprocessed one converted into vectors using (AVG W2v)</li>\n",
    "            <li><font color='red'>SET 4:</font>Review text, preprocessed one converted into vectors using (TFIDF W2v)</li>\n",
    "        </ul>\n",
    "    </li>\n",
    "    <br>\n",
    "    <li><strong>Apply Knn(kd tree version) on these feature sets</strong>\n",
    "        <br><font color='red'>NOTE: </font>sklearn implementation of kd-tree accepts only dense matrices, you need to convert the sparse matrices of CountVectorizer/TfidfVectorizer into dense matices. You can convert sparse matrices to dense using .toarray() attribute. For more information please visit this <a href='https://docs.scipy.org/doc/scipy-0.18.1/reference/generated/scipy.sparse.csr_matrix.toarray.html'>link</a>\n",
    "        <ul>\n",
    "            <li><font color='red'>SET 5:</font>Review text, preprocessed one converted into vectors using (BOW) but with restriction on maximum features generated.\n",
    "            <pre>\n",
    "            count_vect = CountVectorizer(min_df=10, max_features=500) \n",
    "            count_vect.fit(preprocessed_reviews)\n",
    "            </pre>\n",
    "            </li>\n",
    "            <li><font color='red'>SET 6:</font>Review text, preprocessed one converted into vectors using (TFIDF) but with restriction on maximum features generated.\n",
    "            <pre>\n",
    "                tf_idf_vect = TfidfVectorizer(min_df=10, max_features=500)\n",
    "                tf_idf_vect.fit(preprocessed_reviews)\n",
    "            </pre>\n",
    "            </li>\n",
    "            <li><font color='red'>SET 3:</font>Review text, preprocessed one converted into vectors using (AVG W2v)</li>\n",
    "            <li><font color='red'>SET 4:</font>Review text, preprocessed one converted into vectors using (TFIDF W2v)</li>\n",
    "        </ul>\n",
    "    </li>\n",
    "    <br>\n",
    "    <li><strong>The hyper paramter tuning(find best K)</strong>\n",
    "        <ul>\n",
    "    <li>Find the best hyper parameter which will give the maximum <a href='https://www.appliedaicourse.com/course/applied-ai-course-online/lessons/receiver-operating-characteristic-curve-roc-curve-and-auc-1/'>AUC</a> value</li>\n",
    "    <li>Find the best hyper paramter using k-fold cross validation or simple cross validation data</li>\n",
    "    <li>Use gridsearch cv or randomsearch cv or you can also write your own for loops to do this task of hyperparameter tuning</li>\n",
    "        </ul>\n",
    "    </li>\n",
    "    <br>\n",
    "    <li>\n",
    "    <strong>Representation of results</strong>\n",
    "        <ul>\n",
    "    <li>You need to plot the performance of model both on train data and cross validation data for each hyper parameter, like shown in the figure\n",
    "    <img src='train_cv_auc.JPG' width=300px></li>\n",
    "    <li>Once after you found the best hyper parameter, you need to train your model with it, and find the AUC on test data and plot the ROC curve on both train and test.\n",
    "    <img src='train_test_auc.JPG' width=300px></li>\n",
    "    <li>Along with plotting ROC curve, you need to print the <a href='https://www.appliedaicourse.com/course/applied-ai-course-online/lessons/confusion-matrix-tpr-fpr-fnr-tnr-1/'>confusion matrix</a> with predicted and original labels of test data points\n",
    "    <img src='confusion_matrix.png' width=300px></li>\n",
    "        </ul>\n",
    "    </li>\n",
    "    <br>\n",
    "    <li><strong>Conclusion</strong>\n",
    "        <ul>\n",
    "    <li>You need to summarize the results at the end of the notebook, summarize it in the table format. To print out a table please refer to this prettytable library<a href='http://zetcode.com/python/prettytable/'> link</a> \n",
    "        <img src='summary.JPG' width=400px>\n",
    "    </li>\n",
    "        </ul>\n",
    "</ol>"
   ]
  },
  {
   "cell_type": "markdown",
   "metadata": {
    "colab_type": "text",
    "id": "g2-ynhcg7Wxn"
   },
   "source": [
    "<h4><font color='red'>Note: Data Leakage</font></h4>\n",
    "\n",
    "1. There will be an issue of data-leakage if you vectorize the entire data and then split it into train/cv/test.\n",
    "2. To avoid the issue of data-leakag, make sure to split your data first and then vectorize it. \n",
    "3. While vectorizing your data, apply the method fit_transform() on you train data, and apply the method transform() on cv/test data.\n",
    "4. For more details please go through this <a href='https://soundcloud.com/applied-ai-course/leakage-bow-and-tfidf'>link.</a>"
   ]
  },
  {
   "cell_type": "markdown",
   "metadata": {
    "colab_type": "text",
    "id": "3r0AhWVa7Wxp"
   },
   "source": [
    "## [5.1] Applying KNN brute force"
   ]
  },
  {
   "cell_type": "markdown",
   "metadata": {
    "colab_type": "text",
    "id": "inXBSPLW7Wxq"
   },
   "source": [
    "### [5.1.1] Applying KNN brute force on BOW,<font color='red'> SET 1</font>"
   ]
  },
  {
   "cell_type": "code",
   "execution_count": 0,
   "metadata": {
    "colab": {},
    "colab_type": "code",
    "id": "ijto8KtW7fvN"
   },
   "outputs": [],
   "source": []
  },
  {
   "cell_type": "code",
   "execution_count": 0,
   "metadata": {
    "colab": {},
    "colab_type": "code",
    "id": "VcOFa1_i7Wxq"
   },
   "outputs": [],
   "source": [
    "from sklearn.neighbors import KNeighborsClassifier\n",
    "from sklearn.metrics import accuracy_score , f1_score , confusion_matrix\n",
    "from collections import Counter\n",
    "from sklearn.metrics import accuracy_score, roc_auc_score , roc_curve\n",
    "from sklearn.model_selection import train_test_split"
   ]
  },
  {
   "cell_type": "code",
   "execution_count": 0,
   "metadata": {
    "colab": {},
    "colab_type": "code",
    "id": "j2WTz1Iz7Wxz"
   },
   "outputs": [],
   "source": [
    "# Please write all the code with proper documentation\n",
    "# load Review text, preprocessed one converted into vectors using (BOW)\n",
    "bow_train = np.load(\"drive/ai/bow_train.npy\")\n",
    "bow_train_y = np.load(\"drive/ai/bow_train_y.npy\")\n",
    "bow_cv = np.load(\"drive/ai/bow_cv.npy\")\n",
    "bow_cv_y = np.load(\"drive/ai/bow_cv_y.npy\")\n",
    "bow_test = np.load(\"drive/ai/bow_test.npy\")\n",
    "bow_test_y = np.load(\"drive/ai/bow_test_y.npy\")"
   ]
  },
  {
   "cell_type": "code",
   "execution_count": 0,
   "metadata": {
    "colab": {
     "base_uri": "https://localhost:8080/",
     "height": 68
    },
    "colab_type": "code",
    "id": "vimJ-ngn7Wx3",
    "outputId": "79f74ca3-0425-4c00-e6ec-e482cceb80e6"
   },
   "outputs": [
    {
     "name": "stdout",
     "output_type": "stream",
     "text": [
      "Shape of Train =  (24500, 500)\n",
      "Shape of CV =  (10500, 500)\n",
      "Shape of Test =  (15000, 500)\n"
     ]
    }
   ],
   "source": [
    "print(\"Shape of Train = \", bow_train.shape)\n",
    "print(\"Shape of CV = \", bow_cv.shape)\n",
    "print(\"Shape of Test = \", bow_test.shape)"
   ]
  },
  {
   "cell_type": "code",
   "execution_count": 0,
   "metadata": {
    "colab": {
     "base_uri": "https://localhost:8080/",
     "height": 357
    },
    "colab_type": "code",
    "id": "hyFKvYQWMaQz",
    "outputId": "9364690f-bddd-4864-f317-a1a46d468428"
   },
   "outputs": [
    {
     "name": "stdout",
     "output_type": "stream",
     "text": [
      "\n",
      "Train AUC for k = 1 is 99.96%\n",
      "\n",
      "CV AUC for k = 1 is 53.47%\n",
      "\n",
      "Train AUC for k = 3 is 92.31%\n",
      "\n",
      "CV AUC for k = 3 is 55.03%\n",
      "\n",
      "Train AUC for k = 5 is 88.99%\n",
      "\n",
      "CV AUC for k = 5 is 55.29%\n",
      "\n",
      "Train AUC for k = 7 is 87.13%\n",
      "\n",
      "CV AUC for k = 7 is 55.61%\n",
      "\n",
      "Train AUC for k = 9 is 86.04%\n",
      "\n",
      "CV AUC for k = 9 is 56.72%\n"
     ]
    }
   ],
   "source": [
    "bow_train_auc = []\n",
    "bow_cv_auc = []\n",
    "for i in range(1,10,2):\n",
    "  knn = KNeighborsClassifier(n_neighbors=i)\n",
    "  knn.fit(bow_train, bow_train_y)\n",
    "  # train data\n",
    "  y_prob_train = knn.predict_proba(bow_train)[:,1]\n",
    "  y_pred = np.where(y_prob_train > 0.5, 1, 0)\n",
    "  auc_roc_test = roc_auc_score(bow_train_y , y_prob_train)\n",
    "  print('\\nTrain AUC for k = %d is %0.2f%%' % (i, (auc_roc_test * float(100))))\n",
    "  bow_train_auc.append(auc_roc_test)\n",
    "  # CV\n",
    "  y_prob_cv = knn.predict_proba(bow_cv)[:,1]\n",
    "  y_pred = np.where(y_prob_cv > 0.5, 1, 0)\n",
    "  auc_roc_cv = roc_auc_score(bow_cv_y , y_prob_cv)\n",
    "  print('\\nCV AUC for k = %d is %0.2f%%' % (i, (auc_roc_cv * float(100))))\n",
    "  bow_cv_auc.append(auc_roc_cv)\n",
    "  \n",
    "  \n",
    "  "
   ]
  },
  {
   "cell_type": "code",
   "execution_count": 0,
   "metadata": {
    "colab": {},
    "colab_type": "code",
    "id": "cBty1645X5Nt"
   },
   "outputs": [],
   "source": [
    "k_values = [j for j in range(1,10,2)]"
   ]
  },
  {
   "cell_type": "code",
   "execution_count": 0,
   "metadata": {
    "colab": {
     "base_uri": "https://localhost:8080/",
     "height": 410
    },
    "colab_type": "code",
    "id": "srwtFog87WyQ",
    "outputId": "b829681b-9446-437d-a094-9ad2d081ff81"
   },
   "outputs": [
    {
     "data": {
      "text/plain": [
       "<matplotlib.legend.Legend at 0x7f2bd83f5748>"
      ]
     },
     "execution_count": 12,
     "metadata": {
      "tags": []
     },
     "output_type": "execute_result"
    },
    {
     "data": {
      "image/png": "[encoded data removed]",
      "text/plain": [
       "<matplotlib.figure.Figure at 0x7f2be11cce48>"
      ]
     },
     "metadata": {
      "tags": []
     },
     "output_type": "display_data"
    }
   ],
   "source": [
    "# https://www.dataquest.io/blog/learning-curves-machine-learning/\n",
    "\n",
    "import matplotlib.pyplot as plt\n",
    "%matplotlib inline\n",
    "\n",
    "plt.style.use('seaborn')\n",
    "\n",
    "plt.plot(k_values, bow_train_auc, label = 'Training AUC')\n",
    "plt.plot(k_values, bow_cv_auc, label = 'Validation AUC')\n",
    "\n",
    "plt.ylabel('AUC', fontsize = 14)\n",
    "plt.xlabel('k-values', fontsize = 14)\n",
    "plt.title('Learning curves for a k-NN model', fontsize = 18, y = 1.03)\n",
    "plt.legend()"
   ]
  },
  {
   "cell_type": "code",
   "execution_count": 0,
   "metadata": {
    "colab": {
     "base_uri": "https://localhost:8080/",
     "height": 136
    },
    "colab_type": "code",
    "id": "Ka-__GD77WyT",
    "outputId": "7338acd7-c10c-4808-fe5a-ee9117bf0d7c"
   },
   "outputs": [
    {
     "name": "stdout",
     "output_type": "stream",
     "text": [
      "\n",
      "Train AUC for k = 9 is 86.04%\n",
      "\n",
      "CV AUC for k = 9 is 56.72%\n",
      "\n",
      "Test AUC for k = 9 is 52.45%\n",
      "==================================================\n"
     ]
    }
   ],
   "source": [
    "knn = KNeighborsClassifier(n_neighbors=9)\n",
    "knn.fit(bow_train, bow_train_y)\n",
    "# train data\n",
    "y_prob_train = knn.predict_proba(bow_train)[:,1]\n",
    "fprt, tprt , throsholdt = roc_curve(bow_train_y, y_prob_train)\n",
    "y_pred_train = np.where(y_prob_train > 0.5, 1, 0)\n",
    "auc_roc_train = roc_auc_score(bow_train_y , y_prob_train)\n",
    "print('\\nTrain AUC for k = %d is %0.2f%%' % (9, (auc_roc_test * float(100))))\n",
    "# CV\n",
    "y_prob_cv = knn.predict_proba(bow_cv)[:,1]\n",
    "fprc, tprc , throsholdc = roc_curve(bow_cv_y, y_prob_cv)\n",
    "y_pred_cv = np.where(y_prob_cv > 0.5, 1, 0)\n",
    "auc_roc_cv = roc_auc_score(bow_cv_y , y_prob_cv)\n",
    "print('\\nCV AUC for k = %d is %0.2f%%' % (9, (auc_roc_cv * float(100))))\n",
    "# Test\n",
    "y_prob_test = knn.predict_proba(bow_test)[:,1]\n",
    "fprts, tprts , throsholdts = roc_curve(bow_test_y, y_prob_test)\n",
    "y_pred_test = np.where(y_prob_test > 0.5, 1, 0)\n",
    "auc_roc_test = roc_auc_score(bow_test_y , y_prob_test)\n",
    "print('\\nTest AUC for k = %d is %0.2f%%' % (9, (auc_roc_test * float(100))))\n",
    "print(\"=\"*50)"
   ]
  },
  {
   "cell_type": "code",
   "execution_count": 0,
   "metadata": {
    "colab": {
     "base_uri": "https://localhost:8080/",
     "height": 376
    },
    "colab_type": "code",
    "id": "yFvJMN9BdwyI",
    "outputId": "9c0c9d32-5d93-4bf4-f07a-1b4d7cdb6b1f"
   },
   "outputs": [
    {
     "data": {
      "image/png": "[encoded data removed]",
      "text/plain": [
       "<matplotlib.figure.Figure at 0x7f2bd844c198>"
      ]
     },
     "metadata": {
      "tags": []
     },
     "output_type": "display_data"
    }
   ],
   "source": [
    "# https://stackoverflow.com/questions/25009284/how-to-plot-roc-curve-in-python\n",
    "\n",
    "import matplotlib.pyplot as plt\n",
    "plt.title('Receiver Operating Characteristic')\n",
    "plt.plot(fprc, tprc, 'b' , label ='AUC CV = %0.2f' % (auc_roc_cv * float(100)))\n",
    "plt.plot(fprts, tprts, 'y' , label ='AUC Test = %0.2f' % (auc_roc_test * float(100)))\n",
    "plt.plot(fprt, tprt, 'g', label='AUC Train = %0.2f' % (auc_roc_train * float(100)))\n",
    "plt.legend(loc = 'lower right')\n",
    "plt.plot([0, 1], [0, 1],'r')\n",
    "plt.xlim([0, 1])\n",
    "plt.ylim([0, 1])\n",
    "plt.ylabel('True Positive Rate')\n",
    "plt.xlabel('False Positive Rate')\n",
    "plt.show()"
   ]
  },
  {
   "cell_type": "code",
   "execution_count": 0,
   "metadata": {
    "colab": {
     "base_uri": "https://localhost:8080/",
     "height": 34
    },
    "colab_type": "code",
    "id": "cQQcjeVbdwhH",
    "outputId": "a9735908-22fc-43f4-89e0-2896b7bdf921"
   },
   "outputs": [
    {
     "name": "stdout",
     "output_type": "stream",
     "text": [
      "F1-Score on test set: 0.88\n"
     ]
    }
   ],
   "source": [
    "print(\"F1-Score on test set: %0.2f\"%(f1_score(bow_test_y, y_pred_test)))"
   ]
  },
  {
   "cell_type": "code",
   "execution_count": 0,
   "metadata": {
    "colab": {
     "base_uri": "https://localhost:8080/",
     "height": 368
    },
    "colab_type": "code",
    "id": "MdNl4FFDeG8w",
    "outputId": "9178bd17-2133-4e15-c23c-cf30dc1ca460"
   },
   "outputs": [
    {
     "data": {
      "text/plain": [
       "<matplotlib.axes._subplots.AxesSubplot at 0x7f2bd5b23198>"
      ]
     },
     "execution_count": 16,
     "metadata": {
      "tags": []
     },
     "output_type": "execute_result"
    },
    {
     "data": {
      "image/png": "[encoded data removed]",
      "text/plain": [
       "<matplotlib.figure.Figure at 0x7f2bd844c4e0>"
      ]
     },
     "metadata": {
      "tags": []
     },
     "output_type": "display_data"
    }
   ],
   "source": [
    "df_cm = pd.DataFrame(confusion_matrix(bow_test_y, y_pred_test), range(2), range(2))\n",
    "sns.set(font_scale=1.4)\n",
    "sns.heatmap(df_cm, annot=True, annot_kws={\"size\": 16}, fmt='g')"
   ]
  },
  {
   "cell_type": "markdown",
   "metadata": {
    "colab_type": "text",
    "id": "6U8NaIsn7WyW"
   },
   "source": [
    "### [5.1.2] Applying KNN brute force on TFIDF,<font color='red'> SET 2</font>"
   ]
  },
  {
   "cell_type": "code",
   "execution_count": 0,
   "metadata": {
    "colab": {},
    "colab_type": "code",
    "id": "eeJYhfQ57WyX"
   },
   "outputs": [],
   "source": [
    "# Please write all the code with proper documentation\n",
    "# Please write all the code with proper documentation\n",
    "# load Review text, preprocessed one converted into vectors using (BOW)\n",
    "tfidf_train = np.load(\"drive/ai/tfidf_train.npy\")\n",
    "tfidf_train_y = np.load(\"drive/ai/tfidf_train_y.npy\")\n",
    "tfidf_cv = np.load(\"drive/ai/tfidf_cv.npy\")\n",
    "tfidf_cv_y = np.load(\"drive/ai/tfidf_cv_y.npy\")\n",
    "tfidf_test = np.load(\"drive/ai/tfidf_test.npy\")\n",
    "tfidf_test_y = np.load(\"drive/ai/tfidf_test_y.npy\")"
   ]
  },
  {
   "cell_type": "code",
   "execution_count": 0,
   "metadata": {
    "colab": {
     "base_uri": "https://localhost:8080/",
     "height": 68
    },
    "colab_type": "code",
    "id": "En6ZH5nI7Wyc",
    "outputId": "19424040-fc9a-4c80-ae05-b38015df43ab"
   },
   "outputs": [
    {
     "name": "stdout",
     "output_type": "stream",
     "text": [
      "Shape of Train =  (24500, 500)\n",
      "Shape of CV =  (10500, 500)\n",
      "Shape of Test =  (15000, 500)\n"
     ]
    }
   ],
   "source": [
    "print(\"Shape of Train = \", tfidf_train.shape)\n",
    "print(\"Shape of CV = \", tfidf_cv.shape)\n",
    "print(\"Shape of Test = \", tfidf_test.shape)"
   ]
  },
  {
   "cell_type": "code",
   "execution_count": 0,
   "metadata": {
    "colab": {
     "base_uri": "https://localhost:8080/",
     "height": 442
    },
    "colab_type": "code",
    "id": "s49-OE5l7Wyg",
    "outputId": "1de45509-3300-4945-8808-8cbfc3b6e644"
   },
   "outputs": [
    {
     "name": "stdout",
     "output_type": "stream",
     "text": [
      "\n",
      "Train AUC for k = 1 is 99.96%\n",
      "\n",
      "CV AUC for k = 1 is 49.98%\n",
      "==================================================\n",
      "\n",
      "Train AUC for k = 3 is 91.10%\n",
      "\n",
      "CV AUC for k = 3 is 50.77%\n",
      "==================================================\n",
      "\n",
      "Train AUC for k = 5 is 83.34%\n",
      "\n",
      "CV AUC for k = 5 is 50.96%\n",
      "==================================================\n",
      "\n",
      "Train AUC for k = 7 is 80.95%\n",
      "\n",
      "CV AUC for k = 7 is 51.01%\n",
      "==================================================\n",
      "\n",
      "Train AUC for k = 9 is 79.26%\n",
      "\n",
      "CV AUC for k = 9 is 51.53%\n",
      "==================================================\n"
     ]
    }
   ],
   "source": [
    "tfidf_train_auc = []\n",
    "tfidf_cv_auc = []\n",
    "for i in range(1,10,2):\n",
    "  knn = KNeighborsClassifier(n_neighbors=i)\n",
    "  knn.fit(tfidf_train, tfidf_train_y)\n",
    "  # train data\n",
    "  y_prob_train = knn.predict_proba(tfidf_train)[:,1]\n",
    "  y_pred = np.where(y_prob_train > 0.5, 1, 0)\n",
    "  auc_roc_test = roc_auc_score(tfidf_train_y , y_prob_train)\n",
    "  print('\\nTrain AUC for k = %d is %0.2f%%' % (i, (auc_roc_test * float(100))))\n",
    "  tfidf_train_auc.append(auc_roc_test)\n",
    "  # CV\n",
    "  y_prob_cv = knn.predict_proba(tfidf_cv)[:,1]\n",
    "  y_pred = np.where(y_prob_cv > 0.5, 1, 0)\n",
    "  auc_roc_cv = roc_auc_score(tfidf_cv_y , y_prob_cv)\n",
    "  print('\\nCV AUC for k = %d is %0.2f%%' % (i, (auc_roc_cv * float(100))))\n",
    "  tfidf_cv_auc.append(auc_roc_cv)\n",
    "  print(\"=\"*50)"
   ]
  },
  {
   "cell_type": "code",
   "execution_count": 0,
   "metadata": {
    "colab": {},
    "colab_type": "code",
    "id": "p0dNh1dO5c24"
   },
   "outputs": [],
   "source": [
    "k_values = [j for j in range(1,10,2)]"
   ]
  },
  {
   "cell_type": "code",
   "execution_count": 0,
   "metadata": {
    "colab": {
     "base_uri": "https://localhost:8080/",
     "height": 410
    },
    "colab_type": "code",
    "id": "OZBDPONlzAB0",
    "outputId": "1f2e9dee-132f-4164-dbe3-30a34ca81bb7"
   },
   "outputs": [
    {
     "data": {
      "text/plain": [
       "<matplotlib.legend.Legend at 0x7fcf996ce860>"
      ]
     },
     "execution_count": 12,
     "metadata": {
      "tags": []
     },
     "output_type": "execute_result"
    },
    {
     "data": {
      "image/png": "[encoded data removed]",
      "text/plain": [
       "<matplotlib.figure.Figure at 0x7fcfa24b3978>"
      ]
     },
     "metadata": {
      "tags": []
     },
     "output_type": "display_data"
    }
   ],
   "source": [
    "# https://www.dataquest.io/blog/learning-curves-machine-learning/\n",
    "\n",
    "import matplotlib.pyplot as plt\n",
    "%matplotlib inline\n",
    "\n",
    "plt.style.use('seaborn')\n",
    "\n",
    "plt.plot(k_values, tfidf_train_auc, label = 'Training AUC')\n",
    "plt.plot(k_values, tfidf_cv_auc, label = 'Validation AUC')\n",
    "\n",
    "plt.ylabel('AUC', fontsize = 14)\n",
    "plt.xlabel('k-values', fontsize = 14)\n",
    "plt.title('Learning curves for a k-NN model', fontsize = 18, y = 1.03)\n",
    "plt.legend()"
   ]
  },
  {
   "cell_type": "code",
   "execution_count": 0,
   "metadata": {
    "colab": {
     "base_uri": "https://localhost:8080/",
     "height": 136
    },
    "colab_type": "code",
    "id": "zHzDUfbQy_Ry",
    "outputId": "8f1a1647-8223-48eb-97ec-99c149f4c478"
   },
   "outputs": [
    {
     "name": "stdout",
     "output_type": "stream",
     "text": [
      "\n",
      "Train AUC for k = 9 is 79.26%\n",
      "\n",
      "CV AUC for k = 97 is 51.53%\n",
      "\n",
      "Test AUC for k = 97 is 51.78%\n",
      "==================================================\n"
     ]
    }
   ],
   "source": [
    "knn = KNeighborsClassifier(n_neighbors=9)\n",
    "knn.fit(tfidf_train, tfidf_train_y)\n",
    "# train data\n",
    "y_prob_train = knn.predict_proba(tfidf_train)[:,1]\n",
    "fprt, tprt , throsholdt = roc_curve(tfidf_train_y, y_prob_train)\n",
    "y_pred_train = np.where(y_prob_train > 0.5, 1, 0)\n",
    "auc_roc_train = roc_auc_score(tfidf_train_y , y_prob_train)\n",
    "print('\\nTrain AUC for k = %d is %0.2f%%' % (9, (auc_roc_test * float(100))))\n",
    "# CV\n",
    "y_prob_cv = knn.predict_proba(tfidf_cv)[:,1]\n",
    "fprc, tprc , throsholdc = roc_curve(tfidf_cv_y, y_prob_cv)\n",
    "y_pred_cv = np.where(y_prob_cv > 0.5, 1, 0)\n",
    "auc_roc_cv = roc_auc_score(tfidf_cv_y , y_prob_cv)\n",
    "print('\\nCV AUC for k = %d is %0.2f%%' % (9, (auc_roc_cv * float(100))))\n",
    "# Test\n",
    "y_prob_test = knn.predict_proba(tfidf_test)[:,1]\n",
    "fprts, tprts , throsholdts = roc_curve(tfidf_test_y, y_prob_test)\n",
    "y_pred_test = np.where(y_prob_test > 0.5, 1, 0)\n",
    "auc_roc_test = roc_auc_score(tfidf_test_y , y_prob_test)\n",
    "print('\\nTest AUC for k = %d is %0.2f%%' % (9, (auc_roc_test * float(100))))\n",
    "print(\"=\"*50)"
   ]
  },
  {
   "cell_type": "code",
   "execution_count": 0,
   "metadata": {
    "colab": {
     "base_uri": "https://localhost:8080/",
     "height": 376
    },
    "colab_type": "code",
    "id": "2XKLz86Ry_G8",
    "outputId": "db91c976-7f81-4b0d-9498-cf16c2aa5121"
   },
   "outputs": [
    {
     "data": {
      "image/png": "[encoded data removed]",
      "text/plain": [
       "<matplotlib.figure.Figure at 0x7fcf9965fdd8>"
      ]
     },
     "metadata": {
      "tags": []
     },
     "output_type": "display_data"
    }
   ],
   "source": [
    "# https://stackoverflow.com/questions/25009284/how-to-plot-roc-curve-in-python\n",
    "\n",
    "import matplotlib.pyplot as plt\n",
    "plt.title('Receiver Operating Characteristic')\n",
    "plt.plot(fprc, tprc, 'b' , label ='AUC CV = %0.2f' % (auc_roc_cv * float(100)))\n",
    "plt.plot(fprts, tprts, 'y' , label ='AUC Test = %0.2f' % (auc_roc_test * float(100)))\n",
    "plt.plot(fprt, tprt, 'g', label='AUC Train = %0.2f' % (auc_roc_train * float(100)))\n",
    "plt.legend(loc = 'lower right')\n",
    "plt.plot([0, 1], [0, 1],'r')\n",
    "plt.xlim([0, 1])\n",
    "plt.ylim([0, 1])\n",
    "plt.ylabel('True Positive Rate')\n",
    "plt.xlabel('False Positive Rate')\n",
    "plt.show()"
   ]
  },
  {
   "cell_type": "code",
   "execution_count": 0,
   "metadata": {
    "colab": {
     "base_uri": "https://localhost:8080/",
     "height": 34
    },
    "colab_type": "code",
    "id": "SArekrPA99zO",
    "outputId": "44e83d2f-af90-4dd0-e31f-5d1b91bddb59"
   },
   "outputs": [
    {
     "name": "stdout",
     "output_type": "stream",
     "text": [
      "F1-Score on test set: 0.91\n"
     ]
    }
   ],
   "source": [
    "print(\"F1-Score on test set: %0.2f\"%(f1_score(tfidf_test_y, y_pred_test)))"
   ]
  },
  {
   "cell_type": "code",
   "execution_count": 0,
   "metadata": {
    "colab": {
     "base_uri": "https://localhost:8080/",
     "height": 372
    },
    "colab_type": "code",
    "id": "abXHdvcv-Jtf",
    "outputId": "62bf3048-fae4-400b-f498-3969336a6377"
   },
   "outputs": [
    {
     "data": {
      "text/plain": [
       "<matplotlib.axes._subplots.AxesSubplot at 0x7fcf96b31358>"
      ]
     },
     "execution_count": 16,
     "metadata": {
      "tags": []
     },
     "output_type": "execute_result"
    },
    {
     "data": {
      "image/png": "[encoded data removed]",
      "text/plain": [
       "<matplotlib.figure.Figure at 0x7fcf996f2048>"
      ]
     },
     "metadata": {
      "tags": []
     },
     "output_type": "display_data"
    }
   ],
   "source": [
    "df_cm = pd.DataFrame(confusion_matrix(tfidf_test_y, y_pred_test), range(2), range(2))\n",
    "sns.set(font_scale=1.4)\n",
    "sns.heatmap(df_cm, annot=True, annot_kws={\"size\": 16}, fmt='g')"
   ]
  },
  {
   "cell_type": "markdown",
   "metadata": {
    "colab_type": "text",
    "id": "Fji1mJJO7Wyv"
   },
   "source": [
    "### [5.1.3] Applying KNN brute force on AVG W2V,<font color='red'> SET 3</font>"
   ]
  },
  {
   "cell_type": "code",
   "execution_count": 0,
   "metadata": {
    "colab": {},
    "colab_type": "code",
    "id": "c-hCpfZ57Wyv"
   },
   "outputs": [],
   "source": [
    "# Please write all the code with proper documentation"
   ]
  },
  {
   "cell_type": "code",
   "execution_count": 0,
   "metadata": {
    "colab": {},
    "colab_type": "code",
    "id": "_WpfnWRr7Wyz"
   },
   "outputs": [],
   "source": [
    "# Please write all the code with proper documentation\n",
    "# load Review text, preprocessed one converted into vectors using (w2v)\n",
    "w2v_train = np.load(\"drive/ai/w2v_train.npy\")\n",
    "w2v_train_y = np.load(\"drive/ai/w2v_train_y.npy\")\n",
    "w2v_cv = np.load(\"drive/ai/w2v_cv.npy\")\n",
    "w2v_cv_y = np.load(\"drive/ai/w2v_cv_y.npy\")\n",
    "w2v_test = np.load(\"drive/ai/w2v_test.npy\")\n",
    "w2v_test_y = np.load(\"drive/ai/w2v_test_y.npy\")"
   ]
  },
  {
   "cell_type": "code",
   "execution_count": 0,
   "metadata": {
    "colab": {
     "base_uri": "https://localhost:8080/",
     "height": 68
    },
    "colab_type": "code",
    "id": "0gfElNs87Wy0",
    "outputId": "bb8d2c58-963b-4f51-8c19-2bef5ce9adbd"
   },
   "outputs": [
    {
     "name": "stdout",
     "output_type": "stream",
     "text": [
      "Shape of Train =  (24500, 50)\n",
      "Shape of CV =  (10500, 50)\n",
      "Shape of Test =  (15000, 50)\n"
     ]
    }
   ],
   "source": [
    "print(\"Shape of Train = \", w2v_train.shape)\n",
    "print(\"Shape of CV = \", w2v_cv.shape)\n",
    "print(\"Shape of Test = \", w2v_test.shape)"
   ]
  },
  {
   "cell_type": "code",
   "execution_count": 0,
   "metadata": {
    "colab": {
     "base_uri": "https://localhost:8080/",
     "height": 1717
    },
    "colab_type": "code",
    "id": "GGwOlmx9QhDI",
    "outputId": "b0ed5106-36e8-454a-e348-c17020d7a7e2"
   },
   "outputs": [
    {
     "name": "stdout",
     "output_type": "stream",
     "text": [
      "\n",
      "Train AUC for k = 1 is 99.96%\n",
      "\n",
      "CV AUC for k = 1 is 66.50%\n",
      "==================================================\n",
      "\n",
      "Train AUC for k = 3 is 95.18%\n",
      "\n",
      "CV AUC for k = 3 is 75.20%\n",
      "==================================================\n",
      "\n",
      "Train AUC for k = 5 is 93.10%\n",
      "\n",
      "CV AUC for k = 5 is 79.20%\n",
      "==================================================\n",
      "\n",
      "Train AUC for k = 7 is 92.02%\n",
      "\n",
      "CV AUC for k = 7 is 81.47%\n",
      "==================================================\n",
      "\n",
      "Train AUC for k = 9 is 91.48%\n",
      "\n",
      "CV AUC for k = 9 is 82.27%\n",
      "==================================================\n",
      "\n",
      "Train AUC for k = 11 is 91.01%\n",
      "\n",
      "CV AUC for k = 11 is 82.93%\n",
      "==================================================\n",
      "\n",
      "Train AUC for k = 13 is 90.63%\n",
      "\n",
      "CV AUC for k = 13 is 83.80%\n",
      "==================================================\n",
      "\n",
      "Train AUC for k = 15 is 90.24%\n",
      "\n",
      "CV AUC for k = 15 is 84.16%\n",
      "==================================================\n",
      "\n",
      "Train AUC for k = 17 is 89.95%\n",
      "\n",
      "CV AUC for k = 17 is 84.47%\n",
      "==================================================\n",
      "\n",
      "Train AUC for k = 19 is 89.69%\n",
      "\n",
      "CV AUC for k = 19 is 84.94%\n",
      "==================================================\n",
      "\n",
      "Train AUC for k = 21 is 89.50%\n",
      "\n",
      "CV AUC for k = 21 is 85.12%\n",
      "==================================================\n",
      "\n",
      "Train AUC for k = 23 is 89.32%\n",
      "\n",
      "CV AUC for k = 23 is 85.38%\n",
      "==================================================\n",
      "\n",
      "Train AUC for k = 25 is 89.12%\n",
      "\n",
      "CV AUC for k = 25 is 85.49%\n",
      "==================================================\n",
      "\n",
      "Train AUC for k = 27 is 89.02%\n",
      "\n",
      "CV AUC for k = 27 is 85.62%\n",
      "==================================================\n",
      "\n",
      "Train AUC for k = 29 is 88.97%\n",
      "\n",
      "CV AUC for k = 29 is 85.66%\n",
      "==================================================\n",
      "\n",
      "Train AUC for k = 31 is 88.94%\n",
      "\n",
      "CV AUC for k = 31 is 85.79%\n",
      "==================================================\n",
      "\n",
      "Train AUC for k = 33 is 88.93%\n",
      "\n",
      "CV AUC for k = 33 is 85.81%\n",
      "==================================================\n",
      "\n",
      "Train AUC for k = 35 is 88.90%\n",
      "\n",
      "CV AUC for k = 35 is 85.92%\n",
      "==================================================\n",
      "\n",
      "Train AUC for k = 37 is 88.80%\n",
      "\n",
      "CV AUC for k = 37 is 86.11%\n",
      "==================================================\n",
      "\n",
      "Train AUC for k = 39 is 88.77%\n",
      "\n",
      "CV AUC for k = 39 is 86.24%\n",
      "==================================================\n"
     ]
    }
   ],
   "source": [
    "w2v_train_auc = []\n",
    "w2v_cv_auc = []\n",
    "for i in range(1,40,2):\n",
    "  knn = KNeighborsClassifier(n_neighbors=i)\n",
    "  knn.fit(w2v_train, w2v_train_y)\n",
    "  # train data\n",
    "  y_prob_train = knn.predict_proba(w2v_train)[:,1]\n",
    "  y_pred = np.where(y_prob_train > 0.5, 1, 0)\n",
    "  auc_roc_test = roc_auc_score(w2v_train_y , y_prob_train)\n",
    "  print('\\nTrain AUC for k = %d is %0.2f%%' % (i, (auc_roc_test * float(100))))\n",
    "  w2v_train_auc.append(auc_roc_test)\n",
    "  # CV\n",
    "  y_prob_cv = knn.predict_proba(w2v_cv)[:,1]\n",
    "  y_pred = np.where(y_prob_cv > 0.5, 1, 0)\n",
    "  auc_roc_cv = roc_auc_score(w2v_cv_y , y_prob_cv)\n",
    "  print('\\nCV AUC for k = %d is %0.2f%%' % (i, (auc_roc_cv * float(100))))\n",
    "  w2v_cv_auc.append(auc_roc_cv)\n",
    "  print(\"=\"*50)"
   ]
  },
  {
   "cell_type": "code",
   "execution_count": 0,
   "metadata": {
    "colab": {
     "base_uri": "https://localhost:8080/",
     "height": 442
    },
    "colab_type": "code",
    "id": "Al9bSMKQtQpf",
    "outputId": "1419fe90-3bed-4888-e10b-4ad91e72d133"
   },
   "outputs": [
    {
     "name": "stdout",
     "output_type": "stream",
     "text": [
      "\n",
      "Train AUC for k = 41 is 88.68%\n",
      "\n",
      "CV AUC for k = 41 is 86.31%\n",
      "==================================================\n",
      "\n",
      "Train AUC for k = 43 is 88.57%\n",
      "\n",
      "CV AUC for k = 43 is 86.35%\n",
      "==================================================\n",
      "\n",
      "Train AUC for k = 45 is 88.50%\n",
      "\n",
      "CV AUC for k = 45 is 86.36%\n",
      "==================================================\n",
      "\n",
      "Train AUC for k = 47 is 88.44%\n",
      "\n",
      "CV AUC for k = 47 is 86.45%\n",
      "==================================================\n",
      "\n",
      "Train AUC for k = 49 is 88.37%\n",
      "\n",
      "CV AUC for k = 49 is 86.47%\n",
      "==================================================\n"
     ]
    }
   ],
   "source": [
    "for i in range(41,50,2):\n",
    "  knn = KNeighborsClassifier(n_neighbors=i)\n",
    "  knn.fit(w2v_train, w2v_train_y)\n",
    "  # train data\n",
    "  y_prob_train = knn.predict_proba(w2v_train)[:,1]\n",
    "  y_pred = np.where(y_prob_train > 0.5, 1, 0)\n",
    "  auc_roc_test = roc_auc_score(w2v_train_y , y_prob_train)\n",
    "  print('\\nTrain AUC for k = %d is %0.2f%%' % (i, (auc_roc_test * float(100))))\n",
    "  w2v_train_auc.append(auc_roc_test)\n",
    "  # CV\n",
    "  y_prob_cv = knn.predict_proba(w2v_cv)[:,1]\n",
    "  y_pred = np.where(y_prob_cv > 0.5, 1, 0)\n",
    "  auc_roc_cv = roc_auc_score(w2v_cv_y , y_prob_cv)\n",
    "  print('\\nCV AUC for k = %d is %0.2f%%' % (i, (auc_roc_cv * float(100))))\n",
    "  w2v_cv_auc.append(auc_roc_cv)\n",
    "  print(\"=\"*50)"
   ]
  },
  {
   "cell_type": "code",
   "execution_count": 0,
   "metadata": {
    "colab": {
     "base_uri": "https://localhost:8080/",
     "height": 867
    },
    "colab_type": "code",
    "id": "O_pq7H4pxCV2",
    "outputId": "36267973-d4d4-4855-b064-167019b2e649"
   },
   "outputs": [
    {
     "name": "stdout",
     "output_type": "stream",
     "text": [
      "\n",
      "Train AUC for k = 51 is 88.36%\n",
      "\n",
      "CV AUC for k = 51 is 86.48%\n",
      "==================================================\n",
      "\n",
      "Train AUC for k = 53 is 88.32%\n",
      "\n",
      "CV AUC for k = 53 is 86.48%\n",
      "==================================================\n",
      "\n",
      "Train AUC for k = 55 is 88.30%\n",
      "\n",
      "CV AUC for k = 55 is 86.56%\n",
      "==================================================\n",
      "\n",
      "Train AUC for k = 57 is 88.17%\n",
      "\n",
      "CV AUC for k = 57 is 86.56%\n",
      "==================================================\n",
      "\n",
      "Train AUC for k = 59 is 88.13%\n",
      "\n",
      "CV AUC for k = 59 is 86.60%\n",
      "==================================================\n",
      "\n",
      "Train AUC for k = 61 is 88.11%\n",
      "\n",
      "CV AUC for k = 61 is 86.59%\n",
      "==================================================\n",
      "\n",
      "Train AUC for k = 63 is 88.10%\n",
      "\n",
      "CV AUC for k = 63 is 86.61%\n",
      "==================================================\n",
      "\n",
      "Train AUC for k = 65 is 88.04%\n",
      "\n",
      "CV AUC for k = 65 is 86.59%\n",
      "==================================================\n",
      "\n",
      "Train AUC for k = 67 is 88.01%\n",
      "\n",
      "CV AUC for k = 67 is 86.64%\n",
      "==================================================\n",
      "\n",
      "Train AUC for k = 69 is 87.97%\n",
      "\n",
      "CV AUC for k = 69 is 86.68%\n",
      "==================================================\n"
     ]
    }
   ],
   "source": [
    "for i in range(51,70,2):\n",
    "  knn = KNeighborsClassifier(n_neighbors=i)\n",
    "  knn.fit(w2v_train, w2v_train_y)\n",
    "  # train data\n",
    "  y_prob_train = knn.predict_proba(w2v_train)[:,1]\n",
    "  y_pred = np.where(y_prob_train > 0.5, 1, 0)\n",
    "  auc_roc_test = roc_auc_score(w2v_train_y , y_prob_train)\n",
    "  print('\\nTrain AUC for k = %d is %0.2f%%' % (i, (auc_roc_test * float(100))))\n",
    "  w2v_train_auc.append(auc_roc_test)\n",
    "  # CV\n",
    "  y_prob_cv = knn.predict_proba(w2v_cv)[:,1]\n",
    "  y_pred = np.where(y_prob_cv > 0.5, 1, 0)\n",
    "  auc_roc_cv = roc_auc_score(w2v_cv_y , y_prob_cv)\n",
    "  print('\\nCV AUC for k = %d is %0.2f%%' % (i, (auc_roc_cv * float(100))))\n",
    "  w2v_cv_auc.append(auc_roc_cv)\n",
    "  print(\"=\"*50)"
   ]
  },
  {
   "cell_type": "code",
   "execution_count": 0,
   "metadata": {
    "colab": {
     "base_uri": "https://localhost:8080/",
     "height": 1292
    },
    "colab_type": "code",
    "id": "gzO69diI4RJ0",
    "outputId": "d719fcae-3baa-4cbf-82de-39140ee5206c"
   },
   "outputs": [
    {
     "name": "stdout",
     "output_type": "stream",
     "text": [
      "\n",
      "Train AUC for k = 71 is 87.95%\n",
      "\n",
      "CV AUC for k = 71 is 86.67%\n",
      "==================================================\n",
      "\n",
      "Train AUC for k = 73 is 87.90%\n",
      "\n",
      "CV AUC for k = 73 is 86.67%\n",
      "==================================================\n",
      "\n",
      "Train AUC for k = 75 is 87.89%\n",
      "\n",
      "CV AUC for k = 75 is 86.63%\n",
      "==================================================\n",
      "\n",
      "Train AUC for k = 77 is 87.87%\n",
      "\n",
      "CV AUC for k = 77 is 86.65%\n",
      "==================================================\n",
      "\n",
      "Train AUC for k = 79 is 87.85%\n",
      "\n",
      "CV AUC for k = 79 is 86.70%\n",
      "==================================================\n",
      "\n",
      "Train AUC for k = 81 is 87.81%\n",
      "\n",
      "CV AUC for k = 81 is 86.69%\n",
      "==================================================\n",
      "\n",
      "Train AUC for k = 83 is 87.81%\n",
      "\n",
      "CV AUC for k = 83 is 86.72%\n",
      "==================================================\n",
      "\n",
      "Train AUC for k = 85 is 87.77%\n",
      "\n",
      "CV AUC for k = 85 is 86.75%\n",
      "==================================================\n",
      "\n",
      "Train AUC for k = 87 is 87.75%\n",
      "\n",
      "CV AUC for k = 87 is 86.77%\n",
      "==================================================\n",
      "\n",
      "Train AUC for k = 89 is 87.74%\n",
      "\n",
      "CV AUC for k = 89 is 86.75%\n",
      "==================================================\n",
      "\n",
      "Train AUC for k = 91 is 87.72%\n",
      "\n",
      "CV AUC for k = 91 is 86.80%\n",
      "==================================================\n",
      "\n",
      "Train AUC for k = 93 is 87.70%\n",
      "\n",
      "CV AUC for k = 93 is 86.82%\n",
      "==================================================\n",
      "\n",
      "Train AUC for k = 95 is 87.69%\n",
      "\n",
      "CV AUC for k = 95 is 86.84%\n",
      "==================================================\n",
      "\n",
      "Train AUC for k = 97 is 87.70%\n",
      "\n",
      "CV AUC for k = 97 is 86.87%\n",
      "==================================================\n",
      "\n",
      "Train AUC for k = 99 is 87.67%\n",
      "\n",
      "CV AUC for k = 99 is 86.86%\n",
      "==================================================\n"
     ]
    }
   ],
   "source": [
    "for i in range(71,100,2):\n",
    "  knn = KNeighborsClassifier(n_neighbors=i)\n",
    "  knn.fit(w2v_train, w2v_train_y)\n",
    "  # train data\n",
    "  y_prob_train = knn.predict_proba(w2v_train)[:,1]\n",
    "  y_pred = np.where(y_prob_train > 0.5, 1, 0)\n",
    "  auc_roc_test = roc_auc_score(w2v_train_y , y_prob_train)\n",
    "  print('\\nTrain AUC for k = %d is %0.2f%%' % (i, (auc_roc_test * float(100))))\n",
    "  w2v_train_auc.append(auc_roc_test)\n",
    "  # CV\n",
    "  y_prob_cv = knn.predict_proba(w2v_cv)[:,1]\n",
    "  y_pred = np.where(y_prob_cv > 0.5, 1, 0)\n",
    "  auc_roc_cv = roc_auc_score(w2v_cv_y , y_prob_cv)\n",
    "  print('\\nCV AUC for k = %d is %0.2f%%' % (i, (auc_roc_cv * float(100))))\n",
    "  w2v_cv_auc.append(auc_roc_cv)\n",
    "  print(\"=\"*50)"
   ]
  },
  {
   "cell_type": "code",
   "execution_count": 0,
   "metadata": {
    "colab": {},
    "colab_type": "code",
    "id": "JsSUsGT0Uosw"
   },
   "outputs": [],
   "source": [
    "k_values = [j for j in range(1,100,2)]"
   ]
  },
  {
   "cell_type": "code",
   "execution_count": 0,
   "metadata": {
    "colab": {
     "base_uri": "https://localhost:8080/",
     "height": 410
    },
    "colab_type": "code",
    "id": "6zS0ajinRzJj",
    "outputId": "f3788305-0660-4077-a666-89e5ceb7da81"
   },
   "outputs": [
    {
     "data": {
      "text/plain": [
       "<matplotlib.legend.Legend at 0x7fa51d8cbba8>"
      ]
     },
     "execution_count": 101,
     "metadata": {
      "tags": []
     },
     "output_type": "execute_result"
    },
    {
     "data": {
      "image/png": "[encoded data removed]",
      "text/plain": [
       "<matplotlib.figure.Figure at 0x7fa51e06b278>"
      ]
     },
     "metadata": {
      "tags": []
     },
     "output_type": "display_data"
    }
   ],
   "source": [
    "# https://www.dataquest.io/blog/learning-curves-machine-learning/\n",
    "\n",
    "import matplotlib.pyplot as plt\n",
    "%matplotlib inline\n",
    "\n",
    "plt.style.use('seaborn')\n",
    "\n",
    "plt.plot(k_values, w2v_train_auc, label = 'Training AUC')\n",
    "plt.plot(k_values, w2v_cv_auc, label = 'Validation AUC')\n",
    "\n",
    "plt.ylabel('AUC', fontsize = 14)\n",
    "plt.xlabel('k-values', fontsize = 14)\n",
    "plt.title('Learning curves for a k-NN model', fontsize = 18, y = 1.03)\n",
    "plt.legend()"
   ]
  },
  {
   "cell_type": "code",
   "execution_count": 0,
   "metadata": {
    "colab": {
     "base_uri": "https://localhost:8080/",
     "height": 136
    },
    "colab_type": "code",
    "id": "tj_4th2SC3YN",
    "outputId": "372b832a-f1ae-4dcf-be81-8858121caa6d"
   },
   "outputs": [
    {
     "name": "stdout",
     "output_type": "stream",
     "text": [
      "\n",
      "Train AUC for k = 97 is 87.70%\n",
      "\n",
      "CV AUC for k = 97 is 86.87%\n",
      "\n",
      "Test AUC for k = 97 is 86.76%\n",
      "==================================================\n"
     ]
    }
   ],
   "source": [
    "knn = KNeighborsClassifier(n_neighbors=97)\n",
    "knn.fit(w2v_train, w2v_train_y)\n",
    "# train data\n",
    "y_prob_train = knn.predict_proba(w2v_train)[:,1]\n",
    "fprt, tprt , throsholdt = roc_curve(w2v_train_y, y_prob_train)\n",
    "y_pred_train = np.where(y_prob_train > 0.5, 1, 0)\n",
    "auc_roc_train = roc_auc_score(w2v_train_y , y_prob_train)\n",
    "print('\\nTrain AUC for k = %d is %0.2f%%' % (97, (auc_roc_test * float(100))))\n",
    "# CV\n",
    "y_prob_cv = knn.predict_proba(w2v_cv)[:,1]\n",
    "fprc, tprc , throsholdc = roc_curve(w2v_cv_y, y_prob_cv)\n",
    "y_pred_cv = np.where(y_prob_cv > 0.5, 1, 0)\n",
    "auc_roc_cv = roc_auc_score(w2v_cv_y , y_prob_cv)\n",
    "print('\\nCV AUC for k = %d is %0.2f%%' % (97, (auc_roc_cv * float(100))))\n",
    "# Test\n",
    "y_prob_test = knn.predict_proba(w2v_test)[:,1]\n",
    "fprts, tprts , throsholdts = roc_curve(w2v_test_y, y_prob_test)\n",
    "y_pred_test = np.where(y_prob_test > 0.5, 1, 0)\n",
    "auc_roc_test = roc_auc_score(w2v_test_y , y_prob_test)\n",
    "print('\\nTest AUC for k = %d is %0.2f%%' % (97, (auc_roc_test * float(100))))\n",
    "print(\"=\"*50)"
   ]
  },
  {
   "cell_type": "code",
   "execution_count": 0,
   "metadata": {
    "colab": {
     "base_uri": "https://localhost:8080/",
     "height": 376
    },
    "colab_type": "code",
    "id": "eQ7UwKGwGQJ0",
    "outputId": "e48fc997-4f09-4bb7-9e40-c8d2111e4435"
   },
   "outputs": [
    {
     "data": {
      "image/png": "[encoded data removed]",
      "text/plain": [
       "<matplotlib.figure.Figure at 0x7fa51d76d160>"
      ]
     },
     "metadata": {
      "tags": []
     },
     "output_type": "display_data"
    }
   ],
   "source": [
    "# https://stackoverflow.com/questions/25009284/how-to-plot-roc-curve-in-python\n",
    "\n",
    "import matplotlib.pyplot as plt\n",
    "plt.title('Receiver Operating Characteristic')\n",
    "plt.plot(fprc, tprc, 'b' , label ='AUC CV = %0.2f' % (auc_roc_cv * float(100)))\n",
    "plt.plot(fprts, tprts, 'y' , label ='AUC Test = %0.2f' % (auc_roc_test * float(100)))\n",
    "plt.plot(fprt, tprt, 'g', label='AUC Train = %0.2f' % (auc_roc_train * float(100)))\n",
    "plt.legend(loc = 'lower right')\n",
    "plt.plot([0, 1], [0, 1],'r')\n",
    "plt.xlim([0, 1])\n",
    "plt.ylim([0, 1])\n",
    "plt.ylabel('True Positive Rate')\n",
    "plt.xlabel('False Positive Rate')\n",
    "plt.show()"
   ]
  },
  {
   "cell_type": "code",
   "execution_count": 0,
   "metadata": {
    "colab": {
     "base_uri": "https://localhost:8080/",
     "height": 34
    },
    "colab_type": "code",
    "id": "GV9zjz4_WByR",
    "outputId": "9985a844-11cd-49ea-9d2b-77dbe3619cf7"
   },
   "outputs": [
    {
     "name": "stdout",
     "output_type": "stream",
     "text": [
      "F1-Score on test set: 0.92\n"
     ]
    }
   ],
   "source": [
    "print(\"F1-Score on test set: %0.2f\"%(f1_score(w2v_test_y, y_pred_test)))"
   ]
  },
  {
   "cell_type": "code",
   "execution_count": 0,
   "metadata": {
    "colab": {
     "base_uri": "https://localhost:8080/",
     "height": 368
    },
    "colab_type": "code",
    "id": "vraC14vYRX3L",
    "outputId": "854cfd79-c257-488a-8fe7-7e90d13b1230"
   },
   "outputs": [
    {
     "data": {
      "text/plain": [
       "<matplotlib.axes._subplots.AxesSubplot at 0x7fa51d6676d8>"
      ]
     },
     "execution_count": 114,
     "metadata": {
      "tags": []
     },
     "output_type": "execute_result"
    },
    {
     "data": {
      "image/png": "[encoded data removed]",
      "text/plain": [
       "<matplotlib.figure.Figure at 0x7fa51d7f4dd8>"
      ]
     },
     "metadata": {
      "tags": []
     },
     "output_type": "display_data"
    }
   ],
   "source": [
    "df_cm = pd.DataFrame(confusion_matrix(w2v_test_y, y_pred_test), range(2), range(2))\n",
    "sns.set(font_scale=1.4)\n",
    "sns.heatmap(df_cm, annot=True, annot_kws={\"size\": 16}, fmt='g')"
   ]
  },
  {
   "cell_type": "markdown",
   "metadata": {
    "colab_type": "text",
    "id": "SF9bsJR17W0H"
   },
   "source": [
    "### [5.1.4] Applying KNN brute force on TFIDF W2V,<font color='red'> SET 4</font>"
   ]
  },
  {
   "cell_type": "code",
   "execution_count": 0,
   "metadata": {
    "colab": {},
    "colab_type": "code",
    "id": "WRW4NE0m7W0K"
   },
   "outputs": [],
   "source": [
    "# Please write all the code with proper documentation"
   ]
  },
  {
   "cell_type": "code",
   "execution_count": 0,
   "metadata": {
    "colab": {},
    "colab_type": "code",
    "id": "MzKITgSU7W0M"
   },
   "outputs": [],
   "source": [
    "# Please write all the code with proper documentation\n",
    "# load Review text, preprocessed one converted into vectors using (w2v)\n",
    "tfidf_w2v_train = np.load(\"drive/ai/w2v_tfidf_train.npy\")\n",
    "tfidf_w2v_train_y = np.load(\"drive/ai/w2v_tfidf_train_y.npy\")\n",
    "tfidf_w2v_cv = np.load(\"drive/ai/w2v_tfidf_cv.npy\")\n",
    "tfidf_w2v_cv_y = np.load(\"drive/ai/w2v_tfidf_cv_y.npy\")\n",
    "tfidf_w2v_test = np.load(\"drive/ai/w2v_tfidf_test.npy\")\n",
    "tfidf_w2v_test_y = np.load(\"drive/ai/w2v_tfidf_test_y.npy\")"
   ]
  },
  {
   "cell_type": "code",
   "execution_count": 0,
   "metadata": {
    "colab": {
     "base_uri": "https://localhost:8080/",
     "height": 68
    },
    "colab_type": "code",
    "id": "e-TVPA3r7W0N",
    "outputId": "2df6f92f-13b3-4a71-8427-318ce6364000"
   },
   "outputs": [
    {
     "name": "stdout",
     "output_type": "stream",
     "text": [
      "Shape of Train =  (24500, 50)\n",
      "Shape of CV =  (10500, 50)\n",
      "Shape of Test =  (15000, 50)\n"
     ]
    }
   ],
   "source": [
    "print(\"Shape of Train = \", tfidf_w2v_train.shape)\n",
    "print(\"Shape of CV = \", tfidf_w2v_cv.shape)\n",
    "print(\"Shape of Test = \", tfidf_w2v_test.shape)"
   ]
  },
  {
   "cell_type": "code",
   "execution_count": 0,
   "metadata": {
    "colab": {
     "base_uri": "https://localhost:8080/",
     "height": 2142
    },
    "colab_type": "code",
    "id": "GNCum03O7W0Q",
    "outputId": "0beb32a1-c58f-45dd-847a-1248f3d045a0"
   },
   "outputs": [
    {
     "name": "stdout",
     "output_type": "stream",
     "text": [
      "\n",
      "Train AUC for k = 1 is 99.96%\n",
      "\n",
      "CV AUC for k = 1 is 62.63%\n",
      "==================================================\n",
      "\n",
      "Train AUC for k = 3 is 94.05%\n",
      "\n",
      "CV AUC for k = 3 is 71.66%\n",
      "==================================================\n",
      "\n",
      "Train AUC for k = 5 is 91.67%\n",
      "\n",
      "CV AUC for k = 5 is 75.75%\n",
      "==================================================\n",
      "\n",
      "Train AUC for k = 7 is 90.30%\n",
      "\n",
      "CV AUC for k = 7 is 77.93%\n",
      "==================================================\n",
      "\n",
      "Train AUC for k = 9 is 89.37%\n",
      "\n",
      "CV AUC for k = 9 is 79.13%\n",
      "==================================================\n",
      "\n",
      "Train AUC for k = 11 is 88.58%\n",
      "\n",
      "CV AUC for k = 11 is 79.50%\n",
      "==================================================\n",
      "\n",
      "Train AUC for k = 13 is 88.04%\n",
      "\n",
      "CV AUC for k = 13 is 80.21%\n",
      "==================================================\n",
      "\n",
      "Train AUC for k = 15 is 87.66%\n",
      "\n",
      "CV AUC for k = 15 is 80.56%\n",
      "==================================================\n",
      "\n",
      "Train AUC for k = 17 is 87.48%\n",
      "\n",
      "CV AUC for k = 17 is 80.81%\n",
      "==================================================\n",
      "\n",
      "Train AUC for k = 19 is 87.35%\n",
      "\n",
      "CV AUC for k = 19 is 80.97%\n",
      "==================================================\n",
      "\n",
      "Train AUC for k = 21 is 87.16%\n",
      "\n",
      "CV AUC for k = 21 is 81.16%\n",
      "==================================================\n",
      "\n",
      "Train AUC for k = 23 is 87.00%\n",
      "\n",
      "CV AUC for k = 23 is 81.40%\n",
      "==================================================\n",
      "\n",
      "Train AUC for k = 25 is 86.82%\n",
      "\n",
      "CV AUC for k = 25 is 81.36%\n",
      "==================================================\n",
      "\n",
      "Train AUC for k = 27 is 86.57%\n",
      "\n",
      "CV AUC for k = 27 is 81.53%\n",
      "==================================================\n",
      "\n",
      "Train AUC for k = 29 is 86.44%\n",
      "\n",
      "CV AUC for k = 29 is 81.59%\n",
      "==================================================\n",
      "\n",
      "Train AUC for k = 31 is 86.28%\n",
      "\n",
      "CV AUC for k = 31 is 81.87%\n",
      "==================================================\n",
      "\n",
      "Train AUC for k = 33 is 86.17%\n",
      "\n",
      "CV AUC for k = 33 is 82.15%\n",
      "==================================================\n",
      "\n",
      "Train AUC for k = 35 is 86.13%\n",
      "\n",
      "CV AUC for k = 35 is 82.34%\n",
      "==================================================\n",
      "\n",
      "Train AUC for k = 37 is 86.06%\n",
      "\n",
      "CV AUC for k = 37 is 82.47%\n",
      "==================================================\n",
      "\n",
      "Train AUC for k = 39 is 86.12%\n",
      "\n",
      "CV AUC for k = 39 is 82.59%\n",
      "==================================================\n",
      "\n",
      "Train AUC for k = 41 is 86.01%\n",
      "\n",
      "CV AUC for k = 41 is 82.61%\n",
      "==================================================\n",
      "\n",
      "Train AUC for k = 43 is 85.98%\n",
      "\n",
      "CV AUC for k = 43 is 82.63%\n",
      "==================================================\n",
      "\n",
      "Train AUC for k = 45 is 85.91%\n",
      "\n",
      "CV AUC for k = 45 is 82.70%\n",
      "==================================================\n",
      "\n",
      "Train AUC for k = 47 is 85.83%\n",
      "\n",
      "CV AUC for k = 47 is 82.72%\n",
      "==================================================\n",
      "\n",
      "Train AUC for k = 49 is 85.79%\n",
      "\n",
      "CV AUC for k = 49 is 82.79%\n",
      "==================================================\n"
     ]
    }
   ],
   "source": [
    "tfidf_w2v_train_auc = []\n",
    "tfidf_w2v_cv_auc = []\n",
    "for i in range(1,50,2):\n",
    "  knn = KNeighborsClassifier(n_neighbors=i)\n",
    "  knn.fit(tfidf_w2v_train, tfidf_w2v_train_y)\n",
    "  # train data\n",
    "  y_prob_train = knn.predict_proba(tfidf_w2v_train)[:,1]\n",
    "  y_pred = np.where(y_prob_train > 0.5, 1, 0)\n",
    "  auc_roc_test = roc_auc_score(tfidf_w2v_train_y , y_prob_train)\n",
    "  print('\\nTrain AUC for k = %d is %0.2f%%' % (i, (auc_roc_test * float(100))))\n",
    "  tfidf_w2v_train_auc.append(auc_roc_test)\n",
    "  # CV\n",
    "  y_prob_cv = knn.predict_proba(tfidf_w2v_cv)[:,1]\n",
    "  y_pred = np.where(y_prob_cv > 0.5, 1, 0)\n",
    "  auc_roc_cv = roc_auc_score(tfidf_w2v_cv_y , y_prob_cv)\n",
    "  print('\\nCV AUC for k = %d is %0.2f%%' % (i, (auc_roc_cv * float(100))))\n",
    "  tfidf_w2v_cv_auc.append(auc_roc_cv)\n",
    "  print(\"=\"*50)"
   ]
  },
  {
   "cell_type": "code",
   "execution_count": 0,
   "metadata": {
    "colab": {},
    "colab_type": "code",
    "id": "unle7omdizeF"
   },
   "outputs": [],
   "source": [
    "k_values = [j for j in range(1,50,2)]"
   ]
  },
  {
   "cell_type": "code",
   "execution_count": 0,
   "metadata": {
    "colab": {
     "base_uri": "https://localhost:8080/",
     "height": 410
    },
    "colab_type": "code",
    "id": "dcw1COyqip3I",
    "outputId": "99bb6442-bde3-4682-9b92-eef06d3c40be"
   },
   "outputs": [
    {
     "data": {
      "text/plain": [
       "<matplotlib.legend.Legend at 0x7fa51d224b00>"
      ]
     },
     "execution_count": 120,
     "metadata": {
      "tags": []
     },
     "output_type": "execute_result"
    },
    {
     "data": {
      "image/png": "[encoded data removed]",
      "text/plain": [
       "<matplotlib.figure.Figure at 0x7fa51d268ef0>"
      ]
     },
     "metadata": {
      "tags": []
     },
     "output_type": "display_data"
    }
   ],
   "source": [
    "# https://www.dataquest.io/blog/learning-curves-machine-learning/\n",
    "\n",
    "plt.style.use('seaborn')\n",
    "\n",
    "plt.plot(k_values, tfidf_w2v_train_auc, label = 'Training AUC')\n",
    "plt.plot(k_values, tfidf_w2v_cv_auc, label = 'Validation AUC')\n",
    "\n",
    "plt.ylabel('AUC', fontsize = 14)\n",
    "plt.xlabel('k-values', fontsize = 14)\n",
    "plt.title('Learning curves for a k-NN model', fontsize = 18, y = 1.03)\n",
    "plt.legend()"
   ]
  },
  {
   "cell_type": "code",
   "execution_count": 0,
   "metadata": {
    "colab": {
     "base_uri": "https://localhost:8080/",
     "height": 136
    },
    "colab_type": "code",
    "id": "SSCZMzSNiplP",
    "outputId": "6d9e21f8-46ce-4920-c7ef-344b34cf2c29"
   },
   "outputs": [
    {
     "name": "stdout",
     "output_type": "stream",
     "text": [
      "\n",
      "Train AUC for k = 49 is 85.79%\n",
      "\n",
      "CV AUC for k = 49 is 82.79%\n",
      "\n",
      "Test AUC for k = 97 is 82.76%\n",
      "==================================================\n"
     ]
    }
   ],
   "source": [
    "knn = KNeighborsClassifier(n_neighbors=49)\n",
    "knn.fit(tfidf_w2v_train, tfidf_w2v_train_y)\n",
    "# train data\n",
    "y_prob_train = knn.predict_proba(tfidf_w2v_train)[:,1]\n",
    "fprt, tprt , throsholdt = roc_curve(tfidf_w2v_train_y, y_prob_train)\n",
    "y_pred_train = np.where(y_prob_train > 0.5, 1, 0)\n",
    "auc_roc_train = roc_auc_score(tfidf_w2v_train_y , y_prob_train)\n",
    "print('\\nTrain AUC for k = %d is %0.2f%%' % (49, (auc_roc_test * float(100))))\n",
    "# CV\n",
    "y_prob_cv = knn.predict_proba(tfidf_w2v_cv)[:,1]\n",
    "fprc, tprc , throsholdc = roc_curve(tfidf_w2v_cv_y, y_prob_cv)\n",
    "y_pred_cv = np.where(y_prob_cv > 0.5, 1, 0)\n",
    "auc_roc_cv = roc_auc_score(tfidf_w2v_cv_y , y_prob_cv)\n",
    "print('\\nCV AUC for k = %d is %0.2f%%' % (49, (auc_roc_cv * float(100))))\n",
    "# Test\n",
    "y_prob_test = knn.predict_proba(tfidf_w2v_test)[:,1]\n",
    "fprts, tprts , throsholdts = roc_curve(tfidf_w2v_test_y, y_prob_test)\n",
    "y_pred_test = np.where(y_prob_test > 0.5, 1, 0)\n",
    "auc_roc_test = roc_auc_score(tfidf_w2v_test_y , y_prob_test)\n",
    "print('\\nTest AUC for k = %d is %0.2f%%' % (97, (auc_roc_test * float(100))))\n",
    "print(\"=\"*50)"
   ]
  },
  {
   "cell_type": "code",
   "execution_count": 0,
   "metadata": {
    "colab": {
     "base_uri": "https://localhost:8080/",
     "height": 376
    },
    "colab_type": "code",
    "id": "nTuixod-kb7T",
    "outputId": "64031137-0917-4215-8745-101f1d63d2fd"
   },
   "outputs": [
    {
     "data": {
      "image/png": "[encoded data removed]",
      "text/plain": [
       "<matplotlib.figure.Figure at 0x7fa51d237978>"
      ]
     },
     "metadata": {
      "tags": []
     },
     "output_type": "display_data"
    }
   ],
   "source": [
    "# https://stackoverflow.com/questions/25009284/how-to-plot-roc-curve-in-python\n",
    "\n",
    "import matplotlib.pyplot as plt\n",
    "plt.title('Receiver Operating Characteristic')\n",
    "plt.plot(fprc, tprc, 'b' , label ='AUC CV = %0.2f' % (auc_roc_cv * float(100)))\n",
    "plt.plot(fprts, tprts, 'y' , label ='AUC Test = %0.2f' % (auc_roc_test * float(100)))\n",
    "plt.plot(fprt, tprt, 'g', label='AUC Train = %0.2f' % (auc_roc_train * float(100)))\n",
    "plt.legend(loc = 'lower right')\n",
    "plt.plot([0, 1], [0, 1],'r')\n",
    "plt.xlim([0, 1])\n",
    "plt.ylim([0, 1])\n",
    "plt.ylabel('True Positive Rate')\n",
    "plt.xlabel('False Positive Rate')\n",
    "plt.show()"
   ]
  },
  {
   "cell_type": "code",
   "execution_count": 0,
   "metadata": {
    "colab": {
     "base_uri": "https://localhost:8080/",
     "height": 34
    },
    "colab_type": "code",
    "id": "73WT5m9Wkbr1",
    "outputId": "71954ea4-bd5b-4813-e257-65e1512a991f"
   },
   "outputs": [
    {
     "name": "stdout",
     "output_type": "stream",
     "text": [
      "F1-Score on test set: 0.92\n"
     ]
    }
   ],
   "source": [
    "print(\"F1-Score on test set: %0.2f\"%(f1_score(tfidf_w2v_test_y, y_pred_test)))"
   ]
  },
  {
   "cell_type": "code",
   "execution_count": 0,
   "metadata": {
    "colab": {
     "base_uri": "https://localhost:8080/",
     "height": 368
    },
    "colab_type": "code",
    "id": "3oleffdTkrqP",
    "outputId": "b5d293e3-f8c1-4813-b77f-c62255d11c91"
   },
   "outputs": [
    {
     "data": {
      "text/plain": [
       "<matplotlib.axes._subplots.AxesSubplot at 0x7fa51d237898>"
      ]
     },
     "execution_count": 127,
     "metadata": {
      "tags": []
     },
     "output_type": "execute_result"
    },
    {
     "data": {
      "image/png": "[encoded data removed]",
      "text/plain": [
       "<matplotlib.figure.Figure at 0x7fa51d1fec88>"
      ]
     },
     "metadata": {
      "tags": []
     },
     "output_type": "display_data"
    }
   ],
   "source": [
    "df_cm = pd.DataFrame(confusion_matrix(tfidf_w2v_test_y, y_pred_test), range(2), range(2))\n",
    "sns.set(font_scale=1.4)\n",
    "sns.heatmap(df_cm, annot=True, annot_kws={\"size\": 16}, fmt='g')"
   ]
  },
  {
   "cell_type": "markdown",
   "metadata": {
    "colab_type": "text",
    "id": "Cv4FJoej7W0x"
   },
   "source": [
    "## [5.2] Applying KNN kd-tree"
   ]
  },
  {
   "cell_type": "markdown",
   "metadata": {
    "colab_type": "text",
    "id": "L9GHAZAQ7W0y"
   },
   "source": [
    "### [5.2.1] Applying KNN kd-tree on BOW,<font color='red'> SET 5</font>"
   ]
  },
  {
   "cell_type": "code",
   "execution_count": 0,
   "metadata": {
    "colab": {},
    "colab_type": "code",
    "id": "iy_VVNXH7W0y"
   },
   "outputs": [],
   "source": [
    "# Please write all the code with proper documentation"
   ]
  },
  {
   "cell_type": "code",
   "execution_count": 0,
   "metadata": {
    "colab": {},
    "colab_type": "code",
    "id": "OkPuE304KDBu"
   },
   "outputs": [],
   "source": [
    "# Please write all the code with proper documentation\n",
    "# load Review text, preprocessed one converted into vectors using (BOW)\n",
    "kd_bow_train = np.load(\"drive/ai/kd_bow_train.npy\")\n",
    "kd_bow_train_y = np.load(\"drive/ai/kd_bow_train_y.npy\")\n",
    "kd_bow_cv = np.load(\"drive/ai/kd_bow_cv.npy\")\n",
    "kd_bow_cv_y = np.load(\"drive/ai/kd_bow_cv_y.npy\")\n",
    "kd_bow_test = np.load(\"drive/ai/kd_bow_test.npy\")\n",
    "kd_bow_test_y = np.load(\"drive/ai/kd_bow_test_y.npy\")"
   ]
  },
  {
   "cell_type": "code",
   "execution_count": 0,
   "metadata": {
    "colab": {
     "base_uri": "https://localhost:8080/",
     "height": 68
    },
    "colab_type": "code",
    "id": "cGBN9weFKCVP",
    "outputId": "b0eae27a-7315-4e21-bc7b-0963313b1168"
   },
   "outputs": [
    {
     "name": "stdout",
     "output_type": "stream",
     "text": [
      "Shape of Train =  (24500, 200)\n",
      "Shape of CV =  (10500, 200)\n",
      "Shape of Test =  (15000, 200)\n"
     ]
    }
   ],
   "source": [
    "print(\"Shape of Train = \", kd_bow_train.shape)\n",
    "print(\"Shape of CV = \", kd_bow_cv.shape)\n",
    "print(\"Shape of Test = \", kd_bow_test.shape)"
   ]
  },
  {
   "cell_type": "code",
   "execution_count": 0,
   "metadata": {
    "colab": {
     "base_uri": "https://localhost:8080/",
     "height": 697
    },
    "colab_type": "code",
    "id": "RXKyW8rJKCDs",
    "outputId": "8b456cde-f863-4ebb-82fa-aca2fdcb8989"
   },
   "outputs": [
    {
     "name": "stdout",
     "output_type": "stream",
     "text": [
      "\n",
      "Train AUC for k = 1 is 99.89%\n",
      "\n",
      "CV AUC for k = 1 is 55.49%\n",
      "\n",
      "Train AUC for k = 3 is 92.33%\n",
      "\n",
      "CV AUC for k = 3 is 59.16%\n",
      "\n",
      "Train AUC for k = 5 is 89.09%\n",
      "\n",
      "CV AUC for k = 5 is 60.28%\n",
      "\n",
      "Train AUC for k = 7 is 87.52%\n",
      "\n",
      "CV AUC for k = 7 is 61.62%\n",
      "\n",
      "Train AUC for k = 9 is 86.61%\n",
      "\n",
      "CV AUC for k = 9 is 62.11%\n",
      "\n",
      "Train AUC for k = 11 is 85.79%\n",
      "\n",
      "CV AUC for k = 11 is 62.28%\n",
      "\n",
      "Train AUC for k = 13 is 84.96%\n",
      "\n",
      "CV AUC for k = 13 is 62.50%\n",
      "\n",
      "Train AUC for k = 15 is 84.59%\n",
      "\n",
      "CV AUC for k = 15 is 62.82%\n",
      "\n",
      "Train AUC for k = 17 is 84.22%\n",
      "\n",
      "CV AUC for k = 17 is 62.82%\n",
      "\n",
      "Train AUC for k = 19 is 83.84%\n",
      "\n",
      "CV AUC for k = 19 is 62.86%\n"
     ]
    }
   ],
   "source": [
    "bow_train_auc = []\n",
    "bow_cv_auc = []\n",
    "for i in range(1,20,2):\n",
    "  knn = KNeighborsClassifier(n_neighbors=i, algorithm=\"kd_tree\")\n",
    "  knn.fit(kd_bow_train, kd_bow_train_y)\n",
    "  # train data\n",
    "  y_prob_train = knn.predict_proba(kd_bow_train)[:,1]\n",
    "  y_pred = np.where(y_prob_train > 0.5, 1, 0)\n",
    "  auc_roc_test = roc_auc_score(kd_bow_train_y , y_prob_train)\n",
    "  print('\\nTrain AUC for k = %d is %0.2f%%' % (i, (auc_roc_test * float(100))))\n",
    "  bow_train_auc.append(auc_roc_test)\n",
    "  # CV\n",
    "  y_prob_cv = knn.predict_proba(kd_bow_cv)[:,1]\n",
    "  y_pred = np.where(y_prob_cv > 0.5, 1, 0)\n",
    "  auc_roc_cv = roc_auc_score(kd_bow_cv_y , y_prob_cv)\n",
    "  print('\\nCV AUC for k = %d is %0.2f%%' % (i, (auc_roc_cv * float(100))))\n",
    "  bow_cv_auc.append(auc_roc_cv)\n",
    "  \n",
    "  \n",
    "  "
   ]
  },
  {
   "cell_type": "code",
   "execution_count": 0,
   "metadata": {
    "colab": {},
    "colab_type": "code",
    "id": "r3vst-hNdLqn"
   },
   "outputs": [],
   "source": [
    "k_values = [j for j in range(1,20,2)]"
   ]
  },
  {
   "cell_type": "code",
   "execution_count": 0,
   "metadata": {
    "colab": {
     "base_uri": "https://localhost:8080/",
     "height": 410
    },
    "colab_type": "code",
    "id": "sY2kgRK3b7Mf",
    "outputId": "24d26b79-9961-41e9-b8de-918340366be2"
   },
   "outputs": [
    {
     "data": {
      "text/plain": [
       "<matplotlib.legend.Legend at 0x7f2bbb142860>"
      ]
     },
     "execution_count": 58,
     "metadata": {
      "tags": []
     },
     "output_type": "execute_result"
    },
    {
     "data": {
      "image/png": "[encoded data removed]",
      "text/plain": [
       "<matplotlib.figure.Figure at 0x7f2c02c11080>"
      ]
     },
     "metadata": {
      "tags": []
     },
     "output_type": "display_data"
    }
   ],
   "source": [
    "# https://www.dataquest.io/blog/learning-curves-machine-learning/\n",
    "\n",
    "import matplotlib.pyplot as plt\n",
    "%matplotlib inline\n",
    "\n",
    "plt.style.use('seaborn')\n",
    "\n",
    "plt.plot(k_values, bow_train_auc, label = 'Training AUC')\n",
    "plt.plot(k_values, bow_cv_auc, label = 'Validation AUC')\n",
    "\n",
    "plt.ylabel('AUC', fontsize = 14)\n",
    "plt.xlabel('k-values', fontsize = 14)\n",
    "plt.title('Learning curves for a k-NN model', fontsize = 18, y = 1.03)\n",
    "plt.legend()"
   ]
  },
  {
   "cell_type": "code",
   "execution_count": 0,
   "metadata": {
    "colab": {
     "base_uri": "https://localhost:8080/",
     "height": 136
    },
    "colab_type": "code",
    "id": "YVGiDdf9b6zn",
    "outputId": "524a62d6-39b3-421d-e3a1-901190412ffd"
   },
   "outputs": [
    {
     "name": "stdout",
     "output_type": "stream",
     "text": [
      "\n",
      "Train AUC for k = 19 is 83.84%\n",
      "\n",
      "CV AUC for k = 19 is 62.86%\n",
      "\n",
      "Test AUC for k = 19 is 57.44%\n",
      "==================================================\n"
     ]
    }
   ],
   "source": [
    "knn = KNeighborsClassifier(n_neighbors=19 , algorithm=\"kd_tree\")\n",
    "knn.fit(kd_bow_train, kd_bow_train_y)\n",
    "# train data\n",
    "y_prob_train = knn.predict_proba(kd_bow_train)[:,1]\n",
    "fprt, tprt , throsholdt = roc_curve(kd_bow_train_y, y_prob_train)\n",
    "y_pred_train = np.where(y_prob_train > 0.5, 1, 0)\n",
    "auc_roc_train = roc_auc_score(kd_bow_train_y , y_prob_train)\n",
    "print('\\nTrain AUC for k = %d is %0.2f%%' % (19, (auc_roc_test * float(100))))\n",
    "# CV\n",
    "y_prob_cv = knn.predict_proba(kd_bow_cv)[:,1]\n",
    "fprc, tprc , throsholdc = roc_curve(kd_bow_cv_y, y_prob_cv)\n",
    "y_pred_cv = np.where(y_prob_cv > 0.5, 1, 0)\n",
    "auc_roc_cv = roc_auc_score(kd_bow_cv_y , y_prob_cv)\n",
    "print('\\nCV AUC for k = %d is %0.2f%%' % (19, (auc_roc_cv * float(100))))\n",
    "# Test\n",
    "y_prob_test = knn.predict_proba(kd_bow_test)[:,1]\n",
    "fprts, tprts , throsholdts = roc_curve(kd_bow_test_y, y_prob_test)\n",
    "y_pred_test = np.where(y_prob_test > 0.5, 1, 0)\n",
    "auc_roc_test = roc_auc_score(kd_bow_test_y , y_prob_test)\n",
    "print('\\nTest AUC for k = %d is %0.2f%%' % (19, (auc_roc_test * float(100))))\n",
    "print(\"=\"*50)"
   ]
  },
  {
   "cell_type": "code",
   "execution_count": 0,
   "metadata": {
    "colab": {
     "base_uri": "https://localhost:8080/",
     "height": 376
    },
    "colab_type": "code",
    "id": "ik16Mas8b6VD",
    "outputId": "15ec015d-dffd-493d-b74f-cd054d73db33"
   },
   "outputs": [
    {
     "data": {
      "image/png": "[encoded data removed]",
      "text/plain": [
       "<matplotlib.figure.Figure at 0x7f2bc32acd30>"
      ]
     },
     "metadata": {
      "tags": []
     },
     "output_type": "display_data"
    }
   ],
   "source": [
    "# https://stackoverflow.com/questions/25009284/how-to-plot-roc-curve-in-python\n",
    "\n",
    "import matplotlib.pyplot as plt\n",
    "plt.title('Receiver Operating Characteristic')\n",
    "plt.plot(fprc, tprc, 'b' , label ='AUC CV = %0.2f' % (auc_roc_cv * float(100)))\n",
    "plt.plot(fprts, tprts, 'y' , label ='AUC Test = %0.2f' % (auc_roc_test * float(100)))\n",
    "plt.plot(fprt, tprt, 'g', label='AUC Train = %0.2f' % (auc_roc_train * float(100)))\n",
    "plt.legend(loc = 'lower right')\n",
    "plt.plot([0, 1], [0, 1],'r')\n",
    "plt.xlim([0, 1])\n",
    "plt.ylim([0, 1])\n",
    "plt.ylabel('True Positive Rate')\n",
    "plt.xlabel('False Positive Rate')\n",
    "plt.show()"
   ]
  },
  {
   "cell_type": "code",
   "execution_count": 0,
   "metadata": {
    "colab": {
     "base_uri": "https://localhost:8080/",
     "height": 34
    },
    "colab_type": "code",
    "id": "p7iTvoqPdrK4",
    "outputId": "4fd1290d-eac9-4630-fa35-f20200dcdd4a"
   },
   "outputs": [
    {
     "name": "stdout",
     "output_type": "stream",
     "text": [
      "F1-Score on test set: 0.86\n"
     ]
    }
   ],
   "source": [
    "print(\"F1-Score on test set: %0.2f\"%(f1_score(kd_bow_test_y, y_pred_test)))"
   ]
  },
  {
   "cell_type": "code",
   "execution_count": 0,
   "metadata": {
    "colab": {
     "base_uri": "https://localhost:8080/",
     "height": 368
    },
    "colab_type": "code",
    "id": "d-9LzMJUdq0O",
    "outputId": "effef1bf-6926-4984-da76-94c735f441da"
   },
   "outputs": [
    {
     "data": {
      "text/plain": [
       "<matplotlib.axes._subplots.AxesSubplot at 0x7f2bbd522f98>"
      ]
     },
     "execution_count": 63,
     "metadata": {
      "tags": []
     },
     "output_type": "execute_result"
    },
    {
     "data": {
      "image/png": "[encoded data removed]",
      "text/plain": [
       "<matplotlib.figure.Figure at 0x7f2bbd434fd0>"
      ]
     },
     "metadata": {
      "tags": []
     },
     "output_type": "display_data"
    }
   ],
   "source": [
    "df_cm = pd.DataFrame(confusion_matrix(kd_bow_test_y, y_pred_test), range(2), range(2))\n",
    "sns.set(font_scale=1.4)\n",
    "sns.heatmap(df_cm, annot=True, annot_kws={\"size\": 16}, fmt='g')"
   ]
  },
  {
   "cell_type": "markdown",
   "metadata": {
    "colab_type": "text",
    "id": "MXYfi4Oe7W02"
   },
   "source": [
    "### [5.2.2] Applying KNN kd-tree on TFIDF,<font color='red'> SET 6</font>"
   ]
  },
  {
   "cell_type": "code",
   "execution_count": 0,
   "metadata": {
    "colab": {},
    "colab_type": "code",
    "id": "-sCuT6u07W1P"
   },
   "outputs": [],
   "source": [
    "# Please write all the code with proper documentation"
   ]
  },
  {
   "cell_type": "code",
   "execution_count": 0,
   "metadata": {
    "colab": {},
    "colab_type": "code",
    "id": "t3CzYcROgI9b"
   },
   "outputs": [],
   "source": [
    "# Please write all the code with proper documentation\n",
    "# Please write all the code with proper documentation\n",
    "# load Review text, preprocessed one converted into vectors using (BOW)\n",
    "kd_tfidf_train = np.load(\"drive/ai/kd_tfidf_train.npy\")\n",
    "kd_tfidf_train_y = np.load(\"drive/ai/kd_tfidf_train_y.npy\")\n",
    "kd_tfidf_cv = np.load(\"drive/ai/kd_tfidf_cv.npy\")\n",
    "kd_tfidf_cv_y = np.load(\"drive/ai/kd_tfidf_cv_y.npy\")\n",
    "kd_tfidf_test = np.load(\"drive/ai/kd_tfidf_test.npy\")\n",
    "kd_tfidf_test_y = np.load(\"drive/ai/kd_tfidf_test_y.npy\")"
   ]
  },
  {
   "cell_type": "code",
   "execution_count": 65,
   "metadata": {
    "colab": {
     "base_uri": "https://localhost:8080/",
     "height": 68
    },
    "colab_type": "code",
    "id": "JKqwf0RpgIsI",
    "outputId": "fb0185f0-d8e2-4139-a87a-f3ac3bbbf0c3"
   },
   "outputs": [
    {
     "name": "stdout",
     "output_type": "stream",
     "text": [
      "Shape of Train =  (24500, 200)\n",
      "Shape of CV =  (10500, 200)\n",
      "Shape of Test =  (15000, 200)\n"
     ]
    }
   ],
   "source": [
    "print(\"Shape of Train = \", kd_tfidf_train.shape)\n",
    "print(\"Shape of CV = \", kd_tfidf_cv.shape)\n",
    "print(\"Shape of Test = \", kd_tfidf_test.shape)"
   ]
  },
  {
   "cell_type": "code",
   "execution_count": 66,
   "metadata": {
    "colab": {
     "base_uri": "https://localhost:8080/",
     "height": 442
    },
    "colab_type": "code",
    "id": "orhO_idMgIac",
    "outputId": "c8ede187-0453-4aad-dd05-65575ac62eea"
   },
   "outputs": [
    {
     "name": "stdout",
     "output_type": "stream",
     "text": [
      "\n",
      "Train AUC for k = 1 is 99.89%\n",
      "\n",
      "CV AUC for k = 1 is 56.31%\n",
      "==================================================\n",
      "\n",
      "Train AUC for k = 3 is 92.03%\n",
      "\n",
      "CV AUC for k = 3 is 60.04%\n",
      "==================================================\n",
      "\n",
      "Train AUC for k = 5 is 89.02%\n",
      "\n",
      "CV AUC for k = 5 is 61.82%\n",
      "==================================================\n",
      "\n",
      "Train AUC for k = 7 is 87.35%\n",
      "\n",
      "CV AUC for k = 7 is 63.19%\n",
      "==================================================\n",
      "\n",
      "Train AUC for k = 9 is 86.26%\n",
      "\n",
      "CV AUC for k = 9 is 63.70%\n",
      "==================================================\n"
     ]
    }
   ],
   "source": [
    "tfidf_train_auc = []\n",
    "tfidf_cv_auc = []\n",
    "for i in range(1,10,2):\n",
    "  knn = KNeighborsClassifier(n_neighbors=i, algorithm=\"kd_tree\")\n",
    "  knn.fit(kd_tfidf_train, kd_tfidf_train_y)\n",
    "  # train data\n",
    "  y_prob_train = knn.predict_proba(kd_tfidf_train)[:,1]\n",
    "  y_pred = np.where(y_prob_train > 0.5, 1, 0)\n",
    "  auc_roc_test = roc_auc_score(kd_tfidf_train_y , y_prob_train)\n",
    "  print('\\nTrain AUC for k = %d is %0.2f%%' % (i, (auc_roc_test * float(100))))\n",
    "  tfidf_train_auc.append(auc_roc_test)\n",
    "  # CV\n",
    "  y_prob_cv = knn.predict_proba(kd_tfidf_cv)[:,1]\n",
    "  y_pred = np.where(y_prob_cv > 0.5, 1, 0)\n",
    "  auc_roc_cv = roc_auc_score(kd_tfidf_cv_y , y_prob_cv)\n",
    "  print('\\nCV AUC for k = %d is %0.2f%%' % (i, (auc_roc_cv * float(100))))\n",
    "  tfidf_cv_auc.append(auc_roc_cv)\n",
    "  print(\"=\"*50)"
   ]
  },
  {
   "cell_type": "code",
   "execution_count": 0,
   "metadata": {
    "colab": {},
    "colab_type": "code",
    "id": "_YIeqwlNlUTK"
   },
   "outputs": [],
   "source": [
    "k_values = [j for j in range(1,10,2)]"
   ]
  },
  {
   "cell_type": "code",
   "execution_count": 68,
   "metadata": {
    "colab": {
     "base_uri": "https://localhost:8080/",
     "height": 410
    },
    "colab_type": "code",
    "id": "u2onmPQRlUFu",
    "outputId": "6f73e90a-63b0-4322-d7dd-fae03605d17a"
   },
   "outputs": [
    {
     "data": {
      "text/plain": [
       "<matplotlib.legend.Legend at 0x7f2bbc27f940>"
      ]
     },
     "execution_count": 68,
     "metadata": {
      "tags": []
     },
     "output_type": "execute_result"
    },
    {
     "data": {
      "image/png": "[encoded data removed]",
      "text/plain": [
       "<matplotlib.figure.Figure at 0x7f2bc369dd68>"
      ]
     },
     "metadata": {
      "tags": []
     },
     "output_type": "display_data"
    }
   ],
   "source": [
    "# https://www.dataquest.io/blog/learning-curves-machine-learning/\n",
    "\n",
    "import matplotlib.pyplot as plt\n",
    "%matplotlib inline\n",
    "\n",
    "plt.style.use('seaborn')\n",
    "\n",
    "plt.plot(k_values, tfidf_train_auc, label = 'Training AUC')\n",
    "plt.plot(k_values, tfidf_cv_auc, label = 'Validation AUC')\n",
    "\n",
    "plt.ylabel('AUC', fontsize = 14)\n",
    "plt.xlabel('k-values', fontsize = 14)\n",
    "plt.title('Learning curves for a k-NN model', fontsize = 18, y = 1.03)\n",
    "plt.legend()"
   ]
  },
  {
   "cell_type": "code",
   "execution_count": 71,
   "metadata": {
    "colab": {
     "base_uri": "https://localhost:8080/",
     "height": 136
    },
    "colab_type": "code",
    "id": "w6zR6-XPv7Kq",
    "outputId": "5ce904ba-acd8-40da-dd2d-af4a0dba4581"
   },
   "outputs": [
    {
     "name": "stdout",
     "output_type": "stream",
     "text": [
      "\n",
      "Train AUC for k = 9 is 86.26%\n",
      "\n",
      "CV AUC for k = 9 is 63.70%\n",
      "\n",
      "Test AUC for k = 9 is 60.71%\n",
      "==================================================\n"
     ]
    }
   ],
   "source": [
    "knn = KNeighborsClassifier(n_neighbors=9, algorithm=\"kd_tree\")\n",
    "knn.fit(kd_tfidf_train, kd_tfidf_train_y)\n",
    "# train data\n",
    "y_prob_train = knn.predict_proba(kd_tfidf_train)[:,1]\n",
    "fprt, tprt , throsholdt = roc_curve(kd_tfidf_train_y, y_prob_train)\n",
    "y_pred_train = np.where(y_prob_train > 0.5, 1, 0)\n",
    "auc_roc_train = roc_auc_score(kd_tfidf_train_y , y_prob_train)\n",
    "print('\\nTrain AUC for k = %d is %0.2f%%' % (9, (auc_roc_test * float(100))))\n",
    "# CV\n",
    "y_prob_cv = knn.predict_proba(kd_tfidf_cv)[:,1]\n",
    "fprc, tprc , throsholdc = roc_curve(kd_tfidf_cv_y, y_prob_cv)\n",
    "y_pred_cv = np.where(y_prob_cv > 0.5, 1, 0)\n",
    "auc_roc_cv = roc_auc_score(kd_tfidf_cv_y , y_prob_cv)\n",
    "print('\\nCV AUC for k = %d is %0.2f%%' % (9, (auc_roc_cv * float(100))))\n",
    "# Test\n",
    "y_prob_test = knn.predict_proba(kd_tfidf_test)[:,1]\n",
    "fprts, tprts , throsholdts = roc_curve(kd_tfidf_test_y, y_prob_test)\n",
    "y_pred_test = np.where(y_prob_test > 0.5, 1, 0)\n",
    "auc_roc_test = roc_auc_score(kd_tfidf_test_y , y_prob_test)\n",
    "print('\\nTest AUC for k = %d is %0.2f%%' % (9, (auc_roc_test * float(100))))\n",
    "print(\"=\"*50)"
   ]
  },
  {
   "cell_type": "code",
   "execution_count": 73,
   "metadata": {
    "colab": {
     "base_uri": "https://localhost:8080/",
     "height": 34
    },
    "colab_type": "code",
    "id": "tbOiRsr1lT4h",
    "outputId": "702aed16-f883-433c-8cbd-45cc29963cde"
   },
   "outputs": [
    {
     "name": "stdout",
     "output_type": "stream",
     "text": [
      "F1-Score on test set: 0.89\n"
     ]
    }
   ],
   "source": [
    "print(\"F1-Score on test set: %0.2f\"%(f1_score(kd_tfidf_test_y, y_pred_test)))"
   ]
  },
  {
   "cell_type": "code",
   "execution_count": 74,
   "metadata": {
    "colab": {
     "base_uri": "https://localhost:8080/",
     "height": 368
    },
    "colab_type": "code",
    "id": "Ie1vYLLNs56v",
    "outputId": "361ea4d3-a4ee-45b1-b04d-00a7e879e7b1"
   },
   "outputs": [
    {
     "data": {
      "text/plain": [
       "<matplotlib.axes._subplots.AxesSubplot at 0x7f2bbd29a7f0>"
      ]
     },
     "execution_count": 74,
     "metadata": {
      "tags": []
     },
     "output_type": "execute_result"
    },
    {
     "data": {
      "image/png": "[encoded data removed]",
      "text/plain": [
       "<matplotlib.figure.Figure at 0x7f2bbc9fcc50>"
      ]
     },
     "metadata": {
      "tags": []
     },
     "output_type": "display_data"
    }
   ],
   "source": [
    "df_cm = pd.DataFrame(confusion_matrix(kd_tfidf_test_y, y_pred_test), range(2), range(2))\n",
    "sns.set(font_scale=1.4)\n",
    "sns.heatmap(df_cm, annot=True, annot_kws={\"size\": 16}, fmt='g')"
   ]
  },
  {
   "cell_type": "markdown",
   "metadata": {
    "colab_type": "text",
    "id": "gucX5NRv7W1W"
   },
   "source": [
    "### [5.2.3] Applying KNN kd-tree on AVG W2V,<font color='red'> SET 3</font>"
   ]
  },
  {
   "cell_type": "code",
   "execution_count": 0,
   "metadata": {
    "colab": {},
    "colab_type": "code",
    "id": "VsG1QAGT7W1X"
   },
   "outputs": [],
   "source": [
    "# Please write all the code with proper documentation"
   ]
  },
  {
   "cell_type": "code",
   "execution_count": 0,
   "metadata": {
    "colab": {},
    "colab_type": "code",
    "id": "HTJZuD04inLv"
   },
   "outputs": [],
   "source": [
    "# Please write all the code with proper documentation\n",
    "# load Review text, preprocessed one converted into vectors using (w2v)\n",
    "w2v_train = np.load(\"drive/ai/w2v_train.npy\")\n",
    "w2v_train_y = np.load(\"drive/ai/w2v_train_y.npy\")\n",
    "w2v_cv = np.load(\"drive/ai/w2v_cv.npy\")\n",
    "w2v_cv_y = np.load(\"drive/ai/w2v_cv_y.npy\")\n",
    "w2v_test = np.load(\"drive/ai/w2v_test.npy\")\n",
    "w2v_test_y = np.load(\"drive/ai/w2v_test_y.npy\")"
   ]
  },
  {
   "cell_type": "code",
   "execution_count": 0,
   "metadata": {
    "colab": {
     "base_uri": "https://localhost:8080/",
     "height": 68
    },
    "colab_type": "code",
    "id": "Apxk9f5JiryN",
    "outputId": "6bed4e0b-6532-4b05-a5e1-36755d16786a"
   },
   "outputs": [
    {
     "name": "stdout",
     "output_type": "stream",
     "text": [
      "Shape of Train =  (24500, 50)\n",
      "Shape of CV =  (10500, 50)\n",
      "Shape of Test =  (15000, 50)\n"
     ]
    }
   ],
   "source": [
    "print(\"Shape of Train = \", w2v_train.shape)\n",
    "print(\"Shape of CV = \", w2v_cv.shape)\n",
    "print(\"Shape of Test = \", w2v_test.shape)"
   ]
  },
  {
   "cell_type": "code",
   "execution_count": 0,
   "metadata": {
    "colab": {
     "base_uri": "https://localhost:8080/",
     "height": 4267
    },
    "colab_type": "code",
    "id": "_YPHTahpirff",
    "outputId": "702e166b-9428-4576-d39a-8575b047a3e7"
   },
   "outputs": [
    {
     "name": "stdout",
     "output_type": "stream",
     "text": [
      "\n",
      "Train AUC for k = 1 is 99.96%\n",
      "\n",
      "CV AUC for k = 1 is 66.50%\n",
      "==================================================\n",
      "\n",
      "Train AUC for k = 3 is 95.18%\n",
      "\n",
      "CV AUC for k = 3 is 75.20%\n",
      "==================================================\n",
      "\n",
      "Train AUC for k = 5 is 93.10%\n",
      "\n",
      "CV AUC for k = 5 is 79.20%\n",
      "==================================================\n",
      "\n",
      "Train AUC for k = 7 is 92.02%\n",
      "\n",
      "CV AUC for k = 7 is 81.47%\n",
      "==================================================\n",
      "\n",
      "Train AUC for k = 9 is 91.48%\n",
      "\n",
      "CV AUC for k = 9 is 82.27%\n",
      "==================================================\n",
      "\n",
      "Train AUC for k = 11 is 91.01%\n",
      "\n",
      "CV AUC for k = 11 is 82.93%\n",
      "==================================================\n",
      "\n",
      "Train AUC for k = 13 is 90.63%\n",
      "\n",
      "CV AUC for k = 13 is 83.80%\n",
      "==================================================\n",
      "\n",
      "Train AUC for k = 15 is 90.24%\n",
      "\n",
      "CV AUC for k = 15 is 84.16%\n",
      "==================================================\n",
      "\n",
      "Train AUC for k = 17 is 89.95%\n",
      "\n",
      "CV AUC for k = 17 is 84.47%\n",
      "==================================================\n",
      "\n",
      "Train AUC for k = 19 is 89.69%\n",
      "\n",
      "CV AUC for k = 19 is 84.94%\n",
      "==================================================\n",
      "\n",
      "Train AUC for k = 21 is 89.50%\n",
      "\n",
      "CV AUC for k = 21 is 85.12%\n",
      "==================================================\n",
      "\n",
      "Train AUC for k = 23 is 89.32%\n",
      "\n",
      "CV AUC for k = 23 is 85.38%\n",
      "==================================================\n",
      "\n",
      "Train AUC for k = 25 is 89.12%\n",
      "\n",
      "CV AUC for k = 25 is 85.49%\n",
      "==================================================\n",
      "\n",
      "Train AUC for k = 27 is 89.02%\n",
      "\n",
      "CV AUC for k = 27 is 85.62%\n",
      "==================================================\n",
      "\n",
      "Train AUC for k = 29 is 88.97%\n",
      "\n",
      "CV AUC for k = 29 is 85.66%\n",
      "==================================================\n",
      "\n",
      "Train AUC for k = 31 is 88.94%\n",
      "\n",
      "CV AUC for k = 31 is 85.79%\n",
      "==================================================\n",
      "\n",
      "Train AUC for k = 33 is 88.93%\n",
      "\n",
      "CV AUC for k = 33 is 85.81%\n",
      "==================================================\n",
      "\n",
      "Train AUC for k = 35 is 88.90%\n",
      "\n",
      "CV AUC for k = 35 is 85.92%\n",
      "==================================================\n",
      "\n",
      "Train AUC for k = 37 is 88.80%\n",
      "\n",
      "CV AUC for k = 37 is 86.11%\n",
      "==================================================\n",
      "\n",
      "Train AUC for k = 39 is 88.77%\n",
      "\n",
      "CV AUC for k = 39 is 86.24%\n",
      "==================================================\n",
      "\n",
      "Train AUC for k = 41 is 88.68%\n",
      "\n",
      "CV AUC for k = 41 is 86.31%\n",
      "==================================================\n",
      "\n",
      "Train AUC for k = 43 is 88.57%\n",
      "\n",
      "CV AUC for k = 43 is 86.35%\n",
      "==================================================\n",
      "\n",
      "Train AUC for k = 45 is 88.50%\n",
      "\n",
      "CV AUC for k = 45 is 86.36%\n",
      "==================================================\n",
      "\n",
      "Train AUC for k = 47 is 88.44%\n",
      "\n",
      "CV AUC for k = 47 is 86.45%\n",
      "==================================================\n",
      "\n",
      "Train AUC for k = 49 is 88.37%\n",
      "\n",
      "CV AUC for k = 49 is 86.47%\n",
      "==================================================\n",
      "\n",
      "Train AUC for k = 51 is 88.36%\n",
      "\n",
      "CV AUC for k = 51 is 86.48%\n",
      "==================================================\n",
      "\n",
      "Train AUC for k = 53 is 88.32%\n",
      "\n",
      "CV AUC for k = 53 is 86.48%\n",
      "==================================================\n",
      "\n",
      "Train AUC for k = 55 is 88.30%\n",
      "\n",
      "CV AUC for k = 55 is 86.56%\n",
      "==================================================\n",
      "\n",
      "Train AUC for k = 57 is 88.17%\n",
      "\n",
      "CV AUC for k = 57 is 86.56%\n",
      "==================================================\n",
      "\n",
      "Train AUC for k = 59 is 88.13%\n",
      "\n",
      "CV AUC for k = 59 is 86.60%\n",
      "==================================================\n",
      "\n",
      "Train AUC for k = 61 is 88.11%\n",
      "\n",
      "CV AUC for k = 61 is 86.59%\n",
      "==================================================\n",
      "\n",
      "Train AUC for k = 63 is 88.10%\n",
      "\n",
      "CV AUC for k = 63 is 86.61%\n",
      "==================================================\n",
      "\n",
      "Train AUC for k = 65 is 88.04%\n",
      "\n",
      "CV AUC for k = 65 is 86.59%\n",
      "==================================================\n",
      "\n",
      "Train AUC for k = 67 is 88.01%\n",
      "\n",
      "CV AUC for k = 67 is 86.64%\n",
      "==================================================\n",
      "\n",
      "Train AUC for k = 69 is 87.97%\n",
      "\n",
      "CV AUC for k = 69 is 86.68%\n",
      "==================================================\n",
      "\n",
      "Train AUC for k = 71 is 87.95%\n",
      "\n",
      "CV AUC for k = 71 is 86.67%\n",
      "==================================================\n",
      "\n",
      "Train AUC for k = 73 is 87.90%\n",
      "\n",
      "CV AUC for k = 73 is 86.67%\n",
      "==================================================\n",
      "\n",
      "Train AUC for k = 75 is 87.89%\n",
      "\n",
      "CV AUC for k = 75 is 86.63%\n",
      "==================================================\n",
      "\n",
      "Train AUC for k = 77 is 87.87%\n",
      "\n",
      "CV AUC for k = 77 is 86.65%\n",
      "==================================================\n",
      "\n",
      "Train AUC for k = 79 is 87.85%\n",
      "\n",
      "CV AUC for k = 79 is 86.70%\n",
      "==================================================\n",
      "\n",
      "Train AUC for k = 81 is 87.81%\n",
      "\n",
      "CV AUC for k = 81 is 86.69%\n",
      "==================================================\n",
      "\n",
      "Train AUC for k = 83 is 87.81%\n",
      "\n",
      "CV AUC for k = 83 is 86.72%\n",
      "==================================================\n",
      "\n",
      "Train AUC for k = 85 is 87.77%\n",
      "\n",
      "CV AUC for k = 85 is 86.75%\n",
      "==================================================\n",
      "\n",
      "Train AUC for k = 87 is 87.75%\n",
      "\n",
      "CV AUC for k = 87 is 86.77%\n",
      "==================================================\n",
      "\n",
      "Train AUC for k = 89 is 87.74%\n",
      "\n",
      "CV AUC for k = 89 is 86.75%\n",
      "==================================================\n",
      "\n",
      "Train AUC for k = 91 is 87.72%\n",
      "\n",
      "CV AUC for k = 91 is 86.80%\n",
      "==================================================\n",
      "\n",
      "Train AUC for k = 93 is 87.70%\n",
      "\n",
      "CV AUC for k = 93 is 86.82%\n",
      "==================================================\n",
      "\n",
      "Train AUC for k = 95 is 87.69%\n",
      "\n",
      "CV AUC for k = 95 is 86.84%\n",
      "==================================================\n",
      "\n",
      "Train AUC for k = 97 is 87.70%\n",
      "\n",
      "CV AUC for k = 97 is 86.87%\n",
      "==================================================\n",
      "\n",
      "Train AUC for k = 99 is 87.67%\n",
      "\n",
      "CV AUC for k = 99 is 86.86%\n",
      "==================================================\n"
     ]
    }
   ],
   "source": [
    "w2v_train_auc = []\n",
    "w2v_cv_auc = []\n",
    "for i in range(1,100,2):\n",
    "  knn = KNeighborsClassifier(n_neighbors=i, algorithm=\"kd_tree\")\n",
    "  knn.fit(w2v_train, w2v_train_y)\n",
    "  # train data\n",
    "  y_prob_train = knn.predict_proba(w2v_train)[:,1]\n",
    "  y_pred = np.where(y_prob_train > 0.5, 1, 0)\n",
    "  auc_roc_test = roc_auc_score(w2v_train_y , y_prob_train)\n",
    "  print('\\nTrain AUC for k = %d is %0.2f%%' % (i, (auc_roc_test * float(100))))\n",
    "  w2v_train_auc.append(auc_roc_test)\n",
    "  # CV\n",
    "  y_prob_cv = knn.predict_proba(w2v_cv)[:,1]\n",
    "  y_pred = np.where(y_prob_cv > 0.5, 1, 0)\n",
    "  auc_roc_cv = roc_auc_score(w2v_cv_y , y_prob_cv)\n",
    "  print('\\nCV AUC for k = %d is %0.2f%%' % (i, (auc_roc_cv * float(100))))\n",
    "  w2v_cv_auc.append(auc_roc_cv)\n",
    "  print(\"=\"*50)"
   ]
  },
  {
   "cell_type": "code",
   "execution_count": 0,
   "metadata": {
    "colab": {},
    "colab_type": "code",
    "id": "cHeO_CtezvI8"
   },
   "outputs": [],
   "source": [
    "k_values = [j for j in range(1,100,2)]"
   ]
  },
  {
   "cell_type": "code",
   "execution_count": 0,
   "metadata": {
    "colab": {
     "base_uri": "https://localhost:8080/",
     "height": 410
    },
    "colab_type": "code",
    "id": "lm7yrxaNirO7",
    "outputId": "dd099739-dd67-41cd-d43e-97f66b9a13fa"
   },
   "outputs": [
    {
     "data": {
      "text/plain": [
       "<matplotlib.legend.Legend at 0x7f2bd4776c50>"
      ]
     },
     "execution_count": 23,
     "metadata": {
      "tags": []
     },
     "output_type": "execute_result"
    },
    {
     "data": {
      "image/png": "[encoded data removed]",
      "text/plain": [
       "<matplotlib.figure.Figure at 0x7f2bd4803320>"
      ]
     },
     "metadata": {
      "tags": []
     },
     "output_type": "display_data"
    }
   ],
   "source": [
    "# https://www.dataquest.io/blog/learning-curves-machine-learning/\n",
    "\n",
    "import matplotlib.pyplot as plt\n",
    "%matplotlib inline\n",
    "\n",
    "plt.style.use('seaborn')\n",
    "\n",
    "plt.plot(k_values, w2v_train_auc, label = 'Training AUC')\n",
    "plt.plot(k_values, w2v_cv_auc, label = 'Validation AUC')\n",
    "\n",
    "plt.ylabel('AUC', fontsize = 14)\n",
    "plt.xlabel('k-values', fontsize = 14)\n",
    "plt.title('Learning curves for a k-NN model', fontsize = 18, y = 1.03)\n",
    "plt.legend()"
   ]
  },
  {
   "cell_type": "code",
   "execution_count": 0,
   "metadata": {
    "colab": {
     "base_uri": "https://localhost:8080/",
     "height": 136
    },
    "colab_type": "code",
    "id": "hVYKLFaw0DxJ",
    "outputId": "3c72989b-2a98-4aff-c183-3c3c94b34691"
   },
   "outputs": [
    {
     "name": "stdout",
     "output_type": "stream",
     "text": [
      "\n",
      "Train AUC for k = 97 is 87.67%\n",
      "\n",
      "CV AUC for k = 97 is 86.87%\n",
      "\n",
      "Test AUC for k = 97 is 86.76%\n",
      "==================================================\n"
     ]
    }
   ],
   "source": [
    "knn = KNeighborsClassifier(n_neighbors=97, algorithm=\"kd_tree\")\n",
    "knn.fit(w2v_train, w2v_train_y)\n",
    "# train data\n",
    "y_prob_train = knn.predict_proba(w2v_train)[:,1]\n",
    "fprt, tprt , throsholdt = roc_curve(w2v_train_y, y_prob_train)\n",
    "y_pred_train = np.where(y_prob_train > 0.5, 1, 0)\n",
    "auc_roc_train = roc_auc_score(w2v_train_y , y_prob_train)\n",
    "print('\\nTrain AUC for k = %d is %0.2f%%' % (97, (auc_roc_test * float(100))))\n",
    "# CV\n",
    "y_prob_cv = knn.predict_proba(w2v_cv)[:,1]\n",
    "fprc, tprc , throsholdc = roc_curve(w2v_cv_y, y_prob_cv)\n",
    "y_pred_cv = np.where(y_prob_cv > 0.5, 1, 0)\n",
    "auc_roc_cv = roc_auc_score(w2v_cv_y , y_prob_cv)\n",
    "print('\\nCV AUC for k = %d is %0.2f%%' % (97, (auc_roc_cv * float(100))))\n",
    "# Test\n",
    "y_prob_test = knn.predict_proba(w2v_test)[:,1]\n",
    "fprts, tprts , throsholdts = roc_curve(w2v_test_y, y_prob_test)\n",
    "y_pred_test = np.where(y_prob_test > 0.5, 1, 0)\n",
    "auc_roc_test = roc_auc_score(w2v_test_y , y_prob_test)\n",
    "print('\\nTest AUC for k = %d is %0.2f%%' % (97, (auc_roc_test * float(100))))\n",
    "print(\"=\"*50)"
   ]
  },
  {
   "cell_type": "code",
   "execution_count": 0,
   "metadata": {
    "colab": {
     "base_uri": "https://localhost:8080/",
     "height": 376
    },
    "colab_type": "code",
    "id": "6bQBk8Hr0C-f",
    "outputId": "d1411582-6be4-44c3-b95b-5dc6d0f5da52"
   },
   "outputs": [
    {
     "data": {
      "image/png": "[encoded data removed]",
      "text/plain": [
       "<matplotlib.figure.Figure at 0x7f2bd4803d30>"
      ]
     },
     "metadata": {
      "tags": []
     },
     "output_type": "display_data"
    }
   ],
   "source": [
    "# https://stackoverflow.com/questions/25009284/how-to-plot-roc-curve-in-python\n",
    "\n",
    "import matplotlib.pyplot as plt\n",
    "plt.title('Receiver Operating Characteristic')\n",
    "plt.plot(fprc, tprc, 'b' , label ='AUC CV = %0.2f' % (auc_roc_cv * float(100)))\n",
    "plt.plot(fprts, tprts, 'y' , label ='AUC Test = %0.2f' % (auc_roc_test * float(100)))\n",
    "plt.plot(fprt, tprt, 'g', label='AUC Train = %0.2f' % (auc_roc_train * float(100)))\n",
    "plt.legend(loc = 'lower right')\n",
    "plt.plot([0, 1], [0, 1],'r')\n",
    "plt.xlim([0, 1])\n",
    "plt.ylim([0, 1])\n",
    "plt.ylabel('True Positive Rate')\n",
    "plt.xlabel('False Positive Rate')\n",
    "plt.show()"
   ]
  },
  {
   "cell_type": "code",
   "execution_count": 0,
   "metadata": {
    "colab": {
     "base_uri": "https://localhost:8080/",
     "height": 34
    },
    "colab_type": "code",
    "id": "sVRI8c5v0Co8",
    "outputId": "214707a2-e2f1-4e36-b8c4-a69adce171de"
   },
   "outputs": [
    {
     "name": "stdout",
     "output_type": "stream",
     "text": [
      "F1-Score on test set: 0.92\n"
     ]
    }
   ],
   "source": [
    "print(\"F1-Score on test set: %0.2f\"%(f1_score(w2v_test_y, y_pred_test)))"
   ]
  },
  {
   "cell_type": "code",
   "execution_count": 0,
   "metadata": {
    "colab": {
     "base_uri": "https://localhost:8080/",
     "height": 368
    },
    "colab_type": "code",
    "id": "r6JlLD810_5h",
    "outputId": "d6575f8d-ccc6-43cb-a906-4a8faa0c4ccd"
   },
   "outputs": [
    {
     "data": {
      "text/plain": [
       "<matplotlib.axes._subplots.AxesSubplot at 0x7f2bd4803908>"
      ]
     },
     "execution_count": 27,
     "metadata": {
      "tags": []
     },
     "output_type": "execute_result"
    },
    {
     "data": {
      "image/png": "[encoded data removed]",
      "text/plain": [
       "<matplotlib.figure.Figure at 0x7f2bd48035c0>"
      ]
     },
     "metadata": {
      "tags": []
     },
     "output_type": "display_data"
    }
   ],
   "source": [
    "df_cm = pd.DataFrame(confusion_matrix(w2v_test_y, y_pred_test), range(2), range(2))\n",
    "sns.set(font_scale=1.4)\n",
    "sns.heatmap(df_cm, annot=True, annot_kws={\"size\": 16}, fmt='g')"
   ]
  },
  {
   "cell_type": "markdown",
   "metadata": {
    "colab_type": "text",
    "id": "cjxunTdI7W1a"
   },
   "source": [
    "### [5.2.4] Applying KNN kd-tree on TFIDF W2V,<font color='red'> SET 4</font>"
   ]
  },
  {
   "cell_type": "code",
   "execution_count": 0,
   "metadata": {
    "colab": {},
    "colab_type": "code",
    "id": "hb8LsJao7W1b"
   },
   "outputs": [],
   "source": [
    "# Please write all the code with proper documentation"
   ]
  },
  {
   "cell_type": "code",
   "execution_count": 0,
   "metadata": {
    "colab": {},
    "colab_type": "code",
    "id": "ZIwjRhc71dY9"
   },
   "outputs": [],
   "source": [
    "# Please write all the code with proper documentation\n",
    "# load Review text, preprocessed one converted into vectors using (w2v)\n",
    "tfidf_w2v_train = np.load(\"drive/ai/w2v_tfidf_train.npy\")\n",
    "tfidf_w2v_train_y = np.load(\"drive/ai/w2v_tfidf_train_y.npy\")\n",
    "tfidf_w2v_cv = np.load(\"drive/ai/w2v_tfidf_cv.npy\")\n",
    "tfidf_w2v_cv_y = np.load(\"drive/ai/w2v_tfidf_cv_y.npy\")\n",
    "tfidf_w2v_test = np.load(\"drive/ai/w2v_tfidf_test.npy\")\n",
    "tfidf_w2v_test_y = np.load(\"drive/ai/w2v_tfidf_test_y.npy\")"
   ]
  },
  {
   "cell_type": "code",
   "execution_count": 0,
   "metadata": {
    "colab": {
     "base_uri": "https://localhost:8080/",
     "height": 68
    },
    "colab_type": "code",
    "id": "4ODx6ux21jBI",
    "outputId": "ebb58a4e-fab1-42ac-8f25-699019c49381"
   },
   "outputs": [
    {
     "name": "stdout",
     "output_type": "stream",
     "text": [
      "Shape of Train =  (24500, 50)\n",
      "Shape of CV =  (10500, 50)\n",
      "Shape of Test =  (15000, 50)\n"
     ]
    }
   ],
   "source": [
    "print(\"Shape of Train = \", tfidf_w2v_train.shape)\n",
    "print(\"Shape of CV = \", tfidf_w2v_cv.shape)\n",
    "print(\"Shape of Test = \", tfidf_w2v_test.shape)"
   ]
  },
  {
   "cell_type": "code",
   "execution_count": 0,
   "metadata": {
    "colab": {
     "base_uri": "https://localhost:8080/",
     "height": 4267
    },
    "colab_type": "code",
    "id": "PfShsrqm1ixd",
    "outputId": "b487bfe8-4a24-4fc7-b038-c680a66ad65b"
   },
   "outputs": [
    {
     "name": "stdout",
     "output_type": "stream",
     "text": [
      "\n",
      "Train AUC for k = 1 is 99.96%\n",
      "\n",
      "CV AUC for k = 1 is 62.63%\n",
      "==================================================\n",
      "\n",
      "Train AUC for k = 3 is 94.05%\n",
      "\n",
      "CV AUC for k = 3 is 71.66%\n",
      "==================================================\n",
      "\n",
      "Train AUC for k = 5 is 91.67%\n",
      "\n",
      "CV AUC for k = 5 is 75.75%\n",
      "==================================================\n",
      "\n",
      "Train AUC for k = 7 is 90.30%\n",
      "\n",
      "CV AUC for k = 7 is 77.93%\n",
      "==================================================\n",
      "\n",
      "Train AUC for k = 9 is 89.37%\n",
      "\n",
      "CV AUC for k = 9 is 79.13%\n",
      "==================================================\n",
      "\n",
      "Train AUC for k = 11 is 88.58%\n",
      "\n",
      "CV AUC for k = 11 is 79.50%\n",
      "==================================================\n",
      "\n",
      "Train AUC for k = 13 is 88.04%\n",
      "\n",
      "CV AUC for k = 13 is 80.21%\n",
      "==================================================\n",
      "\n",
      "Train AUC for k = 15 is 87.66%\n",
      "\n",
      "CV AUC for k = 15 is 80.56%\n",
      "==================================================\n",
      "\n",
      "Train AUC for k = 17 is 87.48%\n",
      "\n",
      "CV AUC for k = 17 is 80.81%\n",
      "==================================================\n",
      "\n",
      "Train AUC for k = 19 is 87.35%\n",
      "\n",
      "CV AUC for k = 19 is 80.97%\n",
      "==================================================\n",
      "\n",
      "Train AUC for k = 21 is 87.16%\n",
      "\n",
      "CV AUC for k = 21 is 81.16%\n",
      "==================================================\n",
      "\n",
      "Train AUC for k = 23 is 87.00%\n",
      "\n",
      "CV AUC for k = 23 is 81.40%\n",
      "==================================================\n",
      "\n",
      "Train AUC for k = 25 is 86.82%\n",
      "\n",
      "CV AUC for k = 25 is 81.36%\n",
      "==================================================\n",
      "\n",
      "Train AUC for k = 27 is 86.57%\n",
      "\n",
      "CV AUC for k = 27 is 81.53%\n",
      "==================================================\n",
      "\n",
      "Train AUC for k = 29 is 86.44%\n",
      "\n",
      "CV AUC for k = 29 is 81.59%\n",
      "==================================================\n",
      "\n",
      "Train AUC for k = 31 is 86.28%\n",
      "\n",
      "CV AUC for k = 31 is 81.87%\n",
      "==================================================\n",
      "\n",
      "Train AUC for k = 33 is 86.17%\n",
      "\n",
      "CV AUC for k = 33 is 82.15%\n",
      "==================================================\n",
      "\n",
      "Train AUC for k = 35 is 86.13%\n",
      "\n",
      "CV AUC for k = 35 is 82.34%\n",
      "==================================================\n",
      "\n",
      "Train AUC for k = 37 is 86.06%\n",
      "\n",
      "CV AUC for k = 37 is 82.47%\n",
      "==================================================\n",
      "\n",
      "Train AUC for k = 39 is 86.12%\n",
      "\n",
      "CV AUC for k = 39 is 82.59%\n",
      "==================================================\n",
      "\n",
      "Train AUC for k = 41 is 86.01%\n",
      "\n",
      "CV AUC for k = 41 is 82.61%\n",
      "==================================================\n",
      "\n",
      "Train AUC for k = 43 is 85.98%\n",
      "\n",
      "CV AUC for k = 43 is 82.63%\n",
      "==================================================\n",
      "\n",
      "Train AUC for k = 45 is 85.91%\n",
      "\n",
      "CV AUC for k = 45 is 82.70%\n",
      "==================================================\n",
      "\n",
      "Train AUC for k = 47 is 85.83%\n",
      "\n",
      "CV AUC for k = 47 is 82.72%\n",
      "==================================================\n",
      "\n",
      "Train AUC for k = 49 is 85.79%\n",
      "\n",
      "CV AUC for k = 49 is 82.79%\n",
      "==================================================\n",
      "\n",
      "Train AUC for k = 51 is 85.75%\n",
      "\n",
      "CV AUC for k = 51 is 82.83%\n",
      "==================================================\n",
      "\n",
      "Train AUC for k = 53 is 85.63%\n",
      "\n",
      "CV AUC for k = 53 is 82.93%\n",
      "==================================================\n",
      "\n",
      "Train AUC for k = 55 is 85.58%\n",
      "\n",
      "CV AUC for k = 55 is 82.96%\n",
      "==================================================\n",
      "\n",
      "Train AUC for k = 57 is 85.49%\n",
      "\n",
      "CV AUC for k = 57 is 82.96%\n",
      "==================================================\n",
      "\n",
      "Train AUC for k = 59 is 85.46%\n",
      "\n",
      "CV AUC for k = 59 is 82.91%\n",
      "==================================================\n",
      "\n",
      "Train AUC for k = 61 is 85.42%\n",
      "\n",
      "CV AUC for k = 61 is 83.02%\n",
      "==================================================\n",
      "\n",
      "Train AUC for k = 63 is 85.42%\n",
      "\n",
      "CV AUC for k = 63 is 83.11%\n",
      "==================================================\n",
      "\n",
      "Train AUC for k = 65 is 85.36%\n",
      "\n",
      "CV AUC for k = 65 is 83.06%\n",
      "==================================================\n",
      "\n",
      "Train AUC for k = 67 is 85.27%\n",
      "\n",
      "CV AUC for k = 67 is 83.16%\n",
      "==================================================\n",
      "\n",
      "Train AUC for k = 69 is 85.20%\n",
      "\n",
      "CV AUC for k = 69 is 83.21%\n",
      "==================================================\n",
      "\n",
      "Train AUC for k = 71 is 85.15%\n",
      "\n",
      "CV AUC for k = 71 is 83.21%\n",
      "==================================================\n",
      "\n",
      "Train AUC for k = 73 is 85.14%\n",
      "\n",
      "CV AUC for k = 73 is 83.19%\n",
      "==================================================\n",
      "\n",
      "Train AUC for k = 75 is 85.12%\n",
      "\n",
      "CV AUC for k = 75 is 83.20%\n",
      "==================================================\n",
      "\n",
      "Train AUC for k = 77 is 85.06%\n",
      "\n",
      "CV AUC for k = 77 is 83.21%\n",
      "==================================================\n",
      "\n",
      "Train AUC for k = 79 is 85.03%\n",
      "\n",
      "CV AUC for k = 79 is 83.23%\n",
      "==================================================\n",
      "\n",
      "Train AUC for k = 81 is 85.02%\n",
      "\n",
      "CV AUC for k = 81 is 83.18%\n",
      "==================================================\n",
      "\n",
      "Train AUC for k = 83 is 84.97%\n",
      "\n",
      "CV AUC for k = 83 is 83.17%\n",
      "==================================================\n",
      "\n",
      "Train AUC for k = 85 is 84.90%\n",
      "\n",
      "CV AUC for k = 85 is 83.20%\n",
      "==================================================\n",
      "\n",
      "Train AUC for k = 87 is 84.87%\n",
      "\n",
      "CV AUC for k = 87 is 83.19%\n",
      "==================================================\n",
      "\n",
      "Train AUC for k = 89 is 84.84%\n",
      "\n",
      "CV AUC for k = 89 is 83.23%\n",
      "==================================================\n",
      "\n",
      "Train AUC for k = 91 is 84.79%\n",
      "\n",
      "CV AUC for k = 91 is 83.27%\n",
      "==================================================\n",
      "\n",
      "Train AUC for k = 93 is 84.75%\n",
      "\n",
      "CV AUC for k = 93 is 83.24%\n",
      "==================================================\n",
      "\n",
      "Train AUC for k = 95 is 84.71%\n",
      "\n",
      "CV AUC for k = 95 is 83.24%\n",
      "==================================================\n",
      "\n",
      "Train AUC for k = 97 is 84.64%\n",
      "\n",
      "CV AUC for k = 97 is 83.26%\n",
      "==================================================\n",
      "\n",
      "Train AUC for k = 99 is 84.62%\n",
      "\n",
      "CV AUC for k = 99 is 83.27%\n",
      "==================================================\n"
     ]
    }
   ],
   "source": [
    "tfidf_w2v_train_auc = []\n",
    "tfidf_w2v_cv_auc = []\n",
    "for i in range(1,100,2):\n",
    "  knn = KNeighborsClassifier(n_neighbors=i)\n",
    "  knn.fit(tfidf_w2v_train, tfidf_w2v_train_y)\n",
    "  # train data\n",
    "  y_prob_train = knn.predict_proba(tfidf_w2v_train)[:,1]\n",
    "  y_pred = np.where(y_prob_train > 0.5, 1, 0)\n",
    "  auc_roc_test = roc_auc_score(tfidf_w2v_train_y , y_prob_train)\n",
    "  print('\\nTrain AUC for k = %d is %0.2f%%' % (i, (auc_roc_test * float(100))))\n",
    "  tfidf_w2v_train_auc.append(auc_roc_test)\n",
    "  # CV\n",
    "  y_prob_cv = knn.predict_proba(tfidf_w2v_cv)[:,1]\n",
    "  y_pred = np.where(y_prob_cv > 0.5, 1, 0)\n",
    "  auc_roc_cv = roc_auc_score(tfidf_w2v_cv_y , y_prob_cv)\n",
    "  print('\\nCV AUC for k = %d is %0.2f%%' % (i, (auc_roc_cv * float(100))))\n",
    "  tfidf_w2v_cv_auc.append(auc_roc_cv)\n",
    "  print(\"=\"*50)"
   ]
  },
  {
   "cell_type": "code",
   "execution_count": 0,
   "metadata": {
    "colab": {},
    "colab_type": "code",
    "id": "9pIuxK8c1iiG"
   },
   "outputs": [],
   "source": [
    "k_values = [j for j in range(1,100,2)]"
   ]
  },
  {
   "cell_type": "code",
   "execution_count": 0,
   "metadata": {
    "colab": {
     "base_uri": "https://localhost:8080/",
     "height": 410
    },
    "colab_type": "code",
    "id": "vXCp_5iCFdVA",
    "outputId": "24ed0dd4-6f90-482b-e468-d95c3790a38e"
   },
   "outputs": [
    {
     "data": {
      "text/plain": [
       "<matplotlib.legend.Legend at 0x7f2bd4757780>"
      ]
     },
     "execution_count": 32,
     "metadata": {
      "tags": []
     },
     "output_type": "execute_result"
    },
    {
     "data": {
      "image/png": "[encoded data removed]",
      "text/plain": [
       "<matplotlib.figure.Figure at 0x7f2bd5b9b828>"
      ]
     },
     "metadata": {
      "tags": []
     },
     "output_type": "display_data"
    }
   ],
   "source": [
    "# https://www.dataquest.io/blog/learning-curves-machine-learning/\n",
    "\n",
    "plt.style.use('seaborn')\n",
    "\n",
    "plt.plot(k_values, tfidf_w2v_train_auc, label = 'Training AUC')\n",
    "plt.plot(k_values, tfidf_w2v_cv_auc, label = 'Validation AUC')\n",
    "\n",
    "plt.ylabel('AUC', fontsize = 14)\n",
    "plt.xlabel('k-values', fontsize = 14)\n",
    "plt.title('Learning curves for a k-NN model', fontsize = 18, y = 1.03)\n",
    "plt.legend()"
   ]
  },
  {
   "cell_type": "code",
   "execution_count": 0,
   "metadata": {
    "colab": {
     "base_uri": "https://localhost:8080/",
     "height": 136
    },
    "colab_type": "code",
    "id": "BonZYn5FFqdk",
    "outputId": "05cbff82-a049-4ca3-aca4-54a94b775a61"
   },
   "outputs": [
    {
     "name": "stdout",
     "output_type": "stream",
     "text": [
      "\n",
      "Train AUC for k = 91 is 84.62%\n",
      "\n",
      "CV AUC for k = 91 is 83.27%\n",
      "\n",
      "Test AUC for k = 91 is 82.98%\n",
      "==================================================\n"
     ]
    }
   ],
   "source": [
    "knn = KNeighborsClassifier(n_neighbors=91, algorithm=\"kd_tree\")\n",
    "knn.fit(tfidf_w2v_train, tfidf_w2v_train_y)\n",
    "# train data\n",
    "y_prob_train = knn.predict_proba(tfidf_w2v_train)[:,1]\n",
    "fprt, tprt , throsholdt = roc_curve(tfidf_w2v_train_y, y_prob_train)\n",
    "y_pred_train = np.where(y_prob_train > 0.5, 1, 0)\n",
    "auc_roc_train = roc_auc_score(tfidf_w2v_train_y , y_prob_train)\n",
    "print('\\nTrain AUC for k = %d is %0.2f%%' % (91, (auc_roc_test * float(100))))\n",
    "# CV\n",
    "y_prob_cv = knn.predict_proba(tfidf_w2v_cv)[:,1]\n",
    "fprc, tprc , throsholdc = roc_curve(tfidf_w2v_cv_y, y_prob_cv)\n",
    "y_pred_cv = np.where(y_prob_cv > 0.5, 1, 0)\n",
    "auc_roc_cv = roc_auc_score(tfidf_w2v_cv_y , y_prob_cv)\n",
    "print('\\nCV AUC for k = %d is %0.2f%%' % (91, (auc_roc_cv * float(100))))\n",
    "# Test\n",
    "y_prob_test = knn.predict_proba(tfidf_w2v_test)[:,1]\n",
    "fprts, tprts , throsholdts = roc_curve(tfidf_w2v_test_y, y_prob_test)\n",
    "y_pred_test = np.where(y_prob_test > 0.5, 1, 0)\n",
    "auc_roc_test = roc_auc_score(tfidf_w2v_test_y , y_prob_test)\n",
    "print('\\nTest AUC for k = %d is %0.2f%%' % (91, (auc_roc_test * float(100))))\n",
    "print(\"=\"*50)"
   ]
  },
  {
   "cell_type": "code",
   "execution_count": 0,
   "metadata": {
    "colab": {
     "base_uri": "https://localhost:8080/",
     "height": 376
    },
    "colab_type": "code",
    "id": "yxukjaPHFqJ2",
    "outputId": "47615eb6-b6d6-49ca-d561-604ad90c3bd9"
   },
   "outputs": [
    {
     "data": {
      "image/png": "[encoded data removed]",
      "text/plain": [
       "<matplotlib.figure.Figure at 0x7f2bd470eba8>"
      ]
     },
     "metadata": {
      "tags": []
     },
     "output_type": "display_data"
    }
   ],
   "source": [
    "# https://stackoverflow.com/questions/25009284/how-to-plot-roc-curve-in-python\n",
    "\n",
    "import matplotlib.pyplot as plt\n",
    "plt.title('Receiver Operating Characteristic')\n",
    "plt.plot(fprc, tprc, 'b' , label ='AUC CV = %0.2f' % (auc_roc_cv * float(100)))\n",
    "plt.plot(fprts, tprts, 'y' , label ='AUC Test = %0.2f' % (auc_roc_test * float(100)))\n",
    "plt.plot(fprt, tprt, 'g', label='AUC Train = %0.2f' % (auc_roc_train * float(100)))\n",
    "plt.legend(loc = 'lower right')\n",
    "plt.plot([0, 1], [0, 1],'r')\n",
    "plt.xlim([0, 1])\n",
    "plt.ylim([0, 1])\n",
    "plt.ylabel('True Positive Rate')\n",
    "plt.xlabel('False Positive Rate')\n",
    "plt.show()"
   ]
  },
  {
   "cell_type": "code",
   "execution_count": 0,
   "metadata": {
    "colab": {
     "base_uri": "https://localhost:8080/",
     "height": 373
    },
    "colab_type": "code",
    "id": "KMuRpsM9GhI3",
    "outputId": "024a696b-aeac-4a33-b0bf-a51c73d27154"
   },
   "outputs": [
    {
     "data": {
      "text/plain": [
       "<matplotlib.axes._subplots.AxesSubplot at 0x7f2bd470ec18>"
      ]
     },
     "execution_count": 35,
     "metadata": {
      "tags": []
     },
     "output_type": "execute_result"
    },
    {
     "data": {
      "image/png": "[encoded data removed]",
      "text/plain": [
       "<matplotlib.figure.Figure at 0x7f2bd83d5a90>"
      ]
     },
     "metadata": {
      "tags": []
     },
     "output_type": "display_data"
    }
   ],
   "source": [
    "df_cm = pd.DataFrame(confusion_matrix(tfidf_w2v_test_y, y_pred_test), range(2), range(2))\n",
    "sns.set(font_scale=1.4)\n",
    "sns.heatmap(df_cm, annot=True, annot_kws={\"size\": 16}, fmt='g')"
   ]
  },
  {
   "cell_type": "markdown",
   "metadata": {
    "colab_type": "text",
    "id": "voHoxfLN7W1c"
   },
   "source": [
    "# [6] Conclusions"
   ]
  },
  {
   "cell_type": "code",
   "execution_count": 0,
   "metadata": {
    "colab": {},
    "colab_type": "code",
    "id": "tCGUxWmZ7W1d"
   },
   "outputs": [],
   "source": [
    "# Please compare all your models using Prettytable library"
   ]
  },
  {
   "cell_type": "code",
   "execution_count": 78,
   "metadata": {
    "colab": {
     "base_uri": "https://localhost:8080/",
     "height": 221
    },
    "colab_type": "code",
    "id": "3OK5cCFxtBoi",
    "outputId": "bec21368-198c-47e5-e020-e524ba4923bf"
   },
   "outputs": [
    {
     "name": "stdout",
     "output_type": "stream",
     "text": [
      "+------------+---------+-------------------+------+----------+\n",
      "| Vectorizer |  Model  | Hyper parameter k | AUC  | F1 Score |\n",
      "+------------+---------+-------------------+------+----------+\n",
      "|    BOW     |  Brute  |         9         | 0.52 |   0.88   |\n",
      "|    BOW     | kd_tree |         19        | 0.57 |   0.86   |\n",
      "|   TFIDF    |  Brute  |         9         | 0.51 |   0.91   |\n",
      "|   TFIDF    | kd_tree |         9         | 0.6  |   0.89   |\n",
      "|    W2V     |  Brute  |         97        | 0.86 |   0.92   |\n",
      "|    W2V     | kd_tree |         97        | 0.86 |   0.92   |\n",
      "|  TFIDFW2V  |  Brute  |         47        | 0.82 |   0.92   |\n",
      "|  TFIDFW2V  | kd_tree |         91        | 0.82 |   0.92   |\n",
      "+------------+---------+-------------------+------+----------+\n"
     ]
    }
   ],
   "source": [
    "from prettytable import PrettyTable\n",
    "    \n",
    "x = PrettyTable([\"Vectorizer\", \"Model\", \"Hyper parameter k\", \"AUC\", \"F1 Score\"])\n",
    "\n",
    "x.add_row([\"BOW\",\"Brute\", 9, 0.52, 0.88])\n",
    "x.add_row([\"BOW\",\"kd_tree\", 19, 0.57, 0.86])\n",
    "x.add_row([\"TFIDF\", \"Brute\", 9, 0.51, 0.91])\n",
    "x.add_row([\"TFIDF\",\"kd_tree\" , 9, 0.60, 0.89])\n",
    "x.add_row([\"W2V\", \"Brute\", 97, 0.86, 0.92])\n",
    "x.add_row([\"W2V\", \"kd_tree\", 97, 0.86, 0.92])\n",
    "x.add_row([\"TFIDFW2V\", \"Brute\", 47, 0.82, 0.92])\n",
    "x.add_row([\"TFIDFW2V\", \"kd_tree\", 91, 0.82, 0.92])\n",
    "\n",
    "print(x.get_string(title=\"k-NN Model\"))"
   ]
  },
  {
   "cell_type": "code",
   "execution_count": 0,
   "metadata": {
    "colab": {},
    "colab_type": "code",
    "id": "xlFuqk4xxnhz"
   },
   "outputs": [],
   "source": []
  }
 ],
 "metadata": {
  "accelerator": "GPU",
  "colab": {
   "collapsed_sections": [],
   "name": "03 Amazon Fine Food Reviews Analysis_KNN.ipynb",
   "provenance": [],
   "version": "0.3.2"
  },
  "kernelspec": {
   "display_name": "Python 3",
   "language": "python",
   "name": "python3"
  },
  "language_info": {
   "codemirror_mode": {
    "name": "ipython",
    "version": 3
   },
   "file_extension": ".py",
   "mimetype": "text/x-python",
   "name": "python",
   "nbconvert_exporter": "python",
   "pygments_lexer": "ipython3",
   "version": "3.6.6"
  }
 },
 "nbformat": 4,
 "nbformat_minor": 1
}
