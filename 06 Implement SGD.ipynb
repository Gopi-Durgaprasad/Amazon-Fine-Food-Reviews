{
 "cells": [
  {
   "cell_type": "code",
   "execution_count": 1,
   "metadata": {
    "colab": {},
    "colab_type": "code",
    "id": "REYPoTJ1Af7u"
   },
   "outputs": [],
   "source": [
    "import warnings\n",
    "warnings.filterwarnings(\"ignore\")\n",
    "from sklearn.datasets import load_boston\n",
    "from random import seed\n",
    "from random import randrange\n",
    "from csv import reader\n",
    "from math import sqrt\n",
    "from sklearn import preprocessing\n",
    "import pandas as pd\n",
    "import numpy as np\n",
    "import matplotlib.pyplot as plt\n",
    "from prettytable import PrettyTable\n",
    "from sklearn.linear_model import SGDRegressor\n",
    "from sklearn import preprocessing\n",
    "from sklearn.metrics import mean_squared_error"
   ]
  },
  {
   "cell_type": "code",
   "execution_count": 2,
   "metadata": {},
   "outputs": [],
   "source": [
    "boston = load_boston()"
   ]
  },
  {
   "cell_type": "code",
   "execution_count": 3,
   "metadata": {},
   "outputs": [
    {
     "name": "stdout",
     "output_type": "stream",
     "text": [
      "(506, 13)\n"
     ]
    }
   ],
   "source": [
    "print(boston.data.shape)"
   ]
  },
  {
   "cell_type": "code",
   "execution_count": 4,
   "metadata": {},
   "outputs": [
    {
     "name": "stdout",
     "output_type": "stream",
     "text": [
      "['CRIM' 'ZN' 'INDUS' 'CHAS' 'NOX' 'RM' 'AGE' 'DIS' 'RAD' 'TAX' 'PTRATIO'\n",
      " 'B' 'LSTAT']\n"
     ]
    }
   ],
   "source": [
    "print(boston.feature_names)"
   ]
  },
  {
   "cell_type": "code",
   "execution_count": 5,
   "metadata": {
    "colab": {},
    "colab_type": "code",
    "id": "NTQ2iH-kAwbo"
   },
   "outputs": [],
   "source": [
    "X = load_boston().data\n",
    "Y = load_boston().target"
   ]
  },
  {
   "cell_type": "code",
   "execution_count": 6,
   "metadata": {
    "colab": {},
    "colab_type": "code",
    "id": "FgUW39s6Be0U"
   },
   "outputs": [],
   "source": [
    "scaler = preprocessing.StandardScaler().fit(X)\n",
    "X = scaler.transform(X)"
   ]
  },
  {
   "cell_type": "code",
   "execution_count": 7,
   "metadata": {},
   "outputs": [
    {
     "name": "stdout",
     "output_type": "stream",
     "text": [
      "        0     1     2    3      4      5     6       7    8      9     10  \\\n",
      "0  0.00632  18.0  2.31  0.0  0.538  6.575  65.2  4.0900  1.0  296.0  15.3   \n",
      "1  0.02731   0.0  7.07  0.0  0.469  6.421  78.9  4.9671  2.0  242.0  17.8   \n",
      "2  0.02729   0.0  7.07  0.0  0.469  7.185  61.1  4.9671  2.0  242.0  17.8   \n",
      "3  0.03237   0.0  2.18  0.0  0.458  6.998  45.8  6.0622  3.0  222.0  18.7   \n",
      "4  0.06905   0.0  2.18  0.0  0.458  7.147  54.2  6.0622  3.0  222.0  18.7   \n",
      "\n",
      "       11    12  \n",
      "0  396.90  4.98  \n",
      "1  396.90  9.14  \n",
      "2  392.83  4.03  \n",
      "3  394.63  2.94  \n",
      "4  396.90  5.33  \n"
     ]
    }
   ],
   "source": [
    "bos = pd.DataFrame(boston.data)\n",
    "print(bos.head())"
   ]
  },
  {
   "cell_type": "code",
   "execution_count": 8,
   "metadata": {},
   "outputs": [],
   "source": [
    "bos['PRICE'] = boston.target\n",
    "\n",
    "X = bos.drop('PRICE', axis = 1)\n",
    "Y = bos['PRICE']"
   ]
  },
  {
   "cell_type": "code",
   "execution_count": 83,
   "metadata": {},
   "outputs": [],
   "source": [
    "scaler = preprocessing.StandardScaler().fit(X)\n",
    "X = scaler.transform(X)"
   ]
  },
  {
   "cell_type": "code",
   "execution_count": 96,
   "metadata": {},
   "outputs": [
    {
     "name": "stdout",
     "output_type": "stream",
     "text": [
      "(339, 13)\n",
      "(167, 13)\n",
      "(339,)\n",
      "(167,)\n"
     ]
    }
   ],
   "source": [
    "from sklearn import cross_validation \n",
    "X_train, X_test, Y_train, Y_test = cross_validation.train_test_split(X, Y, test_size = 0.33, random_state = 5)\n",
    "print(X_train.shape)\n",
    "print(X_test.shape)\n",
    "print(Y_train.shape)\n",
    "print(Y_test.shape)"
   ]
  },
  {
   "cell_type": "code",
   "execution_count": 110,
   "metadata": {
    "colab": {
     "base_uri": "https://localhost:8080/",
     "height": 34
    },
    "colab_type": "code",
    "executionInfo": {
     "elapsed": 879,
     "status": "ok",
     "timestamp": 1545718892607,
     "user": {
      "displayName": "Applied AI Course",
      "photoUrl": "https://lh5.googleusercontent.com/-9_3A9F-kDXs/AAAAAAAAAAI/AAAAAAAAACw/IprjYvUuoXQ/s64/photo.jpg",
      "userId": "00484516897554883881"
     },
     "user_tz": -330
    },
    "id": "HNu1sXtEBBS2",
    "outputId": "a0c5d3d0-345c-4a34-8ccf-0d9f3d7d23fd"
   },
   "outputs": [
    {
     "name": "stdout",
     "output_type": "stream",
     "text": [
      "26.93189673099861\n"
     ]
    }
   ],
   "source": [
    "clf = SGDRegressor(alpha=0.01)\n",
    "clf.fit(X, Y)\n",
    "print(mean_squared_error(Y_test, clf.predict(X_test)))"
   ]
  },
  {
   "cell_type": "code",
   "execution_count": 111,
   "metadata": {},
   "outputs": [],
   "source": [
    "sklearn_W = clf.coef_\n",
    "sklearn_b = clf.intercept_"
   ]
  },
  {
   "cell_type": "markdown",
   "metadata": {},
   "source": [
    "### own sgd Implementation"
   ]
  },
  {
   "cell_type": "code",
   "execution_count": 127,
   "metadata": {},
   "outputs": [],
   "source": [
    "def SGD(X_train, Y_train, learning_rate=0.01, n_iter = 1000, batch_size = 200):\n",
    "    W = np.zeros(X_train.shape[1])\n",
    "    b = 0.0\n",
    "    r = learning_rate\n",
    "    rt_power = 0.25\n",
    "    for i in range(1,n_iter+1):\n",
    "        idx = np.random.randint(0, len(X_train),batch_size)\n",
    "        x_k = X_train[idx]\n",
    "        y_k = Y_train[idx]\n",
    "        N = float(batch_size)\n",
    "        error = y_k - (np.dot(x_k, W) - b)\n",
    "        W -= r * (-2/N) * x_k.T.dot(error)\n",
    "        b -= r * np.sum(error)\n",
    "        r = learning_rate / pow(i, rt_power)\n",
    "    return W, abs(b)"
   ]
  },
  {
   "cell_type": "code",
   "execution_count": 128,
   "metadata": {},
   "outputs": [],
   "source": [
    "W, b = SGD(X,Y)"
   ]
  },
  {
   "cell_type": "code",
   "execution_count": 129,
   "metadata": {
    "scrolled": true
   },
   "outputs": [
    {
     "data": {
      "text/plain": [
       "array([-0.67413219,  0.5806372 , -0.42776069,  0.77507576, -0.99597728,\n",
       "        3.17937914, -0.19316828, -2.10391887,  0.8655778 , -0.53894101,\n",
       "       -1.83358058,  0.91160332, -3.36927039])"
      ]
     },
     "execution_count": 129,
     "metadata": {},
     "output_type": "execute_result"
    }
   ],
   "source": [
    "W"
   ]
  },
  {
   "cell_type": "code",
   "execution_count": 130,
   "metadata": {},
   "outputs": [
    {
     "data": {
      "text/plain": [
       "22.595750477577788"
      ]
     },
     "execution_count": 130,
     "metadata": {},
     "output_type": "execute_result"
    }
   ],
   "source": [
    "b"
   ]
  },
  {
   "cell_type": "code",
   "execution_count": 131,
   "metadata": {},
   "outputs": [],
   "source": [
    "pred = X_test.dot(W) + b"
   ]
  },
  {
   "cell_type": "code",
   "execution_count": 132,
   "metadata": {},
   "outputs": [],
   "source": [
    "MSE = mean_squared_error(Y_test, pred)"
   ]
  },
  {
   "cell_type": "code",
   "execution_count": 133,
   "metadata": {},
   "outputs": [
    {
     "data": {
      "text/plain": [
       "27.05120620133145"
      ]
     },
     "execution_count": 133,
     "metadata": {},
     "output_type": "execute_result"
    }
   ],
   "source": [
    "MSE"
   ]
  },
  {
   "cell_type": "markdown",
   "metadata": {},
   "source": [
    "### predicted values v/s actual values"
   ]
  },
  {
   "cell_type": "code",
   "execution_count": 134,
   "metadata": {},
   "outputs": [
    {
     "data": {
      "image/png": "[encoded data removed]",
      "text/plain": [
       "<Figure size 432x288 with 1 Axes>"
      ]
     },
     "metadata": {
      "needs_background": "light"
     },
     "output_type": "display_data"
    }
   ],
   "source": [
    "# code source:https://medium.com/@haydar_ai/learning-data-science-day-9-linear-regression-on-boston-housing-dataset-cd62a80775ef\n",
    "from sklearn.linear_model import LinearRegression\n",
    "%matplotlib inline\n",
    "import matplotlib.pyplot as plt\n",
    "\n",
    "\n",
    "Y_pred = pred\n",
    "\n",
    "plt.scatter(Y_test, Y_pred)\n",
    "plt.xlabel(\"Prices: $Y_i$\")\n",
    "plt.ylabel(\"Predicted prices: $\\hat{Y}_i$\")\n",
    "plt.title(\"Prices vs Predicted prices: $Y_i$ vs $\\hat{Y}_i$\")\n",
    "plt.show()"
   ]
  },
  {
   "cell_type": "markdown",
   "metadata": {},
   "source": [
    "### chart of predicted values v/s actual values"
   ]
  },
  {
   "cell_type": "code",
   "execution_count": 135,
   "metadata": {},
   "outputs": [],
   "source": [
    "acutal = list(Y_test)\n",
    "predicted = list(Y_pred)"
   ]
  },
  {
   "cell_type": "code",
   "execution_count": 136,
   "metadata": {},
   "outputs": [
    {
     "name": "stdout",
     "output_type": "stream",
     "text": [
      "actual values v/s predicted\n",
      "\n",
      "37.600000 \t 37.375569\n",
      "27.900000 \t 30.048159\n",
      "22.600000 \t 27.164871\n",
      "13.800000 \t 5.355200\n",
      "35.200000 \t 35.902943\n",
      "10.400000 \t 6.646771\n",
      "23.900000 \t 27.917514\n",
      "29.000000 \t 31.553187\n",
      "22.800000 \t 27.183857\n",
      "23.200000 \t 21.691713\n",
      "33.200000 \t 32.816749\n",
      "19.000000 \t 21.313788\n",
      "20.300000 \t 23.238460\n",
      "36.100000 \t 32.206616\n",
      "24.400000 \t 27.534659\n",
      "17.200000 \t 17.219575\n",
      "17.900000 \t 0.232393\n",
      "19.600000 \t 19.319231\n",
      "19.700000 \t 14.570873\n",
      "15.000000 \t 14.147063\n",
      "8.100000 \t 5.898771\n",
      "23.000000 \t 20.776961\n",
      "44.800000 \t 38.281860\n",
      "23.100000 \t 24.532152\n",
      "32.200000 \t 31.789490\n",
      "10.800000 \t 11.821311\n",
      "23.100000 \t 25.000656\n",
      "21.200000 \t 23.839150\n",
      "22.200000 \t 23.062710\n",
      "24.100000 \t 23.436042\n",
      "17.300000 \t 14.473725\n",
      "7.000000 \t 10.372603\n",
      "12.700000 \t 17.534814\n",
      "17.800000 \t 23.488554\n",
      "26.400000 \t 28.334708\n",
      "19.600000 \t 20.152030\n",
      "25.100000 \t 30.130981\n",
      "8.300000 \t 9.680069\n",
      "48.800000 \t 41.537782\n",
      "34.900000 \t 33.367630\n",
      "13.800000 \t 19.853368\n",
      "14.400000 \t 4.552592\n",
      "30.100000 \t 28.857315\n",
      "12.700000 \t 12.577188\n",
      "27.100000 \t 27.130407\n",
      "24.800000 \t 31.038018\n",
      "7.000000 \t -3.942816\n",
      "20.500000 \t 18.449914\n",
      "21.500000 \t 22.475579\n",
      "14.000000 \t 14.513333\n",
      "20.400000 \t 20.862346\n",
      "22.200000 \t 20.070116\n",
      "21.400000 \t 24.136552\n",
      "13.500000 \t 14.476340\n",
      "19.400000 \t 18.646675\n",
      "24.700000 \t 25.859367\n",
      "43.800000 \t 36.025187\n",
      "14.100000 \t 16.031596\n",
      "28.600000 \t 28.414920\n",
      "19.700000 \t 21.312331\n",
      "16.800000 \t 20.931281\n",
      "23.200000 \t 25.440515\n",
      "16.200000 \t 15.476305\n",
      "41.300000 \t 32.654584\n",
      "22.700000 \t 23.076221\n",
      "8.300000 \t 12.655471\n",
      "18.400000 \t 20.628324\n",
      "24.700000 \t 24.940677\n",
      "21.700000 \t 21.663592\n",
      "20.600000 \t 20.373578\n",
      "16.700000 \t 19.961516\n",
      "22.100000 \t 26.400737\n",
      "19.400000 \t 17.316550\n",
      "27.500000 \t 19.133106\n",
      "27.900000 \t 18.479923\n",
      "30.100000 \t 25.956618\n",
      "17.400000 \t 21.930549\n",
      "15.400000 \t 16.441173\n",
      "31.000000 \t 34.395415\n",
      "14.200000 \t 17.797422\n",
      "19.600000 \t 21.538310\n",
      "50.000000 \t 42.761446\n",
      "21.700000 \t 23.461283\n",
      "11.700000 \t 15.927102\n",
      "19.400000 \t 24.608908\n",
      "13.000000 \t 17.468966\n",
      "17.500000 \t 18.626358\n",
      "9.700000 \t 9.349649\n",
      "20.300000 \t 19.327596\n",
      "18.600000 \t 19.537240\n",
      "50.000000 \t 36.025385\n",
      "19.600000 \t 18.259078\n",
      "21.400000 \t 20.958557\n",
      "18.400000 \t 18.853227\n",
      "22.600000 \t 26.230720\n",
      "25.000000 \t 27.838200\n",
      "15.600000 \t 13.786135\n",
      "26.600000 \t 25.132454\n",
      "22.400000 \t 22.595148\n",
      "13.100000 \t 14.663969\n",
      "23.000000 \t 22.332422\n",
      "24.500000 \t 22.197823\n",
      "13.100000 \t 14.752905\n",
      "50.000000 \t 44.064727\n",
      "8.800000 \t 7.375388\n",
      "20.600000 \t 22.395009\n",
      "12.100000 \t 18.200549\n",
      "50.000000 \t 20.960225\n",
      "24.100000 \t 28.847790\n",
      "16.100000 \t 17.665832\n",
      "23.900000 \t 28.212302\n",
      "24.300000 \t 23.593537\n",
      "13.100000 \t 20.159721\n",
      "30.300000 \t 33.054078\n",
      "15.200000 \t 19.797778\n",
      "13.800000 \t 14.167284\n",
      "26.400000 \t 21.381511\n",
      "16.600000 \t 18.221857\n",
      "18.900000 \t 19.781838\n",
      "17.600000 \t 16.643520\n",
      "18.700000 \t 21.358814\n",
      "33.400000 \t 33.999282\n",
      "20.700000 \t 22.525399\n",
      "17.100000 \t 20.664044\n",
      "23.400000 \t 24.025095\n",
      "26.500000 \t 26.298582\n",
      "21.400000 \t 20.251396\n",
      "21.500000 \t 24.148385\n",
      "19.200000 \t 23.882737\n",
      "50.000000 \t 40.111622\n",
      "50.000000 \t 40.905903\n",
      "23.000000 \t 29.067877\n",
      "10.500000 \t 13.292929\n",
      "17.800000 \t 17.083084\n",
      "10.900000 \t 18.506063\n",
      "21.000000 \t 21.787066\n",
      "13.800000 \t 14.864155\n",
      "10.500000 \t 5.659188\n",
      "22.200000 \t 23.987468\n",
      "30.500000 \t 31.057239\n",
      "19.400000 \t 22.824881\n",
      "15.600000 \t 22.211114\n",
      "20.200000 \t 16.510354\n",
      "19.300000 \t 22.895657\n",
      "34.600000 \t 35.118097\n",
      "50.000000 \t 24.875253\n",
      "24.000000 \t 30.780451\n",
      "18.700000 \t 17.706931\n",
      "19.800000 \t 22.977074\n",
      "22.500000 \t 29.134828\n",
      "13.300000 \t 14.373256\n",
      "50.000000 \t 33.607708\n",
      "11.800000 \t 12.585493\n",
      "11.000000 \t 14.029992\n",
      "23.700000 \t 26.043526\n",
      "35.400000 \t 31.035287\n",
      "15.200000 \t 13.830639\n",
      "24.400000 \t 25.047405\n",
      "33.400000 \t 29.597219\n",
      "31.600000 \t 31.767734\n",
      "13.400000 \t 16.782462\n",
      "34.900000 \t 31.118824\n",
      "14.400000 \t 9.483307\n",
      "35.400000 \t 33.530729\n",
      "25.300000 \t 25.410127\n",
      "18.300000 \t 20.631338\n",
      "16.600000 \t 16.288110\n"
     ]
    }
   ],
   "source": [
    "print(\"actual values v/s predicted\\n\")\n",
    "for i in range(len(acutal)):\n",
    "    print(\"%f \\t %f\"%(acutal[i] , predicted[i]))"
   ]
  },
  {
   "cell_type": "markdown",
   "metadata": {},
   "source": [
    "### compare the weights "
   ]
  },
  {
   "cell_type": "code",
   "execution_count": 137,
   "metadata": {},
   "outputs": [],
   "source": [
    "sklear_W = list(sklearn_W)\n",
    "own_W = list(W)"
   ]
  },
  {
   "cell_type": "code",
   "execution_count": 138,
   "metadata": {},
   "outputs": [
    {
     "name": "stdout",
     "output_type": "stream",
     "text": [
      "Sklearn   v/s     own\n",
      "\n",
      "==================================================\n",
      "-0.652352 \t -0.674132\n",
      "0.547772 \t 0.580637\n",
      "-0.318632 \t -0.427761\n",
      "0.748774 \t 0.775076\n",
      "-1.195099 \t -0.995977\n",
      "2.993560 \t 3.179379\n",
      "-0.085829 \t -0.193168\n",
      "-2.042773 \t -2.103919\n",
      "0.959533 \t 0.865578\n",
      "-0.463772 \t -0.538941\n",
      "-1.927536 \t -1.833581\n",
      "0.812226 \t 0.911603\n",
      "-3.551600 \t -3.369270\n",
      "\n",
      "\\m intersept terms \n",
      "==================================================\n",
      "22.363482 \t 22.595750\n"
     ]
    }
   ],
   "source": [
    "print(\"Sklearn   v/s     own\\n\")\n",
    "print(\"=\"*50)\n",
    "for i in range(len(own_W)):\n",
    "    print(\"%f \\t %f\"%(sklearn_W[i] , own_W[i]))\n",
    "print(\"\\n\\m intersept terms \")\n",
    "print(\"=\"*50)\n",
    "print(\"%f \\t %f\"%(sklearn_b, b))"
   ]
  },
  {
   "cell_type": "code",
   "execution_count": 140,
   "metadata": {},
   "outputs": [
    {
     "name": "stdout",
     "output_type": "stream",
     "text": [
      "+----------------+---------------+--------+\n",
      "| Implimentation | learning_rate |  MSE   |\n",
      "+----------------+---------------+--------+\n",
      "|    sk_learn    |      0.01     | 26.931 |\n",
      "|      own       |      0.01     | 27.051 |\n",
      "+----------------+---------------+--------+\n"
     ]
    }
   ],
   "source": [
    "x = PrettyTable([\"Implimentation\", \"learning_rate\", \"MSE\"])\n",
    "\n",
    "x.add_row([\"sk_learn\" , \"0.01\", 26.931])\n",
    "x.add_row([\"own\",\"0.01\", 27.051])\n",
    "\n",
    "print(x.get_string(title=\"SGD Model\"))"
   ]
  },
  {
   "cell_type": "code",
   "execution_count": null,
   "metadata": {},
   "outputs": [],
   "source": []
  }
 ],
 "metadata": {
  "colab": {
   "name": "Untitled3.ipynb",
   "provenance": [],
   "version": "0.3.2"
  },
  "kernelspec": {
   "display_name": "Python 3",
   "language": "python",
   "name": "python3"
  },
  "language_info": {
   "codemirror_mode": {
    "name": "ipython",
    "version": 3
   },
   "file_extension": ".py",
   "mimetype": "text/x-python",
   "name": "python",
   "nbconvert_exporter": "python",
   "pygments_lexer": "ipython3",
   "version": "3.6.6"
  }
 },
 "nbformat": 4,
 "nbformat_minor": 1
}
